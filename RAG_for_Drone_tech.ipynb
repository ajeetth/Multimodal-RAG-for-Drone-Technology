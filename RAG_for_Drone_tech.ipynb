{
  "nbformat": 4,
  "nbformat_minor": 0,
  "metadata": {
    "colab": {
      "provenance": [],
      "gpuType": "T4",
      "authorship_tag": "ABX9TyPT6jTqbp4sIst8Vn3b9vX8",
      "include_colab_link": true
    },
    "kernelspec": {
      "name": "python3",
      "display_name": "Python 3"
    },
    "language_info": {
      "name": "python"
    },
    "accelerator": "GPU",
    "widgets": {
      "application/vnd.jupyter.widget-state+json": {
        "ea2907695765440eaab94773dc201057": {
          "model_module": "@jupyter-widgets/controls",
          "model_name": "HBoxModel",
          "model_module_version": "1.5.0",
          "state": {
            "_dom_classes": [],
            "_model_module": "@jupyter-widgets/controls",
            "_model_module_version": "1.5.0",
            "_model_name": "HBoxModel",
            "_view_count": null,
            "_view_module": "@jupyter-widgets/controls",
            "_view_module_version": "1.5.0",
            "_view_name": "HBoxView",
            "box_style": "",
            "children": [
              "IPY_MODEL_0daf5197724641fd8774e329c4e6b73e",
              "IPY_MODEL_e4af0c0f14fa47f19f5848495a14c007",
              "IPY_MODEL_9f12477747c74b89bf55116ac39528ee"
            ],
            "layout": "IPY_MODEL_edfba32d2dbc4836b70f41c34f3a5f38"
          }
        },
        "0daf5197724641fd8774e329c4e6b73e": {
          "model_module": "@jupyter-widgets/controls",
          "model_name": "HTMLModel",
          "model_module_version": "1.5.0",
          "state": {
            "_dom_classes": [],
            "_model_module": "@jupyter-widgets/controls",
            "_model_module_version": "1.5.0",
            "_model_name": "HTMLModel",
            "_view_count": null,
            "_view_module": "@jupyter-widgets/controls",
            "_view_module_version": "1.5.0",
            "_view_name": "HTMLView",
            "description": "",
            "description_tooltip": null,
            "layout": "IPY_MODEL_079f774677ea44f8ac1d14250d5c4e36",
            "placeholder": "​",
            "style": "IPY_MODEL_cb587a6f838046d08c427a242c2abbc1",
            "value": "modules.json: 100%"
          }
        },
        "e4af0c0f14fa47f19f5848495a14c007": {
          "model_module": "@jupyter-widgets/controls",
          "model_name": "FloatProgressModel",
          "model_module_version": "1.5.0",
          "state": {
            "_dom_classes": [],
            "_model_module": "@jupyter-widgets/controls",
            "_model_module_version": "1.5.0",
            "_model_name": "FloatProgressModel",
            "_view_count": null,
            "_view_module": "@jupyter-widgets/controls",
            "_view_module_version": "1.5.0",
            "_view_name": "ProgressView",
            "bar_style": "success",
            "description": "",
            "description_tooltip": null,
            "layout": "IPY_MODEL_55925e627ba346de891091b2a70da4a6",
            "max": 349,
            "min": 0,
            "orientation": "horizontal",
            "style": "IPY_MODEL_d8178fff63be41eb958c4c43c284887c",
            "value": 349
          }
        },
        "9f12477747c74b89bf55116ac39528ee": {
          "model_module": "@jupyter-widgets/controls",
          "model_name": "HTMLModel",
          "model_module_version": "1.5.0",
          "state": {
            "_dom_classes": [],
            "_model_module": "@jupyter-widgets/controls",
            "_model_module_version": "1.5.0",
            "_model_name": "HTMLModel",
            "_view_count": null,
            "_view_module": "@jupyter-widgets/controls",
            "_view_module_version": "1.5.0",
            "_view_name": "HTMLView",
            "description": "",
            "description_tooltip": null,
            "layout": "IPY_MODEL_f695792f95c6482a8ab9f7c699812cd2",
            "placeholder": "​",
            "style": "IPY_MODEL_558eaba9db8545a6a85fc439c700bab5",
            "value": " 349/349 [00:00&lt;00:00, 30.5kB/s]"
          }
        },
        "edfba32d2dbc4836b70f41c34f3a5f38": {
          "model_module": "@jupyter-widgets/base",
          "model_name": "LayoutModel",
          "model_module_version": "1.2.0",
          "state": {
            "_model_module": "@jupyter-widgets/base",
            "_model_module_version": "1.2.0",
            "_model_name": "LayoutModel",
            "_view_count": null,
            "_view_module": "@jupyter-widgets/base",
            "_view_module_version": "1.2.0",
            "_view_name": "LayoutView",
            "align_content": null,
            "align_items": null,
            "align_self": null,
            "border": null,
            "bottom": null,
            "display": null,
            "flex": null,
            "flex_flow": null,
            "grid_area": null,
            "grid_auto_columns": null,
            "grid_auto_flow": null,
            "grid_auto_rows": null,
            "grid_column": null,
            "grid_gap": null,
            "grid_row": null,
            "grid_template_areas": null,
            "grid_template_columns": null,
            "grid_template_rows": null,
            "height": null,
            "justify_content": null,
            "justify_items": null,
            "left": null,
            "margin": null,
            "max_height": null,
            "max_width": null,
            "min_height": null,
            "min_width": null,
            "object_fit": null,
            "object_position": null,
            "order": null,
            "overflow": null,
            "overflow_x": null,
            "overflow_y": null,
            "padding": null,
            "right": null,
            "top": null,
            "visibility": null,
            "width": null
          }
        },
        "079f774677ea44f8ac1d14250d5c4e36": {
          "model_module": "@jupyter-widgets/base",
          "model_name": "LayoutModel",
          "model_module_version": "1.2.0",
          "state": {
            "_model_module": "@jupyter-widgets/base",
            "_model_module_version": "1.2.0",
            "_model_name": "LayoutModel",
            "_view_count": null,
            "_view_module": "@jupyter-widgets/base",
            "_view_module_version": "1.2.0",
            "_view_name": "LayoutView",
            "align_content": null,
            "align_items": null,
            "align_self": null,
            "border": null,
            "bottom": null,
            "display": null,
            "flex": null,
            "flex_flow": null,
            "grid_area": null,
            "grid_auto_columns": null,
            "grid_auto_flow": null,
            "grid_auto_rows": null,
            "grid_column": null,
            "grid_gap": null,
            "grid_row": null,
            "grid_template_areas": null,
            "grid_template_columns": null,
            "grid_template_rows": null,
            "height": null,
            "justify_content": null,
            "justify_items": null,
            "left": null,
            "margin": null,
            "max_height": null,
            "max_width": null,
            "min_height": null,
            "min_width": null,
            "object_fit": null,
            "object_position": null,
            "order": null,
            "overflow": null,
            "overflow_x": null,
            "overflow_y": null,
            "padding": null,
            "right": null,
            "top": null,
            "visibility": null,
            "width": null
          }
        },
        "cb587a6f838046d08c427a242c2abbc1": {
          "model_module": "@jupyter-widgets/controls",
          "model_name": "DescriptionStyleModel",
          "model_module_version": "1.5.0",
          "state": {
            "_model_module": "@jupyter-widgets/controls",
            "_model_module_version": "1.5.0",
            "_model_name": "DescriptionStyleModel",
            "_view_count": null,
            "_view_module": "@jupyter-widgets/base",
            "_view_module_version": "1.2.0",
            "_view_name": "StyleView",
            "description_width": ""
          }
        },
        "55925e627ba346de891091b2a70da4a6": {
          "model_module": "@jupyter-widgets/base",
          "model_name": "LayoutModel",
          "model_module_version": "1.2.0",
          "state": {
            "_model_module": "@jupyter-widgets/base",
            "_model_module_version": "1.2.0",
            "_model_name": "LayoutModel",
            "_view_count": null,
            "_view_module": "@jupyter-widgets/base",
            "_view_module_version": "1.2.0",
            "_view_name": "LayoutView",
            "align_content": null,
            "align_items": null,
            "align_self": null,
            "border": null,
            "bottom": null,
            "display": null,
            "flex": null,
            "flex_flow": null,
            "grid_area": null,
            "grid_auto_columns": null,
            "grid_auto_flow": null,
            "grid_auto_rows": null,
            "grid_column": null,
            "grid_gap": null,
            "grid_row": null,
            "grid_template_areas": null,
            "grid_template_columns": null,
            "grid_template_rows": null,
            "height": null,
            "justify_content": null,
            "justify_items": null,
            "left": null,
            "margin": null,
            "max_height": null,
            "max_width": null,
            "min_height": null,
            "min_width": null,
            "object_fit": null,
            "object_position": null,
            "order": null,
            "overflow": null,
            "overflow_x": null,
            "overflow_y": null,
            "padding": null,
            "right": null,
            "top": null,
            "visibility": null,
            "width": null
          }
        },
        "d8178fff63be41eb958c4c43c284887c": {
          "model_module": "@jupyter-widgets/controls",
          "model_name": "ProgressStyleModel",
          "model_module_version": "1.5.0",
          "state": {
            "_model_module": "@jupyter-widgets/controls",
            "_model_module_version": "1.5.0",
            "_model_name": "ProgressStyleModel",
            "_view_count": null,
            "_view_module": "@jupyter-widgets/base",
            "_view_module_version": "1.2.0",
            "_view_name": "StyleView",
            "bar_color": null,
            "description_width": ""
          }
        },
        "f695792f95c6482a8ab9f7c699812cd2": {
          "model_module": "@jupyter-widgets/base",
          "model_name": "LayoutModel",
          "model_module_version": "1.2.0",
          "state": {
            "_model_module": "@jupyter-widgets/base",
            "_model_module_version": "1.2.0",
            "_model_name": "LayoutModel",
            "_view_count": null,
            "_view_module": "@jupyter-widgets/base",
            "_view_module_version": "1.2.0",
            "_view_name": "LayoutView",
            "align_content": null,
            "align_items": null,
            "align_self": null,
            "border": null,
            "bottom": null,
            "display": null,
            "flex": null,
            "flex_flow": null,
            "grid_area": null,
            "grid_auto_columns": null,
            "grid_auto_flow": null,
            "grid_auto_rows": null,
            "grid_column": null,
            "grid_gap": null,
            "grid_row": null,
            "grid_template_areas": null,
            "grid_template_columns": null,
            "grid_template_rows": null,
            "height": null,
            "justify_content": null,
            "justify_items": null,
            "left": null,
            "margin": null,
            "max_height": null,
            "max_width": null,
            "min_height": null,
            "min_width": null,
            "object_fit": null,
            "object_position": null,
            "order": null,
            "overflow": null,
            "overflow_x": null,
            "overflow_y": null,
            "padding": null,
            "right": null,
            "top": null,
            "visibility": null,
            "width": null
          }
        },
        "558eaba9db8545a6a85fc439c700bab5": {
          "model_module": "@jupyter-widgets/controls",
          "model_name": "DescriptionStyleModel",
          "model_module_version": "1.5.0",
          "state": {
            "_model_module": "@jupyter-widgets/controls",
            "_model_module_version": "1.5.0",
            "_model_name": "DescriptionStyleModel",
            "_view_count": null,
            "_view_module": "@jupyter-widgets/base",
            "_view_module_version": "1.2.0",
            "_view_name": "StyleView",
            "description_width": ""
          }
        },
        "630b82eaefd34cc9bf46eebd107b8004": {
          "model_module": "@jupyter-widgets/controls",
          "model_name": "HBoxModel",
          "model_module_version": "1.5.0",
          "state": {
            "_dom_classes": [],
            "_model_module": "@jupyter-widgets/controls",
            "_model_module_version": "1.5.0",
            "_model_name": "HBoxModel",
            "_view_count": null,
            "_view_module": "@jupyter-widgets/controls",
            "_view_module_version": "1.5.0",
            "_view_name": "HBoxView",
            "box_style": "",
            "children": [
              "IPY_MODEL_9c51be50a00240f99fb57f264b3689c8",
              "IPY_MODEL_48652b7064754a0a8efb757a0c536d12",
              "IPY_MODEL_149ce4e312c1406fbd00da5c045e5b41"
            ],
            "layout": "IPY_MODEL_8184dab05a184a7880fd4094c4d599b5"
          }
        },
        "9c51be50a00240f99fb57f264b3689c8": {
          "model_module": "@jupyter-widgets/controls",
          "model_name": "HTMLModel",
          "model_module_version": "1.5.0",
          "state": {
            "_dom_classes": [],
            "_model_module": "@jupyter-widgets/controls",
            "_model_module_version": "1.5.0",
            "_model_name": "HTMLModel",
            "_view_count": null,
            "_view_module": "@jupyter-widgets/controls",
            "_view_module_version": "1.5.0",
            "_view_name": "HTMLView",
            "description": "",
            "description_tooltip": null,
            "layout": "IPY_MODEL_58f6fbca24b64abe9f8c8462ec04cb29",
            "placeholder": "​",
            "style": "IPY_MODEL_c0e5c76a825d4c96b6f0acf31066a6a0",
            "value": "config_sentence_transformers.json: 100%"
          }
        },
        "48652b7064754a0a8efb757a0c536d12": {
          "model_module": "@jupyter-widgets/controls",
          "model_name": "FloatProgressModel",
          "model_module_version": "1.5.0",
          "state": {
            "_dom_classes": [],
            "_model_module": "@jupyter-widgets/controls",
            "_model_module_version": "1.5.0",
            "_model_name": "FloatProgressModel",
            "_view_count": null,
            "_view_module": "@jupyter-widgets/controls",
            "_view_module_version": "1.5.0",
            "_view_name": "ProgressView",
            "bar_style": "success",
            "description": "",
            "description_tooltip": null,
            "layout": "IPY_MODEL_d4860f3000834a59918147d60e0f9603",
            "max": 116,
            "min": 0,
            "orientation": "horizontal",
            "style": "IPY_MODEL_1d13896cb5964bffb706bba64961e0d1",
            "value": 116
          }
        },
        "149ce4e312c1406fbd00da5c045e5b41": {
          "model_module": "@jupyter-widgets/controls",
          "model_name": "HTMLModel",
          "model_module_version": "1.5.0",
          "state": {
            "_dom_classes": [],
            "_model_module": "@jupyter-widgets/controls",
            "_model_module_version": "1.5.0",
            "_model_name": "HTMLModel",
            "_view_count": null,
            "_view_module": "@jupyter-widgets/controls",
            "_view_module_version": "1.5.0",
            "_view_name": "HTMLView",
            "description": "",
            "description_tooltip": null,
            "layout": "IPY_MODEL_4b44ea69fedb407b913a5bca033c300c",
            "placeholder": "​",
            "style": "IPY_MODEL_9dd4f6fefde347bcbb5dd5463388a8e1",
            "value": " 116/116 [00:00&lt;00:00, 11.2kB/s]"
          }
        },
        "8184dab05a184a7880fd4094c4d599b5": {
          "model_module": "@jupyter-widgets/base",
          "model_name": "LayoutModel",
          "model_module_version": "1.2.0",
          "state": {
            "_model_module": "@jupyter-widgets/base",
            "_model_module_version": "1.2.0",
            "_model_name": "LayoutModel",
            "_view_count": null,
            "_view_module": "@jupyter-widgets/base",
            "_view_module_version": "1.2.0",
            "_view_name": "LayoutView",
            "align_content": null,
            "align_items": null,
            "align_self": null,
            "border": null,
            "bottom": null,
            "display": null,
            "flex": null,
            "flex_flow": null,
            "grid_area": null,
            "grid_auto_columns": null,
            "grid_auto_flow": null,
            "grid_auto_rows": null,
            "grid_column": null,
            "grid_gap": null,
            "grid_row": null,
            "grid_template_areas": null,
            "grid_template_columns": null,
            "grid_template_rows": null,
            "height": null,
            "justify_content": null,
            "justify_items": null,
            "left": null,
            "margin": null,
            "max_height": null,
            "max_width": null,
            "min_height": null,
            "min_width": null,
            "object_fit": null,
            "object_position": null,
            "order": null,
            "overflow": null,
            "overflow_x": null,
            "overflow_y": null,
            "padding": null,
            "right": null,
            "top": null,
            "visibility": null,
            "width": null
          }
        },
        "58f6fbca24b64abe9f8c8462ec04cb29": {
          "model_module": "@jupyter-widgets/base",
          "model_name": "LayoutModel",
          "model_module_version": "1.2.0",
          "state": {
            "_model_module": "@jupyter-widgets/base",
            "_model_module_version": "1.2.0",
            "_model_name": "LayoutModel",
            "_view_count": null,
            "_view_module": "@jupyter-widgets/base",
            "_view_module_version": "1.2.0",
            "_view_name": "LayoutView",
            "align_content": null,
            "align_items": null,
            "align_self": null,
            "border": null,
            "bottom": null,
            "display": null,
            "flex": null,
            "flex_flow": null,
            "grid_area": null,
            "grid_auto_columns": null,
            "grid_auto_flow": null,
            "grid_auto_rows": null,
            "grid_column": null,
            "grid_gap": null,
            "grid_row": null,
            "grid_template_areas": null,
            "grid_template_columns": null,
            "grid_template_rows": null,
            "height": null,
            "justify_content": null,
            "justify_items": null,
            "left": null,
            "margin": null,
            "max_height": null,
            "max_width": null,
            "min_height": null,
            "min_width": null,
            "object_fit": null,
            "object_position": null,
            "order": null,
            "overflow": null,
            "overflow_x": null,
            "overflow_y": null,
            "padding": null,
            "right": null,
            "top": null,
            "visibility": null,
            "width": null
          }
        },
        "c0e5c76a825d4c96b6f0acf31066a6a0": {
          "model_module": "@jupyter-widgets/controls",
          "model_name": "DescriptionStyleModel",
          "model_module_version": "1.5.0",
          "state": {
            "_model_module": "@jupyter-widgets/controls",
            "_model_module_version": "1.5.0",
            "_model_name": "DescriptionStyleModel",
            "_view_count": null,
            "_view_module": "@jupyter-widgets/base",
            "_view_module_version": "1.2.0",
            "_view_name": "StyleView",
            "description_width": ""
          }
        },
        "d4860f3000834a59918147d60e0f9603": {
          "model_module": "@jupyter-widgets/base",
          "model_name": "LayoutModel",
          "model_module_version": "1.2.0",
          "state": {
            "_model_module": "@jupyter-widgets/base",
            "_model_module_version": "1.2.0",
            "_model_name": "LayoutModel",
            "_view_count": null,
            "_view_module": "@jupyter-widgets/base",
            "_view_module_version": "1.2.0",
            "_view_name": "LayoutView",
            "align_content": null,
            "align_items": null,
            "align_self": null,
            "border": null,
            "bottom": null,
            "display": null,
            "flex": null,
            "flex_flow": null,
            "grid_area": null,
            "grid_auto_columns": null,
            "grid_auto_flow": null,
            "grid_auto_rows": null,
            "grid_column": null,
            "grid_gap": null,
            "grid_row": null,
            "grid_template_areas": null,
            "grid_template_columns": null,
            "grid_template_rows": null,
            "height": null,
            "justify_content": null,
            "justify_items": null,
            "left": null,
            "margin": null,
            "max_height": null,
            "max_width": null,
            "min_height": null,
            "min_width": null,
            "object_fit": null,
            "object_position": null,
            "order": null,
            "overflow": null,
            "overflow_x": null,
            "overflow_y": null,
            "padding": null,
            "right": null,
            "top": null,
            "visibility": null,
            "width": null
          }
        },
        "1d13896cb5964bffb706bba64961e0d1": {
          "model_module": "@jupyter-widgets/controls",
          "model_name": "ProgressStyleModel",
          "model_module_version": "1.5.0",
          "state": {
            "_model_module": "@jupyter-widgets/controls",
            "_model_module_version": "1.5.0",
            "_model_name": "ProgressStyleModel",
            "_view_count": null,
            "_view_module": "@jupyter-widgets/base",
            "_view_module_version": "1.2.0",
            "_view_name": "StyleView",
            "bar_color": null,
            "description_width": ""
          }
        },
        "4b44ea69fedb407b913a5bca033c300c": {
          "model_module": "@jupyter-widgets/base",
          "model_name": "LayoutModel",
          "model_module_version": "1.2.0",
          "state": {
            "_model_module": "@jupyter-widgets/base",
            "_model_module_version": "1.2.0",
            "_model_name": "LayoutModel",
            "_view_count": null,
            "_view_module": "@jupyter-widgets/base",
            "_view_module_version": "1.2.0",
            "_view_name": "LayoutView",
            "align_content": null,
            "align_items": null,
            "align_self": null,
            "border": null,
            "bottom": null,
            "display": null,
            "flex": null,
            "flex_flow": null,
            "grid_area": null,
            "grid_auto_columns": null,
            "grid_auto_flow": null,
            "grid_auto_rows": null,
            "grid_column": null,
            "grid_gap": null,
            "grid_row": null,
            "grid_template_areas": null,
            "grid_template_columns": null,
            "grid_template_rows": null,
            "height": null,
            "justify_content": null,
            "justify_items": null,
            "left": null,
            "margin": null,
            "max_height": null,
            "max_width": null,
            "min_height": null,
            "min_width": null,
            "object_fit": null,
            "object_position": null,
            "order": null,
            "overflow": null,
            "overflow_x": null,
            "overflow_y": null,
            "padding": null,
            "right": null,
            "top": null,
            "visibility": null,
            "width": null
          }
        },
        "9dd4f6fefde347bcbb5dd5463388a8e1": {
          "model_module": "@jupyter-widgets/controls",
          "model_name": "DescriptionStyleModel",
          "model_module_version": "1.5.0",
          "state": {
            "_model_module": "@jupyter-widgets/controls",
            "_model_module_version": "1.5.0",
            "_model_name": "DescriptionStyleModel",
            "_view_count": null,
            "_view_module": "@jupyter-widgets/base",
            "_view_module_version": "1.2.0",
            "_view_name": "StyleView",
            "description_width": ""
          }
        },
        "e92cdccdff024b99b8c0a6c0c4aee359": {
          "model_module": "@jupyter-widgets/controls",
          "model_name": "HBoxModel",
          "model_module_version": "1.5.0",
          "state": {
            "_dom_classes": [],
            "_model_module": "@jupyter-widgets/controls",
            "_model_module_version": "1.5.0",
            "_model_name": "HBoxModel",
            "_view_count": null,
            "_view_module": "@jupyter-widgets/controls",
            "_view_module_version": "1.5.0",
            "_view_name": "HBoxView",
            "box_style": "",
            "children": [
              "IPY_MODEL_dbe39a8d326f44f280822a1379e59c82",
              "IPY_MODEL_3235541e759b4ba5bb1e015805cb181c",
              "IPY_MODEL_358fd8c7ec84470bae4436485c2070ce"
            ],
            "layout": "IPY_MODEL_4fa755f1eaf4465d967d7e8b7bf6ce3d"
          }
        },
        "dbe39a8d326f44f280822a1379e59c82": {
          "model_module": "@jupyter-widgets/controls",
          "model_name": "HTMLModel",
          "model_module_version": "1.5.0",
          "state": {
            "_dom_classes": [],
            "_model_module": "@jupyter-widgets/controls",
            "_model_module_version": "1.5.0",
            "_model_name": "HTMLModel",
            "_view_count": null,
            "_view_module": "@jupyter-widgets/controls",
            "_view_module_version": "1.5.0",
            "_view_name": "HTMLView",
            "description": "",
            "description_tooltip": null,
            "layout": "IPY_MODEL_3119ed56ed8e49f7b19c9d9c23bfd4d6",
            "placeholder": "​",
            "style": "IPY_MODEL_c8d366c5eb9c44649679efcce20cf43c",
            "value": "README.md: 100%"
          }
        },
        "3235541e759b4ba5bb1e015805cb181c": {
          "model_module": "@jupyter-widgets/controls",
          "model_name": "FloatProgressModel",
          "model_module_version": "1.5.0",
          "state": {
            "_dom_classes": [],
            "_model_module": "@jupyter-widgets/controls",
            "_model_module_version": "1.5.0",
            "_model_name": "FloatProgressModel",
            "_view_count": null,
            "_view_module": "@jupyter-widgets/controls",
            "_view_module_version": "1.5.0",
            "_view_name": "ProgressView",
            "bar_style": "success",
            "description": "",
            "description_tooltip": null,
            "layout": "IPY_MODEL_047539ac295a44929e84906cc4446833",
            "max": 10454,
            "min": 0,
            "orientation": "horizontal",
            "style": "IPY_MODEL_2aae64c0404f49b7aea05af830cea293",
            "value": 10454
          }
        },
        "358fd8c7ec84470bae4436485c2070ce": {
          "model_module": "@jupyter-widgets/controls",
          "model_name": "HTMLModel",
          "model_module_version": "1.5.0",
          "state": {
            "_dom_classes": [],
            "_model_module": "@jupyter-widgets/controls",
            "_model_module_version": "1.5.0",
            "_model_name": "HTMLModel",
            "_view_count": null,
            "_view_module": "@jupyter-widgets/controls",
            "_view_module_version": "1.5.0",
            "_view_name": "HTMLView",
            "description": "",
            "description_tooltip": null,
            "layout": "IPY_MODEL_389b28a9c5554252a904abe7e01f3307",
            "placeholder": "​",
            "style": "IPY_MODEL_2d23b32385d94673b6130bc0c0083820",
            "value": " 10.5k/10.5k [00:00&lt;00:00, 1.05MB/s]"
          }
        },
        "4fa755f1eaf4465d967d7e8b7bf6ce3d": {
          "model_module": "@jupyter-widgets/base",
          "model_name": "LayoutModel",
          "model_module_version": "1.2.0",
          "state": {
            "_model_module": "@jupyter-widgets/base",
            "_model_module_version": "1.2.0",
            "_model_name": "LayoutModel",
            "_view_count": null,
            "_view_module": "@jupyter-widgets/base",
            "_view_module_version": "1.2.0",
            "_view_name": "LayoutView",
            "align_content": null,
            "align_items": null,
            "align_self": null,
            "border": null,
            "bottom": null,
            "display": null,
            "flex": null,
            "flex_flow": null,
            "grid_area": null,
            "grid_auto_columns": null,
            "grid_auto_flow": null,
            "grid_auto_rows": null,
            "grid_column": null,
            "grid_gap": null,
            "grid_row": null,
            "grid_template_areas": null,
            "grid_template_columns": null,
            "grid_template_rows": null,
            "height": null,
            "justify_content": null,
            "justify_items": null,
            "left": null,
            "margin": null,
            "max_height": null,
            "max_width": null,
            "min_height": null,
            "min_width": null,
            "object_fit": null,
            "object_position": null,
            "order": null,
            "overflow": null,
            "overflow_x": null,
            "overflow_y": null,
            "padding": null,
            "right": null,
            "top": null,
            "visibility": null,
            "width": null
          }
        },
        "3119ed56ed8e49f7b19c9d9c23bfd4d6": {
          "model_module": "@jupyter-widgets/base",
          "model_name": "LayoutModel",
          "model_module_version": "1.2.0",
          "state": {
            "_model_module": "@jupyter-widgets/base",
            "_model_module_version": "1.2.0",
            "_model_name": "LayoutModel",
            "_view_count": null,
            "_view_module": "@jupyter-widgets/base",
            "_view_module_version": "1.2.0",
            "_view_name": "LayoutView",
            "align_content": null,
            "align_items": null,
            "align_self": null,
            "border": null,
            "bottom": null,
            "display": null,
            "flex": null,
            "flex_flow": null,
            "grid_area": null,
            "grid_auto_columns": null,
            "grid_auto_flow": null,
            "grid_auto_rows": null,
            "grid_column": null,
            "grid_gap": null,
            "grid_row": null,
            "grid_template_areas": null,
            "grid_template_columns": null,
            "grid_template_rows": null,
            "height": null,
            "justify_content": null,
            "justify_items": null,
            "left": null,
            "margin": null,
            "max_height": null,
            "max_width": null,
            "min_height": null,
            "min_width": null,
            "object_fit": null,
            "object_position": null,
            "order": null,
            "overflow": null,
            "overflow_x": null,
            "overflow_y": null,
            "padding": null,
            "right": null,
            "top": null,
            "visibility": null,
            "width": null
          }
        },
        "c8d366c5eb9c44649679efcce20cf43c": {
          "model_module": "@jupyter-widgets/controls",
          "model_name": "DescriptionStyleModel",
          "model_module_version": "1.5.0",
          "state": {
            "_model_module": "@jupyter-widgets/controls",
            "_model_module_version": "1.5.0",
            "_model_name": "DescriptionStyleModel",
            "_view_count": null,
            "_view_module": "@jupyter-widgets/base",
            "_view_module_version": "1.2.0",
            "_view_name": "StyleView",
            "description_width": ""
          }
        },
        "047539ac295a44929e84906cc4446833": {
          "model_module": "@jupyter-widgets/base",
          "model_name": "LayoutModel",
          "model_module_version": "1.2.0",
          "state": {
            "_model_module": "@jupyter-widgets/base",
            "_model_module_version": "1.2.0",
            "_model_name": "LayoutModel",
            "_view_count": null,
            "_view_module": "@jupyter-widgets/base",
            "_view_module_version": "1.2.0",
            "_view_name": "LayoutView",
            "align_content": null,
            "align_items": null,
            "align_self": null,
            "border": null,
            "bottom": null,
            "display": null,
            "flex": null,
            "flex_flow": null,
            "grid_area": null,
            "grid_auto_columns": null,
            "grid_auto_flow": null,
            "grid_auto_rows": null,
            "grid_column": null,
            "grid_gap": null,
            "grid_row": null,
            "grid_template_areas": null,
            "grid_template_columns": null,
            "grid_template_rows": null,
            "height": null,
            "justify_content": null,
            "justify_items": null,
            "left": null,
            "margin": null,
            "max_height": null,
            "max_width": null,
            "min_height": null,
            "min_width": null,
            "object_fit": null,
            "object_position": null,
            "order": null,
            "overflow": null,
            "overflow_x": null,
            "overflow_y": null,
            "padding": null,
            "right": null,
            "top": null,
            "visibility": null,
            "width": null
          }
        },
        "2aae64c0404f49b7aea05af830cea293": {
          "model_module": "@jupyter-widgets/controls",
          "model_name": "ProgressStyleModel",
          "model_module_version": "1.5.0",
          "state": {
            "_model_module": "@jupyter-widgets/controls",
            "_model_module_version": "1.5.0",
            "_model_name": "ProgressStyleModel",
            "_view_count": null,
            "_view_module": "@jupyter-widgets/base",
            "_view_module_version": "1.2.0",
            "_view_name": "StyleView",
            "bar_color": null,
            "description_width": ""
          }
        },
        "389b28a9c5554252a904abe7e01f3307": {
          "model_module": "@jupyter-widgets/base",
          "model_name": "LayoutModel",
          "model_module_version": "1.2.0",
          "state": {
            "_model_module": "@jupyter-widgets/base",
            "_model_module_version": "1.2.0",
            "_model_name": "LayoutModel",
            "_view_count": null,
            "_view_module": "@jupyter-widgets/base",
            "_view_module_version": "1.2.0",
            "_view_name": "LayoutView",
            "align_content": null,
            "align_items": null,
            "align_self": null,
            "border": null,
            "bottom": null,
            "display": null,
            "flex": null,
            "flex_flow": null,
            "grid_area": null,
            "grid_auto_columns": null,
            "grid_auto_flow": null,
            "grid_auto_rows": null,
            "grid_column": null,
            "grid_gap": null,
            "grid_row": null,
            "grid_template_areas": null,
            "grid_template_columns": null,
            "grid_template_rows": null,
            "height": null,
            "justify_content": null,
            "justify_items": null,
            "left": null,
            "margin": null,
            "max_height": null,
            "max_width": null,
            "min_height": null,
            "min_width": null,
            "object_fit": null,
            "object_position": null,
            "order": null,
            "overflow": null,
            "overflow_x": null,
            "overflow_y": null,
            "padding": null,
            "right": null,
            "top": null,
            "visibility": null,
            "width": null
          }
        },
        "2d23b32385d94673b6130bc0c0083820": {
          "model_module": "@jupyter-widgets/controls",
          "model_name": "DescriptionStyleModel",
          "model_module_version": "1.5.0",
          "state": {
            "_model_module": "@jupyter-widgets/controls",
            "_model_module_version": "1.5.0",
            "_model_name": "DescriptionStyleModel",
            "_view_count": null,
            "_view_module": "@jupyter-widgets/base",
            "_view_module_version": "1.2.0",
            "_view_name": "StyleView",
            "description_width": ""
          }
        },
        "486995f2c3f94973a60ec1a9bab39e42": {
          "model_module": "@jupyter-widgets/controls",
          "model_name": "HBoxModel",
          "model_module_version": "1.5.0",
          "state": {
            "_dom_classes": [],
            "_model_module": "@jupyter-widgets/controls",
            "_model_module_version": "1.5.0",
            "_model_name": "HBoxModel",
            "_view_count": null,
            "_view_module": "@jupyter-widgets/controls",
            "_view_module_version": "1.5.0",
            "_view_name": "HBoxView",
            "box_style": "",
            "children": [
              "IPY_MODEL_cdd6a827a7da4a05a16034808b8fd871",
              "IPY_MODEL_c7213e286f294400b6e11997c58d8eb4",
              "IPY_MODEL_5ecdd62b96254170810c70fbe0563324"
            ],
            "layout": "IPY_MODEL_e6fc3e2e07ae4a9e83838c9aa5755341"
          }
        },
        "cdd6a827a7da4a05a16034808b8fd871": {
          "model_module": "@jupyter-widgets/controls",
          "model_name": "HTMLModel",
          "model_module_version": "1.5.0",
          "state": {
            "_dom_classes": [],
            "_model_module": "@jupyter-widgets/controls",
            "_model_module_version": "1.5.0",
            "_model_name": "HTMLModel",
            "_view_count": null,
            "_view_module": "@jupyter-widgets/controls",
            "_view_module_version": "1.5.0",
            "_view_name": "HTMLView",
            "description": "",
            "description_tooltip": null,
            "layout": "IPY_MODEL_7b0ec14da5394566be1686086a6d00f1",
            "placeholder": "​",
            "style": "IPY_MODEL_32a88308d71248e49e731139b07d11fa",
            "value": "sentence_bert_config.json: 100%"
          }
        },
        "c7213e286f294400b6e11997c58d8eb4": {
          "model_module": "@jupyter-widgets/controls",
          "model_name": "FloatProgressModel",
          "model_module_version": "1.5.0",
          "state": {
            "_dom_classes": [],
            "_model_module": "@jupyter-widgets/controls",
            "_model_module_version": "1.5.0",
            "_model_name": "FloatProgressModel",
            "_view_count": null,
            "_view_module": "@jupyter-widgets/controls",
            "_view_module_version": "1.5.0",
            "_view_name": "ProgressView",
            "bar_style": "success",
            "description": "",
            "description_tooltip": null,
            "layout": "IPY_MODEL_073e2810da9b487c85e8a308b152718a",
            "max": 53,
            "min": 0,
            "orientation": "horizontal",
            "style": "IPY_MODEL_b3de152659304a709632f1a6ce6cf119",
            "value": 53
          }
        },
        "5ecdd62b96254170810c70fbe0563324": {
          "model_module": "@jupyter-widgets/controls",
          "model_name": "HTMLModel",
          "model_module_version": "1.5.0",
          "state": {
            "_dom_classes": [],
            "_model_module": "@jupyter-widgets/controls",
            "_model_module_version": "1.5.0",
            "_model_name": "HTMLModel",
            "_view_count": null,
            "_view_module": "@jupyter-widgets/controls",
            "_view_module_version": "1.5.0",
            "_view_name": "HTMLView",
            "description": "",
            "description_tooltip": null,
            "layout": "IPY_MODEL_b8f1e625895b414884c2ec26a2eb9eb7",
            "placeholder": "​",
            "style": "IPY_MODEL_df48b20460af40208da0ffa42fded5c6",
            "value": " 53.0/53.0 [00:00&lt;00:00, 3.89kB/s]"
          }
        },
        "e6fc3e2e07ae4a9e83838c9aa5755341": {
          "model_module": "@jupyter-widgets/base",
          "model_name": "LayoutModel",
          "model_module_version": "1.2.0",
          "state": {
            "_model_module": "@jupyter-widgets/base",
            "_model_module_version": "1.2.0",
            "_model_name": "LayoutModel",
            "_view_count": null,
            "_view_module": "@jupyter-widgets/base",
            "_view_module_version": "1.2.0",
            "_view_name": "LayoutView",
            "align_content": null,
            "align_items": null,
            "align_self": null,
            "border": null,
            "bottom": null,
            "display": null,
            "flex": null,
            "flex_flow": null,
            "grid_area": null,
            "grid_auto_columns": null,
            "grid_auto_flow": null,
            "grid_auto_rows": null,
            "grid_column": null,
            "grid_gap": null,
            "grid_row": null,
            "grid_template_areas": null,
            "grid_template_columns": null,
            "grid_template_rows": null,
            "height": null,
            "justify_content": null,
            "justify_items": null,
            "left": null,
            "margin": null,
            "max_height": null,
            "max_width": null,
            "min_height": null,
            "min_width": null,
            "object_fit": null,
            "object_position": null,
            "order": null,
            "overflow": null,
            "overflow_x": null,
            "overflow_y": null,
            "padding": null,
            "right": null,
            "top": null,
            "visibility": null,
            "width": null
          }
        },
        "7b0ec14da5394566be1686086a6d00f1": {
          "model_module": "@jupyter-widgets/base",
          "model_name": "LayoutModel",
          "model_module_version": "1.2.0",
          "state": {
            "_model_module": "@jupyter-widgets/base",
            "_model_module_version": "1.2.0",
            "_model_name": "LayoutModel",
            "_view_count": null,
            "_view_module": "@jupyter-widgets/base",
            "_view_module_version": "1.2.0",
            "_view_name": "LayoutView",
            "align_content": null,
            "align_items": null,
            "align_self": null,
            "border": null,
            "bottom": null,
            "display": null,
            "flex": null,
            "flex_flow": null,
            "grid_area": null,
            "grid_auto_columns": null,
            "grid_auto_flow": null,
            "grid_auto_rows": null,
            "grid_column": null,
            "grid_gap": null,
            "grid_row": null,
            "grid_template_areas": null,
            "grid_template_columns": null,
            "grid_template_rows": null,
            "height": null,
            "justify_content": null,
            "justify_items": null,
            "left": null,
            "margin": null,
            "max_height": null,
            "max_width": null,
            "min_height": null,
            "min_width": null,
            "object_fit": null,
            "object_position": null,
            "order": null,
            "overflow": null,
            "overflow_x": null,
            "overflow_y": null,
            "padding": null,
            "right": null,
            "top": null,
            "visibility": null,
            "width": null
          }
        },
        "32a88308d71248e49e731139b07d11fa": {
          "model_module": "@jupyter-widgets/controls",
          "model_name": "DescriptionStyleModel",
          "model_module_version": "1.5.0",
          "state": {
            "_model_module": "@jupyter-widgets/controls",
            "_model_module_version": "1.5.0",
            "_model_name": "DescriptionStyleModel",
            "_view_count": null,
            "_view_module": "@jupyter-widgets/base",
            "_view_module_version": "1.2.0",
            "_view_name": "StyleView",
            "description_width": ""
          }
        },
        "073e2810da9b487c85e8a308b152718a": {
          "model_module": "@jupyter-widgets/base",
          "model_name": "LayoutModel",
          "model_module_version": "1.2.0",
          "state": {
            "_model_module": "@jupyter-widgets/base",
            "_model_module_version": "1.2.0",
            "_model_name": "LayoutModel",
            "_view_count": null,
            "_view_module": "@jupyter-widgets/base",
            "_view_module_version": "1.2.0",
            "_view_name": "LayoutView",
            "align_content": null,
            "align_items": null,
            "align_self": null,
            "border": null,
            "bottom": null,
            "display": null,
            "flex": null,
            "flex_flow": null,
            "grid_area": null,
            "grid_auto_columns": null,
            "grid_auto_flow": null,
            "grid_auto_rows": null,
            "grid_column": null,
            "grid_gap": null,
            "grid_row": null,
            "grid_template_areas": null,
            "grid_template_columns": null,
            "grid_template_rows": null,
            "height": null,
            "justify_content": null,
            "justify_items": null,
            "left": null,
            "margin": null,
            "max_height": null,
            "max_width": null,
            "min_height": null,
            "min_width": null,
            "object_fit": null,
            "object_position": null,
            "order": null,
            "overflow": null,
            "overflow_x": null,
            "overflow_y": null,
            "padding": null,
            "right": null,
            "top": null,
            "visibility": null,
            "width": null
          }
        },
        "b3de152659304a709632f1a6ce6cf119": {
          "model_module": "@jupyter-widgets/controls",
          "model_name": "ProgressStyleModel",
          "model_module_version": "1.5.0",
          "state": {
            "_model_module": "@jupyter-widgets/controls",
            "_model_module_version": "1.5.0",
            "_model_name": "ProgressStyleModel",
            "_view_count": null,
            "_view_module": "@jupyter-widgets/base",
            "_view_module_version": "1.2.0",
            "_view_name": "StyleView",
            "bar_color": null,
            "description_width": ""
          }
        },
        "b8f1e625895b414884c2ec26a2eb9eb7": {
          "model_module": "@jupyter-widgets/base",
          "model_name": "LayoutModel",
          "model_module_version": "1.2.0",
          "state": {
            "_model_module": "@jupyter-widgets/base",
            "_model_module_version": "1.2.0",
            "_model_name": "LayoutModel",
            "_view_count": null,
            "_view_module": "@jupyter-widgets/base",
            "_view_module_version": "1.2.0",
            "_view_name": "LayoutView",
            "align_content": null,
            "align_items": null,
            "align_self": null,
            "border": null,
            "bottom": null,
            "display": null,
            "flex": null,
            "flex_flow": null,
            "grid_area": null,
            "grid_auto_columns": null,
            "grid_auto_flow": null,
            "grid_auto_rows": null,
            "grid_column": null,
            "grid_gap": null,
            "grid_row": null,
            "grid_template_areas": null,
            "grid_template_columns": null,
            "grid_template_rows": null,
            "height": null,
            "justify_content": null,
            "justify_items": null,
            "left": null,
            "margin": null,
            "max_height": null,
            "max_width": null,
            "min_height": null,
            "min_width": null,
            "object_fit": null,
            "object_position": null,
            "order": null,
            "overflow": null,
            "overflow_x": null,
            "overflow_y": null,
            "padding": null,
            "right": null,
            "top": null,
            "visibility": null,
            "width": null
          }
        },
        "df48b20460af40208da0ffa42fded5c6": {
          "model_module": "@jupyter-widgets/controls",
          "model_name": "DescriptionStyleModel",
          "model_module_version": "1.5.0",
          "state": {
            "_model_module": "@jupyter-widgets/controls",
            "_model_module_version": "1.5.0",
            "_model_name": "DescriptionStyleModel",
            "_view_count": null,
            "_view_module": "@jupyter-widgets/base",
            "_view_module_version": "1.2.0",
            "_view_name": "StyleView",
            "description_width": ""
          }
        },
        "e13b3aec18734f9380ee392c47482187": {
          "model_module": "@jupyter-widgets/controls",
          "model_name": "HBoxModel",
          "model_module_version": "1.5.0",
          "state": {
            "_dom_classes": [],
            "_model_module": "@jupyter-widgets/controls",
            "_model_module_version": "1.5.0",
            "_model_name": "HBoxModel",
            "_view_count": null,
            "_view_module": "@jupyter-widgets/controls",
            "_view_module_version": "1.5.0",
            "_view_name": "HBoxView",
            "box_style": "",
            "children": [
              "IPY_MODEL_b4fc0b7857194cc1b4704b318361fa63",
              "IPY_MODEL_7a3732bb9a34425b8e4619b33a4de241",
              "IPY_MODEL_d2f797f430fc45729312319394b1dfa1"
            ],
            "layout": "IPY_MODEL_2818ebaa36b3447aaef0b3f86ae3e6b9"
          }
        },
        "b4fc0b7857194cc1b4704b318361fa63": {
          "model_module": "@jupyter-widgets/controls",
          "model_name": "HTMLModel",
          "model_module_version": "1.5.0",
          "state": {
            "_dom_classes": [],
            "_model_module": "@jupyter-widgets/controls",
            "_model_module_version": "1.5.0",
            "_model_name": "HTMLModel",
            "_view_count": null,
            "_view_module": "@jupyter-widgets/controls",
            "_view_module_version": "1.5.0",
            "_view_name": "HTMLView",
            "description": "",
            "description_tooltip": null,
            "layout": "IPY_MODEL_53470bdf86ca4df596c5418761d35539",
            "placeholder": "​",
            "style": "IPY_MODEL_83845c43fcc249dfb13375b90cd8bde7",
            "value": "config.json: 100%"
          }
        },
        "7a3732bb9a34425b8e4619b33a4de241": {
          "model_module": "@jupyter-widgets/controls",
          "model_name": "FloatProgressModel",
          "model_module_version": "1.5.0",
          "state": {
            "_dom_classes": [],
            "_model_module": "@jupyter-widgets/controls",
            "_model_module_version": "1.5.0",
            "_model_name": "FloatProgressModel",
            "_view_count": null,
            "_view_module": "@jupyter-widgets/controls",
            "_view_module_version": "1.5.0",
            "_view_name": "ProgressView",
            "bar_style": "success",
            "description": "",
            "description_tooltip": null,
            "layout": "IPY_MODEL_41835be721144bea867762f0cd576ebb",
            "max": 612,
            "min": 0,
            "orientation": "horizontal",
            "style": "IPY_MODEL_aaffd505cfd34e89a7951e4727e4cb70",
            "value": 612
          }
        },
        "d2f797f430fc45729312319394b1dfa1": {
          "model_module": "@jupyter-widgets/controls",
          "model_name": "HTMLModel",
          "model_module_version": "1.5.0",
          "state": {
            "_dom_classes": [],
            "_model_module": "@jupyter-widgets/controls",
            "_model_module_version": "1.5.0",
            "_model_name": "HTMLModel",
            "_view_count": null,
            "_view_module": "@jupyter-widgets/controls",
            "_view_module_version": "1.5.0",
            "_view_name": "HTMLView",
            "description": "",
            "description_tooltip": null,
            "layout": "IPY_MODEL_e047cd42c10f4443a60c503a6b176f3b",
            "placeholder": "​",
            "style": "IPY_MODEL_a8e3ccbc4b2a46778efbfacfdc152af7",
            "value": " 612/612 [00:00&lt;00:00, 67.2kB/s]"
          }
        },
        "2818ebaa36b3447aaef0b3f86ae3e6b9": {
          "model_module": "@jupyter-widgets/base",
          "model_name": "LayoutModel",
          "model_module_version": "1.2.0",
          "state": {
            "_model_module": "@jupyter-widgets/base",
            "_model_module_version": "1.2.0",
            "_model_name": "LayoutModel",
            "_view_count": null,
            "_view_module": "@jupyter-widgets/base",
            "_view_module_version": "1.2.0",
            "_view_name": "LayoutView",
            "align_content": null,
            "align_items": null,
            "align_self": null,
            "border": null,
            "bottom": null,
            "display": null,
            "flex": null,
            "flex_flow": null,
            "grid_area": null,
            "grid_auto_columns": null,
            "grid_auto_flow": null,
            "grid_auto_rows": null,
            "grid_column": null,
            "grid_gap": null,
            "grid_row": null,
            "grid_template_areas": null,
            "grid_template_columns": null,
            "grid_template_rows": null,
            "height": null,
            "justify_content": null,
            "justify_items": null,
            "left": null,
            "margin": null,
            "max_height": null,
            "max_width": null,
            "min_height": null,
            "min_width": null,
            "object_fit": null,
            "object_position": null,
            "order": null,
            "overflow": null,
            "overflow_x": null,
            "overflow_y": null,
            "padding": null,
            "right": null,
            "top": null,
            "visibility": null,
            "width": null
          }
        },
        "53470bdf86ca4df596c5418761d35539": {
          "model_module": "@jupyter-widgets/base",
          "model_name": "LayoutModel",
          "model_module_version": "1.2.0",
          "state": {
            "_model_module": "@jupyter-widgets/base",
            "_model_module_version": "1.2.0",
            "_model_name": "LayoutModel",
            "_view_count": null,
            "_view_module": "@jupyter-widgets/base",
            "_view_module_version": "1.2.0",
            "_view_name": "LayoutView",
            "align_content": null,
            "align_items": null,
            "align_self": null,
            "border": null,
            "bottom": null,
            "display": null,
            "flex": null,
            "flex_flow": null,
            "grid_area": null,
            "grid_auto_columns": null,
            "grid_auto_flow": null,
            "grid_auto_rows": null,
            "grid_column": null,
            "grid_gap": null,
            "grid_row": null,
            "grid_template_areas": null,
            "grid_template_columns": null,
            "grid_template_rows": null,
            "height": null,
            "justify_content": null,
            "justify_items": null,
            "left": null,
            "margin": null,
            "max_height": null,
            "max_width": null,
            "min_height": null,
            "min_width": null,
            "object_fit": null,
            "object_position": null,
            "order": null,
            "overflow": null,
            "overflow_x": null,
            "overflow_y": null,
            "padding": null,
            "right": null,
            "top": null,
            "visibility": null,
            "width": null
          }
        },
        "83845c43fcc249dfb13375b90cd8bde7": {
          "model_module": "@jupyter-widgets/controls",
          "model_name": "DescriptionStyleModel",
          "model_module_version": "1.5.0",
          "state": {
            "_model_module": "@jupyter-widgets/controls",
            "_model_module_version": "1.5.0",
            "_model_name": "DescriptionStyleModel",
            "_view_count": null,
            "_view_module": "@jupyter-widgets/base",
            "_view_module_version": "1.2.0",
            "_view_name": "StyleView",
            "description_width": ""
          }
        },
        "41835be721144bea867762f0cd576ebb": {
          "model_module": "@jupyter-widgets/base",
          "model_name": "LayoutModel",
          "model_module_version": "1.2.0",
          "state": {
            "_model_module": "@jupyter-widgets/base",
            "_model_module_version": "1.2.0",
            "_model_name": "LayoutModel",
            "_view_count": null,
            "_view_module": "@jupyter-widgets/base",
            "_view_module_version": "1.2.0",
            "_view_name": "LayoutView",
            "align_content": null,
            "align_items": null,
            "align_self": null,
            "border": null,
            "bottom": null,
            "display": null,
            "flex": null,
            "flex_flow": null,
            "grid_area": null,
            "grid_auto_columns": null,
            "grid_auto_flow": null,
            "grid_auto_rows": null,
            "grid_column": null,
            "grid_gap": null,
            "grid_row": null,
            "grid_template_areas": null,
            "grid_template_columns": null,
            "grid_template_rows": null,
            "height": null,
            "justify_content": null,
            "justify_items": null,
            "left": null,
            "margin": null,
            "max_height": null,
            "max_width": null,
            "min_height": null,
            "min_width": null,
            "object_fit": null,
            "object_position": null,
            "order": null,
            "overflow": null,
            "overflow_x": null,
            "overflow_y": null,
            "padding": null,
            "right": null,
            "top": null,
            "visibility": null,
            "width": null
          }
        },
        "aaffd505cfd34e89a7951e4727e4cb70": {
          "model_module": "@jupyter-widgets/controls",
          "model_name": "ProgressStyleModel",
          "model_module_version": "1.5.0",
          "state": {
            "_model_module": "@jupyter-widgets/controls",
            "_model_module_version": "1.5.0",
            "_model_name": "ProgressStyleModel",
            "_view_count": null,
            "_view_module": "@jupyter-widgets/base",
            "_view_module_version": "1.2.0",
            "_view_name": "StyleView",
            "bar_color": null,
            "description_width": ""
          }
        },
        "e047cd42c10f4443a60c503a6b176f3b": {
          "model_module": "@jupyter-widgets/base",
          "model_name": "LayoutModel",
          "model_module_version": "1.2.0",
          "state": {
            "_model_module": "@jupyter-widgets/base",
            "_model_module_version": "1.2.0",
            "_model_name": "LayoutModel",
            "_view_count": null,
            "_view_module": "@jupyter-widgets/base",
            "_view_module_version": "1.2.0",
            "_view_name": "LayoutView",
            "align_content": null,
            "align_items": null,
            "align_self": null,
            "border": null,
            "bottom": null,
            "display": null,
            "flex": null,
            "flex_flow": null,
            "grid_area": null,
            "grid_auto_columns": null,
            "grid_auto_flow": null,
            "grid_auto_rows": null,
            "grid_column": null,
            "grid_gap": null,
            "grid_row": null,
            "grid_template_areas": null,
            "grid_template_columns": null,
            "grid_template_rows": null,
            "height": null,
            "justify_content": null,
            "justify_items": null,
            "left": null,
            "margin": null,
            "max_height": null,
            "max_width": null,
            "min_height": null,
            "min_width": null,
            "object_fit": null,
            "object_position": null,
            "order": null,
            "overflow": null,
            "overflow_x": null,
            "overflow_y": null,
            "padding": null,
            "right": null,
            "top": null,
            "visibility": null,
            "width": null
          }
        },
        "a8e3ccbc4b2a46778efbfacfdc152af7": {
          "model_module": "@jupyter-widgets/controls",
          "model_name": "DescriptionStyleModel",
          "model_module_version": "1.5.0",
          "state": {
            "_model_module": "@jupyter-widgets/controls",
            "_model_module_version": "1.5.0",
            "_model_name": "DescriptionStyleModel",
            "_view_count": null,
            "_view_module": "@jupyter-widgets/base",
            "_view_module_version": "1.2.0",
            "_view_name": "StyleView",
            "description_width": ""
          }
        },
        "594336d0729e494d97fefce699ca381f": {
          "model_module": "@jupyter-widgets/controls",
          "model_name": "HBoxModel",
          "model_module_version": "1.5.0",
          "state": {
            "_dom_classes": [],
            "_model_module": "@jupyter-widgets/controls",
            "_model_module_version": "1.5.0",
            "_model_name": "HBoxModel",
            "_view_count": null,
            "_view_module": "@jupyter-widgets/controls",
            "_view_module_version": "1.5.0",
            "_view_name": "HBoxView",
            "box_style": "",
            "children": [
              "IPY_MODEL_478a409ce8e74185b461c57f942fe7f1",
              "IPY_MODEL_0470f5ef7de74ac8ace9757c34cd3039",
              "IPY_MODEL_50ef3eb0776047fb91fcc63626b15f0e"
            ],
            "layout": "IPY_MODEL_83a3674ea156409fb2f870a64d0a01fd"
          }
        },
        "478a409ce8e74185b461c57f942fe7f1": {
          "model_module": "@jupyter-widgets/controls",
          "model_name": "HTMLModel",
          "model_module_version": "1.5.0",
          "state": {
            "_dom_classes": [],
            "_model_module": "@jupyter-widgets/controls",
            "_model_module_version": "1.5.0",
            "_model_name": "HTMLModel",
            "_view_count": null,
            "_view_module": "@jupyter-widgets/controls",
            "_view_module_version": "1.5.0",
            "_view_name": "HTMLView",
            "description": "",
            "description_tooltip": null,
            "layout": "IPY_MODEL_d6c7c1e8ccca419bb4c31c66ef656d92",
            "placeholder": "​",
            "style": "IPY_MODEL_109d139cf042450d87b568e4b7f6c0ae",
            "value": "model.safetensors: 100%"
          }
        },
        "0470f5ef7de74ac8ace9757c34cd3039": {
          "model_module": "@jupyter-widgets/controls",
          "model_name": "FloatProgressModel",
          "model_module_version": "1.5.0",
          "state": {
            "_dom_classes": [],
            "_model_module": "@jupyter-widgets/controls",
            "_model_module_version": "1.5.0",
            "_model_name": "FloatProgressModel",
            "_view_count": null,
            "_view_module": "@jupyter-widgets/controls",
            "_view_module_version": "1.5.0",
            "_view_name": "ProgressView",
            "bar_style": "success",
            "description": "",
            "description_tooltip": null,
            "layout": "IPY_MODEL_a7de74732c144325bb92194dcf0ef9cb",
            "max": 90868376,
            "min": 0,
            "orientation": "horizontal",
            "style": "IPY_MODEL_7a15b09f149a4d14b87ed42633d39127",
            "value": 90868376
          }
        },
        "50ef3eb0776047fb91fcc63626b15f0e": {
          "model_module": "@jupyter-widgets/controls",
          "model_name": "HTMLModel",
          "model_module_version": "1.5.0",
          "state": {
            "_dom_classes": [],
            "_model_module": "@jupyter-widgets/controls",
            "_model_module_version": "1.5.0",
            "_model_name": "HTMLModel",
            "_view_count": null,
            "_view_module": "@jupyter-widgets/controls",
            "_view_module_version": "1.5.0",
            "_view_name": "HTMLView",
            "description": "",
            "description_tooltip": null,
            "layout": "IPY_MODEL_cb5320c4505a4d4a9b3c38c2a4ff6ee7",
            "placeholder": "​",
            "style": "IPY_MODEL_be0e6e46321e47e295567d7c52181a71",
            "value": " 90.9M/90.9M [00:00&lt;00:00, 167MB/s]"
          }
        },
        "83a3674ea156409fb2f870a64d0a01fd": {
          "model_module": "@jupyter-widgets/base",
          "model_name": "LayoutModel",
          "model_module_version": "1.2.0",
          "state": {
            "_model_module": "@jupyter-widgets/base",
            "_model_module_version": "1.2.0",
            "_model_name": "LayoutModel",
            "_view_count": null,
            "_view_module": "@jupyter-widgets/base",
            "_view_module_version": "1.2.0",
            "_view_name": "LayoutView",
            "align_content": null,
            "align_items": null,
            "align_self": null,
            "border": null,
            "bottom": null,
            "display": null,
            "flex": null,
            "flex_flow": null,
            "grid_area": null,
            "grid_auto_columns": null,
            "grid_auto_flow": null,
            "grid_auto_rows": null,
            "grid_column": null,
            "grid_gap": null,
            "grid_row": null,
            "grid_template_areas": null,
            "grid_template_columns": null,
            "grid_template_rows": null,
            "height": null,
            "justify_content": null,
            "justify_items": null,
            "left": null,
            "margin": null,
            "max_height": null,
            "max_width": null,
            "min_height": null,
            "min_width": null,
            "object_fit": null,
            "object_position": null,
            "order": null,
            "overflow": null,
            "overflow_x": null,
            "overflow_y": null,
            "padding": null,
            "right": null,
            "top": null,
            "visibility": null,
            "width": null
          }
        },
        "d6c7c1e8ccca419bb4c31c66ef656d92": {
          "model_module": "@jupyter-widgets/base",
          "model_name": "LayoutModel",
          "model_module_version": "1.2.0",
          "state": {
            "_model_module": "@jupyter-widgets/base",
            "_model_module_version": "1.2.0",
            "_model_name": "LayoutModel",
            "_view_count": null,
            "_view_module": "@jupyter-widgets/base",
            "_view_module_version": "1.2.0",
            "_view_name": "LayoutView",
            "align_content": null,
            "align_items": null,
            "align_self": null,
            "border": null,
            "bottom": null,
            "display": null,
            "flex": null,
            "flex_flow": null,
            "grid_area": null,
            "grid_auto_columns": null,
            "grid_auto_flow": null,
            "grid_auto_rows": null,
            "grid_column": null,
            "grid_gap": null,
            "grid_row": null,
            "grid_template_areas": null,
            "grid_template_columns": null,
            "grid_template_rows": null,
            "height": null,
            "justify_content": null,
            "justify_items": null,
            "left": null,
            "margin": null,
            "max_height": null,
            "max_width": null,
            "min_height": null,
            "min_width": null,
            "object_fit": null,
            "object_position": null,
            "order": null,
            "overflow": null,
            "overflow_x": null,
            "overflow_y": null,
            "padding": null,
            "right": null,
            "top": null,
            "visibility": null,
            "width": null
          }
        },
        "109d139cf042450d87b568e4b7f6c0ae": {
          "model_module": "@jupyter-widgets/controls",
          "model_name": "DescriptionStyleModel",
          "model_module_version": "1.5.0",
          "state": {
            "_model_module": "@jupyter-widgets/controls",
            "_model_module_version": "1.5.0",
            "_model_name": "DescriptionStyleModel",
            "_view_count": null,
            "_view_module": "@jupyter-widgets/base",
            "_view_module_version": "1.2.0",
            "_view_name": "StyleView",
            "description_width": ""
          }
        },
        "a7de74732c144325bb92194dcf0ef9cb": {
          "model_module": "@jupyter-widgets/base",
          "model_name": "LayoutModel",
          "model_module_version": "1.2.0",
          "state": {
            "_model_module": "@jupyter-widgets/base",
            "_model_module_version": "1.2.0",
            "_model_name": "LayoutModel",
            "_view_count": null,
            "_view_module": "@jupyter-widgets/base",
            "_view_module_version": "1.2.0",
            "_view_name": "LayoutView",
            "align_content": null,
            "align_items": null,
            "align_self": null,
            "border": null,
            "bottom": null,
            "display": null,
            "flex": null,
            "flex_flow": null,
            "grid_area": null,
            "grid_auto_columns": null,
            "grid_auto_flow": null,
            "grid_auto_rows": null,
            "grid_column": null,
            "grid_gap": null,
            "grid_row": null,
            "grid_template_areas": null,
            "grid_template_columns": null,
            "grid_template_rows": null,
            "height": null,
            "justify_content": null,
            "justify_items": null,
            "left": null,
            "margin": null,
            "max_height": null,
            "max_width": null,
            "min_height": null,
            "min_width": null,
            "object_fit": null,
            "object_position": null,
            "order": null,
            "overflow": null,
            "overflow_x": null,
            "overflow_y": null,
            "padding": null,
            "right": null,
            "top": null,
            "visibility": null,
            "width": null
          }
        },
        "7a15b09f149a4d14b87ed42633d39127": {
          "model_module": "@jupyter-widgets/controls",
          "model_name": "ProgressStyleModel",
          "model_module_version": "1.5.0",
          "state": {
            "_model_module": "@jupyter-widgets/controls",
            "_model_module_version": "1.5.0",
            "_model_name": "ProgressStyleModel",
            "_view_count": null,
            "_view_module": "@jupyter-widgets/base",
            "_view_module_version": "1.2.0",
            "_view_name": "StyleView",
            "bar_color": null,
            "description_width": ""
          }
        },
        "cb5320c4505a4d4a9b3c38c2a4ff6ee7": {
          "model_module": "@jupyter-widgets/base",
          "model_name": "LayoutModel",
          "model_module_version": "1.2.0",
          "state": {
            "_model_module": "@jupyter-widgets/base",
            "_model_module_version": "1.2.0",
            "_model_name": "LayoutModel",
            "_view_count": null,
            "_view_module": "@jupyter-widgets/base",
            "_view_module_version": "1.2.0",
            "_view_name": "LayoutView",
            "align_content": null,
            "align_items": null,
            "align_self": null,
            "border": null,
            "bottom": null,
            "display": null,
            "flex": null,
            "flex_flow": null,
            "grid_area": null,
            "grid_auto_columns": null,
            "grid_auto_flow": null,
            "grid_auto_rows": null,
            "grid_column": null,
            "grid_gap": null,
            "grid_row": null,
            "grid_template_areas": null,
            "grid_template_columns": null,
            "grid_template_rows": null,
            "height": null,
            "justify_content": null,
            "justify_items": null,
            "left": null,
            "margin": null,
            "max_height": null,
            "max_width": null,
            "min_height": null,
            "min_width": null,
            "object_fit": null,
            "object_position": null,
            "order": null,
            "overflow": null,
            "overflow_x": null,
            "overflow_y": null,
            "padding": null,
            "right": null,
            "top": null,
            "visibility": null,
            "width": null
          }
        },
        "be0e6e46321e47e295567d7c52181a71": {
          "model_module": "@jupyter-widgets/controls",
          "model_name": "DescriptionStyleModel",
          "model_module_version": "1.5.0",
          "state": {
            "_model_module": "@jupyter-widgets/controls",
            "_model_module_version": "1.5.0",
            "_model_name": "DescriptionStyleModel",
            "_view_count": null,
            "_view_module": "@jupyter-widgets/base",
            "_view_module_version": "1.2.0",
            "_view_name": "StyleView",
            "description_width": ""
          }
        },
        "dfeba47748174adcace11efca897b380": {
          "model_module": "@jupyter-widgets/controls",
          "model_name": "HBoxModel",
          "model_module_version": "1.5.0",
          "state": {
            "_dom_classes": [],
            "_model_module": "@jupyter-widgets/controls",
            "_model_module_version": "1.5.0",
            "_model_name": "HBoxModel",
            "_view_count": null,
            "_view_module": "@jupyter-widgets/controls",
            "_view_module_version": "1.5.0",
            "_view_name": "HBoxView",
            "box_style": "",
            "children": [
              "IPY_MODEL_1d1d7c2525f74879ab528f5e8e171ccd",
              "IPY_MODEL_29562dcd4a4e46b59c06da58e5975034",
              "IPY_MODEL_ba1ac1e985074d77b9c67efd49ae2821"
            ],
            "layout": "IPY_MODEL_e0001f0056fa4e7596745393a60a6222"
          }
        },
        "1d1d7c2525f74879ab528f5e8e171ccd": {
          "model_module": "@jupyter-widgets/controls",
          "model_name": "HTMLModel",
          "model_module_version": "1.5.0",
          "state": {
            "_dom_classes": [],
            "_model_module": "@jupyter-widgets/controls",
            "_model_module_version": "1.5.0",
            "_model_name": "HTMLModel",
            "_view_count": null,
            "_view_module": "@jupyter-widgets/controls",
            "_view_module_version": "1.5.0",
            "_view_name": "HTMLView",
            "description": "",
            "description_tooltip": null,
            "layout": "IPY_MODEL_d1be5efc9a1a4ea491542f7cc0c18da5",
            "placeholder": "​",
            "style": "IPY_MODEL_7787c2a29e91456d89ceed66af22aab5",
            "value": "tokenizer_config.json: 100%"
          }
        },
        "29562dcd4a4e46b59c06da58e5975034": {
          "model_module": "@jupyter-widgets/controls",
          "model_name": "FloatProgressModel",
          "model_module_version": "1.5.0",
          "state": {
            "_dom_classes": [],
            "_model_module": "@jupyter-widgets/controls",
            "_model_module_version": "1.5.0",
            "_model_name": "FloatProgressModel",
            "_view_count": null,
            "_view_module": "@jupyter-widgets/controls",
            "_view_module_version": "1.5.0",
            "_view_name": "ProgressView",
            "bar_style": "success",
            "description": "",
            "description_tooltip": null,
            "layout": "IPY_MODEL_a24787eb7ae34fdaaa86d2a4f1c89bdc",
            "max": 350,
            "min": 0,
            "orientation": "horizontal",
            "style": "IPY_MODEL_3200d8415e2547f98deed6d628114fc6",
            "value": 350
          }
        },
        "ba1ac1e985074d77b9c67efd49ae2821": {
          "model_module": "@jupyter-widgets/controls",
          "model_name": "HTMLModel",
          "model_module_version": "1.5.0",
          "state": {
            "_dom_classes": [],
            "_model_module": "@jupyter-widgets/controls",
            "_model_module_version": "1.5.0",
            "_model_name": "HTMLModel",
            "_view_count": null,
            "_view_module": "@jupyter-widgets/controls",
            "_view_module_version": "1.5.0",
            "_view_name": "HTMLView",
            "description": "",
            "description_tooltip": null,
            "layout": "IPY_MODEL_8e2c3a4f451b4f95a1531ee28e972000",
            "placeholder": "​",
            "style": "IPY_MODEL_aa70fd24ac52438d808cd6a8a8382907",
            "value": " 350/350 [00:00&lt;00:00, 21.7kB/s]"
          }
        },
        "e0001f0056fa4e7596745393a60a6222": {
          "model_module": "@jupyter-widgets/base",
          "model_name": "LayoutModel",
          "model_module_version": "1.2.0",
          "state": {
            "_model_module": "@jupyter-widgets/base",
            "_model_module_version": "1.2.0",
            "_model_name": "LayoutModel",
            "_view_count": null,
            "_view_module": "@jupyter-widgets/base",
            "_view_module_version": "1.2.0",
            "_view_name": "LayoutView",
            "align_content": null,
            "align_items": null,
            "align_self": null,
            "border": null,
            "bottom": null,
            "display": null,
            "flex": null,
            "flex_flow": null,
            "grid_area": null,
            "grid_auto_columns": null,
            "grid_auto_flow": null,
            "grid_auto_rows": null,
            "grid_column": null,
            "grid_gap": null,
            "grid_row": null,
            "grid_template_areas": null,
            "grid_template_columns": null,
            "grid_template_rows": null,
            "height": null,
            "justify_content": null,
            "justify_items": null,
            "left": null,
            "margin": null,
            "max_height": null,
            "max_width": null,
            "min_height": null,
            "min_width": null,
            "object_fit": null,
            "object_position": null,
            "order": null,
            "overflow": null,
            "overflow_x": null,
            "overflow_y": null,
            "padding": null,
            "right": null,
            "top": null,
            "visibility": null,
            "width": null
          }
        },
        "d1be5efc9a1a4ea491542f7cc0c18da5": {
          "model_module": "@jupyter-widgets/base",
          "model_name": "LayoutModel",
          "model_module_version": "1.2.0",
          "state": {
            "_model_module": "@jupyter-widgets/base",
            "_model_module_version": "1.2.0",
            "_model_name": "LayoutModel",
            "_view_count": null,
            "_view_module": "@jupyter-widgets/base",
            "_view_module_version": "1.2.0",
            "_view_name": "LayoutView",
            "align_content": null,
            "align_items": null,
            "align_self": null,
            "border": null,
            "bottom": null,
            "display": null,
            "flex": null,
            "flex_flow": null,
            "grid_area": null,
            "grid_auto_columns": null,
            "grid_auto_flow": null,
            "grid_auto_rows": null,
            "grid_column": null,
            "grid_gap": null,
            "grid_row": null,
            "grid_template_areas": null,
            "grid_template_columns": null,
            "grid_template_rows": null,
            "height": null,
            "justify_content": null,
            "justify_items": null,
            "left": null,
            "margin": null,
            "max_height": null,
            "max_width": null,
            "min_height": null,
            "min_width": null,
            "object_fit": null,
            "object_position": null,
            "order": null,
            "overflow": null,
            "overflow_x": null,
            "overflow_y": null,
            "padding": null,
            "right": null,
            "top": null,
            "visibility": null,
            "width": null
          }
        },
        "7787c2a29e91456d89ceed66af22aab5": {
          "model_module": "@jupyter-widgets/controls",
          "model_name": "DescriptionStyleModel",
          "model_module_version": "1.5.0",
          "state": {
            "_model_module": "@jupyter-widgets/controls",
            "_model_module_version": "1.5.0",
            "_model_name": "DescriptionStyleModel",
            "_view_count": null,
            "_view_module": "@jupyter-widgets/base",
            "_view_module_version": "1.2.0",
            "_view_name": "StyleView",
            "description_width": ""
          }
        },
        "a24787eb7ae34fdaaa86d2a4f1c89bdc": {
          "model_module": "@jupyter-widgets/base",
          "model_name": "LayoutModel",
          "model_module_version": "1.2.0",
          "state": {
            "_model_module": "@jupyter-widgets/base",
            "_model_module_version": "1.2.0",
            "_model_name": "LayoutModel",
            "_view_count": null,
            "_view_module": "@jupyter-widgets/base",
            "_view_module_version": "1.2.0",
            "_view_name": "LayoutView",
            "align_content": null,
            "align_items": null,
            "align_self": null,
            "border": null,
            "bottom": null,
            "display": null,
            "flex": null,
            "flex_flow": null,
            "grid_area": null,
            "grid_auto_columns": null,
            "grid_auto_flow": null,
            "grid_auto_rows": null,
            "grid_column": null,
            "grid_gap": null,
            "grid_row": null,
            "grid_template_areas": null,
            "grid_template_columns": null,
            "grid_template_rows": null,
            "height": null,
            "justify_content": null,
            "justify_items": null,
            "left": null,
            "margin": null,
            "max_height": null,
            "max_width": null,
            "min_height": null,
            "min_width": null,
            "object_fit": null,
            "object_position": null,
            "order": null,
            "overflow": null,
            "overflow_x": null,
            "overflow_y": null,
            "padding": null,
            "right": null,
            "top": null,
            "visibility": null,
            "width": null
          }
        },
        "3200d8415e2547f98deed6d628114fc6": {
          "model_module": "@jupyter-widgets/controls",
          "model_name": "ProgressStyleModel",
          "model_module_version": "1.5.0",
          "state": {
            "_model_module": "@jupyter-widgets/controls",
            "_model_module_version": "1.5.0",
            "_model_name": "ProgressStyleModel",
            "_view_count": null,
            "_view_module": "@jupyter-widgets/base",
            "_view_module_version": "1.2.0",
            "_view_name": "StyleView",
            "bar_color": null,
            "description_width": ""
          }
        },
        "8e2c3a4f451b4f95a1531ee28e972000": {
          "model_module": "@jupyter-widgets/base",
          "model_name": "LayoutModel",
          "model_module_version": "1.2.0",
          "state": {
            "_model_module": "@jupyter-widgets/base",
            "_model_module_version": "1.2.0",
            "_model_name": "LayoutModel",
            "_view_count": null,
            "_view_module": "@jupyter-widgets/base",
            "_view_module_version": "1.2.0",
            "_view_name": "LayoutView",
            "align_content": null,
            "align_items": null,
            "align_self": null,
            "border": null,
            "bottom": null,
            "display": null,
            "flex": null,
            "flex_flow": null,
            "grid_area": null,
            "grid_auto_columns": null,
            "grid_auto_flow": null,
            "grid_auto_rows": null,
            "grid_column": null,
            "grid_gap": null,
            "grid_row": null,
            "grid_template_areas": null,
            "grid_template_columns": null,
            "grid_template_rows": null,
            "height": null,
            "justify_content": null,
            "justify_items": null,
            "left": null,
            "margin": null,
            "max_height": null,
            "max_width": null,
            "min_height": null,
            "min_width": null,
            "object_fit": null,
            "object_position": null,
            "order": null,
            "overflow": null,
            "overflow_x": null,
            "overflow_y": null,
            "padding": null,
            "right": null,
            "top": null,
            "visibility": null,
            "width": null
          }
        },
        "aa70fd24ac52438d808cd6a8a8382907": {
          "model_module": "@jupyter-widgets/controls",
          "model_name": "DescriptionStyleModel",
          "model_module_version": "1.5.0",
          "state": {
            "_model_module": "@jupyter-widgets/controls",
            "_model_module_version": "1.5.0",
            "_model_name": "DescriptionStyleModel",
            "_view_count": null,
            "_view_module": "@jupyter-widgets/base",
            "_view_module_version": "1.2.0",
            "_view_name": "StyleView",
            "description_width": ""
          }
        },
        "0c274cb28cd94c77bba2c5470124174c": {
          "model_module": "@jupyter-widgets/controls",
          "model_name": "HBoxModel",
          "model_module_version": "1.5.0",
          "state": {
            "_dom_classes": [],
            "_model_module": "@jupyter-widgets/controls",
            "_model_module_version": "1.5.0",
            "_model_name": "HBoxModel",
            "_view_count": null,
            "_view_module": "@jupyter-widgets/controls",
            "_view_module_version": "1.5.0",
            "_view_name": "HBoxView",
            "box_style": "",
            "children": [
              "IPY_MODEL_72a1df1032ac42b6bd05ac3459ff5118",
              "IPY_MODEL_136d16d031374f488da001b66f81f33d",
              "IPY_MODEL_5b082da7fdfa4cef9a56a967a88a8e1b"
            ],
            "layout": "IPY_MODEL_f077e62b8f4941c6b728d995d3ebe117"
          }
        },
        "72a1df1032ac42b6bd05ac3459ff5118": {
          "model_module": "@jupyter-widgets/controls",
          "model_name": "HTMLModel",
          "model_module_version": "1.5.0",
          "state": {
            "_dom_classes": [],
            "_model_module": "@jupyter-widgets/controls",
            "_model_module_version": "1.5.0",
            "_model_name": "HTMLModel",
            "_view_count": null,
            "_view_module": "@jupyter-widgets/controls",
            "_view_module_version": "1.5.0",
            "_view_name": "HTMLView",
            "description": "",
            "description_tooltip": null,
            "layout": "IPY_MODEL_6aa384d018284857a45e098f9c2edc55",
            "placeholder": "​",
            "style": "IPY_MODEL_ee40e6782f834c92bea94a1f8f175608",
            "value": "vocab.txt: 100%"
          }
        },
        "136d16d031374f488da001b66f81f33d": {
          "model_module": "@jupyter-widgets/controls",
          "model_name": "FloatProgressModel",
          "model_module_version": "1.5.0",
          "state": {
            "_dom_classes": [],
            "_model_module": "@jupyter-widgets/controls",
            "_model_module_version": "1.5.0",
            "_model_name": "FloatProgressModel",
            "_view_count": null,
            "_view_module": "@jupyter-widgets/controls",
            "_view_module_version": "1.5.0",
            "_view_name": "ProgressView",
            "bar_style": "success",
            "description": "",
            "description_tooltip": null,
            "layout": "IPY_MODEL_ecc5a834e27a454680fcbbad6d4244bd",
            "max": 231508,
            "min": 0,
            "orientation": "horizontal",
            "style": "IPY_MODEL_db2ddbdab5164890b3a8a86a68b19d73",
            "value": 231508
          }
        },
        "5b082da7fdfa4cef9a56a967a88a8e1b": {
          "model_module": "@jupyter-widgets/controls",
          "model_name": "HTMLModel",
          "model_module_version": "1.5.0",
          "state": {
            "_dom_classes": [],
            "_model_module": "@jupyter-widgets/controls",
            "_model_module_version": "1.5.0",
            "_model_name": "HTMLModel",
            "_view_count": null,
            "_view_module": "@jupyter-widgets/controls",
            "_view_module_version": "1.5.0",
            "_view_name": "HTMLView",
            "description": "",
            "description_tooltip": null,
            "layout": "IPY_MODEL_37c6ec1dfd3f4ba784fda4c500272005",
            "placeholder": "​",
            "style": "IPY_MODEL_fa3483cf5d5f4c4fb945a99c447037b6",
            "value": " 232k/232k [00:00&lt;00:00, 4.32MB/s]"
          }
        },
        "f077e62b8f4941c6b728d995d3ebe117": {
          "model_module": "@jupyter-widgets/base",
          "model_name": "LayoutModel",
          "model_module_version": "1.2.0",
          "state": {
            "_model_module": "@jupyter-widgets/base",
            "_model_module_version": "1.2.0",
            "_model_name": "LayoutModel",
            "_view_count": null,
            "_view_module": "@jupyter-widgets/base",
            "_view_module_version": "1.2.0",
            "_view_name": "LayoutView",
            "align_content": null,
            "align_items": null,
            "align_self": null,
            "border": null,
            "bottom": null,
            "display": null,
            "flex": null,
            "flex_flow": null,
            "grid_area": null,
            "grid_auto_columns": null,
            "grid_auto_flow": null,
            "grid_auto_rows": null,
            "grid_column": null,
            "grid_gap": null,
            "grid_row": null,
            "grid_template_areas": null,
            "grid_template_columns": null,
            "grid_template_rows": null,
            "height": null,
            "justify_content": null,
            "justify_items": null,
            "left": null,
            "margin": null,
            "max_height": null,
            "max_width": null,
            "min_height": null,
            "min_width": null,
            "object_fit": null,
            "object_position": null,
            "order": null,
            "overflow": null,
            "overflow_x": null,
            "overflow_y": null,
            "padding": null,
            "right": null,
            "top": null,
            "visibility": null,
            "width": null
          }
        },
        "6aa384d018284857a45e098f9c2edc55": {
          "model_module": "@jupyter-widgets/base",
          "model_name": "LayoutModel",
          "model_module_version": "1.2.0",
          "state": {
            "_model_module": "@jupyter-widgets/base",
            "_model_module_version": "1.2.0",
            "_model_name": "LayoutModel",
            "_view_count": null,
            "_view_module": "@jupyter-widgets/base",
            "_view_module_version": "1.2.0",
            "_view_name": "LayoutView",
            "align_content": null,
            "align_items": null,
            "align_self": null,
            "border": null,
            "bottom": null,
            "display": null,
            "flex": null,
            "flex_flow": null,
            "grid_area": null,
            "grid_auto_columns": null,
            "grid_auto_flow": null,
            "grid_auto_rows": null,
            "grid_column": null,
            "grid_gap": null,
            "grid_row": null,
            "grid_template_areas": null,
            "grid_template_columns": null,
            "grid_template_rows": null,
            "height": null,
            "justify_content": null,
            "justify_items": null,
            "left": null,
            "margin": null,
            "max_height": null,
            "max_width": null,
            "min_height": null,
            "min_width": null,
            "object_fit": null,
            "object_position": null,
            "order": null,
            "overflow": null,
            "overflow_x": null,
            "overflow_y": null,
            "padding": null,
            "right": null,
            "top": null,
            "visibility": null,
            "width": null
          }
        },
        "ee40e6782f834c92bea94a1f8f175608": {
          "model_module": "@jupyter-widgets/controls",
          "model_name": "DescriptionStyleModel",
          "model_module_version": "1.5.0",
          "state": {
            "_model_module": "@jupyter-widgets/controls",
            "_model_module_version": "1.5.0",
            "_model_name": "DescriptionStyleModel",
            "_view_count": null,
            "_view_module": "@jupyter-widgets/base",
            "_view_module_version": "1.2.0",
            "_view_name": "StyleView",
            "description_width": ""
          }
        },
        "ecc5a834e27a454680fcbbad6d4244bd": {
          "model_module": "@jupyter-widgets/base",
          "model_name": "LayoutModel",
          "model_module_version": "1.2.0",
          "state": {
            "_model_module": "@jupyter-widgets/base",
            "_model_module_version": "1.2.0",
            "_model_name": "LayoutModel",
            "_view_count": null,
            "_view_module": "@jupyter-widgets/base",
            "_view_module_version": "1.2.0",
            "_view_name": "LayoutView",
            "align_content": null,
            "align_items": null,
            "align_self": null,
            "border": null,
            "bottom": null,
            "display": null,
            "flex": null,
            "flex_flow": null,
            "grid_area": null,
            "grid_auto_columns": null,
            "grid_auto_flow": null,
            "grid_auto_rows": null,
            "grid_column": null,
            "grid_gap": null,
            "grid_row": null,
            "grid_template_areas": null,
            "grid_template_columns": null,
            "grid_template_rows": null,
            "height": null,
            "justify_content": null,
            "justify_items": null,
            "left": null,
            "margin": null,
            "max_height": null,
            "max_width": null,
            "min_height": null,
            "min_width": null,
            "object_fit": null,
            "object_position": null,
            "order": null,
            "overflow": null,
            "overflow_x": null,
            "overflow_y": null,
            "padding": null,
            "right": null,
            "top": null,
            "visibility": null,
            "width": null
          }
        },
        "db2ddbdab5164890b3a8a86a68b19d73": {
          "model_module": "@jupyter-widgets/controls",
          "model_name": "ProgressStyleModel",
          "model_module_version": "1.5.0",
          "state": {
            "_model_module": "@jupyter-widgets/controls",
            "_model_module_version": "1.5.0",
            "_model_name": "ProgressStyleModel",
            "_view_count": null,
            "_view_module": "@jupyter-widgets/base",
            "_view_module_version": "1.2.0",
            "_view_name": "StyleView",
            "bar_color": null,
            "description_width": ""
          }
        },
        "37c6ec1dfd3f4ba784fda4c500272005": {
          "model_module": "@jupyter-widgets/base",
          "model_name": "LayoutModel",
          "model_module_version": "1.2.0",
          "state": {
            "_model_module": "@jupyter-widgets/base",
            "_model_module_version": "1.2.0",
            "_model_name": "LayoutModel",
            "_view_count": null,
            "_view_module": "@jupyter-widgets/base",
            "_view_module_version": "1.2.0",
            "_view_name": "LayoutView",
            "align_content": null,
            "align_items": null,
            "align_self": null,
            "border": null,
            "bottom": null,
            "display": null,
            "flex": null,
            "flex_flow": null,
            "grid_area": null,
            "grid_auto_columns": null,
            "grid_auto_flow": null,
            "grid_auto_rows": null,
            "grid_column": null,
            "grid_gap": null,
            "grid_row": null,
            "grid_template_areas": null,
            "grid_template_columns": null,
            "grid_template_rows": null,
            "height": null,
            "justify_content": null,
            "justify_items": null,
            "left": null,
            "margin": null,
            "max_height": null,
            "max_width": null,
            "min_height": null,
            "min_width": null,
            "object_fit": null,
            "object_position": null,
            "order": null,
            "overflow": null,
            "overflow_x": null,
            "overflow_y": null,
            "padding": null,
            "right": null,
            "top": null,
            "visibility": null,
            "width": null
          }
        },
        "fa3483cf5d5f4c4fb945a99c447037b6": {
          "model_module": "@jupyter-widgets/controls",
          "model_name": "DescriptionStyleModel",
          "model_module_version": "1.5.0",
          "state": {
            "_model_module": "@jupyter-widgets/controls",
            "_model_module_version": "1.5.0",
            "_model_name": "DescriptionStyleModel",
            "_view_count": null,
            "_view_module": "@jupyter-widgets/base",
            "_view_module_version": "1.2.0",
            "_view_name": "StyleView",
            "description_width": ""
          }
        },
        "319f7d6c84684c0bbb63a579b49d3512": {
          "model_module": "@jupyter-widgets/controls",
          "model_name": "HBoxModel",
          "model_module_version": "1.5.0",
          "state": {
            "_dom_classes": [],
            "_model_module": "@jupyter-widgets/controls",
            "_model_module_version": "1.5.0",
            "_model_name": "HBoxModel",
            "_view_count": null,
            "_view_module": "@jupyter-widgets/controls",
            "_view_module_version": "1.5.0",
            "_view_name": "HBoxView",
            "box_style": "",
            "children": [
              "IPY_MODEL_9118c69346e64074af2793f6b41983ee",
              "IPY_MODEL_5fbc12e2666e4e42811c6739524c297d",
              "IPY_MODEL_28c54c0a322144d593671798a4005a62"
            ],
            "layout": "IPY_MODEL_01372482efa743b1a04924b460446be5"
          }
        },
        "9118c69346e64074af2793f6b41983ee": {
          "model_module": "@jupyter-widgets/controls",
          "model_name": "HTMLModel",
          "model_module_version": "1.5.0",
          "state": {
            "_dom_classes": [],
            "_model_module": "@jupyter-widgets/controls",
            "_model_module_version": "1.5.0",
            "_model_name": "HTMLModel",
            "_view_count": null,
            "_view_module": "@jupyter-widgets/controls",
            "_view_module_version": "1.5.0",
            "_view_name": "HTMLView",
            "description": "",
            "description_tooltip": null,
            "layout": "IPY_MODEL_23409b3050ca45ff80a729cecd4dbbed",
            "placeholder": "​",
            "style": "IPY_MODEL_324510073e8241d484932a96cb399679",
            "value": "tokenizer.json: 100%"
          }
        },
        "5fbc12e2666e4e42811c6739524c297d": {
          "model_module": "@jupyter-widgets/controls",
          "model_name": "FloatProgressModel",
          "model_module_version": "1.5.0",
          "state": {
            "_dom_classes": [],
            "_model_module": "@jupyter-widgets/controls",
            "_model_module_version": "1.5.0",
            "_model_name": "FloatProgressModel",
            "_view_count": null,
            "_view_module": "@jupyter-widgets/controls",
            "_view_module_version": "1.5.0",
            "_view_name": "ProgressView",
            "bar_style": "success",
            "description": "",
            "description_tooltip": null,
            "layout": "IPY_MODEL_1320ac551180414698e1d908b1f9a9b4",
            "max": 466247,
            "min": 0,
            "orientation": "horizontal",
            "style": "IPY_MODEL_5b3ddb21945244e88e7657dcde7a59eb",
            "value": 466247
          }
        },
        "28c54c0a322144d593671798a4005a62": {
          "model_module": "@jupyter-widgets/controls",
          "model_name": "HTMLModel",
          "model_module_version": "1.5.0",
          "state": {
            "_dom_classes": [],
            "_model_module": "@jupyter-widgets/controls",
            "_model_module_version": "1.5.0",
            "_model_name": "HTMLModel",
            "_view_count": null,
            "_view_module": "@jupyter-widgets/controls",
            "_view_module_version": "1.5.0",
            "_view_name": "HTMLView",
            "description": "",
            "description_tooltip": null,
            "layout": "IPY_MODEL_6c2e8a38b0ce4f959686b00658d3732c",
            "placeholder": "​",
            "style": "IPY_MODEL_272e69d31e6642f1b009d586221e501c",
            "value": " 466k/466k [00:00&lt;00:00, 18.1MB/s]"
          }
        },
        "01372482efa743b1a04924b460446be5": {
          "model_module": "@jupyter-widgets/base",
          "model_name": "LayoutModel",
          "model_module_version": "1.2.0",
          "state": {
            "_model_module": "@jupyter-widgets/base",
            "_model_module_version": "1.2.0",
            "_model_name": "LayoutModel",
            "_view_count": null,
            "_view_module": "@jupyter-widgets/base",
            "_view_module_version": "1.2.0",
            "_view_name": "LayoutView",
            "align_content": null,
            "align_items": null,
            "align_self": null,
            "border": null,
            "bottom": null,
            "display": null,
            "flex": null,
            "flex_flow": null,
            "grid_area": null,
            "grid_auto_columns": null,
            "grid_auto_flow": null,
            "grid_auto_rows": null,
            "grid_column": null,
            "grid_gap": null,
            "grid_row": null,
            "grid_template_areas": null,
            "grid_template_columns": null,
            "grid_template_rows": null,
            "height": null,
            "justify_content": null,
            "justify_items": null,
            "left": null,
            "margin": null,
            "max_height": null,
            "max_width": null,
            "min_height": null,
            "min_width": null,
            "object_fit": null,
            "object_position": null,
            "order": null,
            "overflow": null,
            "overflow_x": null,
            "overflow_y": null,
            "padding": null,
            "right": null,
            "top": null,
            "visibility": null,
            "width": null
          }
        },
        "23409b3050ca45ff80a729cecd4dbbed": {
          "model_module": "@jupyter-widgets/base",
          "model_name": "LayoutModel",
          "model_module_version": "1.2.0",
          "state": {
            "_model_module": "@jupyter-widgets/base",
            "_model_module_version": "1.2.0",
            "_model_name": "LayoutModel",
            "_view_count": null,
            "_view_module": "@jupyter-widgets/base",
            "_view_module_version": "1.2.0",
            "_view_name": "LayoutView",
            "align_content": null,
            "align_items": null,
            "align_self": null,
            "border": null,
            "bottom": null,
            "display": null,
            "flex": null,
            "flex_flow": null,
            "grid_area": null,
            "grid_auto_columns": null,
            "grid_auto_flow": null,
            "grid_auto_rows": null,
            "grid_column": null,
            "grid_gap": null,
            "grid_row": null,
            "grid_template_areas": null,
            "grid_template_columns": null,
            "grid_template_rows": null,
            "height": null,
            "justify_content": null,
            "justify_items": null,
            "left": null,
            "margin": null,
            "max_height": null,
            "max_width": null,
            "min_height": null,
            "min_width": null,
            "object_fit": null,
            "object_position": null,
            "order": null,
            "overflow": null,
            "overflow_x": null,
            "overflow_y": null,
            "padding": null,
            "right": null,
            "top": null,
            "visibility": null,
            "width": null
          }
        },
        "324510073e8241d484932a96cb399679": {
          "model_module": "@jupyter-widgets/controls",
          "model_name": "DescriptionStyleModel",
          "model_module_version": "1.5.0",
          "state": {
            "_model_module": "@jupyter-widgets/controls",
            "_model_module_version": "1.5.0",
            "_model_name": "DescriptionStyleModel",
            "_view_count": null,
            "_view_module": "@jupyter-widgets/base",
            "_view_module_version": "1.2.0",
            "_view_name": "StyleView",
            "description_width": ""
          }
        },
        "1320ac551180414698e1d908b1f9a9b4": {
          "model_module": "@jupyter-widgets/base",
          "model_name": "LayoutModel",
          "model_module_version": "1.2.0",
          "state": {
            "_model_module": "@jupyter-widgets/base",
            "_model_module_version": "1.2.0",
            "_model_name": "LayoutModel",
            "_view_count": null,
            "_view_module": "@jupyter-widgets/base",
            "_view_module_version": "1.2.0",
            "_view_name": "LayoutView",
            "align_content": null,
            "align_items": null,
            "align_self": null,
            "border": null,
            "bottom": null,
            "display": null,
            "flex": null,
            "flex_flow": null,
            "grid_area": null,
            "grid_auto_columns": null,
            "grid_auto_flow": null,
            "grid_auto_rows": null,
            "grid_column": null,
            "grid_gap": null,
            "grid_row": null,
            "grid_template_areas": null,
            "grid_template_columns": null,
            "grid_template_rows": null,
            "height": null,
            "justify_content": null,
            "justify_items": null,
            "left": null,
            "margin": null,
            "max_height": null,
            "max_width": null,
            "min_height": null,
            "min_width": null,
            "object_fit": null,
            "object_position": null,
            "order": null,
            "overflow": null,
            "overflow_x": null,
            "overflow_y": null,
            "padding": null,
            "right": null,
            "top": null,
            "visibility": null,
            "width": null
          }
        },
        "5b3ddb21945244e88e7657dcde7a59eb": {
          "model_module": "@jupyter-widgets/controls",
          "model_name": "ProgressStyleModel",
          "model_module_version": "1.5.0",
          "state": {
            "_model_module": "@jupyter-widgets/controls",
            "_model_module_version": "1.5.0",
            "_model_name": "ProgressStyleModel",
            "_view_count": null,
            "_view_module": "@jupyter-widgets/base",
            "_view_module_version": "1.2.0",
            "_view_name": "StyleView",
            "bar_color": null,
            "description_width": ""
          }
        },
        "6c2e8a38b0ce4f959686b00658d3732c": {
          "model_module": "@jupyter-widgets/base",
          "model_name": "LayoutModel",
          "model_module_version": "1.2.0",
          "state": {
            "_model_module": "@jupyter-widgets/base",
            "_model_module_version": "1.2.0",
            "_model_name": "LayoutModel",
            "_view_count": null,
            "_view_module": "@jupyter-widgets/base",
            "_view_module_version": "1.2.0",
            "_view_name": "LayoutView",
            "align_content": null,
            "align_items": null,
            "align_self": null,
            "border": null,
            "bottom": null,
            "display": null,
            "flex": null,
            "flex_flow": null,
            "grid_area": null,
            "grid_auto_columns": null,
            "grid_auto_flow": null,
            "grid_auto_rows": null,
            "grid_column": null,
            "grid_gap": null,
            "grid_row": null,
            "grid_template_areas": null,
            "grid_template_columns": null,
            "grid_template_rows": null,
            "height": null,
            "justify_content": null,
            "justify_items": null,
            "left": null,
            "margin": null,
            "max_height": null,
            "max_width": null,
            "min_height": null,
            "min_width": null,
            "object_fit": null,
            "object_position": null,
            "order": null,
            "overflow": null,
            "overflow_x": null,
            "overflow_y": null,
            "padding": null,
            "right": null,
            "top": null,
            "visibility": null,
            "width": null
          }
        },
        "272e69d31e6642f1b009d586221e501c": {
          "model_module": "@jupyter-widgets/controls",
          "model_name": "DescriptionStyleModel",
          "model_module_version": "1.5.0",
          "state": {
            "_model_module": "@jupyter-widgets/controls",
            "_model_module_version": "1.5.0",
            "_model_name": "DescriptionStyleModel",
            "_view_count": null,
            "_view_module": "@jupyter-widgets/base",
            "_view_module_version": "1.2.0",
            "_view_name": "StyleView",
            "description_width": ""
          }
        },
        "a0b549e05a484a6a92585bd875bd2492": {
          "model_module": "@jupyter-widgets/controls",
          "model_name": "HBoxModel",
          "model_module_version": "1.5.0",
          "state": {
            "_dom_classes": [],
            "_model_module": "@jupyter-widgets/controls",
            "_model_module_version": "1.5.0",
            "_model_name": "HBoxModel",
            "_view_count": null,
            "_view_module": "@jupyter-widgets/controls",
            "_view_module_version": "1.5.0",
            "_view_name": "HBoxView",
            "box_style": "",
            "children": [
              "IPY_MODEL_5758a8daf5e54e0ebbbf616274e7a7c6",
              "IPY_MODEL_eb2079c9d5d54b0198217a2559a4a0b3",
              "IPY_MODEL_d3fa5de8abf74e80b26d3c99ef417fa4"
            ],
            "layout": "IPY_MODEL_9e7dbf7b80f24329abda971cc1a4fb89"
          }
        },
        "5758a8daf5e54e0ebbbf616274e7a7c6": {
          "model_module": "@jupyter-widgets/controls",
          "model_name": "HTMLModel",
          "model_module_version": "1.5.0",
          "state": {
            "_dom_classes": [],
            "_model_module": "@jupyter-widgets/controls",
            "_model_module_version": "1.5.0",
            "_model_name": "HTMLModel",
            "_view_count": null,
            "_view_module": "@jupyter-widgets/controls",
            "_view_module_version": "1.5.0",
            "_view_name": "HTMLView",
            "description": "",
            "description_tooltip": null,
            "layout": "IPY_MODEL_3816cc5998e84bc3bf9b2a27cf008227",
            "placeholder": "​",
            "style": "IPY_MODEL_89661ba5e5a64adda0a0609f22d10dcf",
            "value": "special_tokens_map.json: 100%"
          }
        },
        "eb2079c9d5d54b0198217a2559a4a0b3": {
          "model_module": "@jupyter-widgets/controls",
          "model_name": "FloatProgressModel",
          "model_module_version": "1.5.0",
          "state": {
            "_dom_classes": [],
            "_model_module": "@jupyter-widgets/controls",
            "_model_module_version": "1.5.0",
            "_model_name": "FloatProgressModel",
            "_view_count": null,
            "_view_module": "@jupyter-widgets/controls",
            "_view_module_version": "1.5.0",
            "_view_name": "ProgressView",
            "bar_style": "success",
            "description": "",
            "description_tooltip": null,
            "layout": "IPY_MODEL_fe0a73b29aeb4f4da9e91429b82de4a4",
            "max": 112,
            "min": 0,
            "orientation": "horizontal",
            "style": "IPY_MODEL_6cbce3fe6df4466f9e803a727dc4b96a",
            "value": 112
          }
        },
        "d3fa5de8abf74e80b26d3c99ef417fa4": {
          "model_module": "@jupyter-widgets/controls",
          "model_name": "HTMLModel",
          "model_module_version": "1.5.0",
          "state": {
            "_dom_classes": [],
            "_model_module": "@jupyter-widgets/controls",
            "_model_module_version": "1.5.0",
            "_model_name": "HTMLModel",
            "_view_count": null,
            "_view_module": "@jupyter-widgets/controls",
            "_view_module_version": "1.5.0",
            "_view_name": "HTMLView",
            "description": "",
            "description_tooltip": null,
            "layout": "IPY_MODEL_5c066da322864615ac0ede2cfd42ba56",
            "placeholder": "​",
            "style": "IPY_MODEL_584ed43ff2364025982f582d99ba2212",
            "value": " 112/112 [00:00&lt;00:00, 8.05kB/s]"
          }
        },
        "9e7dbf7b80f24329abda971cc1a4fb89": {
          "model_module": "@jupyter-widgets/base",
          "model_name": "LayoutModel",
          "model_module_version": "1.2.0",
          "state": {
            "_model_module": "@jupyter-widgets/base",
            "_model_module_version": "1.2.0",
            "_model_name": "LayoutModel",
            "_view_count": null,
            "_view_module": "@jupyter-widgets/base",
            "_view_module_version": "1.2.0",
            "_view_name": "LayoutView",
            "align_content": null,
            "align_items": null,
            "align_self": null,
            "border": null,
            "bottom": null,
            "display": null,
            "flex": null,
            "flex_flow": null,
            "grid_area": null,
            "grid_auto_columns": null,
            "grid_auto_flow": null,
            "grid_auto_rows": null,
            "grid_column": null,
            "grid_gap": null,
            "grid_row": null,
            "grid_template_areas": null,
            "grid_template_columns": null,
            "grid_template_rows": null,
            "height": null,
            "justify_content": null,
            "justify_items": null,
            "left": null,
            "margin": null,
            "max_height": null,
            "max_width": null,
            "min_height": null,
            "min_width": null,
            "object_fit": null,
            "object_position": null,
            "order": null,
            "overflow": null,
            "overflow_x": null,
            "overflow_y": null,
            "padding": null,
            "right": null,
            "top": null,
            "visibility": null,
            "width": null
          }
        },
        "3816cc5998e84bc3bf9b2a27cf008227": {
          "model_module": "@jupyter-widgets/base",
          "model_name": "LayoutModel",
          "model_module_version": "1.2.0",
          "state": {
            "_model_module": "@jupyter-widgets/base",
            "_model_module_version": "1.2.0",
            "_model_name": "LayoutModel",
            "_view_count": null,
            "_view_module": "@jupyter-widgets/base",
            "_view_module_version": "1.2.0",
            "_view_name": "LayoutView",
            "align_content": null,
            "align_items": null,
            "align_self": null,
            "border": null,
            "bottom": null,
            "display": null,
            "flex": null,
            "flex_flow": null,
            "grid_area": null,
            "grid_auto_columns": null,
            "grid_auto_flow": null,
            "grid_auto_rows": null,
            "grid_column": null,
            "grid_gap": null,
            "grid_row": null,
            "grid_template_areas": null,
            "grid_template_columns": null,
            "grid_template_rows": null,
            "height": null,
            "justify_content": null,
            "justify_items": null,
            "left": null,
            "margin": null,
            "max_height": null,
            "max_width": null,
            "min_height": null,
            "min_width": null,
            "object_fit": null,
            "object_position": null,
            "order": null,
            "overflow": null,
            "overflow_x": null,
            "overflow_y": null,
            "padding": null,
            "right": null,
            "top": null,
            "visibility": null,
            "width": null
          }
        },
        "89661ba5e5a64adda0a0609f22d10dcf": {
          "model_module": "@jupyter-widgets/controls",
          "model_name": "DescriptionStyleModel",
          "model_module_version": "1.5.0",
          "state": {
            "_model_module": "@jupyter-widgets/controls",
            "_model_module_version": "1.5.0",
            "_model_name": "DescriptionStyleModel",
            "_view_count": null,
            "_view_module": "@jupyter-widgets/base",
            "_view_module_version": "1.2.0",
            "_view_name": "StyleView",
            "description_width": ""
          }
        },
        "fe0a73b29aeb4f4da9e91429b82de4a4": {
          "model_module": "@jupyter-widgets/base",
          "model_name": "LayoutModel",
          "model_module_version": "1.2.0",
          "state": {
            "_model_module": "@jupyter-widgets/base",
            "_model_module_version": "1.2.0",
            "_model_name": "LayoutModel",
            "_view_count": null,
            "_view_module": "@jupyter-widgets/base",
            "_view_module_version": "1.2.0",
            "_view_name": "LayoutView",
            "align_content": null,
            "align_items": null,
            "align_self": null,
            "border": null,
            "bottom": null,
            "display": null,
            "flex": null,
            "flex_flow": null,
            "grid_area": null,
            "grid_auto_columns": null,
            "grid_auto_flow": null,
            "grid_auto_rows": null,
            "grid_column": null,
            "grid_gap": null,
            "grid_row": null,
            "grid_template_areas": null,
            "grid_template_columns": null,
            "grid_template_rows": null,
            "height": null,
            "justify_content": null,
            "justify_items": null,
            "left": null,
            "margin": null,
            "max_height": null,
            "max_width": null,
            "min_height": null,
            "min_width": null,
            "object_fit": null,
            "object_position": null,
            "order": null,
            "overflow": null,
            "overflow_x": null,
            "overflow_y": null,
            "padding": null,
            "right": null,
            "top": null,
            "visibility": null,
            "width": null
          }
        },
        "6cbce3fe6df4466f9e803a727dc4b96a": {
          "model_module": "@jupyter-widgets/controls",
          "model_name": "ProgressStyleModel",
          "model_module_version": "1.5.0",
          "state": {
            "_model_module": "@jupyter-widgets/controls",
            "_model_module_version": "1.5.0",
            "_model_name": "ProgressStyleModel",
            "_view_count": null,
            "_view_module": "@jupyter-widgets/base",
            "_view_module_version": "1.2.0",
            "_view_name": "StyleView",
            "bar_color": null,
            "description_width": ""
          }
        },
        "5c066da322864615ac0ede2cfd42ba56": {
          "model_module": "@jupyter-widgets/base",
          "model_name": "LayoutModel",
          "model_module_version": "1.2.0",
          "state": {
            "_model_module": "@jupyter-widgets/base",
            "_model_module_version": "1.2.0",
            "_model_name": "LayoutModel",
            "_view_count": null,
            "_view_module": "@jupyter-widgets/base",
            "_view_module_version": "1.2.0",
            "_view_name": "LayoutView",
            "align_content": null,
            "align_items": null,
            "align_self": null,
            "border": null,
            "bottom": null,
            "display": null,
            "flex": null,
            "flex_flow": null,
            "grid_area": null,
            "grid_auto_columns": null,
            "grid_auto_flow": null,
            "grid_auto_rows": null,
            "grid_column": null,
            "grid_gap": null,
            "grid_row": null,
            "grid_template_areas": null,
            "grid_template_columns": null,
            "grid_template_rows": null,
            "height": null,
            "justify_content": null,
            "justify_items": null,
            "left": null,
            "margin": null,
            "max_height": null,
            "max_width": null,
            "min_height": null,
            "min_width": null,
            "object_fit": null,
            "object_position": null,
            "order": null,
            "overflow": null,
            "overflow_x": null,
            "overflow_y": null,
            "padding": null,
            "right": null,
            "top": null,
            "visibility": null,
            "width": null
          }
        },
        "584ed43ff2364025982f582d99ba2212": {
          "model_module": "@jupyter-widgets/controls",
          "model_name": "DescriptionStyleModel",
          "model_module_version": "1.5.0",
          "state": {
            "_model_module": "@jupyter-widgets/controls",
            "_model_module_version": "1.5.0",
            "_model_name": "DescriptionStyleModel",
            "_view_count": null,
            "_view_module": "@jupyter-widgets/base",
            "_view_module_version": "1.2.0",
            "_view_name": "StyleView",
            "description_width": ""
          }
        },
        "b6b7b41385b34c0cb8c1e4e6f11a05ea": {
          "model_module": "@jupyter-widgets/controls",
          "model_name": "HBoxModel",
          "model_module_version": "1.5.0",
          "state": {
            "_dom_classes": [],
            "_model_module": "@jupyter-widgets/controls",
            "_model_module_version": "1.5.0",
            "_model_name": "HBoxModel",
            "_view_count": null,
            "_view_module": "@jupyter-widgets/controls",
            "_view_module_version": "1.5.0",
            "_view_name": "HBoxView",
            "box_style": "",
            "children": [
              "IPY_MODEL_cd65c80d9ced4187a53ae58263d48e14",
              "IPY_MODEL_43da7a49f88b4e36bc739f3618c3da13",
              "IPY_MODEL_d10b84356d5e425cbbd2e4d1ca69c72f"
            ],
            "layout": "IPY_MODEL_99f922c1cebe466fa9435382b375bacf"
          }
        },
        "cd65c80d9ced4187a53ae58263d48e14": {
          "model_module": "@jupyter-widgets/controls",
          "model_name": "HTMLModel",
          "model_module_version": "1.5.0",
          "state": {
            "_dom_classes": [],
            "_model_module": "@jupyter-widgets/controls",
            "_model_module_version": "1.5.0",
            "_model_name": "HTMLModel",
            "_view_count": null,
            "_view_module": "@jupyter-widgets/controls",
            "_view_module_version": "1.5.0",
            "_view_name": "HTMLView",
            "description": "",
            "description_tooltip": null,
            "layout": "IPY_MODEL_e6c5909624df4c42a2ee16b78f61830f",
            "placeholder": "​",
            "style": "IPY_MODEL_041d1a4257f644e5b060af6b020f41ea",
            "value": "config.json: 100%"
          }
        },
        "43da7a49f88b4e36bc739f3618c3da13": {
          "model_module": "@jupyter-widgets/controls",
          "model_name": "FloatProgressModel",
          "model_module_version": "1.5.0",
          "state": {
            "_dom_classes": [],
            "_model_module": "@jupyter-widgets/controls",
            "_model_module_version": "1.5.0",
            "_model_name": "FloatProgressModel",
            "_view_count": null,
            "_view_module": "@jupyter-widgets/controls",
            "_view_module_version": "1.5.0",
            "_view_name": "ProgressView",
            "bar_style": "success",
            "description": "",
            "description_tooltip": null,
            "layout": "IPY_MODEL_ab7975050776489e94ef06aa79dcd71f",
            "max": 190,
            "min": 0,
            "orientation": "horizontal",
            "style": "IPY_MODEL_3f461c32be9247138a4cb862405f3f9a",
            "value": 190
          }
        },
        "d10b84356d5e425cbbd2e4d1ca69c72f": {
          "model_module": "@jupyter-widgets/controls",
          "model_name": "HTMLModel",
          "model_module_version": "1.5.0",
          "state": {
            "_dom_classes": [],
            "_model_module": "@jupyter-widgets/controls",
            "_model_module_version": "1.5.0",
            "_model_name": "HTMLModel",
            "_view_count": null,
            "_view_module": "@jupyter-widgets/controls",
            "_view_module_version": "1.5.0",
            "_view_name": "HTMLView",
            "description": "",
            "description_tooltip": null,
            "layout": "IPY_MODEL_a3363b98e768409b95d2fb264bdccaef",
            "placeholder": "​",
            "style": "IPY_MODEL_4ce0f36c56654c2d95c3cdaacbb75309",
            "value": " 190/190 [00:00&lt;00:00, 14.6kB/s]"
          }
        },
        "99f922c1cebe466fa9435382b375bacf": {
          "model_module": "@jupyter-widgets/base",
          "model_name": "LayoutModel",
          "model_module_version": "1.2.0",
          "state": {
            "_model_module": "@jupyter-widgets/base",
            "_model_module_version": "1.2.0",
            "_model_name": "LayoutModel",
            "_view_count": null,
            "_view_module": "@jupyter-widgets/base",
            "_view_module_version": "1.2.0",
            "_view_name": "LayoutView",
            "align_content": null,
            "align_items": null,
            "align_self": null,
            "border": null,
            "bottom": null,
            "display": null,
            "flex": null,
            "flex_flow": null,
            "grid_area": null,
            "grid_auto_columns": null,
            "grid_auto_flow": null,
            "grid_auto_rows": null,
            "grid_column": null,
            "grid_gap": null,
            "grid_row": null,
            "grid_template_areas": null,
            "grid_template_columns": null,
            "grid_template_rows": null,
            "height": null,
            "justify_content": null,
            "justify_items": null,
            "left": null,
            "margin": null,
            "max_height": null,
            "max_width": null,
            "min_height": null,
            "min_width": null,
            "object_fit": null,
            "object_position": null,
            "order": null,
            "overflow": null,
            "overflow_x": null,
            "overflow_y": null,
            "padding": null,
            "right": null,
            "top": null,
            "visibility": null,
            "width": null
          }
        },
        "e6c5909624df4c42a2ee16b78f61830f": {
          "model_module": "@jupyter-widgets/base",
          "model_name": "LayoutModel",
          "model_module_version": "1.2.0",
          "state": {
            "_model_module": "@jupyter-widgets/base",
            "_model_module_version": "1.2.0",
            "_model_name": "LayoutModel",
            "_view_count": null,
            "_view_module": "@jupyter-widgets/base",
            "_view_module_version": "1.2.0",
            "_view_name": "LayoutView",
            "align_content": null,
            "align_items": null,
            "align_self": null,
            "border": null,
            "bottom": null,
            "display": null,
            "flex": null,
            "flex_flow": null,
            "grid_area": null,
            "grid_auto_columns": null,
            "grid_auto_flow": null,
            "grid_auto_rows": null,
            "grid_column": null,
            "grid_gap": null,
            "grid_row": null,
            "grid_template_areas": null,
            "grid_template_columns": null,
            "grid_template_rows": null,
            "height": null,
            "justify_content": null,
            "justify_items": null,
            "left": null,
            "margin": null,
            "max_height": null,
            "max_width": null,
            "min_height": null,
            "min_width": null,
            "object_fit": null,
            "object_position": null,
            "order": null,
            "overflow": null,
            "overflow_x": null,
            "overflow_y": null,
            "padding": null,
            "right": null,
            "top": null,
            "visibility": null,
            "width": null
          }
        },
        "041d1a4257f644e5b060af6b020f41ea": {
          "model_module": "@jupyter-widgets/controls",
          "model_name": "DescriptionStyleModel",
          "model_module_version": "1.5.0",
          "state": {
            "_model_module": "@jupyter-widgets/controls",
            "_model_module_version": "1.5.0",
            "_model_name": "DescriptionStyleModel",
            "_view_count": null,
            "_view_module": "@jupyter-widgets/base",
            "_view_module_version": "1.2.0",
            "_view_name": "StyleView",
            "description_width": ""
          }
        },
        "ab7975050776489e94ef06aa79dcd71f": {
          "model_module": "@jupyter-widgets/base",
          "model_name": "LayoutModel",
          "model_module_version": "1.2.0",
          "state": {
            "_model_module": "@jupyter-widgets/base",
            "_model_module_version": "1.2.0",
            "_model_name": "LayoutModel",
            "_view_count": null,
            "_view_module": "@jupyter-widgets/base",
            "_view_module_version": "1.2.0",
            "_view_name": "LayoutView",
            "align_content": null,
            "align_items": null,
            "align_self": null,
            "border": null,
            "bottom": null,
            "display": null,
            "flex": null,
            "flex_flow": null,
            "grid_area": null,
            "grid_auto_columns": null,
            "grid_auto_flow": null,
            "grid_auto_rows": null,
            "grid_column": null,
            "grid_gap": null,
            "grid_row": null,
            "grid_template_areas": null,
            "grid_template_columns": null,
            "grid_template_rows": null,
            "height": null,
            "justify_content": null,
            "justify_items": null,
            "left": null,
            "margin": null,
            "max_height": null,
            "max_width": null,
            "min_height": null,
            "min_width": null,
            "object_fit": null,
            "object_position": null,
            "order": null,
            "overflow": null,
            "overflow_x": null,
            "overflow_y": null,
            "padding": null,
            "right": null,
            "top": null,
            "visibility": null,
            "width": null
          }
        },
        "3f461c32be9247138a4cb862405f3f9a": {
          "model_module": "@jupyter-widgets/controls",
          "model_name": "ProgressStyleModel",
          "model_module_version": "1.5.0",
          "state": {
            "_model_module": "@jupyter-widgets/controls",
            "_model_module_version": "1.5.0",
            "_model_name": "ProgressStyleModel",
            "_view_count": null,
            "_view_module": "@jupyter-widgets/base",
            "_view_module_version": "1.2.0",
            "_view_name": "StyleView",
            "bar_color": null,
            "description_width": ""
          }
        },
        "a3363b98e768409b95d2fb264bdccaef": {
          "model_module": "@jupyter-widgets/base",
          "model_name": "LayoutModel",
          "model_module_version": "1.2.0",
          "state": {
            "_model_module": "@jupyter-widgets/base",
            "_model_module_version": "1.2.0",
            "_model_name": "LayoutModel",
            "_view_count": null,
            "_view_module": "@jupyter-widgets/base",
            "_view_module_version": "1.2.0",
            "_view_name": "LayoutView",
            "align_content": null,
            "align_items": null,
            "align_self": null,
            "border": null,
            "bottom": null,
            "display": null,
            "flex": null,
            "flex_flow": null,
            "grid_area": null,
            "grid_auto_columns": null,
            "grid_auto_flow": null,
            "grid_auto_rows": null,
            "grid_column": null,
            "grid_gap": null,
            "grid_row": null,
            "grid_template_areas": null,
            "grid_template_columns": null,
            "grid_template_rows": null,
            "height": null,
            "justify_content": null,
            "justify_items": null,
            "left": null,
            "margin": null,
            "max_height": null,
            "max_width": null,
            "min_height": null,
            "min_width": null,
            "object_fit": null,
            "object_position": null,
            "order": null,
            "overflow": null,
            "overflow_x": null,
            "overflow_y": null,
            "padding": null,
            "right": null,
            "top": null,
            "visibility": null,
            "width": null
          }
        },
        "4ce0f36c56654c2d95c3cdaacbb75309": {
          "model_module": "@jupyter-widgets/controls",
          "model_name": "DescriptionStyleModel",
          "model_module_version": "1.5.0",
          "state": {
            "_model_module": "@jupyter-widgets/controls",
            "_model_module_version": "1.5.0",
            "_model_name": "DescriptionStyleModel",
            "_view_count": null,
            "_view_module": "@jupyter-widgets/base",
            "_view_module_version": "1.2.0",
            "_view_name": "StyleView",
            "description_width": ""
          }
        }
      }
    }
  },
  "cells": [
    {
      "cell_type": "markdown",
      "metadata": {
        "id": "view-in-github",
        "colab_type": "text"
      },
      "source": [
        "<a href=\"https://colab.research.google.com/github/ajeetth/Multimodal-RAG-for-Drone-Technology/blob/main/RAG_for_Drone_tech.ipynb\" target=\"_parent\"><img src=\"https://colab.research.google.com/assets/colab-badge.svg\" alt=\"Open In Colab\"/></a>"
      ]
    },
    {
      "cell_type": "markdown",
      "source": [
        "# Creating an Index-Based Deep Lake Vector Store for Semantic Search with LlamaIndex and OpenAI\n",
        "\n",
        "Building a Semantic Search Engine with Deep Lake, LlamaIndex, and OpenAI:\n",
        "\n",
        "*   Installing the Environment\n",
        "*   Creating and populating the Vector Store &   dataset\n",
        "*   Getting started with  index-based semantic search\n",
        "\n",
        "\n"
      ],
      "metadata": {
        "id": "c-6GQ_kf-nMw"
      }
    },
    {
      "cell_type": "code",
      "source": [
        "!pip install llama-index-vector-stores-deeplake==0.1.6"
      ],
      "metadata": {
        "id": "EpHaLRTBV9FN",
        "colab": {
          "base_uri": "https://localhost:8080/"
        },
        "outputId": "9a02bdde-fecc-41ae-e6f0-cceedf78bc6a"
      },
      "execution_count": 1,
      "outputs": [
        {
          "output_type": "stream",
          "name": "stdout",
          "text": [
            "Collecting llama-index-vector-stores-deeplake==0.1.6\n",
            "  Downloading llama_index_vector_stores_deeplake-0.1.6-py3-none-any.whl.metadata (709 bytes)\n",
            "Collecting deeplake>=3.9.12 (from llama-index-vector-stores-deeplake==0.1.6)\n",
            "  Downloading deeplake-4.1.18-cp311-cp311-manylinux2014_x86_64.whl.metadata (19 kB)\n",
            "Collecting llama-index-core<0.11.0,>=0.10.1 (from llama-index-vector-stores-deeplake==0.1.6)\n",
            "  Downloading llama_index_core-0.10.68.post1-py3-none-any.whl.metadata (2.5 kB)\n",
            "Requirement already satisfied: numpy in /usr/local/lib/python3.11/dist-packages (from deeplake>=3.9.12->llama-index-vector-stores-deeplake==0.1.6) (2.0.2)\n",
            "Requirement already satisfied: PyYAML>=6.0.1 in /usr/local/lib/python3.11/dist-packages (from llama-index-core<0.11.0,>=0.10.1->llama-index-vector-stores-deeplake==0.1.6) (6.0.2)\n",
            "Requirement already satisfied: SQLAlchemy>=1.4.49 in /usr/local/lib/python3.11/dist-packages (from SQLAlchemy[asyncio]>=1.4.49->llama-index-core<0.11.0,>=0.10.1->llama-index-vector-stores-deeplake==0.1.6) (2.0.40)\n",
            "Requirement already satisfied: aiohttp<4.0.0,>=3.8.6 in /usr/local/lib/python3.11/dist-packages (from llama-index-core<0.11.0,>=0.10.1->llama-index-vector-stores-deeplake==0.1.6) (3.11.15)\n",
            "Collecting dataclasses-json (from llama-index-core<0.11.0,>=0.10.1->llama-index-vector-stores-deeplake==0.1.6)\n",
            "  Downloading dataclasses_json-0.6.7-py3-none-any.whl.metadata (25 kB)\n",
            "Requirement already satisfied: deprecated>=1.2.9.3 in /usr/local/lib/python3.11/dist-packages (from llama-index-core<0.11.0,>=0.10.1->llama-index-vector-stores-deeplake==0.1.6) (1.2.18)\n",
            "Collecting dirtyjson<2.0.0,>=1.0.8 (from llama-index-core<0.11.0,>=0.10.1->llama-index-vector-stores-deeplake==0.1.6)\n",
            "  Downloading dirtyjson-1.0.8-py3-none-any.whl.metadata (11 kB)\n",
            "Requirement already satisfied: fsspec>=2023.5.0 in /usr/local/lib/python3.11/dist-packages (from llama-index-core<0.11.0,>=0.10.1->llama-index-vector-stores-deeplake==0.1.6) (2025.3.2)\n",
            "Requirement already satisfied: httpx in /usr/local/lib/python3.11/dist-packages (from llama-index-core<0.11.0,>=0.10.1->llama-index-vector-stores-deeplake==0.1.6) (0.28.1)\n",
            "Requirement already satisfied: nest-asyncio<2.0.0,>=1.5.8 in /usr/local/lib/python3.11/dist-packages (from llama-index-core<0.11.0,>=0.10.1->llama-index-vector-stores-deeplake==0.1.6) (1.6.0)\n",
            "Requirement already satisfied: networkx>=3.0 in /usr/local/lib/python3.11/dist-packages (from llama-index-core<0.11.0,>=0.10.1->llama-index-vector-stores-deeplake==0.1.6) (3.4.2)\n",
            "Requirement already satisfied: nltk!=3.9,>=3.8.1 in /usr/local/lib/python3.11/dist-packages (from llama-index-core<0.11.0,>=0.10.1->llama-index-vector-stores-deeplake==0.1.6) (3.9.1)\n",
            "Collecting numpy (from deeplake>=3.9.12->llama-index-vector-stores-deeplake==0.1.6)\n",
            "  Downloading numpy-1.26.4-cp311-cp311-manylinux_2_17_x86_64.manylinux2014_x86_64.whl.metadata (61 kB)\n",
            "\u001b[2K     \u001b[90m━━━━━━━━━━━━━━━━━━━━━━━━━━━━━━━━━━━━━━━━\u001b[0m \u001b[32m61.0/61.0 kB\u001b[0m \u001b[31m3.2 MB/s\u001b[0m eta \u001b[36m0:00:00\u001b[0m\n",
            "\u001b[?25hRequirement already satisfied: pandas in /usr/local/lib/python3.11/dist-packages (from llama-index-core<0.11.0,>=0.10.1->llama-index-vector-stores-deeplake==0.1.6) (2.2.2)\n",
            "Requirement already satisfied: pillow>=9.0.0 in /usr/local/lib/python3.11/dist-packages (from llama-index-core<0.11.0,>=0.10.1->llama-index-vector-stores-deeplake==0.1.6) (11.1.0)\n",
            "Requirement already satisfied: pydantic<3.0 in /usr/local/lib/python3.11/dist-packages (from llama-index-core<0.11.0,>=0.10.1->llama-index-vector-stores-deeplake==0.1.6) (2.11.2)\n",
            "Requirement already satisfied: requests>=2.31.0 in /usr/local/lib/python3.11/dist-packages (from llama-index-core<0.11.0,>=0.10.1->llama-index-vector-stores-deeplake==0.1.6) (2.32.3)\n",
            "Collecting tenacity!=8.4.0,<9.0.0,>=8.2.0 (from llama-index-core<0.11.0,>=0.10.1->llama-index-vector-stores-deeplake==0.1.6)\n",
            "  Downloading tenacity-8.5.0-py3-none-any.whl.metadata (1.2 kB)\n",
            "Collecting tiktoken>=0.3.3 (from llama-index-core<0.11.0,>=0.10.1->llama-index-vector-stores-deeplake==0.1.6)\n",
            "  Downloading tiktoken-0.9.0-cp311-cp311-manylinux_2_17_x86_64.manylinux2014_x86_64.whl.metadata (6.7 kB)\n",
            "Requirement already satisfied: tqdm<5.0.0,>=4.66.1 in /usr/local/lib/python3.11/dist-packages (from llama-index-core<0.11.0,>=0.10.1->llama-index-vector-stores-deeplake==0.1.6) (4.67.1)\n",
            "Requirement already satisfied: typing-extensions>=4.5.0 in /usr/local/lib/python3.11/dist-packages (from llama-index-core<0.11.0,>=0.10.1->llama-index-vector-stores-deeplake==0.1.6) (4.13.1)\n",
            "Collecting typing-inspect>=0.8.0 (from llama-index-core<0.11.0,>=0.10.1->llama-index-vector-stores-deeplake==0.1.6)\n",
            "  Downloading typing_inspect-0.9.0-py3-none-any.whl.metadata (1.5 kB)\n",
            "Requirement already satisfied: wrapt in /usr/local/lib/python3.11/dist-packages (from llama-index-core<0.11.0,>=0.10.1->llama-index-vector-stores-deeplake==0.1.6) (1.17.2)\n",
            "Requirement already satisfied: aiohappyeyeballs>=2.3.0 in /usr/local/lib/python3.11/dist-packages (from aiohttp<4.0.0,>=3.8.6->llama-index-core<0.11.0,>=0.10.1->llama-index-vector-stores-deeplake==0.1.6) (2.6.1)\n",
            "Requirement already satisfied: aiosignal>=1.1.2 in /usr/local/lib/python3.11/dist-packages (from aiohttp<4.0.0,>=3.8.6->llama-index-core<0.11.0,>=0.10.1->llama-index-vector-stores-deeplake==0.1.6) (1.3.2)\n",
            "Requirement already satisfied: attrs>=17.3.0 in /usr/local/lib/python3.11/dist-packages (from aiohttp<4.0.0,>=3.8.6->llama-index-core<0.11.0,>=0.10.1->llama-index-vector-stores-deeplake==0.1.6) (25.3.0)\n",
            "Requirement already satisfied: frozenlist>=1.1.1 in /usr/local/lib/python3.11/dist-packages (from aiohttp<4.0.0,>=3.8.6->llama-index-core<0.11.0,>=0.10.1->llama-index-vector-stores-deeplake==0.1.6) (1.5.0)\n",
            "Requirement already satisfied: multidict<7.0,>=4.5 in /usr/local/lib/python3.11/dist-packages (from aiohttp<4.0.0,>=3.8.6->llama-index-core<0.11.0,>=0.10.1->llama-index-vector-stores-deeplake==0.1.6) (6.2.0)\n",
            "Requirement already satisfied: propcache>=0.2.0 in /usr/local/lib/python3.11/dist-packages (from aiohttp<4.0.0,>=3.8.6->llama-index-core<0.11.0,>=0.10.1->llama-index-vector-stores-deeplake==0.1.6) (0.3.1)\n",
            "Requirement already satisfied: yarl<2.0,>=1.17.0 in /usr/local/lib/python3.11/dist-packages (from aiohttp<4.0.0,>=3.8.6->llama-index-core<0.11.0,>=0.10.1->llama-index-vector-stores-deeplake==0.1.6) (1.18.3)\n",
            "Requirement already satisfied: click in /usr/local/lib/python3.11/dist-packages (from nltk!=3.9,>=3.8.1->llama-index-core<0.11.0,>=0.10.1->llama-index-vector-stores-deeplake==0.1.6) (8.1.8)\n",
            "Requirement already satisfied: joblib in /usr/local/lib/python3.11/dist-packages (from nltk!=3.9,>=3.8.1->llama-index-core<0.11.0,>=0.10.1->llama-index-vector-stores-deeplake==0.1.6) (1.4.2)\n",
            "Requirement already satisfied: regex>=2021.8.3 in /usr/local/lib/python3.11/dist-packages (from nltk!=3.9,>=3.8.1->llama-index-core<0.11.0,>=0.10.1->llama-index-vector-stores-deeplake==0.1.6) (2024.11.6)\n",
            "Requirement already satisfied: annotated-types>=0.6.0 in /usr/local/lib/python3.11/dist-packages (from pydantic<3.0->llama-index-core<0.11.0,>=0.10.1->llama-index-vector-stores-deeplake==0.1.6) (0.7.0)\n",
            "Requirement already satisfied: pydantic-core==2.33.1 in /usr/local/lib/python3.11/dist-packages (from pydantic<3.0->llama-index-core<0.11.0,>=0.10.1->llama-index-vector-stores-deeplake==0.1.6) (2.33.1)\n",
            "Requirement already satisfied: typing-inspection>=0.4.0 in /usr/local/lib/python3.11/dist-packages (from pydantic<3.0->llama-index-core<0.11.0,>=0.10.1->llama-index-vector-stores-deeplake==0.1.6) (0.4.0)\n",
            "Requirement already satisfied: charset-normalizer<4,>=2 in /usr/local/lib/python3.11/dist-packages (from requests>=2.31.0->llama-index-core<0.11.0,>=0.10.1->llama-index-vector-stores-deeplake==0.1.6) (3.4.1)\n",
            "Requirement already satisfied: idna<4,>=2.5 in /usr/local/lib/python3.11/dist-packages (from requests>=2.31.0->llama-index-core<0.11.0,>=0.10.1->llama-index-vector-stores-deeplake==0.1.6) (3.10)\n",
            "Requirement already satisfied: urllib3<3,>=1.21.1 in /usr/local/lib/python3.11/dist-packages (from requests>=2.31.0->llama-index-core<0.11.0,>=0.10.1->llama-index-vector-stores-deeplake==0.1.6) (2.3.0)\n",
            "Requirement already satisfied: certifi>=2017.4.17 in /usr/local/lib/python3.11/dist-packages (from requests>=2.31.0->llama-index-core<0.11.0,>=0.10.1->llama-index-vector-stores-deeplake==0.1.6) (2025.1.31)\n",
            "Requirement already satisfied: greenlet>=1 in /usr/local/lib/python3.11/dist-packages (from SQLAlchemy>=1.4.49->SQLAlchemy[asyncio]>=1.4.49->llama-index-core<0.11.0,>=0.10.1->llama-index-vector-stores-deeplake==0.1.6) (3.1.1)\n",
            "Collecting mypy-extensions>=0.3.0 (from typing-inspect>=0.8.0->llama-index-core<0.11.0,>=0.10.1->llama-index-vector-stores-deeplake==0.1.6)\n",
            "  Downloading mypy_extensions-1.0.0-py3-none-any.whl.metadata (1.1 kB)\n",
            "Collecting marshmallow<4.0.0,>=3.18.0 (from dataclasses-json->llama-index-core<0.11.0,>=0.10.1->llama-index-vector-stores-deeplake==0.1.6)\n",
            "  Downloading marshmallow-3.26.1-py3-none-any.whl.metadata (7.3 kB)\n",
            "Requirement already satisfied: anyio in /usr/local/lib/python3.11/dist-packages (from httpx->llama-index-core<0.11.0,>=0.10.1->llama-index-vector-stores-deeplake==0.1.6) (4.9.0)\n",
            "Requirement already satisfied: httpcore==1.* in /usr/local/lib/python3.11/dist-packages (from httpx->llama-index-core<0.11.0,>=0.10.1->llama-index-vector-stores-deeplake==0.1.6) (1.0.7)\n",
            "Requirement already satisfied: h11<0.15,>=0.13 in /usr/local/lib/python3.11/dist-packages (from httpcore==1.*->httpx->llama-index-core<0.11.0,>=0.10.1->llama-index-vector-stores-deeplake==0.1.6) (0.14.0)\n",
            "Requirement already satisfied: python-dateutil>=2.8.2 in /usr/local/lib/python3.11/dist-packages (from pandas->llama-index-core<0.11.0,>=0.10.1->llama-index-vector-stores-deeplake==0.1.6) (2.8.2)\n",
            "Requirement already satisfied: pytz>=2020.1 in /usr/local/lib/python3.11/dist-packages (from pandas->llama-index-core<0.11.0,>=0.10.1->llama-index-vector-stores-deeplake==0.1.6) (2025.2)\n",
            "Requirement already satisfied: tzdata>=2022.7 in /usr/local/lib/python3.11/dist-packages (from pandas->llama-index-core<0.11.0,>=0.10.1->llama-index-vector-stores-deeplake==0.1.6) (2025.2)\n",
            "Requirement already satisfied: packaging>=17.0 in /usr/local/lib/python3.11/dist-packages (from marshmallow<4.0.0,>=3.18.0->dataclasses-json->llama-index-core<0.11.0,>=0.10.1->llama-index-vector-stores-deeplake==0.1.6) (24.2)\n",
            "Requirement already satisfied: six>=1.5 in /usr/local/lib/python3.11/dist-packages (from python-dateutil>=2.8.2->pandas->llama-index-core<0.11.0,>=0.10.1->llama-index-vector-stores-deeplake==0.1.6) (1.17.0)\n",
            "Requirement already satisfied: sniffio>=1.1 in /usr/local/lib/python3.11/dist-packages (from anyio->httpx->llama-index-core<0.11.0,>=0.10.1->llama-index-vector-stores-deeplake==0.1.6) (1.3.1)\n",
            "Downloading llama_index_vector_stores_deeplake-0.1.6-py3-none-any.whl (5.1 kB)\n",
            "Downloading deeplake-4.1.18-cp311-cp311-manylinux2014_x86_64.whl (19.3 MB)\n",
            "\u001b[2K   \u001b[90m━━━━━━━━━━━━━━━━━━━━━━━━━━━━━━━━━━━━━━━━\u001b[0m \u001b[32m19.3/19.3 MB\u001b[0m \u001b[31m82.4 MB/s\u001b[0m eta \u001b[36m0:00:00\u001b[0m\n",
            "\u001b[?25hDownloading llama_index_core-0.10.68.post1-py3-none-any.whl (1.6 MB)\n",
            "\u001b[2K   \u001b[90m━━━━━━━━━━━━━━━━━━━━━━━━━━━━━━━━━━━━━━━━\u001b[0m \u001b[32m1.6/1.6 MB\u001b[0m \u001b[31m74.7 MB/s\u001b[0m eta \u001b[36m0:00:00\u001b[0m\n",
            "\u001b[?25hDownloading dirtyjson-1.0.8-py3-none-any.whl (25 kB)\n",
            "Downloading numpy-1.26.4-cp311-cp311-manylinux_2_17_x86_64.manylinux2014_x86_64.whl (18.3 MB)\n",
            "\u001b[2K   \u001b[90m━━━━━━━━━━━━━━━━━━━━━━━━━━━━━━━━━━━━━━━━\u001b[0m \u001b[32m18.3/18.3 MB\u001b[0m \u001b[31m102.5 MB/s\u001b[0m eta \u001b[36m0:00:00\u001b[0m\n",
            "\u001b[?25hDownloading tenacity-8.5.0-py3-none-any.whl (28 kB)\n",
            "Downloading tiktoken-0.9.0-cp311-cp311-manylinux_2_17_x86_64.manylinux2014_x86_64.whl (1.2 MB)\n",
            "\u001b[2K   \u001b[90m━━━━━━━━━━━━━━━━━━━━━━━━━━━━━━━━━━━━━━━━\u001b[0m \u001b[32m1.2/1.2 MB\u001b[0m \u001b[31m60.4 MB/s\u001b[0m eta \u001b[36m0:00:00\u001b[0m\n",
            "\u001b[?25hDownloading typing_inspect-0.9.0-py3-none-any.whl (8.8 kB)\n",
            "Downloading dataclasses_json-0.6.7-py3-none-any.whl (28 kB)\n",
            "Downloading marshmallow-3.26.1-py3-none-any.whl (50 kB)\n",
            "\u001b[2K   \u001b[90m━━━━━━━━━━━━━━━━━━━━━━━━━━━━━━━━━━━━━━━━\u001b[0m \u001b[32m50.9/50.9 kB\u001b[0m \u001b[31m4.4 MB/s\u001b[0m eta \u001b[36m0:00:00\u001b[0m\n",
            "\u001b[?25hDownloading mypy_extensions-1.0.0-py3-none-any.whl (4.7 kB)\n",
            "Installing collected packages: dirtyjson, tenacity, numpy, mypy-extensions, marshmallow, typing-inspect, tiktoken, deeplake, dataclasses-json, llama-index-core, llama-index-vector-stores-deeplake\n",
            "  Attempting uninstall: tenacity\n",
            "    Found existing installation: tenacity 9.1.2\n",
            "    Uninstalling tenacity-9.1.2:\n",
            "      Successfully uninstalled tenacity-9.1.2\n",
            "  Attempting uninstall: numpy\n",
            "    Found existing installation: numpy 2.0.2\n",
            "    Uninstalling numpy-2.0.2:\n",
            "      Successfully uninstalled numpy-2.0.2\n",
            "Successfully installed dataclasses-json-0.6.7 deeplake-4.1.18 dirtyjson-1.0.8 llama-index-core-0.10.68.post1 llama-index-vector-stores-deeplake-0.1.6 marshmallow-3.26.1 mypy-extensions-1.0.0 numpy-1.26.4 tenacity-8.5.0 tiktoken-0.9.0 typing-inspect-0.9.0\n"
          ]
        }
      ]
    },
    {
      "cell_type": "code",
      "source": [
        "!pip install deeplake==3.9.18"
      ],
      "metadata": {
        "id": "DR9i-nr1V9Ha",
        "colab": {
          "base_uri": "https://localhost:8080/",
          "height": 1000
        },
        "outputId": "890a9bb0-e58d-45d6-cfe6-b4e71760c288"
      },
      "execution_count": 2,
      "outputs": [
        {
          "output_type": "stream",
          "name": "stdout",
          "text": [
            "Collecting deeplake==3.9.18\n",
            "  Downloading deeplake-3.9.18.tar.gz (608 kB)\n",
            "\u001b[2K     \u001b[90m━━━━━━━━━━━━━━━━━━━━━━━━━━━━━━━━━━━━━━━━\u001b[0m \u001b[32m608.9/608.9 kB\u001b[0m \u001b[31m7.8 MB/s\u001b[0m eta \u001b[36m0:00:00\u001b[0m\n",
            "\u001b[?25h  Installing build dependencies ... \u001b[?25l\u001b[?25hdone\n",
            "  Getting requirements to build wheel ... \u001b[?25l\u001b[?25hdone\n",
            "  Preparing metadata (pyproject.toml) ... \u001b[?25l\u001b[?25hdone\n",
            "Requirement already satisfied: numpy<2.0 in /usr/local/lib/python3.11/dist-packages (from deeplake==3.9.18) (1.26.4)\n",
            "Collecting pillow~=10.2.0 (from deeplake==3.9.18)\n",
            "  Downloading pillow-10.2.0-cp311-cp311-manylinux_2_28_x86_64.whl.metadata (9.7 kB)\n",
            "Collecting boto3 (from deeplake==3.9.18)\n",
            "  Downloading boto3-1.37.31-py3-none-any.whl.metadata (6.7 kB)\n",
            "Requirement already satisfied: click in /usr/local/lib/python3.11/dist-packages (from deeplake==3.9.18) (8.1.8)\n",
            "Collecting pathos (from deeplake==3.9.18)\n",
            "  Downloading pathos-0.3.3-py3-none-any.whl.metadata (11 kB)\n",
            "Collecting humbug>=0.3.1 (from deeplake==3.9.18)\n",
            "  Downloading humbug-0.3.2-py3-none-any.whl.metadata (6.8 kB)\n",
            "Requirement already satisfied: tqdm in /usr/local/lib/python3.11/dist-packages (from deeplake==3.9.18) (4.67.1)\n",
            "Collecting lz4 (from deeplake==3.9.18)\n",
            "  Downloading lz4-4.4.4-cp311-cp311-manylinux_2_17_x86_64.manylinux2014_x86_64.whl.metadata (3.8 kB)\n",
            "Requirement already satisfied: pyjwt in /usr/local/lib/python3.11/dist-packages (from deeplake==3.9.18) (2.10.1)\n",
            "Collecting aioboto3>=10.4.0 (from deeplake==3.9.18)\n",
            "  Downloading aioboto3-14.1.0-py3-none-any.whl.metadata (8.8 kB)\n",
            "Requirement already satisfied: nest_asyncio in /usr/local/lib/python3.11/dist-packages (from deeplake==3.9.18) (1.6.0)\n",
            "Requirement already satisfied: pydantic in /usr/local/lib/python3.11/dist-packages (from deeplake==3.9.18) (2.11.2)\n",
            "Collecting libdeeplake==0.0.138 (from deeplake==3.9.18)\n",
            "  Downloading libdeeplake-0.0.138-cp311-cp311-manylinux2014_x86_64.whl.metadata (352 bytes)\n",
            "Collecting dill (from libdeeplake==0.0.138->deeplake==3.9.18)\n",
            "  Downloading dill-0.3.9-py3-none-any.whl.metadata (10 kB)\n",
            "Collecting aiobotocore==2.21.1 (from aiobotocore[boto3]==2.21.1->aioboto3>=10.4.0->deeplake==3.9.18)\n",
            "  Downloading aiobotocore-2.21.1-py3-none-any.whl.metadata (24 kB)\n",
            "Collecting aiofiles>=23.2.1 (from aioboto3>=10.4.0->deeplake==3.9.18)\n",
            "  Downloading aiofiles-24.1.0-py3-none-any.whl.metadata (10 kB)\n",
            "Requirement already satisfied: aiohttp<4.0.0,>=3.9.2 in /usr/local/lib/python3.11/dist-packages (from aiobotocore==2.21.1->aiobotocore[boto3]==2.21.1->aioboto3>=10.4.0->deeplake==3.9.18) (3.11.15)\n",
            "Collecting aioitertools<1.0.0,>=0.5.1 (from aiobotocore==2.21.1->aiobotocore[boto3]==2.21.1->aioboto3>=10.4.0->deeplake==3.9.18)\n",
            "  Downloading aioitertools-0.12.0-py3-none-any.whl.metadata (3.8 kB)\n",
            "Collecting botocore<1.37.2,>=1.37.0 (from aiobotocore==2.21.1->aiobotocore[boto3]==2.21.1->aioboto3>=10.4.0->deeplake==3.9.18)\n",
            "  Downloading botocore-1.37.1-py3-none-any.whl.metadata (5.7 kB)\n",
            "Requirement already satisfied: python-dateutil<3.0.0,>=2.1 in /usr/local/lib/python3.11/dist-packages (from aiobotocore==2.21.1->aiobotocore[boto3]==2.21.1->aioboto3>=10.4.0->deeplake==3.9.18) (2.8.2)\n",
            "Collecting jmespath<2.0.0,>=0.7.1 (from aiobotocore==2.21.1->aiobotocore[boto3]==2.21.1->aioboto3>=10.4.0->deeplake==3.9.18)\n",
            "  Downloading jmespath-1.0.1-py3-none-any.whl.metadata (7.6 kB)\n",
            "Requirement already satisfied: multidict<7.0.0,>=6.0.0 in /usr/local/lib/python3.11/dist-packages (from aiobotocore==2.21.1->aiobotocore[boto3]==2.21.1->aioboto3>=10.4.0->deeplake==3.9.18) (6.2.0)\n",
            "Requirement already satisfied: wrapt<2.0.0,>=1.10.10 in /usr/local/lib/python3.11/dist-packages (from aiobotocore==2.21.1->aiobotocore[boto3]==2.21.1->aioboto3>=10.4.0->deeplake==3.9.18) (1.17.2)\n",
            "Collecting boto3 (from deeplake==3.9.18)\n",
            "  Downloading boto3-1.37.1-py3-none-any.whl.metadata (6.6 kB)\n",
            "Collecting s3transfer<0.12.0,>=0.11.0 (from boto3->deeplake==3.9.18)\n",
            "  Downloading s3transfer-0.11.4-py3-none-any.whl.metadata (1.7 kB)\n",
            "Requirement already satisfied: requests in /usr/local/lib/python3.11/dist-packages (from humbug>=0.3.1->deeplake==3.9.18) (2.32.3)\n",
            "Collecting ppft>=1.7.6.9 (from pathos->deeplake==3.9.18)\n",
            "  Downloading ppft-1.7.6.9-py3-none-any.whl.metadata (12 kB)\n",
            "Collecting pox>=0.3.5 (from pathos->deeplake==3.9.18)\n",
            "  Downloading pox-0.3.5-py3-none-any.whl.metadata (8.0 kB)\n",
            "Collecting multiprocess>=0.70.17 (from pathos->deeplake==3.9.18)\n",
            "  Downloading multiprocess-0.70.17-py311-none-any.whl.metadata (7.2 kB)\n",
            "Requirement already satisfied: annotated-types>=0.6.0 in /usr/local/lib/python3.11/dist-packages (from pydantic->deeplake==3.9.18) (0.7.0)\n",
            "Requirement already satisfied: pydantic-core==2.33.1 in /usr/local/lib/python3.11/dist-packages (from pydantic->deeplake==3.9.18) (2.33.1)\n",
            "Requirement already satisfied: typing-extensions>=4.12.2 in /usr/local/lib/python3.11/dist-packages (from pydantic->deeplake==3.9.18) (4.13.1)\n",
            "Requirement already satisfied: typing-inspection>=0.4.0 in /usr/local/lib/python3.11/dist-packages (from pydantic->deeplake==3.9.18) (0.4.0)\n",
            "Requirement already satisfied: urllib3!=2.2.0,<3,>=1.25.4 in /usr/local/lib/python3.11/dist-packages (from botocore<1.37.2,>=1.37.0->aiobotocore==2.21.1->aiobotocore[boto3]==2.21.1->aioboto3>=10.4.0->deeplake==3.9.18) (2.3.0)\n",
            "INFO: pip is looking at multiple versions of s3transfer to determine which version is compatible with other requirements. This could take a while.\n",
            "Collecting s3transfer<0.12.0,>=0.11.0 (from boto3->deeplake==3.9.18)\n",
            "  Downloading s3transfer-0.11.3-py3-none-any.whl.metadata (1.7 kB)\n",
            "Requirement already satisfied: charset-normalizer<4,>=2 in /usr/local/lib/python3.11/dist-packages (from requests->humbug>=0.3.1->deeplake==3.9.18) (3.4.1)\n",
            "Requirement already satisfied: idna<4,>=2.5 in /usr/local/lib/python3.11/dist-packages (from requests->humbug>=0.3.1->deeplake==3.9.18) (3.10)\n",
            "Requirement already satisfied: certifi>=2017.4.17 in /usr/local/lib/python3.11/dist-packages (from requests->humbug>=0.3.1->deeplake==3.9.18) (2025.1.31)\n",
            "Requirement already satisfied: aiohappyeyeballs>=2.3.0 in /usr/local/lib/python3.11/dist-packages (from aiohttp<4.0.0,>=3.9.2->aiobotocore==2.21.1->aiobotocore[boto3]==2.21.1->aioboto3>=10.4.0->deeplake==3.9.18) (2.6.1)\n",
            "Requirement already satisfied: aiosignal>=1.1.2 in /usr/local/lib/python3.11/dist-packages (from aiohttp<4.0.0,>=3.9.2->aiobotocore==2.21.1->aiobotocore[boto3]==2.21.1->aioboto3>=10.4.0->deeplake==3.9.18) (1.3.2)\n",
            "Requirement already satisfied: attrs>=17.3.0 in /usr/local/lib/python3.11/dist-packages (from aiohttp<4.0.0,>=3.9.2->aiobotocore==2.21.1->aiobotocore[boto3]==2.21.1->aioboto3>=10.4.0->deeplake==3.9.18) (25.3.0)\n",
            "Requirement already satisfied: frozenlist>=1.1.1 in /usr/local/lib/python3.11/dist-packages (from aiohttp<4.0.0,>=3.9.2->aiobotocore==2.21.1->aiobotocore[boto3]==2.21.1->aioboto3>=10.4.0->deeplake==3.9.18) (1.5.0)\n",
            "Requirement already satisfied: propcache>=0.2.0 in /usr/local/lib/python3.11/dist-packages (from aiohttp<4.0.0,>=3.9.2->aiobotocore==2.21.1->aiobotocore[boto3]==2.21.1->aioboto3>=10.4.0->deeplake==3.9.18) (0.3.1)\n",
            "Requirement already satisfied: yarl<2.0,>=1.17.0 in /usr/local/lib/python3.11/dist-packages (from aiohttp<4.0.0,>=3.9.2->aiobotocore==2.21.1->aiobotocore[boto3]==2.21.1->aioboto3>=10.4.0->deeplake==3.9.18) (1.18.3)\n",
            "Requirement already satisfied: six>=1.5 in /usr/local/lib/python3.11/dist-packages (from python-dateutil<3.0.0,>=2.1->aiobotocore==2.21.1->aiobotocore[boto3]==2.21.1->aioboto3>=10.4.0->deeplake==3.9.18) (1.17.0)\n",
            "Downloading libdeeplake-0.0.138-cp311-cp311-manylinux2014_x86_64.whl (16.8 MB)\n",
            "\u001b[2K   \u001b[90m━━━━━━━━━━━━━━━━━━━━━━━━━━━━━━━━━━━━━━━━\u001b[0m \u001b[32m16.8/16.8 MB\u001b[0m \u001b[31m76.3 MB/s\u001b[0m eta \u001b[36m0:00:00\u001b[0m\n",
            "\u001b[?25hDownloading aioboto3-14.1.0-py3-none-any.whl (35 kB)\n",
            "Downloading aiobotocore-2.21.1-py3-none-any.whl (78 kB)\n",
            "\u001b[2K   \u001b[90m━━━━━━━━━━━━━━━━━━━━━━━━━━━━━━━━━━━━━━━━\u001b[0m \u001b[32m78.3/78.3 kB\u001b[0m \u001b[31m7.6 MB/s\u001b[0m eta \u001b[36m0:00:00\u001b[0m\n",
            "\u001b[?25hDownloading boto3-1.37.1-py3-none-any.whl (139 kB)\n",
            "\u001b[2K   \u001b[90m━━━━━━━━━━━━━━━━━━━━━━━━━━━━━━━━━━━━━━━━\u001b[0m \u001b[32m139.3/139.3 kB\u001b[0m \u001b[31m13.5 MB/s\u001b[0m eta \u001b[36m0:00:00\u001b[0m\n",
            "\u001b[?25hDownloading humbug-0.3.2-py3-none-any.whl (15 kB)\n",
            "Downloading pillow-10.2.0-cp311-cp311-manylinux_2_28_x86_64.whl (4.5 MB)\n",
            "\u001b[2K   \u001b[90m━━━━━━━━━━━━━━━━━━━━━━━━━━━━━━━━━━━━━━━━\u001b[0m \u001b[32m4.5/4.5 MB\u001b[0m \u001b[31m61.1 MB/s\u001b[0m eta \u001b[36m0:00:00\u001b[0m\n",
            "\u001b[?25hDownloading lz4-4.4.4-cp311-cp311-manylinux_2_17_x86_64.manylinux2014_x86_64.whl (1.3 MB)\n",
            "\u001b[2K   \u001b[90m━━━━━━━━━━━━━━━━━━━━━━━━━━━━━━━━━━━━━━━━\u001b[0m \u001b[32m1.3/1.3 MB\u001b[0m \u001b[31m53.5 MB/s\u001b[0m eta \u001b[36m0:00:00\u001b[0m\n",
            "\u001b[?25hDownloading pathos-0.3.3-py3-none-any.whl (82 kB)\n",
            "\u001b[2K   \u001b[90m━━━━━━━━━━━━━━━━━━━━━━━━━━━━━━━━━━━━━━━━\u001b[0m \u001b[32m82.1/82.1 kB\u001b[0m \u001b[31m6.5 MB/s\u001b[0m eta \u001b[36m0:00:00\u001b[0m\n",
            "\u001b[?25hDownloading aiofiles-24.1.0-py3-none-any.whl (15 kB)\n",
            "Downloading botocore-1.37.1-py3-none-any.whl (13.4 MB)\n",
            "\u001b[2K   \u001b[90m━━━━━━━━━━━━━━━━━━━━━━━━━━━━━━━━━━━━━━━━\u001b[0m \u001b[32m13.4/13.4 MB\u001b[0m \u001b[31m89.0 MB/s\u001b[0m eta \u001b[36m0:00:00\u001b[0m\n",
            "\u001b[?25hDownloading dill-0.3.9-py3-none-any.whl (119 kB)\n",
            "\u001b[2K   \u001b[90m━━━━━━━━━━━━━━━━━━━━━━━━━━━━━━━━━━━━━━━━\u001b[0m \u001b[32m119.4/119.4 kB\u001b[0m \u001b[31m12.3 MB/s\u001b[0m eta \u001b[36m0:00:00\u001b[0m\n",
            "\u001b[?25hDownloading jmespath-1.0.1-py3-none-any.whl (20 kB)\n",
            "Downloading multiprocess-0.70.17-py311-none-any.whl (144 kB)\n",
            "\u001b[2K   \u001b[90m━━━━━━━━━━━━━━━━━━━━━━━━━━━━━━━━━━━━━━━━\u001b[0m \u001b[32m144.3/144.3 kB\u001b[0m \u001b[31m14.5 MB/s\u001b[0m eta \u001b[36m0:00:00\u001b[0m\n",
            "\u001b[?25hDownloading pox-0.3.5-py3-none-any.whl (29 kB)\n",
            "Downloading ppft-1.7.6.9-py3-none-any.whl (56 kB)\n",
            "\u001b[2K   \u001b[90m━━━━━━━━━━━━━━━━━━━━━━━━━━━━━━━━━━━━━━━━\u001b[0m \u001b[32m56.8/56.8 kB\u001b[0m \u001b[31m5.4 MB/s\u001b[0m eta \u001b[36m0:00:00\u001b[0m\n",
            "\u001b[?25hDownloading s3transfer-0.11.3-py3-none-any.whl (84 kB)\n",
            "\u001b[2K   \u001b[90m━━━━━━━━━━━━━━━━━━━━━━━━━━━━━━━━━━━━━━━━\u001b[0m \u001b[32m84.2/84.2 kB\u001b[0m \u001b[31m8.2 MB/s\u001b[0m eta \u001b[36m0:00:00\u001b[0m\n",
            "\u001b[?25hDownloading aioitertools-0.12.0-py3-none-any.whl (24 kB)\n",
            "Building wheels for collected packages: deeplake\n",
            "  Building wheel for deeplake (pyproject.toml) ... \u001b[?25l\u001b[?25hdone\n",
            "  Created wheel for deeplake: filename=deeplake-3.9.18-py3-none-any.whl size=731793 sha256=dc9148ea564505cdec0e5ea50d3a7cb6aa9eaf77ca39d6432412d2f601872c77\n",
            "  Stored in directory: /root/.cache/pip/wheels/2a/66/79/b6e76d46b737f60be7542e1f4650141ef3cb09fdba9ca22aaa\n",
            "Successfully built deeplake\n",
            "Installing collected packages: ppft, pox, pillow, lz4, jmespath, dill, aioitertools, aiofiles, multiprocess, libdeeplake, humbug, botocore, s3transfer, pathos, aiobotocore, boto3, aioboto3, deeplake\n",
            "  Attempting uninstall: pillow\n",
            "    Found existing installation: pillow 11.1.0\n",
            "    Uninstalling pillow-11.1.0:\n",
            "      Successfully uninstalled pillow-11.1.0\n",
            "  Attempting uninstall: deeplake\n",
            "    Found existing installation: deeplake 4.1.18\n",
            "    Uninstalling deeplake-4.1.18:\n",
            "      Successfully uninstalled deeplake-4.1.18\n",
            "Successfully installed aioboto3-14.1.0 aiobotocore-2.21.1 aiofiles-24.1.0 aioitertools-0.12.0 boto3-1.37.1 botocore-1.37.1 deeplake-3.9.18 dill-0.3.9 humbug-0.3.2 jmespath-1.0.1 libdeeplake-0.0.138 lz4-4.4.4 multiprocess-0.70.17 pathos-0.3.3 pillow-10.2.0 pox-0.3.5 ppft-1.7.6.9 s3transfer-0.11.3\n"
          ]
        },
        {
          "output_type": "display_data",
          "data": {
            "application/vnd.colab-display-data+json": {
              "pip_warning": {
                "packages": [
                  "PIL"
                ]
              },
              "id": "072f7e1d3baf4081a521f84a0ec92ab1"
            }
          },
          "metadata": {}
        }
      ]
    },
    {
      "cell_type": "code",
      "source": [
        "!pip install llama-index==0.10.64"
      ],
      "metadata": {
        "id": "v4wSgaDxV9Jo",
        "colab": {
          "base_uri": "https://localhost:8080/"
        },
        "outputId": "bd67ad05-1096-4c17-fec9-465ef101781c"
      },
      "execution_count": 1,
      "outputs": [
        {
          "output_type": "stream",
          "name": "stdout",
          "text": [
            "Collecting llama-index==0.10.64\n",
            "  Downloading llama_index-0.10.64-py3-none-any.whl.metadata (11 kB)\n",
            "Collecting llama-index-agent-openai<0.3.0,>=0.1.4 (from llama-index==0.10.64)\n",
            "  Downloading llama_index_agent_openai-0.2.9-py3-none-any.whl.metadata (729 bytes)\n",
            "Collecting llama-index-cli<0.2.0,>=0.1.2 (from llama-index==0.10.64)\n",
            "  Downloading llama_index_cli-0.1.13-py3-none-any.whl.metadata (1.5 kB)\n",
            "Requirement already satisfied: llama-index-core<0.11.0,>=0.10.64 in /usr/local/lib/python3.11/dist-packages (from llama-index==0.10.64) (0.10.68.post1)\n",
            "Collecting llama-index-embeddings-openai<0.2.0,>=0.1.5 (from llama-index==0.10.64)\n",
            "  Downloading llama_index_embeddings_openai-0.1.11-py3-none-any.whl.metadata (655 bytes)\n",
            "Collecting llama-index-indices-managed-llama-cloud>=0.2.0 (from llama-index==0.10.64)\n",
            "  Downloading llama_index_indices_managed_llama_cloud-0.6.11-py3-none-any.whl.metadata (3.6 kB)\n",
            "Collecting llama-index-legacy<0.10.0,>=0.9.48 (from llama-index==0.10.64)\n",
            "  Downloading llama_index_legacy-0.9.48.post4-py3-none-any.whl.metadata (8.5 kB)\n",
            "Collecting llama-index-llms-openai<0.2.0,>=0.1.27 (from llama-index==0.10.64)\n",
            "  Downloading llama_index_llms_openai-0.1.31-py3-none-any.whl.metadata (650 bytes)\n",
            "Collecting llama-index-multi-modal-llms-openai<0.2.0,>=0.1.3 (from llama-index==0.10.64)\n",
            "  Downloading llama_index_multi_modal_llms_openai-0.1.9-py3-none-any.whl.metadata (728 bytes)\n",
            "Collecting llama-index-program-openai<0.2.0,>=0.1.3 (from llama-index==0.10.64)\n",
            "  Downloading llama_index_program_openai-0.1.7-py3-none-any.whl.metadata (760 bytes)\n",
            "Collecting llama-index-question-gen-openai<0.2.0,>=0.1.2 (from llama-index==0.10.64)\n",
            "  Downloading llama_index_question_gen_openai-0.1.3-py3-none-any.whl.metadata (785 bytes)\n",
            "Collecting llama-index-readers-file<0.2.0,>=0.1.4 (from llama-index==0.10.64)\n",
            "  Downloading llama_index_readers_file-0.1.33-py3-none-any.whl.metadata (5.4 kB)\n",
            "Collecting llama-index-readers-llama-parse>=0.1.2 (from llama-index==0.10.64)\n",
            "  Downloading llama_index_readers_llama_parse-0.4.0-py3-none-any.whl.metadata (3.6 kB)\n",
            "Requirement already satisfied: openai>=1.14.0 in /usr/local/lib/python3.11/dist-packages (from llama-index-agent-openai<0.3.0,>=0.1.4->llama-index==0.10.64) (1.70.0)\n",
            "Requirement already satisfied: PyYAML>=6.0.1 in /usr/local/lib/python3.11/dist-packages (from llama-index-core<0.11.0,>=0.10.64->llama-index==0.10.64) (6.0.2)\n",
            "Requirement already satisfied: SQLAlchemy>=1.4.49 in /usr/local/lib/python3.11/dist-packages (from SQLAlchemy[asyncio]>=1.4.49->llama-index-core<0.11.0,>=0.10.64->llama-index==0.10.64) (2.0.40)\n",
            "Requirement already satisfied: aiohttp<4.0.0,>=3.8.6 in /usr/local/lib/python3.11/dist-packages (from llama-index-core<0.11.0,>=0.10.64->llama-index==0.10.64) (3.11.15)\n",
            "Requirement already satisfied: dataclasses-json in /usr/local/lib/python3.11/dist-packages (from llama-index-core<0.11.0,>=0.10.64->llama-index==0.10.64) (0.6.7)\n",
            "Requirement already satisfied: deprecated>=1.2.9.3 in /usr/local/lib/python3.11/dist-packages (from llama-index-core<0.11.0,>=0.10.64->llama-index==0.10.64) (1.2.18)\n",
            "Requirement already satisfied: dirtyjson<2.0.0,>=1.0.8 in /usr/local/lib/python3.11/dist-packages (from llama-index-core<0.11.0,>=0.10.64->llama-index==0.10.64) (1.0.8)\n",
            "Requirement already satisfied: fsspec>=2023.5.0 in /usr/local/lib/python3.11/dist-packages (from llama-index-core<0.11.0,>=0.10.64->llama-index==0.10.64) (2025.3.2)\n",
            "Requirement already satisfied: httpx in /usr/local/lib/python3.11/dist-packages (from llama-index-core<0.11.0,>=0.10.64->llama-index==0.10.64) (0.28.1)\n",
            "Requirement already satisfied: nest-asyncio<2.0.0,>=1.5.8 in /usr/local/lib/python3.11/dist-packages (from llama-index-core<0.11.0,>=0.10.64->llama-index==0.10.64) (1.6.0)\n",
            "Requirement already satisfied: networkx>=3.0 in /usr/local/lib/python3.11/dist-packages (from llama-index-core<0.11.0,>=0.10.64->llama-index==0.10.64) (3.4.2)\n",
            "Requirement already satisfied: nltk!=3.9,>=3.8.1 in /usr/local/lib/python3.11/dist-packages (from llama-index-core<0.11.0,>=0.10.64->llama-index==0.10.64) (3.9.1)\n",
            "Requirement already satisfied: numpy<2.0.0 in /usr/local/lib/python3.11/dist-packages (from llama-index-core<0.11.0,>=0.10.64->llama-index==0.10.64) (1.26.4)\n",
            "Requirement already satisfied: pandas in /usr/local/lib/python3.11/dist-packages (from llama-index-core<0.11.0,>=0.10.64->llama-index==0.10.64) (2.2.2)\n",
            "Requirement already satisfied: pillow>=9.0.0 in /usr/local/lib/python3.11/dist-packages (from llama-index-core<0.11.0,>=0.10.64->llama-index==0.10.64) (10.2.0)\n",
            "Requirement already satisfied: pydantic<3.0 in /usr/local/lib/python3.11/dist-packages (from llama-index-core<0.11.0,>=0.10.64->llama-index==0.10.64) (2.11.2)\n",
            "Requirement already satisfied: requests>=2.31.0 in /usr/local/lib/python3.11/dist-packages (from llama-index-core<0.11.0,>=0.10.64->llama-index==0.10.64) (2.32.3)\n",
            "Requirement already satisfied: tenacity!=8.4.0,<9.0.0,>=8.2.0 in /usr/local/lib/python3.11/dist-packages (from llama-index-core<0.11.0,>=0.10.64->llama-index==0.10.64) (8.5.0)\n",
            "Requirement already satisfied: tiktoken>=0.3.3 in /usr/local/lib/python3.11/dist-packages (from llama-index-core<0.11.0,>=0.10.64->llama-index==0.10.64) (0.9.0)\n",
            "Requirement already satisfied: tqdm<5.0.0,>=4.66.1 in /usr/local/lib/python3.11/dist-packages (from llama-index-core<0.11.0,>=0.10.64->llama-index==0.10.64) (4.67.1)\n",
            "Requirement already satisfied: typing-extensions>=4.5.0 in /usr/local/lib/python3.11/dist-packages (from llama-index-core<0.11.0,>=0.10.64->llama-index==0.10.64) (4.13.1)\n",
            "Requirement already satisfied: typing-inspect>=0.8.0 in /usr/local/lib/python3.11/dist-packages (from llama-index-core<0.11.0,>=0.10.64->llama-index==0.10.64) (0.9.0)\n",
            "Requirement already satisfied: wrapt in /usr/local/lib/python3.11/dist-packages (from llama-index-core<0.11.0,>=0.10.64->llama-index==0.10.64) (1.17.2)\n",
            "Collecting llama-cloud<0.2.0,>=0.1.13 (from llama-index-indices-managed-llama-cloud>=0.2.0->llama-index==0.10.64)\n",
            "  Downloading llama_cloud-0.1.18-py3-none-any.whl.metadata (902 bytes)\n",
            "INFO: pip is looking at multiple versions of llama-index-indices-managed-llama-cloud to determine which version is compatible with other requirements. This could take a while.\n",
            "Collecting llama-index-indices-managed-llama-cloud>=0.2.0 (from llama-index==0.10.64)\n",
            "  Downloading llama_index_indices_managed_llama_cloud-0.6.10-py3-none-any.whl.metadata (3.6 kB)\n",
            "  Downloading llama_index_indices_managed_llama_cloud-0.6.9-py3-none-any.whl.metadata (3.6 kB)\n",
            "  Downloading llama_index_indices_managed_llama_cloud-0.6.8-py3-none-any.whl.metadata (3.6 kB)\n",
            "  Downloading llama_index_indices_managed_llama_cloud-0.6.7-py3-none-any.whl.metadata (3.6 kB)\n",
            "  Downloading llama_index_indices_managed_llama_cloud-0.6.6-py3-none-any.whl.metadata (3.6 kB)\n",
            "  Downloading llama_index_indices_managed_llama_cloud-0.6.5-py3-none-any.whl.metadata (3.6 kB)\n",
            "  Downloading llama_index_indices_managed_llama_cloud-0.6.4-py3-none-any.whl.metadata (3.6 kB)\n",
            "INFO: pip is still looking at multiple versions of llama-index-indices-managed-llama-cloud to determine which version is compatible with other requirements. This could take a while.\n",
            "  Downloading llama_index_indices_managed_llama_cloud-0.6.3-py3-none-any.whl.metadata (3.8 kB)\n",
            "  Downloading llama_index_indices_managed_llama_cloud-0.6.2-py3-none-any.whl.metadata (3.8 kB)\n",
            "  Downloading llama_index_indices_managed_llama_cloud-0.6.1-py3-none-any.whl.metadata (3.8 kB)\n",
            "  Downloading llama_index_indices_managed_llama_cloud-0.6.0-py3-none-any.whl.metadata (3.8 kB)\n",
            "  Downloading llama_index_indices_managed_llama_cloud-0.5.0-py3-none-any.whl.metadata (3.8 kB)\n",
            "INFO: This is taking longer than usual. You might need to provide the dependency resolver with stricter constraints to reduce runtime. See https://pip.pypa.io/warnings/backtracking for guidance. If you want to abort this run, press Ctrl + C.\n",
            "  Downloading llama_index_indices_managed_llama_cloud-0.4.2-py3-none-any.whl.metadata (3.8 kB)\n",
            "  Downloading llama_index_indices_managed_llama_cloud-0.4.1-py3-none-any.whl.metadata (3.8 kB)\n",
            "  Downloading llama_index_indices_managed_llama_cloud-0.4.0-py3-none-any.whl.metadata (3.8 kB)\n",
            "  Downloading llama_index_indices_managed_llama_cloud-0.3.1-py3-none-any.whl.metadata (3.8 kB)\n",
            "  Downloading llama_index_indices_managed_llama_cloud-0.3.0-py3-none-any.whl.metadata (3.8 kB)\n",
            "  Downloading llama_index_indices_managed_llama_cloud-0.2.7-py3-none-any.whl.metadata (3.8 kB)\n",
            "Requirement already satisfied: beautifulsoup4<5.0.0,>=4.12.3 in /usr/local/lib/python3.11/dist-packages (from llama-index-readers-file<0.2.0,>=0.1.4->llama-index==0.10.64) (4.13.3)\n",
            "Collecting pypdf<5.0.0,>=4.0.1 (from llama-index-readers-file<0.2.0,>=0.1.4->llama-index==0.10.64)\n",
            "  Downloading pypdf-4.3.1-py3-none-any.whl.metadata (7.4 kB)\n",
            "Collecting striprtf<0.0.27,>=0.0.26 (from llama-index-readers-file<0.2.0,>=0.1.4->llama-index==0.10.64)\n",
            "  Downloading striprtf-0.0.26-py3-none-any.whl.metadata (2.1 kB)\n",
            "INFO: pip is looking at multiple versions of llama-index-readers-llama-parse to determine which version is compatible with other requirements. This could take a while.\n",
            "Collecting llama-index-readers-llama-parse>=0.1.2 (from llama-index==0.10.64)\n",
            "  Downloading llama_index_readers_llama_parse-0.3.0-py3-none-any.whl.metadata (3.5 kB)\n",
            "  Downloading llama_index_readers_llama_parse-0.2.0-py3-none-any.whl.metadata (3.6 kB)\n",
            "  Downloading llama_index_readers_llama_parse-0.1.6-py3-none-any.whl.metadata (3.6 kB)\n",
            "Collecting llama-parse>=0.4.0 (from llama-index-readers-llama-parse>=0.1.2->llama-index==0.10.64)\n",
            "  Downloading llama_parse-0.6.9-py3-none-any.whl.metadata (6.9 kB)\n",
            "Requirement already satisfied: aiohappyeyeballs>=2.3.0 in /usr/local/lib/python3.11/dist-packages (from aiohttp<4.0.0,>=3.8.6->llama-index-core<0.11.0,>=0.10.64->llama-index==0.10.64) (2.6.1)\n",
            "Requirement already satisfied: aiosignal>=1.1.2 in /usr/local/lib/python3.11/dist-packages (from aiohttp<4.0.0,>=3.8.6->llama-index-core<0.11.0,>=0.10.64->llama-index==0.10.64) (1.3.2)\n",
            "Requirement already satisfied: attrs>=17.3.0 in /usr/local/lib/python3.11/dist-packages (from aiohttp<4.0.0,>=3.8.6->llama-index-core<0.11.0,>=0.10.64->llama-index==0.10.64) (25.3.0)\n",
            "Requirement already satisfied: frozenlist>=1.1.1 in /usr/local/lib/python3.11/dist-packages (from aiohttp<4.0.0,>=3.8.6->llama-index-core<0.11.0,>=0.10.64->llama-index==0.10.64) (1.5.0)\n",
            "Requirement already satisfied: multidict<7.0,>=4.5 in /usr/local/lib/python3.11/dist-packages (from aiohttp<4.0.0,>=3.8.6->llama-index-core<0.11.0,>=0.10.64->llama-index==0.10.64) (6.2.0)\n",
            "Requirement already satisfied: propcache>=0.2.0 in /usr/local/lib/python3.11/dist-packages (from aiohttp<4.0.0,>=3.8.6->llama-index-core<0.11.0,>=0.10.64->llama-index==0.10.64) (0.3.1)\n",
            "Requirement already satisfied: yarl<2.0,>=1.17.0 in /usr/local/lib/python3.11/dist-packages (from aiohttp<4.0.0,>=3.8.6->llama-index-core<0.11.0,>=0.10.64->llama-index==0.10.64) (1.18.3)\n",
            "Requirement already satisfied: soupsieve>1.2 in /usr/local/lib/python3.11/dist-packages (from beautifulsoup4<5.0.0,>=4.12.3->llama-index-readers-file<0.2.0,>=0.1.4->llama-index==0.10.64) (2.6)\n",
            "Requirement already satisfied: certifi>=2024.7.4 in /usr/local/lib/python3.11/dist-packages (from llama-cloud<0.2.0,>=0.1.13->llama-index-indices-managed-llama-cloud>=0.2.0->llama-index==0.10.64) (2025.1.31)\n",
            "Requirement already satisfied: anyio in /usr/local/lib/python3.11/dist-packages (from httpx->llama-index-core<0.11.0,>=0.10.64->llama-index==0.10.64) (4.9.0)\n",
            "Requirement already satisfied: httpcore==1.* in /usr/local/lib/python3.11/dist-packages (from httpx->llama-index-core<0.11.0,>=0.10.64->llama-index==0.10.64) (1.0.7)\n",
            "Requirement already satisfied: idna in /usr/local/lib/python3.11/dist-packages (from httpx->llama-index-core<0.11.0,>=0.10.64->llama-index==0.10.64) (3.10)\n",
            "Requirement already satisfied: h11<0.15,>=0.13 in /usr/local/lib/python3.11/dist-packages (from httpcore==1.*->httpx->llama-index-core<0.11.0,>=0.10.64->llama-index==0.10.64) (0.14.0)\n",
            "Collecting llama-cloud-services>=0.6.9 (from llama-parse>=0.4.0->llama-index-readers-llama-parse>=0.1.2->llama-index==0.10.64)\n",
            "  Downloading llama_cloud_services-0.6.10-py3-none-any.whl.metadata (3.5 kB)\n",
            "Requirement already satisfied: click in /usr/local/lib/python3.11/dist-packages (from nltk!=3.9,>=3.8.1->llama-index-core<0.11.0,>=0.10.64->llama-index==0.10.64) (8.1.8)\n",
            "Requirement already satisfied: joblib in /usr/local/lib/python3.11/dist-packages (from nltk!=3.9,>=3.8.1->llama-index-core<0.11.0,>=0.10.64->llama-index==0.10.64) (1.4.2)\n",
            "Requirement already satisfied: regex>=2021.8.3 in /usr/local/lib/python3.11/dist-packages (from nltk!=3.9,>=3.8.1->llama-index-core<0.11.0,>=0.10.64->llama-index==0.10.64) (2024.11.6)\n",
            "Requirement already satisfied: distro<2,>=1.7.0 in /usr/local/lib/python3.11/dist-packages (from openai>=1.14.0->llama-index-agent-openai<0.3.0,>=0.1.4->llama-index==0.10.64) (1.9.0)\n",
            "Requirement already satisfied: jiter<1,>=0.4.0 in /usr/local/lib/python3.11/dist-packages (from openai>=1.14.0->llama-index-agent-openai<0.3.0,>=0.1.4->llama-index==0.10.64) (0.9.0)\n",
            "Requirement already satisfied: sniffio in /usr/local/lib/python3.11/dist-packages (from openai>=1.14.0->llama-index-agent-openai<0.3.0,>=0.1.4->llama-index==0.10.64) (1.3.1)\n",
            "Requirement already satisfied: annotated-types>=0.6.0 in /usr/local/lib/python3.11/dist-packages (from pydantic<3.0->llama-index-core<0.11.0,>=0.10.64->llama-index==0.10.64) (0.7.0)\n",
            "Requirement already satisfied: pydantic-core==2.33.1 in /usr/local/lib/python3.11/dist-packages (from pydantic<3.0->llama-index-core<0.11.0,>=0.10.64->llama-index==0.10.64) (2.33.1)\n",
            "Requirement already satisfied: typing-inspection>=0.4.0 in /usr/local/lib/python3.11/dist-packages (from pydantic<3.0->llama-index-core<0.11.0,>=0.10.64->llama-index==0.10.64) (0.4.0)\n",
            "Requirement already satisfied: charset-normalizer<4,>=2 in /usr/local/lib/python3.11/dist-packages (from requests>=2.31.0->llama-index-core<0.11.0,>=0.10.64->llama-index==0.10.64) (3.4.1)\n",
            "Requirement already satisfied: urllib3<3,>=1.21.1 in /usr/local/lib/python3.11/dist-packages (from requests>=2.31.0->llama-index-core<0.11.0,>=0.10.64->llama-index==0.10.64) (2.3.0)\n",
            "Requirement already satisfied: greenlet>=1 in /usr/local/lib/python3.11/dist-packages (from SQLAlchemy>=1.4.49->SQLAlchemy[asyncio]>=1.4.49->llama-index-core<0.11.0,>=0.10.64->llama-index==0.10.64) (3.1.1)\n",
            "Requirement already satisfied: mypy-extensions>=0.3.0 in /usr/local/lib/python3.11/dist-packages (from typing-inspect>=0.8.0->llama-index-core<0.11.0,>=0.10.64->llama-index==0.10.64) (1.0.0)\n",
            "Requirement already satisfied: marshmallow<4.0.0,>=3.18.0 in /usr/local/lib/python3.11/dist-packages (from dataclasses-json->llama-index-core<0.11.0,>=0.10.64->llama-index==0.10.64) (3.26.1)\n",
            "Requirement already satisfied: python-dateutil>=2.8.2 in /usr/local/lib/python3.11/dist-packages (from pandas->llama-index-core<0.11.0,>=0.10.64->llama-index==0.10.64) (2.8.2)\n",
            "Requirement already satisfied: pytz>=2020.1 in /usr/local/lib/python3.11/dist-packages (from pandas->llama-index-core<0.11.0,>=0.10.64->llama-index==0.10.64) (2025.2)\n",
            "Requirement already satisfied: tzdata>=2022.7 in /usr/local/lib/python3.11/dist-packages (from pandas->llama-index-core<0.11.0,>=0.10.64->llama-index==0.10.64) (2025.2)\n",
            "INFO: pip is looking at multiple versions of llama-cloud-services to determine which version is compatible with other requirements. This could take a while.\n",
            "  Downloading llama_cloud_services-0.6.9-py3-none-any.whl.metadata (2.9 kB)\n",
            "Collecting llama-parse>=0.4.0 (from llama-index-readers-llama-parse>=0.1.2->llama-index==0.10.64)\n",
            "  Downloading llama_parse-0.6.4.post1-py3-none-any.whl.metadata (6.9 kB)\n",
            "Collecting llama-cloud-services>=0.6.4 (from llama-parse>=0.4.0->llama-index-readers-llama-parse>=0.1.2->llama-index==0.10.64)\n",
            "  Downloading llama_cloud_services-0.6.8-py3-none-any.whl.metadata (2.9 kB)\n",
            "  Downloading llama_cloud_services-0.6.7-py3-none-any.whl.metadata (2.9 kB)\n",
            "  Downloading llama_cloud_services-0.6.6-py3-none-any.whl.metadata (2.9 kB)\n",
            "  Downloading llama_cloud_services-0.6.5-py3-none-any.whl.metadata (2.9 kB)\n",
            "INFO: pip is still looking at multiple versions of llama-cloud-services to determine which version is compatible with other requirements. This could take a while.\n",
            "  Downloading llama_cloud_services-0.6.4-py3-none-any.whl.metadata (2.9 kB)\n",
            "Collecting llama-parse>=0.4.0 (from llama-index-readers-llama-parse>=0.1.2->llama-index==0.10.64)\n",
            "  Downloading llama_parse-0.6.4-py3-none-any.whl.metadata (6.9 kB)\n",
            "INFO: This is taking longer than usual. You might need to provide the dependency resolver with stricter constraints to reduce runtime. See https://pip.pypa.io/warnings/backtracking for guidance. If you want to abort this run, press Ctrl + C.\n",
            "Collecting llama-cloud-services>=0.6.3 (from llama-parse>=0.4.0->llama-index-readers-llama-parse>=0.1.2->llama-index==0.10.64)\n",
            "  Downloading llama_cloud_services-0.6.3-py3-none-any.whl.metadata (2.9 kB)\n",
            "Collecting llama-parse>=0.4.0 (from llama-index-readers-llama-parse>=0.1.2->llama-index==0.10.64)\n",
            "  Downloading llama_parse-0.6.2-py3-none-any.whl.metadata (6.9 kB)\n",
            "Collecting llama-cloud-services>=0.6.2 (from llama-parse>=0.4.0->llama-index-readers-llama-parse>=0.1.2->llama-index==0.10.64)\n",
            "  Downloading llama_cloud_services-0.6.2-py3-none-any.whl.metadata (2.8 kB)\n",
            "Collecting llama-parse>=0.4.0 (from llama-index-readers-llama-parse>=0.1.2->llama-index==0.10.64)\n",
            "  Downloading llama_parse-0.6.1-py3-none-any.whl.metadata (6.9 kB)\n",
            "Collecting llama-cloud-services>=0.6.1 (from llama-parse>=0.4.0->llama-index-readers-llama-parse>=0.1.2->llama-index==0.10.64)\n",
            "  Downloading llama_cloud_services-0.6.1-py3-none-any.whl.metadata (2.7 kB)\n",
            "Collecting llama-parse>=0.4.0 (from llama-index-readers-llama-parse>=0.1.2->llama-index==0.10.64)\n",
            "  Downloading llama_parse-0.6.0-py3-none-any.whl.metadata (6.8 kB)\n",
            "Collecting llama-cloud-services (from llama-parse>=0.4.0->llama-index-readers-llama-parse>=0.1.2->llama-index==0.10.64)\n",
            "  Downloading llama_cloud_services-0.6.0-py3-none-any.whl.metadata (2.7 kB)\n",
            "Collecting llama-parse>=0.4.0 (from llama-index-readers-llama-parse>=0.1.2->llama-index==0.10.64)\n",
            "  Downloading llama_parse-0.5.20-py3-none-any.whl.metadata (6.9 kB)\n",
            "INFO: pip is looking at multiple versions of llama-parse to determine which version is compatible with other requirements. This could take a while.\n",
            "  Downloading llama_parse-0.5.19-py3-none-any.whl.metadata (7.0 kB)\n",
            "  Downloading llama_parse-0.5.18-py3-none-any.whl.metadata (7.0 kB)\n",
            "  Downloading llama_parse-0.5.17-py3-none-any.whl.metadata (7.0 kB)\n",
            "  Downloading llama_parse-0.5.16-py3-none-any.whl.metadata (7.0 kB)\n",
            "  Downloading llama_parse-0.5.15-py3-none-any.whl.metadata (7.0 kB)\n",
            "  Downloading llama_parse-0.5.14-py3-none-any.whl.metadata (6.9 kB)\n",
            "  Downloading llama_parse-0.5.13-py3-none-any.whl.metadata (6.9 kB)\n",
            "INFO: pip is still looking at multiple versions of llama-parse to determine which version is compatible with other requirements. This could take a while.\n",
            "  Downloading llama_parse-0.5.12-py3-none-any.whl.metadata (6.9 kB)\n",
            "  Downloading llama_parse-0.5.11-py3-none-any.whl.metadata (6.9 kB)\n",
            "  Downloading llama_parse-0.5.10-py3-none-any.whl.metadata (6.9 kB)\n",
            "  Downloading llama_parse-0.5.9-py3-none-any.whl.metadata (6.9 kB)\n",
            "  Downloading llama_parse-0.5.8-py3-none-any.whl.metadata (6.4 kB)\n",
            "INFO: This is taking longer than usual. You might need to provide the dependency resolver with stricter constraints to reduce runtime. See https://pip.pypa.io/warnings/backtracking for guidance. If you want to abort this run, press Ctrl + C.\n",
            "  Downloading llama_parse-0.5.7-py3-none-any.whl.metadata (6.4 kB)\n",
            "  Downloading llama_parse-0.5.6-py3-none-any.whl.metadata (6.1 kB)\n",
            "  Downloading llama_parse-0.5.5-py3-none-any.whl.metadata (6.1 kB)\n",
            "  Downloading llama_parse-0.5.4-py3-none-any.whl.metadata (6.1 kB)\n",
            "  Downloading llama_parse-0.5.3-py3-none-any.whl.metadata (4.5 kB)\n",
            "  Downloading llama_parse-0.5.2-py3-none-any.whl.metadata (4.5 kB)\n",
            "  Downloading llama_parse-0.5.1-py3-none-any.whl.metadata (4.5 kB)\n",
            "  Downloading llama_parse-0.5.0-py3-none-any.whl.metadata (4.4 kB)\n",
            "  Downloading llama_parse-0.4.9-py3-none-any.whl.metadata (4.4 kB)\n",
            "Requirement already satisfied: packaging>=17.0 in /usr/local/lib/python3.11/dist-packages (from marshmallow<4.0.0,>=3.18.0->dataclasses-json->llama-index-core<0.11.0,>=0.10.64->llama-index==0.10.64) (24.2)\n",
            "Requirement already satisfied: six>=1.5 in /usr/local/lib/python3.11/dist-packages (from python-dateutil>=2.8.2->pandas->llama-index-core<0.11.0,>=0.10.64->llama-index==0.10.64) (1.17.0)\n",
            "Downloading llama_index-0.10.64-py3-none-any.whl (6.8 kB)\n",
            "Downloading llama_index_agent_openai-0.2.9-py3-none-any.whl (13 kB)\n",
            "Downloading llama_index_cli-0.1.13-py3-none-any.whl (27 kB)\n",
            "Downloading llama_index_embeddings_openai-0.1.11-py3-none-any.whl (6.3 kB)\n",
            "Downloading llama_index_indices_managed_llama_cloud-0.2.7-py3-none-any.whl (9.5 kB)\n",
            "Downloading llama_index_legacy-0.9.48.post4-py3-none-any.whl (1.2 MB)\n",
            "\u001b[2K   \u001b[90m━━━━━━━━━━━━━━━━━━━━━━━━━━━━━━━━━━━━━━━━\u001b[0m \u001b[32m1.2/1.2 MB\u001b[0m \u001b[31m19.2 MB/s\u001b[0m eta \u001b[36m0:00:00\u001b[0m\n",
            "\u001b[?25hDownloading llama_index_llms_openai-0.1.31-py3-none-any.whl (12 kB)\n",
            "Downloading llama_index_multi_modal_llms_openai-0.1.9-py3-none-any.whl (5.9 kB)\n",
            "Downloading llama_index_program_openai-0.1.7-py3-none-any.whl (5.3 kB)\n",
            "Downloading llama_index_question_gen_openai-0.1.3-py3-none-any.whl (2.9 kB)\n",
            "Downloading llama_index_readers_file-0.1.33-py3-none-any.whl (38 kB)\n",
            "Downloading llama_index_readers_llama_parse-0.1.6-py3-none-any.whl (2.5 kB)\n",
            "Downloading llama_cloud-0.1.18-py3-none-any.whl (253 kB)\n",
            "\u001b[2K   \u001b[90m━━━━━━━━━━━━━━━━━━━━━━━━━━━━━━━━━━━━━━━━\u001b[0m \u001b[32m253.1/253.1 kB\u001b[0m \u001b[31m21.5 MB/s\u001b[0m eta \u001b[36m0:00:00\u001b[0m\n",
            "\u001b[?25hDownloading llama_parse-0.4.9-py3-none-any.whl (9.4 kB)\n",
            "Downloading pypdf-4.3.1-py3-none-any.whl (295 kB)\n",
            "\u001b[2K   \u001b[90m━━━━━━━━━━━━━━━━━━━━━━━━━━━━━━━━━━━━━━━━\u001b[0m \u001b[32m295.8/295.8 kB\u001b[0m \u001b[31m26.9 MB/s\u001b[0m eta \u001b[36m0:00:00\u001b[0m\n",
            "\u001b[?25hDownloading striprtf-0.0.26-py3-none-any.whl (6.9 kB)\n",
            "Installing collected packages: striprtf, pypdf, llama-cloud, llama-parse, llama-index-readers-file, llama-index-llms-openai, llama-index-legacy, llama-index-indices-managed-llama-cloud, llama-index-embeddings-openai, llama-index-readers-llama-parse, llama-index-multi-modal-llms-openai, llama-index-cli, llama-index-agent-openai, llama-index-program-openai, llama-index-question-gen-openai, llama-index\n",
            "Successfully installed llama-cloud-0.1.18 llama-index-0.10.64 llama-index-agent-openai-0.2.9 llama-index-cli-0.1.13 llama-index-embeddings-openai-0.1.11 llama-index-indices-managed-llama-cloud-0.2.7 llama-index-legacy-0.9.48.post4 llama-index-llms-openai-0.1.31 llama-index-multi-modal-llms-openai-0.1.9 llama-index-program-openai-0.1.7 llama-index-question-gen-openai-0.1.3 llama-index-readers-file-0.1.33 llama-index-readers-llama-parse-0.1.6 llama-parse-0.4.9 pypdf-4.3.1 striprtf-0.0.26\n"
          ]
        }
      ]
    },
    {
      "cell_type": "code",
      "source": [
        "# !pip install openai==1.66.3"
      ],
      "metadata": {
        "id": "o7cGa5L57DB1"
      },
      "execution_count": null,
      "outputs": []
    },
    {
      "cell_type": "code",
      "source": [
        "from google.colab import userdata\n",
        "api_key = userdata.get('OPENAI_KEY')\n",
        "deeplake_token = userdata.get('ACTIVELOOP_TOKEN')"
      ],
      "metadata": {
        "id": "4WVemLO_V9L0"
      },
      "execution_count": 2,
      "outputs": []
    },
    {
      "cell_type": "code",
      "source": [
        "import openai\n",
        "openai.api_key = api_key"
      ],
      "metadata": {
        "id": "mAAZlWoHV9Nx"
      },
      "execution_count": 3,
      "outputs": []
    },
    {
      "cell_type": "code",
      "source": [
        "import os\n",
        "os.environ['ACTIVELOOP_TOKEN'] = deeplake_token"
      ],
      "metadata": {
        "id": "rScTHcwIV9R-"
      },
      "execution_count": 4,
      "outputs": []
    },
    {
      "cell_type": "markdown",
      "source": [
        "\n",
        "# Pipeline 1: Collecting and Preparing Documents"
      ],
      "metadata": {
        "id": "Ig1iwcrg9s6M"
      }
    },
    {
      "cell_type": "code",
      "source": [
        "urls = [\n",
        "    \"https://github.com/VisDrone/VisDrone-Dataset\",\n",
        "    \"https://paperswithcode.com/dataset/visdrone\",\n",
        "    \"https://openaccess.thecvf.com/content_ECCVW_2018/papers/11133/Zhu_VisDrone-DET2018_The_Vision_Meets_Drone_Object_Detection_in_Image_Challenge_ECCVW_2018_paper.pdf\",\n",
        "    \"https://github.com/VisDrone/VisDrone2018-MOT-toolkit\",\n",
        "    \"https://en.wikipedia.org/wiki/Object_detection\",\n",
        "    \"https://en.wikipedia.org/wiki/Computer_vision\",\n",
        "    \"https://en.wikipedia.org/wiki/Convolutional_neural_network\",\n",
        "    \"https://en.wikipedia.org/wiki/Unmanned_aerial_vehicle\",\n",
        "    \"https://www.faa.gov/uas/\",\n",
        "    \"https://www.tensorflow.org/\",\n",
        "    \"https://pytorch.org/\",\n",
        "    \"https://keras.io/\",\n",
        "    \"https://arxiv.org/abs/1804.06985\",\n",
        "    \"https://arxiv.org/abs/2202.11983\",\n",
        "    \"https://motchallenge.net/\",\n",
        "    \"http://www.cvlibs.net/datasets/kitti/\",\n",
        "    \"https://www.dronedeploy.com/\",\n",
        "    \"https://www.dji.com/\",\n",
        "    \"https://arxiv.org/\",\n",
        "    \"https://openaccess.thecvf.com/\",\n",
        "    \"https://roboflow.com/\",\n",
        "    \"https://www.kaggle.com/\",\n",
        "    \"https://paperswithcode.com/\",\n",
        "    \"https://github.com/\"\n",
        "]"
      ],
      "metadata": {
        "id": "iWs-e6FHV9YT"
      },
      "execution_count": 5,
      "outputs": []
    },
    {
      "cell_type": "code",
      "source": [
        "!mkdir data"
      ],
      "metadata": {
        "id": "jBRDPqsi8BzX"
      },
      "execution_count": 6,
      "outputs": []
    },
    {
      "cell_type": "code",
      "source": [
        "import requests\n",
        "import re\n",
        "import os\n",
        "from bs4 import BeautifulSoup\n",
        "\n",
        "def clean_text(content):\n",
        "    # Remove references and unwanted characters\n",
        "    content = re.sub(r'\\[\\d+\\]', '', content)   # Remove references\n",
        "    content = re.sub(r'[^\\w\\s\\.]', '', content)  # Remove punctuation (except periods)\n",
        "    return content\n",
        "\n",
        "def fetch_and_clean(url):\n",
        "    try:\n",
        "        response = requests.get(url)\n",
        "        response.raise_for_status()  # Raise exception for bad responses (e.g., 404)\n",
        "        soup = BeautifulSoup(response.content, 'html.parser')\n",
        "\n",
        "        # Prioritize \"mw-parser-output\" but fall back to \"content\" class if not found\n",
        "        content = soup.find('div', {'class': 'mw-parser-output'}) or soup.find('div', {'id': 'content'})\n",
        "        if content is None:\n",
        "            return None\n",
        "\n",
        "        # Remove specific sections, including nested ones\n",
        "        for section_title in ['References', 'Bibliography', 'External links', 'See also', 'Notes']:\n",
        "            section = content.find('span', id=section_title)\n",
        "            while section:\n",
        "                for sib in section.parent.find_next_siblings():\n",
        "                    sib.decompose()\n",
        "                section.parent.decompose()\n",
        "                section = content.find('span', id=section_title)\n",
        "\n",
        "        # Extract and clean text\n",
        "        text = content.get_text(separator=' ', strip=True)\n",
        "        text = clean_text(text)\n",
        "        return text\n",
        "    except requests.exceptions.RequestException as e:\n",
        "        print(f\"Error fetching content from {url}: {e}\")\n",
        "        return None  # Return None on error\n",
        "\n",
        "# Directory to store the output files\n",
        "output_dir = './data/'  # More descriptive name\n",
        "os.makedirs(output_dir, exist_ok=True)\n",
        "\n",
        "# Processing each URL (and skipping invalid ones)\n",
        "for url in urls:\n",
        "    article_name = url.split('/')[-1].replace('.html', '')  # Handle .html extension\n",
        "    filename = os.path.join(output_dir, f\"{article_name}.txt\")\n",
        "\n",
        "    clean_article_text = fetch_and_clean(url)\n",
        "    if clean_article_text:  # Only write to file if content exists\n",
        "        with open(filename, 'w', encoding='utf-8') as file:\n",
        "            file.write(clean_article_text)\n",
        "\n",
        "print(f\"Content(ones that were possible) written to files in the '{output_dir}' directory.\")"
      ],
      "metadata": {
        "colab": {
          "base_uri": "https://localhost:8080/"
        },
        "id": "mYJsdoEA8B1p",
        "outputId": "9f7b4823-0570-4115-e068-1d9969c1c3d8"
      },
      "execution_count": 7,
      "outputs": [
        {
          "output_type": "stream",
          "name": "stderr",
          "text": [
            "WARNING:bs4.dammit:Some characters could not be decoded, and were replaced with REPLACEMENT CHARACTER.\n"
          ]
        },
        {
          "output_type": "stream",
          "name": "stdout",
          "text": [
            "Content(ones that were possible) written to files in the './data/' directory.\n"
          ]
        }
      ]
    },
    {
      "cell_type": "code",
      "source": [
        "from llama_index.core import VectorStoreIndex, SimpleDirectoryReader, Document\n",
        "from llama_index.vector_stores.deeplake import DeepLakeVectorStore"
      ],
      "metadata": {
        "id": "yt54IhiW8B6D",
        "colab": {
          "base_uri": "https://localhost:8080/"
        },
        "outputId": "49650084-aa31-44b6-b7fd-85bb20db789a"
      },
      "execution_count": 8,
      "outputs": [
        {
          "output_type": "stream",
          "name": "stderr",
          "text": [
            "[nltk_data] Downloading package punkt_tab to\n",
            "[nltk_data]     /usr/local/lib/python3.11/dist-\n",
            "[nltk_data]     packages/llama_index/core/_static/nltk_cache...\n",
            "[nltk_data]   Unzipping tokenizers/punkt_tab.zip.\n",
            "/usr/local/lib/python3.11/dist-packages/deeplake/util/check_latest_version.py:32: UserWarning: A newer version of deeplake (4.1.18) is available. It's recommended that you update to the latest version using `pip install -U deeplake`.\n",
            "  warnings.warn(\n"
          ]
        }
      ]
    },
    {
      "cell_type": "markdown",
      "source": [
        "# Load the documents from ./data/"
      ],
      "metadata": {
        "id": "Ucw6-r6Y9w-M"
      }
    },
    {
      "cell_type": "code",
      "source": [
        "documents = SimpleDirectoryReader(\"./data/\").load_data()"
      ],
      "metadata": {
        "id": "xkSdHj1P8B-I"
      },
      "execution_count": 9,
      "outputs": []
    },
    {
      "cell_type": "code",
      "source": [
        "documents[0]"
      ],
      "metadata": {
        "colab": {
          "base_uri": "https://localhost:8080/"
        },
        "id": "MZBBBiqI8CAJ",
        "outputId": "118acefc-91db-4736-9c93-dfa63d4e82cf"
      },
      "execution_count": null,
      "outputs": [
        {
          "output_type": "execute_result",
          "data": {
            "text/plain": [
              "Document(id_='d6c1c9b9-3488-4c08-abd4-24de65170bb5', embedding=None, metadata={'file_path': '/content/data/1804.06985.txt', 'file_name': '1804.06985.txt', 'file_type': 'text/plain', 'file_size': 3798, 'creation_date': '2025-03-16', 'last_modified_date': '2025-03-16'}, excluded_embed_metadata_keys=['file_name', 'file_type', 'file_size', 'creation_date', 'last_modified_date', 'last_accessed_date'], excluded_llm_metadata_keys=['file_name', 'file_type', 'file_size', 'creation_date', 'last_modified_date', 'last_accessed_date'], relationships={}, text='High Energy Physics  Theory arXiv1804.06985 hepth Submitted on 19 Apr 2018 Title A Near Horizon Extreme Binary Black Hole Geometry Authors Jacob Ciafre  Maria J. Rodriguez View a PDF of the paper titled A Near Horizon Extreme Binary Black Hole Geometry by Jacob Ciafre and Maria J. Rodriguez View PDF Abstract A new solution of fourdimensional vacuum General Relativity is presented. It describes the near horizon region of the extreme maximally spinning binary black hole system with two identical extreme Kerr black holes held in equilibrium by a massless strut. This is the first example of a nonsupersymmetric asymptotically flat near horizon extreme binary black hole geometry of two uncharged black holes. The black holes are corotating and the solution is uniquely specified by the mass. The binary extreme system has finite entropy. The distance between the black holes is fixed but there is a zerodistance limit where the objects collapse into one. This limiting geometry corresponds to the near horizon extreme Kerr NHEK black hole. Comments 1 figure Subjects High Energy Physics  Theory hepth  High Energy Astrophysical Phenomena astroph.HE General Relativity and Quantum Cosmology grqc Cite as arXiv1804.06985 hepth or arXiv1804.06985v1 hepth for this version httpsdoi.org10.48550arXiv.1804.06985 Focus to learn more arXivissued DOI via DataCite Related DOI  httpsdoi.org10.1140epjcs1005201971883 Focus to learn more DOIs linking to related resources Submission history From Maria J. Rodriguez  view email  v1 Thu 19 Apr 2018 031545 UTC 173 KB Fulltext links Access Paper View a PDF of the paper titled A Near Horizon Extreme Binary Black Hole Geometry by Jacob Ciafre and Maria J. Rodriguez View PDF TeX Source Other Formats view license Current browse context hepth \\xa0prev  next\\xa0 new  recent  201804 Change to browse by astroph astroph.HE grqc References  Citations INSPIRE HEP NASA ADS Google Scholar Semantic Scholar a export BibTeX citation Loading... BibTeX formatted citation  loading... Data provided by Bookmark Bibliographic Tools Bibliographic and Citation Tools Bibliographic Explorer Toggle Bibliographic Explorer  What is the Explorer  Connected Papers Toggle Connected Papers  What is Connected Papers  Litmaps Toggle Litmaps  What is Litmaps  scite.ai Toggle scite Smart Citations  What are Smart Citations  Code Data Media Code Data and Media Associated with this Article alphaXiv Toggle alphaXiv  What is alphaXiv  Links to Code Toggle CatalyzeX Code Finder for Papers  What is CatalyzeX  DagsHub Toggle DagsHub  What is DagsHub  GotitPub Toggle Gotit.pub  What is GotitPub  Huggingface Toggle Hugging Face  What is Huggingface  Links to Code Toggle Papers with Code  What is Papers with Code  ScienceCast Toggle ScienceCast  What is ScienceCast  Demos Demos Replicate Toggle Replicate  What is Replicate  Spaces Toggle Hugging Face Spaces  What is Spaces  Spaces Toggle TXYZ.AI  What is TXYZ.AI  Related Papers Recommenders and Search Tools Link to Influence Flower Influence Flower  What are Influence Flowers  Core recommender toggle CORE Recommender  What is CORE  IArxiv recommender toggle IArxiv Recommender  What is IArxiv  Author Venue Institution Topic About arXivLabs arXivLabs experimental projects with community collaborators arXivLabs is a framework that allows collaborators to develop and share new arXiv features directly on our website. Both individuals and organizations that work with arXivLabs have embraced and accepted our values of openness community excellence and user data privacy. arXiv is committed to these values and only works with partners that adhere to them. Have an idea for a project that will add value for arXivs community Learn more about arXivLabs . Which authors of this paper are endorsers  Disable MathJax  What is MathJax ', mimetype='text/plain', start_char_idx=None, end_char_idx=None, text_template='{metadata_str}\\n\\n{content}', metadata_template='{key}: {value}', metadata_seperator='\\n')"
            ]
          },
          "metadata": {},
          "execution_count": 19
        }
      ]
    },
    {
      "cell_type": "markdown",
      "source": [
        "# Pipeline 2 : Creating and Populating a Deep Lake Vector store"
      ],
      "metadata": {
        "id": "27ipuHAi-GsN"
      }
    },
    {
      "cell_type": "code",
      "source": [
        "from llama_index.core import StorageContext\n",
        "\n",
        "vector_store_path = \"hub://ajithdevadiga/drone_dataV2\"\n",
        "dataset_path = \"hub://ajithdevadiga/drone_dataV2\"\n",
        "\n",
        "vector_store = DeepLakeVectorStore(dataset_path=dataset_path, overwrite=True)\n",
        "storage_context = StorageContext.from_defaults(vector_store=vector_store)\n",
        "\n",
        "index = VectorStoreIndex.from_documents(documents, storage_context=storage_context)"
      ],
      "metadata": {
        "colab": {
          "base_uri": "https://localhost:8080/"
        },
        "id": "Ox6h33WA8CCV",
        "outputId": "8ef8dafe-559b-434e-807b-1f5a137f5415"
      },
      "execution_count": 25,
      "outputs": [
        {
          "output_type": "stream",
          "name": "stdout",
          "text": [
            "Your Deep Lake dataset has been successfully created!\n"
          ]
        },
        {
          "output_type": "stream",
          "name": "stderr",
          "text": []
        },
        {
          "output_type": "stream",
          "name": "stdout",
          "text": [
            "Uploading data to deeplake dataset.\n"
          ]
        },
        {
          "output_type": "stream",
          "name": "stderr",
          "text": [
            "100%|██████████| 87/87 [00:00<00:00, 167.72it/s]\n",
            "/"
          ]
        },
        {
          "output_type": "stream",
          "name": "stdout",
          "text": [
            "Dataset(path='hub://ajithdevadiga/drone_dataV2', tensors=['text', 'metadata', 'embedding', 'id'])\n",
            "\n",
            "  tensor      htype      shape      dtype  compression\n",
            "  -------    -------    -------    -------  ------- \n",
            "   text       text      (87, 1)      str     None   \n",
            " metadata     json      (87, 1)      str     None   \n",
            " embedding  embedding  (87, 1536)  float32   None   \n",
            "    id        text      (87, 1)      str     None   \n"
          ]
        },
        {
          "output_type": "stream",
          "name": "stderr",
          "text": [
            "\r \r"
          ]
        }
      ]
    },
    {
      "cell_type": "code",
      "source": [
        "import deeplake\n",
        "ds = deeplake.load('hub://ajithdevadiga/drone_dataV2')"
      ],
      "metadata": {
        "colab": {
          "base_uri": "https://localhost:8080/"
        },
        "id": "akDfnz698CEP",
        "outputId": "a1d340b3-1bbe-40f7-d352-1c82534fbe61"
      },
      "execution_count": 26,
      "outputs": [
        {
          "output_type": "stream",
          "name": "stderr",
          "text": [
            "\\"
          ]
        },
        {
          "output_type": "stream",
          "name": "stdout",
          "text": [
            "This dataset can be visualized in Jupyter Notebook by ds.visualize() or at https://app.activeloop.ai/ajithdevadiga/drone_dataV2\n",
            "\n"
          ]
        },
        {
          "output_type": "stream",
          "name": "stderr",
          "text": [
            "|"
          ]
        },
        {
          "output_type": "stream",
          "name": "stdout",
          "text": [
            "hub://ajithdevadiga/drone_dataV2 loaded successfully.\n",
            "\n"
          ]
        },
        {
          "output_type": "stream",
          "name": "stderr",
          "text": [
            "\r \r\r\r"
          ]
        }
      ]
    },
    {
      "cell_type": "code",
      "source": [
        "import json\n",
        "import pandas as pd\n",
        "import numpy as np\n",
        "\n",
        "# Assuming 'ds' is your loaded Deep Lake dataset\n",
        "\n",
        "# Create a dictionary to hold the data\n",
        "data = {}\n",
        "\n",
        "# Iterate through the tensors in the dataset\n",
        "for tensor_name in ds.tensors:\n",
        "    tensor_data = ds[tensor_name].numpy()\n",
        "\n",
        "    # Check if the tensor is multi-dimensional\n",
        "    if tensor_data.ndim > 1:\n",
        "        # Flatten multi-dimensional tensors\n",
        "        data[tensor_name] = [np.array(e).flatten().tolist() for e in tensor_data]\n",
        "    else:\n",
        "        # Convert 1D tensors directly to lists and decode text\n",
        "        if tensor_name == \"text\":\n",
        "            data[tensor_name] = [t.tobytes().decode('utf-8') if t else \"\" for t in tensor_data]\n",
        "        else:\n",
        "            data[tensor_name] = tensor_data.tolist()\n",
        "\n",
        "# Create a Pandas DataFrame from the dictionary\n",
        "df = pd.DataFrame(data)"
      ],
      "metadata": {
        "id": "8F5zx3fi8CGd"
      },
      "execution_count": 27,
      "outputs": []
    },
    {
      "cell_type": "code",
      "source": [
        "def display_record(record_number):\n",
        "    record = df.iloc[record_number]\n",
        "    display_data = {\n",
        "        \"ID\": record.get(\"id\", \"N/A\"),\n",
        "        \"Metadata\": record.get(\"metadata\", \"N/A\"),\n",
        "        \"Text\": record.get(\"text\", \"N/A\"),\n",
        "        \"Embedding\": record.get(\"embedding\", \"N/A\")\n",
        "    }\n",
        "\n",
        "    # Print the ID\n",
        "    print(\"ID:\")\n",
        "    print(display_data[\"ID\"])\n",
        "    print()\n",
        "\n",
        "    # Print the metadata in a structured format\n",
        "    print(\"Metadata:\")\n",
        "    metadata = display_data[\"Metadata\"]\n",
        "    if isinstance(metadata, list):\n",
        "        for item in metadata:\n",
        "            for key, value in item.items():\n",
        "                print(f\"{key}: {value}\")\n",
        "            print()\n",
        "    else:\n",
        "        print(metadata)\n",
        "    print()\n",
        "\n",
        "    # Print the text\n",
        "    print(\"Text:\")\n",
        "    print(display_data[\"Text\"])\n",
        "    print()\n",
        "\n",
        "    # Print the embedding\n",
        "    print(\"Embedding:\")\n",
        "    print(display_data[\"Embedding\"])\n",
        "    print()\n",
        "\n",
        "# Function call to display a record\n",
        "rec = 0  # Replace with the desired record number\n",
        "display_record(rec)"
      ],
      "metadata": {
        "colab": {
          "base_uri": "https://localhost:8080/"
        },
        "id": "IFjQCuC88CI5",
        "outputId": "a1839169-a90e-4005-fbef-89928dd233ef"
      },
      "execution_count": 28,
      "outputs": [
        {
          "output_type": "stream",
          "name": "stdout",
          "text": [
            "ID:\n",
            "['3bbca82d-f631-4ccb-ab6a-d579e52896de']\n",
            "\n",
            "Metadata:\n",
            "file_path: /content/data/1804.06985.txt\n",
            "file_name: 1804.06985.txt\n",
            "file_type: text/plain\n",
            "file_size: 3798\n",
            "creation_date: 2025-04-10\n",
            "last_modified_date: 2025-04-10\n",
            "_node_content: {\"id_\": \"3bbca82d-f631-4ccb-ab6a-d579e52896de\", \"embedding\": null, \"metadata\": {\"file_path\": \"/content/data/1804.06985.txt\", \"file_name\": \"1804.06985.txt\", \"file_type\": \"text/plain\", \"file_size\": 3798, \"creation_date\": \"2025-04-10\", \"last_modified_date\": \"2025-04-10\"}, \"excluded_embed_metadata_keys\": [\"file_name\", \"file_type\", \"file_size\", \"creation_date\", \"last_modified_date\", \"last_accessed_date\"], \"excluded_llm_metadata_keys\": [\"file_name\", \"file_type\", \"file_size\", \"creation_date\", \"last_modified_date\", \"last_accessed_date\"], \"relationships\": {\"1\": {\"node_id\": \"a4f42f7b-1f0a-4ee0-a488-5f3c0eaddfa3\", \"node_type\": \"4\", \"metadata\": {\"file_path\": \"/content/data/1804.06985.txt\", \"file_name\": \"1804.06985.txt\", \"file_type\": \"text/plain\", \"file_size\": 3798, \"creation_date\": \"2025-04-10\", \"last_modified_date\": \"2025-04-10\"}, \"hash\": \"2ef29ce3081cd76fac6c8c2108a906d6e0ce7b21f7034da4c4027357bb00c33b\", \"class_name\": \"RelatedNodeInfo\"}}, \"text\": \"High Energy Physics  Theory arXiv1804.06985 hepth Submitted on 19 Apr 2018 Title A Near Horizon Extreme Binary Black Hole Geometry Authors Jacob Ciafre  Maria J. Rodriguez View a PDF of the paper titled A Near Horizon Extreme Binary Black Hole Geometry by Jacob Ciafre and Maria J. Rodriguez View PDF Abstract A new solution of fourdimensional vacuum General Relativity is presented. It describes the near horizon region of the extreme maximally spinning binary black hole system with two identical extreme Kerr black holes held in equilibrium by a massless strut. This is the first example of a nonsupersymmetric asymptotically flat near horizon extreme binary black hole geometry of two uncharged black holes. The black holes are corotating and the solution is uniquely specified by the mass. The binary extreme system has finite entropy. The distance between the black holes is fixed but there is a zerodistance limit where the objects collapse into one. This limiting geometry corresponds to the near horizon extreme Kerr NHEK black hole. Comments 1 figure Subjects High Energy Physics  Theory hepth  High Energy Astrophysical Phenomena astroph.HE General Relativity and Quantum Cosmology grqc Cite as arXiv1804.06985 hepth or arXiv1804.06985v1 hepth for this version httpsdoi.org10.48550arXiv.1804.06985 Focus to learn more arXivissued DOI via DataCite Related DOI  httpsdoi.org10.1140epjcs1005201971883 Focus to learn more DOIs linking to related resources Submission history From Maria J. Rodriguez  view email  v1 Thu 19 Apr 2018 031545 UTC 173 KB Fulltext links Access Paper View a PDF of the paper titled A Near Horizon Extreme Binary Black Hole Geometry by Jacob Ciafre and Maria J. Rodriguez View PDF TeX Source Other Formats view license Current browse context hepth \\u00a0prev  next\\u00a0 new  recent  201804 Change to browse by astroph astroph.HE grqc References  Citations INSPIRE HEP NASA ADS Google Scholar Semantic Scholar a export BibTeX citation Loading... BibTeX formatted citation  loading... Data provided by Bookmark Bibliographic Tools Bibliographic and Citation Tools Bibliographic Explorer Toggle Bibliographic Explorer  What is the Explorer  Connected Papers Toggle Connected Papers  What is Connected Papers  Litmaps Toggle Litmaps  What is Litmaps  scite.ai Toggle scite Smart Citations  What are Smart Citations  Code Data Media Code Data and Media Associated with this Article alphaXiv Toggle alphaXiv  What is alphaXiv  Links to Code Toggle CatalyzeX Code Finder for Papers  What is CatalyzeX  DagsHub Toggle DagsHub  What is DagsHub  GotitPub Toggle Gotit.pub  What is GotitPub  Huggingface Toggle Hugging Face  What is Huggingface  Links to Code Toggle Papers with Code  What is Papers with Code  ScienceCast Toggle ScienceCast  What is ScienceCast  Demos Demos Replicate Toggle Replicate  What is Replicate  Spaces Toggle Hugging Face Spaces  What is Spaces  Spaces Toggle TXYZ.AI  What is TXYZ.AI  Related Papers Recommenders and Search Tools Link to Influence Flower Influence Flower  What are Influence Flowers  Core recommender toggle CORE Recommender  What is CORE  IArxiv recommender toggle IArxiv Recommender  What is IArxiv  Author Venue Institution Topic About arXivLabs arXivLabs experimental projects with community collaborators arXivLabs is a framework that allows collaborators to develop and share new arXiv features directly on our website. Both individuals and organizations that work with arXivLabs have embraced and accepted our values of openness community excellence and user data privacy. arXiv is committed to these values and only works with partners that adhere to them. Have an idea for a project that will add value for arXivs community Learn more about arXivLabs . Which authors of this paper are endorsers  Disable MathJax  What is MathJax\", \"mimetype\": \"text/plain\", \"start_char_idx\": 0, \"end_char_idx\": 3795, \"text_template\": \"{metadata_str}\\n\\n{content}\", \"metadata_template\": \"{key}: {value}\", \"metadata_seperator\": \"\\n\", \"class_name\": \"TextNode\"}\n",
            "_node_type: TextNode\n",
            "document_id: a4f42f7b-1f0a-4ee0-a488-5f3c0eaddfa3\n",
            "doc_id: a4f42f7b-1f0a-4ee0-a488-5f3c0eaddfa3\n",
            "ref_doc_id: a4f42f7b-1f0a-4ee0-a488-5f3c0eaddfa3\n",
            "\n",
            "\n",
            "Text:\n",
            "['High Energy Physics  Theory arXiv1804.06985 hepth Submitted on 19 Apr 2018 Title A Near Horizon Extreme Binary Black Hole Geometry Authors Jacob Ciafre  Maria J. Rodriguez View a PDF of the paper titled A Near Horizon Extreme Binary Black Hole Geometry by Jacob Ciafre and Maria J. Rodriguez View PDF Abstract A new solution of fourdimensional vacuum General Relativity is presented. It describes the near horizon region of the extreme maximally spinning binary black hole system with two identical extreme Kerr black holes held in equilibrium by a massless strut. This is the first example of a nonsupersymmetric asymptotically flat near horizon extreme binary black hole geometry of two uncharged black holes. The black holes are corotating and the solution is uniquely specified by the mass. The binary extreme system has finite entropy. The distance between the black holes is fixed but there is a zerodistance limit where the objects collapse into one. This limiting geometry corresponds to the near horizon extreme Kerr NHEK black hole. Comments 1 figure Subjects High Energy Physics  Theory hepth  High Energy Astrophysical Phenomena astroph.HE General Relativity and Quantum Cosmology grqc Cite as arXiv1804.06985 hepth or arXiv1804.06985v1 hepth for this version httpsdoi.org10.48550arXiv.1804.06985 Focus to learn more arXivissued DOI via DataCite Related DOI  httpsdoi.org10.1140epjcs1005201971883 Focus to learn more DOIs linking to related resources Submission history From Maria J. Rodriguez  view email  v1 Thu 19 Apr 2018 031545 UTC 173 KB Fulltext links Access Paper View a PDF of the paper titled A Near Horizon Extreme Binary Black Hole Geometry by Jacob Ciafre and Maria J. Rodriguez View PDF TeX Source Other Formats view license Current browse context hepth \\xa0prev  next\\xa0 new  recent  201804 Change to browse by astroph astroph.HE grqc References  Citations INSPIRE HEP NASA ADS Google Scholar Semantic Scholar a export BibTeX citation Loading... BibTeX formatted citation  loading... Data provided by Bookmark Bibliographic Tools Bibliographic and Citation Tools Bibliographic Explorer Toggle Bibliographic Explorer  What is the Explorer  Connected Papers Toggle Connected Papers  What is Connected Papers  Litmaps Toggle Litmaps  What is Litmaps  scite.ai Toggle scite Smart Citations  What are Smart Citations  Code Data Media Code Data and Media Associated with this Article alphaXiv Toggle alphaXiv  What is alphaXiv  Links to Code Toggle CatalyzeX Code Finder for Papers  What is CatalyzeX  DagsHub Toggle DagsHub  What is DagsHub  GotitPub Toggle Gotit.pub  What is GotitPub  Huggingface Toggle Hugging Face  What is Huggingface  Links to Code Toggle Papers with Code  What is Papers with Code  ScienceCast Toggle ScienceCast  What is ScienceCast  Demos Demos Replicate Toggle Replicate  What is Replicate  Spaces Toggle Hugging Face Spaces  What is Spaces  Spaces Toggle TXYZ.AI  What is TXYZ.AI  Related Papers Recommenders and Search Tools Link to Influence Flower Influence Flower  What are Influence Flowers  Core recommender toggle CORE Recommender  What is CORE  IArxiv recommender toggle IArxiv Recommender  What is IArxiv  Author Venue Institution Topic About arXivLabs arXivLabs experimental projects with community collaborators arXivLabs is a framework that allows collaborators to develop and share new arXiv features directly on our website. Both individuals and organizations that work with arXivLabs have embraced and accepted our values of openness community excellence and user data privacy. arXiv is committed to these values and only works with partners that adhere to them. Have an idea for a project that will add value for arXivs community Learn more about arXivLabs . Which authors of this paper are endorsers  Disable MathJax  What is MathJax']\n",
            "\n",
            "Embedding:\n",
            "[-0.00044151395559310913, 0.01004217378795147, -0.011621443554759026, -0.0018129735253751278, -0.007035895716398954, 0.021614044904708862, -0.014999523758888245, -0.027577027678489685, -0.007910513319075108, -0.03472977504134178, 0.012329637072980404, 0.01514116209000349, -0.01278288010507822, 0.009001130238175392, -0.00740061467513442, 0.0157218798995018, 0.022237254306674004, 0.01579269953072071, 0.02283213660120964, -0.008682443760335445, -0.012570422142744064, 0.013590220361948013, -0.007421860471367836, -0.007634318433701992, -0.00864703394472599, 0.010537909343838692, 0.018497996032238007, -0.005300823133438826, -0.007078387308865786, -0.020665066316723824, 0.010481253266334534, -0.00029257216374389827, -0.02125994861125946, 0.014227593317627907, -0.009610176086425781, 0.03008403070271015, 0.022265581414103508, 0.00403315806761384, 0.02960245870053768, 0.014199266210198402, 0.015466931276023388, 0.0208491962403059, -0.009723487310111523, -0.013009501621127129, 0.012350882403552532, -0.009992600418627262, 0.02208145149052143, -0.019602777436375618, -0.0016341549344360828, -0.00022883480414748192, 0.026769688352942467, 0.02685467153787613, -0.026019003242254257, 0.004203124437481165, 0.01825721003115177, -0.02242138423025608, 0.0010454696603119373, 0.020962506532669067, -0.0037959134206175804, -0.011040725745260715, 0.008979884907603264, -0.02356865629553795, -0.008016742765903473, -0.0016669088508933783, -0.015367783606052399, -0.0064941281452775, -0.01988605409860611, -0.004249156918376684, -0.01110446359962225, -0.014085954986512661, 0.023880261927843094, 0.017803966999053955, -0.017237413674592972, -0.03237857669591904, 0.024248521775007248, -0.028667645528912544, -0.013512318953871727, -0.00280975503847003, -0.01069371122866869, -0.0011100922711193562, 0.006880092900246382, 0.0031691628973931074, -0.0017501214751973748, 0.016415908932685852, 0.004992759320884943, -0.005169807467609644, -0.0029283773619681597, 0.026500575244426727, -0.009001130238175392, -0.00891614705324173, 0.02065090276300907, -0.016770005226135254, 0.027152111753821373, 0.003540964098647237, -0.002078545978292823, -0.0014385166577994823, 0.005849672481417656, 0.026358935981988907, -0.016288435086607933, -0.01579269953072071, -0.012570422142744064, 0.0027708043344318867, -0.01686915196478367, -0.021075818687677383, -0.01654338464140892, 0.00635957159101963, -0.010615809820592403, -0.0028487055096775293, 0.007195238955318928, 0.0017554329242557287, 0.00404732208698988, -0.01267665158957243, -0.001570417545735836, -0.03852568939328194, 0.025934020057320595, 0.017648164182901382, 0.016430072486400604, -0.015183653682470322, -0.010091747157275677, -0.01577853597700596, 0.017591509968042374, 0.02487173117697239, -0.00045855483040213585, -0.003831323003396392, 0.019305335357785225, 0.03150041773915291, -0.003438276005908847, -0.022265581414103508, 0.0049750544130802155, -0.01974441483616829, 2.348655107198283e-05, 0.015750208869576454, -0.0008493887726217508, 0.02406439185142517, -0.007528089452534914, 0.022676333785057068, -0.0464857742190361, -0.02795945107936859, -0.017393214628100395, -0.03396492823958397, 0.009588930755853653, 0.03135877847671509, -0.013356516137719154, 0.007365205325186253, -0.014631262980401516, 0.02597651258111, -0.002708837389945984, 0.0039375522173941135, 0.001118059386499226, -0.016019321978092194, 0.004397877492010593, 0.0026592640206217766, 0.012350882403552532, 0.019432811066508293, 0.01174891833215952, 0.0025618874933570623, -0.016798334196209908, 0.028001943603157997, -0.025169171392917633, -0.04960182309150696, -0.025254154577851295, 0.003101884387433529, 0.01926284469664097, -0.014008053578436375, 0.03506970778107643, 0.025395793840289116, 0.0061860643327236176, 0.004560761619359255, 0.01113987248390913, -0.02317206934094429, -0.015027851797640324, 0.023837769404053688, -0.031330451369285583, -0.016982464119791985, -0.005878000520169735, 0.018158063292503357, 0.02240722067654133, 0.00705714151263237, -0.03498472645878792, -0.004376631695777178, -0.0034453580155968666, -0.004571384750306606, 0.017124101519584656, 0.031047172844409943, -0.0006236523040570319, 0.011982622556388378, 0.03750589117407799, -0.02960245870053768, 0.016090139746665955, -0.02015516720712185, 0.008292937651276588, 0.024262685328722, -0.0304239634424448, 0.0143550680950284, -0.6291018128395081, -0.014199266210198402, 0.006299375090748072, -0.02446097880601883, -0.022194761782884598, -0.006887175142765045, 0.005743443500250578, 0.019716087728738785, -0.009546439163386822, 0.01797393336892128, -0.028483513742685318, 0.0013809759402647614, 0.0018182849744334817, -0.021543225273489952, -0.02031097002327442, -0.010403351858258247, -0.004128763917833567, -0.0024361831601709127, -0.007386451121419668, -0.001348222023807466, -0.01257750391960144, 0.0027176898438483477, -0.012627077288925648, 0.007007567677646875, 0.022024795413017273, 0.0090507036074996, 0.033794961869716644, -0.015367783606052399, -0.011940130963921547, 0.007248353213071823, -0.012003867886960506, -0.0013623859267681837, -0.001571302767843008, -0.008250446058809757, 0.04708065837621689, -0.05294449254870415, 0.019801070913672447, 0.017109937965869904, 0.012287145480513573, 0.034956395626068115, -0.017265740782022476, -0.005545149557292461, 0.021174965426325798, 0.0052937413565814495, -0.0009126834920607507, -0.003098343499004841, 0.009758897125720978, -0.02474425733089447, -0.008597460575401783, -0.019163697957992554, -0.017988096922636032, 0.012598750181496143, 0.007521007675677538, 0.011586034670472145, 0.007081928197294474, -0.015636896714568138, 0.035437967628240585, -0.015693552792072296, -0.01128151174634695, -0.005127315875142813, -0.010417516343295574, -0.0049750544130802155, -0.009928863495588303, -0.019531957805156708, -0.008965721353888512, -0.009071949869394302, -0.01548109482973814, 0.012343800626695156, 0.008030906319618225, 0.018158063292503357, 0.01592017337679863, 0.02652890235185623, -0.02372445911169052, 0.00471656396985054, 0.025679070502519608, 0.02542412094771862, 0.03458813577890396, -0.002464510966092348, -0.006564947310835123, 0.008909065276384354, 0.005647837650030851, 0.01260583195835352, -0.017407380044460297, -0.009142769500613213, 0.02125994861125946, 0.010020928457379341, -0.008413330651819706, 0.011154036968946457, 0.0016554007306694984, -0.007683891803026199, 0.013696448877453804, 0.009376472793519497, -0.002418478485196829, -0.030310651287436485, -0.007464352063834667, 0.019928544759750366, 0.007563499268144369, 0.015268636867403984, 0.018129736185073853, -0.011430231854319572, -0.0022290367633104324, -0.026599721983075142, 0.004666990600526333, -0.019673597067594528, 0.004412041045725346, 0.009071949869394302, -0.007195238955318928, -0.03116048313677311, 0.034474827349185944, -0.051301486790180206, -0.008151299320161343, -0.0003649406135082245, -0.026188969612121582, 0.02208145149052143, -0.00014739262405782938, -0.032491885125637054, 0.006678258068859577, 0.008016742765903473, -0.009971355088055134, -0.013158222660422325, 0.045352667570114136, 0.01892291195690632, 0.006568488199263811, 0.002924836240708828, 0.011741836555302143, 0.007577662821859121, 0.025990676134824753, -0.02419186569750309, -0.058411743491888046, -0.012563340365886688, 0.009518111124634743, 0.01579269953072071, 0.035154689103364944, -0.010197976604104042, 0.04699567332863808, 0.001344681135378778, 0.019928544759750366, 0.016005156561732292, 0.0032364411745220423, -0.024291012436151505, -0.018908748403191566, -0.013625629246234894, 0.012464193627238274, -0.0013287467882037163, -0.009631422348320484, -0.021472405642271042, -0.006993404123932123, 0.00809464417397976, 0.01750652678310871, -0.005552231799811125, -0.011947212740778923, 0.011543543078005314, -0.001122485613450408, 0.011635608039796352, -0.00394463399425149, -0.025324974209070206, -0.005899245850741863, -0.05274619907140732, -0.003098343499004841, -0.0020077265799045563, 0.0239085890352726, 0.021699028089642525, -0.02174151875078678, 0.01024754997342825, 0.006327702663838863, 0.002811525482684374, 0.0009994370630010962, 0.01818639039993286, -0.011267347261309624, -0.027237094938755035, -0.009312734939157963, -0.008661198429763317, -0.02822856605052948, -0.0006541931070387363, -0.025027533993124962, 0.005509740207344294, -0.01681249774992466, -0.009985518641769886, -0.007457270286977291, 0.004822792951017618, 0.007846776396036148, 0.0057646892964839935, -0.04328474402427673, -4.038912084070034e-05, 0.012974091805517673, 0.01818639039993286, 0.005651378538459539, -0.0022024796344339848, 0.0027690338902175426, 0.009935945272445679, -0.007173993159085512, 0.031613726168870926, -0.013165304437279701, 0.02617480605840683, -0.018554652109742165, -0.017336560413241386, 0.0021086439955979586, 0.0157218798995018, -0.01325736939907074, 0.028313549235463142, 0.02753453701734543, -0.0009241916122846305, 0.019730251282453537, -0.007882186211645603, 0.004865284543484449, -0.014631262980401516, 0.009440209716558456, -0.015126998536288738, 0.0006692421738989651, -0.00851247739046812, 0.009943027049303055, -0.028795119374990463, -0.00406502652913332, -0.021854830905795097, 0.008831163868308067, 0.017818130552768707, -0.002804443472996354, 0.033936597406864166, -0.004252697806805372, 0.012414620257914066, -0.003870273707434535, 0.01322904136031866, 0.014057626947760582, 0.012627077288925648, -0.014199266210198402, -0.006922584492713213, 0.024786747992038727, 0.025721563026309013, 0.013611465692520142, -0.02001352794468403, 0.005403511226177216, 0.0004045551468152553, 0.008151299320161343, -0.003206342924386263, 0.02719460427761078, 0.03138710558414459, 0.005899245850741863, -0.007513925898820162, 0.02726542390882969, 0.0013960250653326511, -0.005849672481417656, 0.0022644465789198875, 0.006575569976121187, -0.003142605535686016, -0.0006103736814111471, -0.006586193107068539, 0.01688331738114357, 0.007067764177918434, 0.0010003222851082683, -0.021854830905795097, -0.016090139746665955, 0.02024015039205551, -0.015424439683556557, 0.03266185149550438, 0.04348303750157356, 0.00925607979297638, -0.00468469550833106, 0.010148403234779835, 0.006455177441239357, 0.021486569195985794, 0.00987928919494152, -0.000784766161814332, -0.00514502078294754, -0.03232191875576973, 0.017747310921549797, -0.021104145795106888, -0.018951239064335823, -0.0025388712529093027, -0.01082826778292656, 0.009539357386529446, -0.02140158601105213, -0.015452766790986061, 0.008739098906517029, -0.005240626633167267, 0.015835192054510117, -0.0010003222851082683, -0.007035895716398954, -0.004312894307076931, 0.02822856605052948, 0.012018032371997833, -0.036599405109882355, -0.033313389867544174, 0.02638726308941841, 0.023554492741823196, 0.001677531749010086, -0.010651219636201859, 0.006235637702047825, 0.019291171804070473, 0.007113796658813953, 0.03589121252298355, 0.008342511020600796, -0.014687919057905674, 0.0019882512278854847, -0.01199678611010313, -0.028242729604244232, -0.01749236322939396, 0.023766949772834778, -0.018342193216085434, 0.010502499528229237, -0.006621602922677994, 0.00038596507511101663, -0.0012667798437178135, -0.021160801872611046, 0.00347722670994699, 0.03481476008892059, -0.01817222684621811, 0.0010463548824191093, -0.01674167811870575, -0.012315472587943077, -0.023965245112776756, 0.010658301413059235, -0.012697896920144558, -0.005198135040700436, -0.0027194602880626917, -0.006125867832452059, -0.024149375036358833, -0.01579269953072071, 0.01770482026040554, 0.01982939802110195, -0.0029035904444754124, -0.012131342664361, -0.004674072377383709, -0.01851215958595276, -0.006210851017385721, 0.06679674237966537, 0.018228882923722267, -0.021628208458423615, 0.019446974620223045, -0.007768874987959862, -0.00987928919494152, 0.004355385899543762, 0.0015898928977549076, 0.007032354362308979, 0.0009905847255140543, 0.026613885536789894, -0.01674167811870575, -0.01123902015388012, 0.012357964180409908, 0.032690178602933884, -0.011947212740778923, 0.011012397706508636, -0.028058599680662155, 0.002907131565734744, 0.022548858076334, -0.016996627673506737, 0.006950912531465292, 0.002191856736317277, 0.01220216229557991, 0.014468379318714142, -0.01584935560822487, 0.027647847309708595, 0.005307904910296202, 0.0012446488253772259, -0.025863200426101685, 0.01004217378795147, -0.0065437015146017075, -0.0036896844394505024, -0.006267506163567305, -0.004514729138463736, -0.00515918480232358, 0.030055703595280647, -0.005254790652543306, 0.01907871477305889, -0.021500732749700546, 0.001349107245914638, 0.002020119922235608, 0.008753263391554356, 0.0018908748170360923, 0.002600837964564562, 0.0016731055220589042, -0.001458877231925726, 0.028412695974111557, -0.027718666940927505, 0.00813005305826664, 0.01701079122722149, -0.00032333427225239575, -0.0177614763379097, -0.0239085890352726, -0.014532116241753101, 0.01257750391960144, -0.002524707466363907, -0.02199646830558777, -0.005484953057020903, -0.018497996032238007, -0.007156288251280785, -0.026401428505778313, 0.01660003885626793, 0.012527930550277233, -0.012166752479970455, -0.02631644532084465, -0.027222931385040283, -0.01343441754579544, -0.016968298703432083, 0.008108807727694511, -0.009652667678892612, -0.025239991024136543, -0.03164205327630043, 0.02222309075295925, 0.009156933054327965, -0.004029617179185152, -0.004504106473177671, -0.008788672275841236, -0.01096282433718443, -0.017520690336823463, -0.027931123971939087, -0.0011986163444817066, 0.012315472587943077, -0.022095615044236183, -0.00046873511746525764, 0.005506198853254318, -0.002462740521878004, 0.0014314347645267844, -0.004829874727874994, 0.0287101361900568, -0.0031036550644785166, 0.0033940139692276716, 0.014532116241753101, -0.006497669033706188, 0.00799549650400877, -0.0012605831725522876, 0.013271532952785492, -0.0017766787204891443, -0.004780301358550787, -0.009079031646251678, -0.02043844386935234, -0.005534526892006397, 0.0011198298307135701, -0.009673913940787315, 0.010835349559783936, 0.015296964906156063, 0.0035498165525496006, 0.02297377400100231, -0.0027920501306653023, -0.015339456498622894, -0.002413166919723153, -0.005984229035675526, 0.006625143811106682, 0.0015580242034047842, 0.010686629451811314, 0.009581848978996277, 0.03368164971470833, 0.011897639371454716, -0.020594246685504913, -0.012549176812171936, 0.0032258182764053345, -0.010566236451268196, 0.02337036281824112, 0.006929666735231876, -0.00010805472993524745, 0.02315790392458439, -0.013590220361948013, -0.02249220386147499, -0.03580622747540474, 0.005916950758546591, -0.010807022452354431, -0.006299375090748072, 0.0007936185575090349, -0.02158571593463421, -0.029574131593108177, -0.016033485531806946, -0.004518270026892424, -0.014659591019153595, 0.01613263227045536, -0.01688331738114357, 0.01482955738902092, -0.009957190603017807, -0.00514502078294754, -0.010906169191002846, -0.02072172239422798, -0.031132156029343605, -0.02356865629553795, 0.025948183611035347, -0.00799549650400877, -0.004769678693264723, -0.001351763028651476, -0.01606181263923645, 0.005860295612365007, -0.025509104132652283, -0.020792540162801743, -0.032350245863199234, 0.0040083713829517365, 0.0035816850140690804, 0.032576870173215866, 0.017464034259319305, 0.0341632217168808, -0.004231452010571957, 0.01103364396840334, 0.04362467676401138, 0.011408986523747444, 0.0053751831874251366, 0.007698055822402239, 0.007825530134141445, -0.014305494725704193, 0.012903273105621338, 0.02042428031563759, -0.0070429774932563305, -0.008016742765903473, -0.03320007771253586, 0.014872048981487751, 0.023936916142702103, 0.015339456498622894, 0.0016111385775730014, -0.004217287991195917, -0.055522315204143524, -0.00950394757091999, -0.01363979373127222, 0.004422664176672697, -0.004918399266898632, -0.04385129734873772, -0.024262685328722, 0.012251735664904118, 0.0067561594769358635, 0.011812656186521053, -0.004174796398729086, 0.019843561574816704, -0.01004217378795147, 0.021897321566939354, 0.0037817496340721846, 0.03512636199593544, -0.031047172844409943, -0.006664094515144825, -0.0007037665927782655, 0.014843720942735672, 0.022775480523705482, 0.001850153668783605, 0.023965245112776756, 0.012003867886960506, -0.023143740370869637, 0.0167558416724205, -0.0018306784331798553, 0.010063420049846172, 0.0046138763427734375, -0.014000971801578999, -0.0170816108584404, -0.0005523904110305011, -0.03376663476228714, -0.0019209729507565498, -0.014029299840331078, -0.019050385802984238, 0.014617099426686764, -0.0010746825719252229, 0.03130212053656578, -0.02240722067654133, -0.008370839059352875, 0.0006603897782042623, 0.011338166892528534, 0.037619203329086304, 0.016444236040115356, 0.027704503387212753, 0.0451260469853878, 0.01107613556087017, -0.014447133056819439, 0.011897639371454716, -0.011451478116214275, 0.015240308828651905, 0.026358935981988907, 0.012669568881392479, -0.035296328365802765, -0.02815774641931057, 0.029290854930877686, 0.004369549453258514, -0.027222931385040283, -0.03849736228585243, 0.020806703716516495, -0.0249425508081913, 0.01927700825035572, -6.052835306036286e-05, 0.001563335652463138, -0.018129736185073853, -0.00936939101666212, -0.008002578280866146, 0.012379210442304611, -0.020268477499485016, -0.003767585614696145, -0.002425560262054205, 0.019121205434203148, -0.002021890366449952, 0.03997040167450905, 0.014631262980401516, -0.020381789654493332, 0.00946145597845316, -0.013314024545252323, -0.005530986003577709, 0.00953227560967207, -0.021274112164974213, 0.038978930562734604, -0.021146636456251144, -0.00034126039827242494, 0.017874786630272865, -0.0032134249340742826, -0.0045253518037498, -0.030055703595280647, -0.0026645753532648087, 0.027931123971939087, -0.00012902387243229896, -0.008639952167868614, -0.010467089712619781, -0.025579923763871193, 0.004539515823125839, 0.003305489895865321, 0.0006373735377565026, 0.0003186867688782513, 0.012549176812171936, 0.0099076172336936, 0.01113987248390913, 0.022591350600123405, 0.004475778434425592, -0.014772902242839336, 0.003866732819005847, -0.005116693209856749, -0.027237094938755035, 0.004532434046268463, -0.015566078014671803, -0.03900726139545441, -0.034899741411209106, -0.009447292424738407, 0.0014358608750626445, 0.012492520734667778, 0.002152906032279134, -0.007761793211102486, -0.010771612636744976, 0.026967981830239296, -0.02303043007850647, 0.00874618161469698, 0.026160642504692078, 0.019659431651234627, -0.029404165223240852, -0.004518270026892424, -0.00036294880555942655, 0.026769688352942467, 0.016571711748838425, -0.006887175142765045, -0.00335860438644886, -0.02980075404047966, -0.003866732819005847, 0.021245785057544708, 0.012952846474945545, 0.006217932794243097, -0.006458718329668045, 0.006603898014873266, 0.008703690022230148, -0.017209084704518318, 2.3963750663824612e-06, 0.03634445369243622, -0.008236282505095005, -0.005222921725362539, -0.00970932375639677, -0.017209084704518318, 0.005662001669406891, -0.007064223289489746, -0.008243364281952381, -0.006688881199806929, -0.021019162610173225, 0.006529537495225668, -0.002080316422507167, 0.00315145798958838, -0.02165653556585312, -0.02215227112174034, -0.02035346068441868, -0.02133076824247837, -0.02917754277586937, -0.00042048946488648653, 0.015296964906156063, 0.012138424441218376, 0.009780142456293106, 0.026429755613207817, -0.007775957230478525, -0.003535652533173561, -0.00550265796482563, -0.00635957159101963, 0.016047649085521698, 0.017265740782022476, -0.054984088987112045, -0.0014119594125077128, 0.006356030236929655, 0.0311038289219141, 0.009008212946355343, -0.03067891299724579, 0.00813713576644659, -0.031245466321706772, -0.010998234152793884, 0.02206728793680668, -0.01613263227045536, 0.019305335357785225, 0.017718983814120293, -0.00045280077029019594, 0.02645808272063732, 0.03753421828150749, 0.021174965426325798, 0.0314437597990036, 0.010927415452897549, 0.0064941281452775, -0.003330276580527425, 0.010601646266877651, 0.015183653682470322, -0.019928544759750366, -0.046570759266614914, -0.0039056832902133465, 0.03668438643217087, 0.010141320526599884, 0.017648164182901382, 0.04285982996225357, 0.008859491907060146, 0.004164173733443022, 0.03288847208023071, -0.010906169191002846, -0.005598264280706644, 0.01695413514971733, 0.006214391905814409, -0.06521039456129074, -0.02439016103744507, 0.005180430598556995, -0.004334140103310347, -0.023965245112776756, 0.0008476182701997459, 0.011380658484995365, 0.003880896605551243, 0.01285369973629713, -0.008385002613067627, -0.01988605409860611, 0.01742154359817505, -0.040083713829517365, 0.02999904751777649, 0.016968298703432083, 0.007853858172893524, 0.02686883509159088, 0.031613726168870926, -0.009680995717644691, 0.0010454696603119373, 0.006536619737744331, -0.016515055671334267, 0.0022821512538939714, 0.007336877286434174, -0.01654338464140892, 0.020041856914758682, -0.018002260476350784, 0.00874618161469698, -0.01062997430562973, 0.013760185800492764, -0.03192533180117607, -0.02405022829771042, -0.019999364390969276, 0.022364728152751923, 0.01565106026828289, -0.028129417449235916, -0.021231619641184807, 0.00898696668446064, -0.009277326054871082, 0.014347986318171024, 0.007712219841778278, -0.013172386214137077, -0.007184615824371576, 0.012074687518179417, -0.0007515696343034506, -0.017988096922636032, -0.012435865588486195, 0.02097667008638382, 0.007421860471367836, 0.0020449068397283554, 0.014872048981487751, 0.18877586722373962, -0.024305177852511406, 0.01852632313966751, 0.015594405122101307, -0.030565600842237473, -0.007315631490200758, 0.010934497229754925, 0.006373735144734383, -0.004054403863847256, 0.02181233838200569, 0.004914857912808657, 0.010714957490563393, -0.010070501826703548, -0.0018979567103087902, 0.024914223700761795, -0.02686883509159088, -0.032236937433481216, -0.02344118244946003, -0.0010773383546620607, -0.0050104642286896706, -0.006894256919622421, 0.019248681142926216, -0.00707484595477581, -0.009135686792433262, 0.02652890235185623, -0.02344118244946003, -0.013675203546881676, -0.021897321566939354, -0.002002415247261524, -0.006841142661869526, -0.015636896714568138, -0.024588454514741898, 0.026019003242254257, -0.006398521829396486, -0.00593111477792263, 0.014100118540227413, 0.024630945175886154, 0.015537749975919724, 0.010913250967860222, 0.023540329188108444, -0.009100277908146381, 0.0006457833223976195, 0.007457270286977291, -0.013894743286073208, 0.015424439683556557, 0.010013846680521965, -0.0056867883540689945, 0.00826460961252451, -0.006911961827427149, 0.0031886380165815353, -0.02247804030776024, -0.002864639973267913, 0.03719428554177284, 0.03192533180117607, -0.01123902015388012, -0.013023666106164455, -0.0022910037077963352, 0.008831163868308067, 0.001797039294615388, 0.02159988135099411, -0.022194761782884598, 0.013986808247864246, -0.007655564229935408, 0.042689863592386246, -0.008753263391554356, 0.01626010611653328, -0.010375024750828743, -0.015821026638150215, 0.010410434566438198, -0.02118912898004055, 0.014631262980401516, -0.014263003133237362, -0.013236123137176037, -0.018809601664543152, -0.013236123137176037, -0.021684864535927773, 0.009227752685546875, -0.007184615824371576, 0.01873878203332424, 0.0252966471016407, 0.013491072691977024, -0.011975540779531002, 0.02065090276300907, -0.019390318542718887, -0.019999364390969276, -0.04257655143737793, 0.004744892008602619, 0.0067490772344172, -0.018271373584866524, -0.010984070599079132, 0.00045811221934854984, 0.019772743806242943, -0.009787224233150482, -0.013937234878540039, 0.005499117076396942, -0.005725739058107138, -0.021429914981126785, -0.006773864384740591, -0.043766316026449203, 0.011231937445700169, -0.013611465692520142, 0.046910692006349564, -0.002138742245733738, -0.011380658484995365, 0.003710930235683918, -0.013101566582918167, 0.003022212767973542, 0.009603094309568405, 0.027591191232204437, -0.01181973796337843, 0.020863359794020653, -0.021415749564766884, -0.007669728249311447, -0.0055805593729019165, 0.004344762768596411, 0.022860463708639145, 0.01674167811870575, -0.015566078014671803, -0.012733306735754013, -0.023894425481557846, -0.010339614935219288, -0.02433350495994091, 0.002303397050127387, 0.001731531461700797, -0.010382106527686119, -0.03155707195401192, -0.012195080518722534, -0.011536460369825363, -0.01729406788945198, -0.013158222660422325, 0.011246101930737495, -0.016585875302553177, 0.04011204093694687, -0.004882989451289177, 0.007478516083210707, 0.001733301905915141, 0.013406089507043362, -0.028936758637428284, -0.02133076824247837, 0.010984070599079132, -0.012634159997105598, -0.0035126362927258015, 0.005276036448776722, 0.0039800433441996574, 0.02356865629553795, -0.03750589117407799, 0.022732989862561226, -0.018781272694468498, -0.006402063183486462, -0.020608410239219666, -0.014546279795467854, -0.0061506545171141624, -0.005067119374871254, 0.002708837389945984, 0.011968458071351051, -0.015877682715654373, -0.026231462135910988, -0.052179645746946335, -0.0008445199346169829, 0.002910672454163432, -0.02869597263634205, 0.009511029347777367, 0.009950108826160431, -0.022775480523705482, -0.006802191957831383, -0.002701755613088608, -0.18299701809883118, 0.004348303657025099, 0.017803966999053955, -0.007591826841235161, 0.015962665900588036, 0.022874627262353897, 0.009518111124634743, 0.007011108566075563, -0.00885241013020277, -0.0020573001820594072, 0.012407537549734116, -0.0006338325329124928, -0.015495258383452892, -0.02208145149052143, 0.022874627262353897, -0.003190408693626523, -0.0016500892816111445, 0.0018997271545231342, 0.016118468716740608, 0.004847579635679722, 0.01451795268803835, -0.03192533180117607, 0.046372465789318085, 0.0037286351434886456, 0.007938841357827187, 0.007846776396036148, -0.00830710120499134, 0.035721246153116226, 0.0020891688764095306, 0.00270706694573164, 0.011918884702026844, -0.006844683550298214, 0.03654274716973305, 0.0025406416971236467, 0.012549176812171936, 0.007202320732176304, -0.014702082611620426, 0.021543225273489952, -0.01892291195690632, 0.00830710120499134, 0.04368133097887039, -0.013101566582918167, -0.007443106267601252, -0.008767426945269108, -0.021755682304501534, 0.016075976192951202, 0.0010242238640785217, 0.002746017649769783, 0.006688881199806929, -0.034276530146598816, 0.0030381472315639257, -0.034956395626068115, 0.019985200837254524, 0.009475619532167912, 0.019390318542718887, -0.0038525687996298075, -0.022874627262353897, 0.025126680731773376, 0.005488494411110878, -0.007839694619178772, -0.02856849692761898, -0.01175600104033947, -0.002869951305910945, -0.012131342664361, 0.013547728769481182, -0.027577027678489685, 0.018299702554941177, -0.007220025639981031, -0.02397940866649151, -0.010566236451268196, -0.01626010611653328, -0.012166752479970455, -0.0002823918766807765, -8.929868636187166e-05, 0.01322904136031866, 0.019574448466300964, -0.0276761744171381, 0.007050059270113707, 0.009943027049303055, -0.0049042352475225925, -0.004808628931641579, 0.012570422142744064, -0.011069053784012794, -0.009079031646251678, 0.006635766476392746, -0.008533723652362823, -0.026132315397262573, -0.010665384121239185, -0.003696766449138522, -0.0066499304957687855, 0.011720591224730015, -0.028469350188970566, 0.016245942562818527, -0.021132472902536392, 0.0076059908606112, -0.0029390002600848675, -0.006780946161597967, -0.008569132536649704, 0.017747310921549797, -0.006784487050026655, 0.03971545398235321, 0.014645427465438843, -0.006522455718368292, -0.010190894827246666, 0.028610989451408386, 0.00987928919494152, -0.02781781367957592, 0.019220352172851562, 0.04393628239631653, -0.010799940675497055, -0.01179140992462635, -0.0040083713829517365, 0.02158571593463421, 0.010679547674953938, 0.0040119122713804245, 0.023257052525877953, 0.007499761879444122, -0.02440432459115982, 0.01181973796337843, -0.011706426739692688, 0.043228089809417725, -0.0014509100001305342, -0.04591922089457512, 0.010969906114041805, -0.01322904136031866, -0.02092001587152481, -0.10129989683628082, -0.015622733160853386, -0.0006586193339899182, 0.01318654976785183, 0.0004656367818824947, 0.007241271436214447, -0.009468537755310535, -0.008243364281952381, -0.010382106527686119, 0.03184034675359726, -0.02726542390882969, -0.0191353689879179, -0.0042951893992722034, 0.010467089712619781, -0.002813295926898718, -0.011763082817196846, 0.007613072637468576, -0.023058757185935974, -0.0037321760319173336, 0.015254473313689232, 0.0025034616701304913, -0.0038631916977465153, -0.014886212535202503, 0.007917596027255058, 0.013915988616645336, 0.0010587482247501612, -0.024177702143788338, 0.028724299743771553, 0.01377435028553009, -0.005775312427431345, -0.014298412948846817, 0.0003184654633514583, -0.013611465692520142, -0.024206029251217842, -0.018497996032238007, -0.016968298703432083, 0.0016810726374387741, -0.001347336801700294, 0.012159670703113079, -0.038978930562734604, 0.0022024796344339848, 0.02453179843723774, 0.0239085890352726, 0.00640560407191515, -0.009928863495588303, -0.016005156561732292, -0.02111830934882164, 0.02208145149052143, -0.00415355060249567, -0.007967169396579266, -0.023398689925670624, -0.012789961881935596, -0.028681809082627296, 0.003643651958554983, 0.03155707195401192, -0.019517794251441956, 0.011897639371454716, 0.02056591957807541, -0.011642689816653728, -0.0035498165525496006, -0.014631262980401516, 0.021769847720861435, -0.002234348328784108, 0.02590569294989109, 0.01824304647743702, 0.013547728769481182, -0.02324288710951805, -0.027251258492469788, -0.0038490279112011194, -0.019772743806242943, -0.01509867049753666, 0.031245466321706772, 0.0021617584861814976, 0.0013181238900870085, -0.01873878203332424, -0.012747470289468765, -0.0249425508081913, -0.02222309075295925, 0.006104622036218643, -0.01947530172765255, -0.020452607423067093, -0.02439016103744507, -0.0008166348561644554, -0.010877841152250767, 0.0009702241513878107, 0.012095932848751545, 0.0035710621159523726, -0.002407855587080121, 0.035098034888505936, -0.030395634472370148, 0.01343441754579544, 0.03861067071557045, 0.020325133576989174, -0.03835572302341461, 0.008073397912085056, 0.004259779583662748, 0.01555191446095705, -0.008937393315136433, 0.013958480209112167, -0.007811366580426693, -0.04812878370285034, 0.01516949012875557, -0.06345407664775848, 0.046570759266614914, 0.02174151875078678, -0.01974441483616829, -0.027973616495728493, -0.03869565576314926, 0.016727514564990997, 0.004801547154784203, -0.01516949012875557, 0.01817222684621811, -0.010367942973971367, 0.005839049816131592, -0.010049255564808846, -0.031188810244202614, -0.019971037283539772, -0.03396492823958397, -0.002207790967077017, 0.0017607443733140826, 0.0073297955095767975, 0.005392888095229864, 0.005077742505818605, 0.019432811066508293, 0.021953977644443512, 0.02569323591887951, -0.01431257650256157, 0.019928544759750366, -0.03354001045227051, 0.024687601253390312, -0.001848383224569261, -0.016090139746665955, 0.025537433102726936, -0.02727958746254444, 0.010771612636744976, 0.04977178946137428, 0.0015836961101740599, -0.00676324125379324, 0.0023759868927299976, 0.007131501566618681, 0.022435547783970833, 0.04628748074173927, -0.030792223289608955, -0.03594786673784256, -0.010070501826703548, 0.0070394366048276424, 0.024177702143788338, 0.03540964052081108, 0.00950394757091999, 0.013675203546881676, 0.018158063292503357, -0.000839651096612215, 0.027506208047270775, 0.02201063185930252, -0.004433286841958761, -0.04016869515180588, 0.0002485314034856856, 0.0032205067109316587, -0.034276530146598816, 0.00030629339744336903, 0.007698055822402239, -0.005598264280706644, 0.04458782076835632, 0.011720591224730015, 0.01736488752067089, -0.0133211063221097, 0.030735567212104797, 8.431920286966488e-05, -0.014404641464352608, -0.01507034245878458, 0.004790924489498138, -0.03586288541555405, -0.014971195720136166, 0.006487045902758837, 0.0059417374432086945, 0.03705264627933502, -0.005074201617389917, -0.025877365842461586, -0.01824304647743702, 0.01661420240998268, -0.004996300209313631, -0.002641559112817049, 0.00806631613522768, -0.009730569086968899, -0.018951239064335823, -0.012882026843726635, 0.026755524799227715, 0.0064728823490440845, -0.007195238955318928, 0.012180916033685207, -0.00040212072781287134, 0.01934782788157463, 0.005669083446264267, 0.021486569195985794, 0.009171096608042717, 0.013653957284986973, 0.005481412168592215, 0.006947371643036604, -0.004567843396216631, -0.025523269549012184, 0.03048061765730381, 0.014071791432797909, 0.018087243661284447, 0.007234189659357071, 0.0008843557443469763, -0.02740706130862236, -0.010325451381504536, 0.021104145795106888, -0.02679801546037197, -0.031047172844409943, 0.0064693414606153965, 0.010736202821135521, 0.01123902015388012, -0.0022555941250175238, 0.011352330446243286, 0.019985200837254524, -0.030905533581972122, 0.024545961990952492, -0.012195080518722534, -0.02556576021015644, 0.002126348903402686, 0.032010313123464584, 0.004394336137920618, 0.004249156918376684, 0.018809601664543152, 0.00504233269020915, 0.019319498911499977, 0.02337036281824112, 0.04209497943520546, -0.012520848773419857, 0.01626010611653328, -0.03560793399810791, 0.017945606261491776, -0.004238533787429333, -0.005743443500250578, 0.0015845814486965537, -0.03968712314963341, -0.004996300209313631, 0.008732017129659653, -0.008505395613610744, 0.027633683755993843, 0.09620091319084167, 0.019517794251441956, -0.0030647043604403734, 0.029290854930877686, -0.024588454514741898, 0.022053124383091927, 0.018413012847304344, -0.0030770977027714252, -0.006451636552810669, -0.0697428286075592, -0.01482955738902092, -0.012046359479427338, 0.013986808247864246, -0.04331307113170624, 0.00021765862766187638, 0.014241756871342659, -0.014971195720136166, 0.013087403029203415, -0.029234198853373528, -0.019659431651234627, 0.006625143811106682, -0.012797043658792973, 0.03433318808674812, 0.009787224233150482, -0.02692549116909504, 0.019361991435289383, 0.010601646266877651, 0.02008434757590294, 0.010297123342752457, -0.002363593550398946, -0.004713023081421852, 0.006564947310835123, -0.03178369253873825, -0.031953658908605576, -0.00042358782957307994, -0.015891846269369125, -0.018158063292503357, -0.001745695248246193, 0.042208291590213776, 0.009603094309568405, 0.00719169806689024, 0.02822856605052948, -0.010467089712619781, -0.014985360205173492, -0.008767426945269108, -0.007237730547785759, -0.006402063183486462, 0.008859491907060146, -0.03957381471991539]\n",
            "\n"
          ]
        }
      ]
    },
    {
      "cell_type": "code",
      "source": [
        "rec = 4  # Replace with the desired record number\n",
        "display_record(rec)"
      ],
      "metadata": {
        "colab": {
          "base_uri": "https://localhost:8080/"
        },
        "id": "apxdvS6a8CKa",
        "outputId": "8ec5ef4b-8f0a-42cf-d34a-470590bc2f64"
      },
      "execution_count": 30,
      "outputs": [
        {
          "output_type": "stream",
          "name": "stdout",
          "text": [
            "ID:\n",
            "['10be25cb-e8c2-4447-b7a1-9f6e5156ddc2']\n",
            "\n",
            "Metadata:\n",
            "file_path: /content/data/Computer_vision.txt\n",
            "file_name: Computer_vision.txt\n",
            "file_type: text/plain\n",
            "file_size: 54866\n",
            "creation_date: 2025-04-10\n",
            "last_modified_date: 2025-04-10\n",
            "_node_content: {\"id_\": \"10be25cb-e8c2-4447-b7a1-9f6e5156ddc2\", \"embedding\": null, \"metadata\": {\"file_path\": \"/content/data/Computer_vision.txt\", \"file_name\": \"Computer_vision.txt\", \"file_type\": \"text/plain\", \"file_size\": 54866, \"creation_date\": \"2025-04-10\", \"last_modified_date\": \"2025-04-10\"}, \"excluded_embed_metadata_keys\": [\"file_name\", \"file_type\", \"file_size\", \"creation_date\", \"last_modified_date\", \"last_accessed_date\"], \"excluded_llm_metadata_keys\": [\"file_name\", \"file_type\", \"file_size\", \"creation_date\", \"last_modified_date\", \"last_accessed_date\"], \"relationships\": {\"1\": {\"node_id\": \"b009e4c5-e17d-4f8b-8150-3cbf981423f4\", \"node_type\": \"4\", \"metadata\": {\"file_path\": \"/content/data/Computer_vision.txt\", \"file_name\": \"Computer_vision.txt\", \"file_type\": \"text/plain\", \"file_size\": 54866, \"creation_date\": \"2025-04-10\", \"last_modified_date\": \"2025-04-10\"}, \"hash\": \"2a02073960027e689b94d9805ea83b07b3b93145365da07f00c21c03481fb1b3\", \"class_name\": \"RelatedNodeInfo\"}, \"2\": {\"node_id\": \"78404194-cf40-4d6b-aca5-f6ded022d347\", \"node_type\": \"1\", \"metadata\": {\"file_path\": \"/content/data/Computer_vision.txt\", \"file_name\": \"Computer_vision.txt\", \"file_type\": \"text/plain\", \"file_size\": 54866, \"creation_date\": \"2025-04-10\", \"last_modified_date\": \"2025-04-10\"}, \"hash\": \"c72b8a23f5e1fe4a9f714463a589dec9dadbb27b33ffb7beaeed30847e226042\", \"class_name\": \"RelatedNodeInfo\"}, \"3\": {\"node_id\": \"2b3f8dd1-fe5b-4605-86ab-bf6fa8281a96\", \"node_type\": \"1\", \"metadata\": {}, \"hash\": \"088838077bf4593deae8748ac478bcdd49b8529a35a36877f4f2f8cd9184c849\", \"class_name\": \"RelatedNodeInfo\"}}, \"text\": \"neural net and deep learning based image and feature analysis and classification have their background in neurobiology.  The Neocognitron  a neural network developed in the 1970s by Kunihiko Fukushima  is an early example of computer vision taking direct inspiration from neurobiology specifically the primary visual cortex . Some strands of computer vision research are closely related to the study of biological vision indeed just as many strands of AI research are closely tied with research into human intelligence and the use of stored knowledge to interpret integrate and utilize visual information. The field of biological vision studies and models the physiological processes behind visual perception in humans and other animals. Computer vision on the other hand develops and describes the algorithms implemented in software and hardware behind artificial vision systems. An interdisciplinary exchange between biological and computer vision has proven fruitful for both fields.  21  Signal processing  edit  Yet another field related to computer vision is signal processing . Many methods for processing onevariable signals typically temporal signals can be extended in a natural way to the processing of twovariable signals or multivariable signals in computer vision. However because of the specific nature of images there are many methods developed within computer vision that have no counterpart in the processing of onevariable signals. Together with the multidimensionality of the signal this defines a subfield in signal processing as a part of computer vision. Robotic navigation  edit  Robot navigation sometimes deals with autonomous path planning or deliberation for robotic systems to navigate through an environment .  22  A detailed understanding of these environments is required to navigate through them. Information about the environment could be provided by a computer vision system acting as a vision sensor and providing highlevel information about the environment and the robot Visual computing  edit  This section is an excerpt from Visual computing .  edit  Visual computing is a generic term for all computer science disciplines dealing with images and 3D models  such as computer graphics  image processing  visualization  computer vision virtual and augmented reality  video processing  and computational visualistics . Visual computing also includes aspects of pattern recognition  human computer interaction machine learning and digital libraries. The core challenges are the acquisition processing analysis and rendering of visual information mainly images and video. Application areas include industrial quality control medical image processing and visualization surveying robotics multimedia systems virtual heritage special effects in movies and television and computer games. Other fields  edit  Besides the abovementioned views on computer vision many of the related research topics can also be studied from a purely mathematical point of view. For example many methods in computer vision are based on statistics  optimization or geometry . Finally a significant part of the field is devoted to the implementation aspect of computer vision how existing methods can be realized in various combinations of software and hardware or how these methods can be modified in order to gain processing speed without losing too much performance. Computer vision is also used in fashion eCommerce inventory management patent search furniture and the beauty industry.  23  Distinctions  edit  The fields most closely related to computer vision are image processing  image analysis and machine vision . There is a significant overlap in the range of techniques and applications that these cover. This implies that the basic techniques that are used and developed in these fields are similar something which can be interpreted as there is only one field with different names. On the other hand it appears to be necessary for research groups scientific journals conferences and companies to present or market themselves as belonging specifically to one of these fields and hence various characterizations which distinguish each of the fields from the others have been presented. In image processing the input and output are both images whereas in computer vision the input is an image or video and the output could be an enhanced image an analysis of the images content or even a systems behavior based on that analysis. Computer graphics produces image data from 3D models and computer vision often produces 3D models from image data.  24  There is also a trend towards a combination of the two disciplines e.g.  as explored in augmented reality . The following characterizations appear relevant but should not be taken as universally accepted Image processing and image analysis tend to focus on 2D images how to transform one image to another e.g.  by pixelwise operations such as contrast enhancement local operations such as edge extraction or noise removal or geometrical transformations such as rotating the image. This characterization implies that image processinganalysis neither requires assumptions nor produces interpretations about the image content. Computer vision includes 3D analysis from 2D images. This analyzes the 3D scene projected onto one or several images e.g.  how to reconstruct structure or other information about the 3D scene from one or several images. Computer vision often relies on more or less complex assumptions about the scene depicted in an image. Machine vision is the process of applying a range of technologies and methods to provide imagingbased automatic inspection process control and robot guidance  25  in industrial applications.\", \"mimetype\": \"text/plain\", \"start_char_idx\": 8874, \"end_char_idx\": 14578, \"text_template\": \"{metadata_str}\\n\\n{content}\", \"metadata_template\": \"{key}: {value}\", \"metadata_seperator\": \"\\n\", \"class_name\": \"TextNode\"}\n",
            "_node_type: TextNode\n",
            "document_id: b009e4c5-e17d-4f8b-8150-3cbf981423f4\n",
            "doc_id: b009e4c5-e17d-4f8b-8150-3cbf981423f4\n",
            "ref_doc_id: b009e4c5-e17d-4f8b-8150-3cbf981423f4\n",
            "\n",
            "\n",
            "Text:\n",
            "['neural net and deep learning based image and feature analysis and classification have their background in neurobiology.  The Neocognitron  a neural network developed in the 1970s by Kunihiko Fukushima  is an early example of computer vision taking direct inspiration from neurobiology specifically the primary visual cortex . Some strands of computer vision research are closely related to the study of biological vision indeed just as many strands of AI research are closely tied with research into human intelligence and the use of stored knowledge to interpret integrate and utilize visual information. The field of biological vision studies and models the physiological processes behind visual perception in humans and other animals. Computer vision on the other hand develops and describes the algorithms implemented in software and hardware behind artificial vision systems. An interdisciplinary exchange between biological and computer vision has proven fruitful for both fields.  21  Signal processing  edit  Yet another field related to computer vision is signal processing . Many methods for processing onevariable signals typically temporal signals can be extended in a natural way to the processing of twovariable signals or multivariable signals in computer vision. However because of the specific nature of images there are many methods developed within computer vision that have no counterpart in the processing of onevariable signals. Together with the multidimensionality of the signal this defines a subfield in signal processing as a part of computer vision. Robotic navigation  edit  Robot navigation sometimes deals with autonomous path planning or deliberation for robotic systems to navigate through an environment .  22  A detailed understanding of these environments is required to navigate through them. Information about the environment could be provided by a computer vision system acting as a vision sensor and providing highlevel information about the environment and the robot Visual computing  edit  This section is an excerpt from Visual computing .  edit  Visual computing is a generic term for all computer science disciplines dealing with images and 3D models  such as computer graphics  image processing  visualization  computer vision virtual and augmented reality  video processing  and computational visualistics . Visual computing also includes aspects of pattern recognition  human computer interaction machine learning and digital libraries. The core challenges are the acquisition processing analysis and rendering of visual information mainly images and video. Application areas include industrial quality control medical image processing and visualization surveying robotics multimedia systems virtual heritage special effects in movies and television and computer games. Other fields  edit  Besides the abovementioned views on computer vision many of the related research topics can also be studied from a purely mathematical point of view. For example many methods in computer vision are based on statistics  optimization or geometry . Finally a significant part of the field is devoted to the implementation aspect of computer vision how existing methods can be realized in various combinations of software and hardware or how these methods can be modified in order to gain processing speed without losing too much performance. Computer vision is also used in fashion eCommerce inventory management patent search furniture and the beauty industry.  23  Distinctions  edit  The fields most closely related to computer vision are image processing  image analysis and machine vision . There is a significant overlap in the range of techniques and applications that these cover. This implies that the basic techniques that are used and developed in these fields are similar something which can be interpreted as there is only one field with different names. On the other hand it appears to be necessary for research groups scientific journals conferences and companies to present or market themselves as belonging specifically to one of these fields and hence various characterizations which distinguish each of the fields from the others have been presented. In image processing the input and output are both images whereas in computer vision the input is an image or video and the output could be an enhanced image an analysis of the images content or even a systems behavior based on that analysis. Computer graphics produces image data from 3D models and computer vision often produces 3D models from image data.  24  There is also a trend towards a combination of the two disciplines e.g.  as explored in augmented reality . The following characterizations appear relevant but should not be taken as universally accepted Image processing and image analysis tend to focus on 2D images how to transform one image to another e.g.  by pixelwise operations such as contrast enhancement local operations such as edge extraction or noise removal or geometrical transformations such as rotating the image. This characterization implies that image processinganalysis neither requires assumptions nor produces interpretations about the image content. Computer vision includes 3D analysis from 2D images. This analyzes the 3D scene projected onto one or several images e.g.  how to reconstruct structure or other information about the 3D scene from one or several images. Computer vision often relies on more or less complex assumptions about the scene depicted in an image. Machine vision is the process of applying a range of technologies and methods to provide imagingbased automatic inspection process control and robot guidance  25  in industrial applications.']\n",
            "\n",
            "Embedding:\n",
            "[-0.02019762247800827, 0.004196865949779749, 0.017867127433419228, 0.014733468182384968, 0.020079122856259346, 0.005062572192400694, -0.004753156565129757, -0.017037630081176758, -0.015813132748007774, -0.022541284561157227, -0.005398321896791458, 0.019065292552113533, -0.016431964933872223, -0.014285802841186523, -0.0039335330948233604, 0.027465607970952988, 0.03236359730362892, 0.0021560369059443474, -0.0023634114768356085, -0.026688775047659874, -0.03323259577155113, 0.026135776191949844, -0.0030595974531024694, -0.03246892988681793, -0.017537962645292282, 0.010829559527337551, 0.012007974088191986, -0.0387362502515316, -0.00520411366596818, -0.0034496590960770845, -0.002131349639967084, -0.01094806008040905, -0.006951984949409962, 0.001330653321929276, 0.0018499126890674233, 0.010954642668366432, -0.006264028139412403, -0.003755783662199974, 0.012817722745239735, 0.02317328378558159, 0.02973026968538761, 0.008025065995752811, -0.016655797138810158, -0.0014705489156767726, -0.02210678532719612, 0.023581448942422867, 0.0033838259987533092, -0.026267442852258682, -0.01181047409772873, 0.026478109881281853, 0.020223956555128098, 0.03425959125161171, -0.023462949320673943, -0.008130399510264397, -0.016063299030065536, -0.009440479800105095, 0.007636649999767542, -0.006481277756392956, 0.005036239046603441, -0.025345778092741966, 0.0061422367580235004, 0.016102798283100128, -0.004575406666845083, 0.0005176134873181581, -0.017616961151361465, -0.014535968191921711, 0.007261401042342186, 0.03971058130264282, 0.0010237061651423573, -0.01337072066962719, 0.01988162286579609, 0.02986193634569645, -0.011685390956699848, 0.0048189894296228886, 0.03404892608523369, 7.519384962506592e-05, -0.015773633494973183, -0.020079122856259346, -0.006484569516032934, 0.016063299030065536, -0.019723623991012573, -0.02352878265082836, 0.004447032231837511, 0.027175940573215485, 0.0068334853276610374, 0.0062409862875938416, -0.012554389424622059, 0.0061718616634607315, 0.002709035761654377, -0.00448653195053339, 0.0042890324257314205, 0.01250830665230751, 0.0027781606186181307, 0.002315682591870427, -0.019894789904356003, 0.012876972556114197, 0.013627470470964909, 0.02200145274400711, 0.005424655042588711, -0.02480594627559185, -0.0026695358101278543, 0.005036239046603441, -0.023370781913399696, -0.021948786452412605, -0.023541949689388275, -0.001923974952660501, 0.0017133088549599051, 0.017485296353697777, 0.03620825335383415, -0.02508244663476944, 9.90069456747733e-05, 0.03839391842484474, -0.010506977327167988, -0.020632121711969376, 0.0020260163582861423, 0.00036146535421721637, 0.035391923040151596, -0.009618229232728481, 0.0028407021891325712, -0.031889598816633224, -0.00588877871632576, -0.011145559139549732, 0.006280486471951008, -0.013798636384308338, 0.025161445140838623, 0.015404966659843922, -0.020223956555128098, -0.004555657040327787, -6.804477743571624e-05, -0.029782935976982117, -0.003224180545657873, -0.006415444426238537, -0.0016902672359719872, 0.013186387717723846, -0.006629402283579111, -0.015957964584231377, -0.004605031572282314, -0.00018896182882599533, -0.028676938265562057, -0.007972399704158306, 0.016063299030065536, 0.026833608746528625, -0.025372112169861794, 0.000876404345035553, -0.0074194008484482765, 0.034075260162353516, 0.009980311617255211, 0.025385279208421707, 0.01021731086075306, 0.009223230183124542, 0.01508896704763174, -0.024094948545098305, -0.007307484280318022, -0.007827566005289555, -0.0008323783986270428, 0.010006644763052464, -0.0028077855240553617, 0.013640637509524822, -0.008248899132013321, 0.0039335330948233604, -0.011533974669873714, -0.0032570972107350826, -0.007531316950917244, -0.005401613190770149, 0.04313390702009201, 0.014035636559128761, 0.019144291058182716, 0.005836112424731255, 0.002914764452725649, -0.02722860872745514, 0.0033904092852026224, 0.02051362209022045, -0.028466271236538887, 0.01732729561626911, 0.004963822662830353, -0.010796643793582916, 0.03017793409526348, 0.013449721038341522, -0.03107326664030552, -0.020460955798625946, -0.002934514544904232, 0.007649816572666168, 0.0005990820354782045, 0.005213988944888115, -0.012593889608979225, 0.008867730386555195, 0.03565525636076927, -0.02712327428162098, -0.010513560846447945, -0.009591896086931229, -0.003630700521171093, 0.0006912485114298761, -0.020882287994027138, -0.025925111025571823, -0.6383185982704163, -0.022923117503523827, 0.015352300368249416, -0.023199616000056267, -0.0029476811178028584, 0.020447788760066032, 0.004499698523432016, -0.02161961980164051, 0.010283144190907478, 0.03302192687988281, 0.0023601199500262737, -0.013772303238511086, -0.017972461879253387, 0.003736033570021391, -0.01553663332015276, -0.03612925484776497, -0.02183028683066368, -0.028150271624326706, 0.034312259405851364, 0.008867730386555195, -0.028597937896847725, 0.01356163714081049, -0.020697955042123795, 0.02553011104464531, -0.0016120902728289366, 0.01411463599652052, -0.0007698368863202631, -0.010684726759791374, 0.023739447817206383, 0.03125759959220886, -0.01745896227657795, 0.006310111377388239, 0.01264655590057373, 0.0007920555653981864, 0.03942091390490532, -0.018933625891804695, 0.002784743905067444, 0.02930893748998642, 0.014799301512539387, 0.01662946492433548, -0.013996136374771595, -0.024437280371785164, -0.013206138275563717, 0.009506313130259514, -0.025029778480529785, 0.01728779636323452, 0.008347648195922375, -0.015734132379293442, -0.010335811413824558, -0.024819113314151764, -0.015273299999535084, 0.008966480381786823, 0.01300863828510046, -0.023265449330210686, 0.004275865852832794, -0.004275865852832794, 0.02854527160525322, -0.031099598854780197, 0.014193636365234852, -0.018064627423882484, -0.017406295984983444, -0.008176482282578945, -0.006086278706789017, -0.016155464574694633, -0.009894728660583496, 0.0561952106654644, -0.028597937896847725, -0.01870979368686676, -0.013397054746747017, -0.018301626667380333, 0.02778160572052002, 0.007195567712187767, 0.010691310279071331, -0.023989614099264145, -0.003841366618871689, 0.01888095960021019, 0.039447247982025146, -0.001177591155283153, -0.026385942474007607, -0.0025642027612775564, -0.006089570000767708, -0.013436553999781609, -0.011323308572173119, -0.011514225043356419, 0.015576132573187351, -0.012343723326921463, 0.0023634114768356085, 0.028492605313658714, 0.014219969511032104, -0.02051362209022045, 0.005398321896791458, 0.01669529639184475, -0.009591896086931229, -0.056932542473077774, -0.010421394370496273, 0.01905212551355362, -0.020763788372278214, 0.003584617283195257, 0.010921726003289223, 0.000532837409991771, 0.011757807806134224, -0.011948724277317524, -0.005378571804612875, -0.002338724210858345, 0.0009998416062444448, 0.00588219566270709, -0.01766962930560112, 0.003370659425854683, 0.033206261694431305, -0.051876556128263474, 0.003666908713057637, 0.00025613224715925753, -0.016339797526597977, 0.017090296372771263, 0.012238389812409878, -0.01601063273847103, -0.002585598500445485, -0.003192909760400653, -0.015562966465950012, 0.001483715488575399, 0.027360273525118828, -0.015194300562143326, 0.0018696626648306847, -0.02043462172150612, 0.028703270480036736, -0.005832820665091276, -0.013666970655322075, -0.032442595809698105, -0.027070607990026474, -0.0016285486053675413, -0.003512200666591525, 0.0018285168334841728, 0.013508970849215984, 0.0024819113314151764, 0.004769614897668362, 0.007564233615994453, -0.01371963694691658, 0.0024407655000686646, -0.029703935608267784, -0.008788730949163437, -0.013324637897312641, -0.011817057617008686, 0.020869120955467224, 0.0015166321536526084, -0.016115965321660042, 0.0055464464239776134, -0.01909162476658821, 0.023331282660365105, -0.0035912005696445704, 0.0013454658910632133, -0.0049243224784731865, -0.008953314274549484, 0.001958537381142378, 0.014167302288115025, 0.01707712933421135, -0.007103401236236095, 0.004835447762161493, -0.008775563910603523, -0.0026366193778812885, -0.014838801696896553, 0.0040684910491108894, 0.02743927389383316, -0.01186314132064581, 0.011362808756530285, -0.017577461898326874, -0.014904634095728397, -0.01773546077311039, 0.05327221751213074, -0.017274629324674606, -0.04052691161632538, 0.034206926822662354, -0.01690596342086792, -0.0016754546668380499, 0.02909827046096325, -0.0119026405736804, 0.028176605701446533, -0.006853235419839621, 0.0047597396187484264, 0.024582114070653915, -0.023686781525611877, -0.0176037959754467, -0.018828293308615685, 0.002654723357409239, -0.012824305333197117, 0.013587970286607742, 0.011645891703665257, 0.04521423578262329, -0.013113971799612045, -0.01342338789254427, 0.006586610805243254, 0.036392588168382645, 0.015378633514046669, -0.02865060418844223, 0.012291057035326958, -0.023502448573708534, 0.01618179865181446, 0.02491127885878086, 0.0018647251417860389, -0.004084949381649494, 0.027860606089234352, 0.03283759579062462, 0.01498363446444273, -8.609746873844415e-05, 0.0035385340452194214, -0.009828895330429077, -0.020342456176877022, 0.007860482670366764, -0.02833460457623005, -0.014838801696896553, -0.003982908092439175, 0.021461620926856995, 0.01342338789254427, -0.0011389142600819468, -0.025411611422896385, 0.007860482670366764, 0.014483301900327206, 0.003281784476712346, 0.011836808174848557, -0.0352075919508934, 0.009519479237496853, 0.01515480037778616, -0.004526031669229269, 0.024687446653842926, -0.004374615382403135, 0.007195567712187767, 0.029150936752557755, 0.012705805711448193, 0.016576796770095825, 0.0021560369059443474, -0.05358821898698807, 0.018959958106279373, 0.022264786064624786, -0.0048189894296228886, 0.015549799427390099, -0.006905901711434126, 0.019618291407823563, 0.0048453230410814285, -0.010579394176602364, 0.02650444209575653, 0.008637314662337303, -0.003936824854463339, 0.029071936383843422, 0.027281275019049644, -0.028123939409852028, 0.01676112972199917, 0.0036208254750818014, 0.035734254866838455, 0.0045293234288692474, -0.028808604925870895, -0.0012565910583361983, -0.011915807612240314, -0.007669566664844751, -0.03038860112428665, -0.004206740763038397, -0.005095488857477903, -0.004479948431253433, 0.013278554193675518, -0.006984901614487171, 0.030783599242568016, 0.029545936733484268, 0.014377969317138195, 0.004140907898545265, 0.011349641717970371, 0.006030320189893246, 0.018367459997534752, 0.0037261585239320993, 0.015826299786567688, -0.016892796382308006, -0.02376578189432621, -0.01607646606862545, -0.021975118666887283, -0.03515492379665375, 0.007445733994245529, -0.020869120955467224, 0.03776191920042038, 0.00845298171043396, 0.01811729371547699, 0.01150105893611908, 0.03786725178360939, 0.03030960075557232, -0.025990944355726242, -0.020671622827649117, 0.0004468427796382457, 0.019723623991012573, 0.010605727322399616, -9.262935782317072e-05, -0.038262251764535904, 0.004730114713311195, -0.0020934955682605505, -0.0225149504840374, -0.002939451951533556, -0.009025730192661285, -0.013094221241772175, -0.008841397240757942, -0.023713115602731705, -0.002448994666337967, 0.015444466844201088, -0.001631840248592198, -0.008617565035820007, -0.004107991233468056, 0.005684696137905121, 0.009038897231221199, -0.011843390762805939, -0.010691310279071331, 0.03541825711727142, -0.03423326089978218, 0.010223894380033016, 0.01138255838304758, -0.00565507123246789, -0.032995596528053284, 0.011336475610733032, -0.008242315612733364, 0.007346983999013901, -0.012593889608979225, -0.0053160302340984344, 0.012574139051139355, -0.01641879789531231, 0.014167302288115025, 0.00575052946805954, 0.016366131603717804, -0.00555961299687624, -0.025938278064131737, -0.011691974475979805, 0.005668237805366516, 0.04292324185371399, 0.015023134648799896, -0.027597272768616676, 0.00826206523925066, -0.009374646469950676, -0.03439125791192055, -0.032758597284555435, -0.03196859732270241, 0.02026345580816269, 0.013824970461428165, 0.006264028139412403, -0.012356890365481377, 0.023818448185920715, 0.023818448185920715, 0.015049467794597149, 0.021092955023050308, -0.015957964584231377, -0.00038862155633978546, -0.007913149893283844, -0.008736064657568932, 0.0031534098088741302, 0.009552395902574062, 0.028782270848751068, 0.007472067140042782, 0.005763696040958166, -0.018301626667380333, 0.03544459119439125, 0.026517609134316444, -0.002067162189632654, -0.010000062175095081, -0.003034910187125206, 0.02986193634569645, -0.007096818182617426, 0.008703147992491722, -0.00861098151654005, 0.0054509881883859634, 0.004703781567513943, 0.02158012054860592, -0.0008467794395983219, -0.001988162286579609, 0.024990279227495193, 0.03531292453408241, 0.006570152472704649, -0.009150813333690166, -0.005273238755762577, -0.007906566374003887, 0.03028326854109764, 0.01514163427054882, -0.030783599242568016, -0.022225284948945045, 0.006553694140166044, 0.0015487257624045014, -0.005503654945641756, -0.018235793337225914, -0.02081645466387272, -0.011059976182878017, 0.0164582971483469, 0.01079006027430296, 0.00952606275677681, -0.0016853297129273415, 0.011757807806134224, -0.01905212551355362, 0.005276530049741268, -0.006313403137028217, 0.006708402186632156, -0.0017462254036217928, 0.002448994666337967, -0.017590628936886787, -0.003352555213496089, 0.011665641330182552, 0.0074589005671441555, -0.02799227274954319, -0.03360126167535782, -0.011000726372003555, -0.0009899665601551533, 0.011560308746993542, 0.024937612935900688, -0.01635296456515789, -0.016721630468964577, 0.02068478800356388, -0.01618179865181446, -0.026728276163339615, -0.014772968366742134, -0.017959294840693474, 0.008038233034312725, -0.004776197951287031, -0.00562873762100935, -0.016774296760559082, -0.009921061806380749, 0.01777496188879013, 0.013759137131273746, 0.007202151231467724, -0.0046149068512022495, 0.02185661904513836, 0.01735362969338894, 0.018617626279592514, 0.009644562378525734, 0.0015067571075633168, 0.017169296741485596, -0.05519454553723335, 0.016089631244540215, -0.017090296372771263, -0.018143627792596817, -0.016721630468964577, 0.004568823613226414, -0.01245563942939043, 0.005862445570528507, 0.026965275406837463, 0.00432194909080863, 0.00562215456739068, 0.012073807418346405, -0.010651810094714165, 0.04057957977056503, 0.017788128927350044, 0.007946066558361053, 0.020250288769602776, 0.0071626510471105576, -5.410665471572429e-05, 0.030151601880788803, -0.02393694780766964, 0.02306794933974743, 0.002271245000883937, 0.013903969898819923, -0.013021805323660374, -0.014970467425882816, 0.014917801134288311, 0.023739447817206383, -0.009835478849709034, -0.03942091390490532, 0.0042890324257314205, -0.0034332009963691235, 0.037156254053115845, -0.02172495238482952, -0.05414121598005295, -0.0425545759499073, -0.0013084346428513527, -0.006066528614610434, 0.02372628264129162, -0.014865134842693806, -0.019249625504016876, 0.009236396290361881, 0.004335115663707256, 0.004897989332675934, -0.000644753803499043, 0.020381955429911613, -0.03270592913031578, -0.0006624464876949787, -0.006826901808381081, -0.018406961113214493, 0.02410811372101307, -0.012277889996767044, 0.010355561040341854, -0.012659722939133644, -0.010763727128505707, -0.008189649321138859, -0.03381192684173584, -0.03447026014328003, 0.0032258264254778624, 0.036840252578258514, 0.024792779237031937, 0.03752491995692253, 0.006030320189893246, 0.018894126638770103, 0.01086247619241476, -0.0022827659267932177, -0.006714985705912113, 0.007992149330675602, 0.012653139419853687, -0.03410159423947334, 0.001688621356151998, 0.02529311180114746, -0.012758472003042698, 0.011375975795090199, 0.003759075189009309, 0.008880897425115108, 0.030256934463977814, 0.001369330333545804, -0.0211324542760849, -0.027044275775551796, -0.04184357449412346, -0.008657064288854599, 0.03294292837381363, 8.388588321395218e-05, 0.032863929867744446, -0.01073739305138588, 0.004802531097084284, 0.02597777731716633, -0.002904889639467001, 0.00757081713527441, -0.010368727147579193, 0.008867730386555195, 0.0033344512339681387, -0.01794612780213356, 0.01039506122469902, 0.029150936752557755, -0.03038860112428665, 0.007939483039081097, -0.02574077807366848, -0.011079725809395313, 0.01822262816131115, 0.0006957745645195246, 0.008867730386555195, 0.033100929111242294, -0.00415736623108387, -0.011507641524076462, 0.01926279254257679, -0.006013861857354641, -0.012198890559375286, -0.0007208734168671072, -0.00845298171043396, -0.008907230570912361, -0.010263394564390182, -0.018446460366249084, -0.006951984949409962, -0.010553060099482536, 0.02102712169289589, 0.00946022942662239, 0.02962493523955345, -0.004242949187755585, -0.02788694016635418, 0.01794612780213356, -0.007169234566390514, 0.029914602637290955, -0.02393694780766964, 0.06214653328061104, 0.0051843635737895966, 0.0026892859023064375, -0.01597113162279129, -0.020447788760066032, 0.011296975426375866, 0.010579394176602364, 0.03183693066239357, 0.019170625135302544, -0.017340462654829025, -0.017472129315137863, 0.00807114876806736, 0.004776197951287031, -0.01460180152207613, -0.051323555409908295, 0.016273964196443558, 0.033548593521118164, 0.007478650659322739, -0.012185723520815372, -0.003229117952287197, -0.04152757674455643, 0.004595156759023666, -0.008683397434651852, -0.01601063273847103, 0.0018268710700795054, -0.004825572948902845, -0.014061969704926014, 0.015813132748007774, -0.025240445509552956, 0.019907956942915916, -0.010941476561129093, 0.011231142096221447, 0.0004258584522176534, 0.007472067140042782, -0.002676119329407811, 0.00491115590557456, 0.0056419046595692635, 0.010032977908849716, -0.004420698620378971, 0.001930558355525136, 0.013127137906849384, -0.02234378457069397, -0.01790662854909897, -0.009124480187892914, 0.005513529758900404, 0.03425959125161171, 0.00669523561373353, -0.02764994092285633, -0.005023072473704815, 0.009624812752008438, 0.01105339266359806, -0.022738784551620483, -0.011527392081916332, -0.01465446874499321, 0.0010047791292890906, 0.0030727642588317394, 0.017867127433419228, 0.002067162189632654, -0.00513498904183507, 0.022462284192442894, 0.013956636190414429, -0.012133057229220867, -0.015549799427390099, 0.005737362429499626, -0.008894064463675022, -0.028703270480036736, -0.010302894748747349, 0.019104791805148125, 0.007709066849201918, 0.0014236427377909422, -0.004265990573912859, 0.006550402380526066, -0.006899318192154169, 0.02875593863427639, -0.025714443996548653, 0.018525460734963417, 0.010763727128505707, 0.011632724665105343, -0.04173824191093445, 0.013252221047878265, -0.032653260976076126, -0.010256811045110226, 0.023476116359233856, -0.0453195683658123, -0.027570940554142, -0.003969741519540548, -0.015339133329689503, 0.03041493333876133, 0.0022514951415359974, -0.013535303995013237, 0.013094221241772175, -0.0016013924032449722, -0.009934228844940662, -0.014720301143825054, -0.015773633494973183, 0.0022992242593318224, -0.008959896862506866, -0.027939606457948685, 0.0011027059517800808, -0.023015283048152924, 0.008117232471704483, -0.011224559508264065, -0.01319955475628376, -0.012916471809148788, -0.04134324565529823, -0.029150936752557755, -0.018420126289129257, 0.017722295597195625, 0.017445795238018036, 0.008459565229713917, 0.0071626510471105576, 0.005987528711557388, -0.026148943230509758, -0.003841366618871689, 0.001172653748653829, -0.0045194486156105995, -0.0022860574536025524, 0.020289789885282516, 0.009763062000274658, 0.012146223336458206, -0.014957301318645477, -0.013798636384308338, -0.0036142421886324883, -0.02213311940431595, -0.01932862401008606, 0.0018268710700795054, -0.026662442833185196, 0.03526025637984276, 0.019618291407823563, -0.003953283187001944, -0.005852570757269859, -0.027965938672423363, -0.0460832342505455, -0.0046939062885940075, 0.016774296760559082, -0.0017610378563404083, 0.01004614494740963, -0.012567556463181973, 0.010322644375264645, 0.028729604557156563, -0.012106724083423615, 0.010711059905588627, -0.01790662854909897, 0.009315396659076214, 0.003815033473074436, 0.0020753913559019566, 0.018341127783060074, -0.010592560283839703, -0.026043610647320747, -0.02899293787777424, -0.0021050162613391876, -0.026728276163339615, 0.0009175501181744039, 0.010783476755023003, -0.013094221241772175, -0.009289063513278961, 0.02217261865735054, -0.0029229936189949512, 0.006665610708296299, 0.018683459609746933, 0.012501723133027554, -0.021435286849737167, -0.02733394131064415, 0.001900933333672583, -0.010388477705419064, -0.028676938265562057, -0.0004242126306053251, 0.00985522847622633, 0.014509635046124458, 0.020118623971939087, -0.02618844248354435, -0.010671560652554035, 0.008900647051632404, -0.020184457302093506, 0.011158726178109646, 0.02053995616734028, 0.013864469714462757, 0.03544459119439125, 0.02238328568637371, 0.009447063319385052, -0.017274629324674606, -0.0052205719985067844, -0.020039623603224754, 0.007788066286593676, 0.012936222366988659, -0.028044939041137695, 0.02185661904513836, -0.014259468764066696, 0.035391923040151596, -0.055826544761657715, -0.0006394048687070608, -0.009986895136535168, 0.005177780520170927, -0.029019270092248917, 0.02200145274400711, -0.0016581735108047724, -0.014298968948423862, -0.007169234566390514, 0.010309477336704731, 0.0046247816644608974, -0.03436492756009102, -0.00985522847622633, 0.015918465331196785, -0.00982231181114912, 0.017643295228481293, 0.024305613711476326, -0.0018581418553367257, -0.004371324088424444, 0.004400948993861675, 0.009710395708680153, -0.031152265146374702, -0.012067223899066448, 0.1658996343612671, -0.010849310085177422, 0.02009228989481926, -0.00539503013715148, -0.005585946142673492, -0.000196265202248469, 0.03965791314840317, 0.010559643618762493, 0.017366794869303703, 0.0077288164757192135, 0.004769614897668362, 0.006971735041588545, -0.03468092530965805, 0.006208070088177919, 0.024437280371785164, -0.013508970849215984, -0.005289697088301182, -0.04160657525062561, -0.011494475416839123, 0.016826963052153587, -0.0043548657558858395, -0.029677603393793106, -0.014667634852230549, -0.011803891509771347, 0.0417909100651741, 0.005553029477596283, -0.004200157709419727, -0.012481972575187683, 0.02951960265636444, -0.0024127864744514227, -0.007906566374003887, -0.007314067333936691, -0.0034035760909318924, 0.0049802809953689575, -0.02334444969892502, 0.00985522847622633, 0.013252221047878265, 0.011000726372003555, 0.007998732849955559, -0.011158726178109646, 0.015497133135795593, -0.0032027848064899445, 0.025556445121765137, -0.018485959619283676, 0.019565625116229057, 0.03702458739280701, 0.01680063083767891, -0.01697179675102234, -0.003377242712303996, -0.0032570972107350826, -0.024173947051167488, -0.009203480556607246, 0.011059976182878017, 0.015075800940394402, -0.007616900373250246, 0.004881531000137329, -0.004318657331168652, 0.0013265388552099466, 0.02556961216032505, 0.021672286093235016, -0.029466936364769936, 0.010994142852723598, 0.0028555146418511868, 0.030809933319687843, -0.003005285281687975, -0.0041540744714438915, 0.010671560652554035, 0.006741318851709366, 0.016537297517061234, -0.00722190085798502, 0.0021264120005071163, 0.005905237048864365, -0.03225826472043991, -0.019354958087205887, -0.015102134086191654, -0.017853962257504463, 0.031231265515089035, -0.0014154135715216398, 0.020079122856259346, 0.028624271973967552, -0.0024572238326072693, -0.004134324379265308, 0.0042594075202941895, -0.00020727168885059655, -0.02172495238482952, -0.014338469132781029, 0.029124604538083076, -0.019512956961989403, 0.004851906094700098, -0.009019147604703903, -0.006813735235482454, -0.010302894748747349, -0.020671622827649117, -0.026306943967938423, 0.014917801134288311, 0.0012788097374141216, 0.023462949320673943, 0.013601137325167656, -0.003475992474704981, 0.031231265515089035, -0.01930229179561138, 0.043397240340709686, 0.03731425106525421, 0.01229763962328434, 0.007261401042342186, -0.0009175501181744039, -0.007676150184124708, -0.003069472499191761, 0.011942140758037567, 0.003033264307305217, 0.00862414762377739, -0.016339797526597977, -0.004167241044342518, -0.005592529661953449, -0.007630066946148872, 0.020013289526104927, -0.009710395708680153, -0.04097457975149155, 0.03175793215632439, 0.0039335330948233604, -0.004572114907205105, -0.002090203808620572, -0.01919695921242237, 0.007597150281071663, -0.021803952753543854, -0.030362267047166824, -0.0024605155922472477, 0.0020984329748898745, -0.006428610999137163, -0.010849310085177422, 0.006129070185124874, -0.013851303607225418, 0.015497133135795593, 0.02695210836827755, 0.006609652191400528, -0.025451112538576126, 0.00597765389829874, -0.0018746000714600086, -0.00861098151654005, 0.02986193634569645, -0.020658455789089203, -0.00685981847345829, 0.01553663332015276, 0.023581448942422867, -0.00013320935249794275, 0.009710395708680153, -0.014391135424375534, 0.017656462267041206, -0.024516280740499496, 0.005174488760530949, -0.006231111474335194, -0.005460863001644611, 0.013601137325167656, 0.009512895718216896, 0.0033509093336760998, 0.0029740144964307547, -0.005213988944888115, 0.0016738089034333825, 0.011599808000028133, -0.01075714360922575, -0.0465572327375412, -0.0070639015175402164, 0.021882953122258186, -0.013666970655322075, -0.008354231715202332, -0.015786798670887947, -0.16453030705451965, 0.013100804761052132, 0.0031534098088741302, -0.00024090833903755993, 0.020658455789089203, 0.026372775435447693, 0.00966431200504303, 0.007136317901313305, -0.000896977202501148, 0.0022465577349066734, 0.02185661904513836, -0.0008813418680801988, -0.01939445734024048, -0.040026579052209854, -0.0010557997738942504, 0.009111314080655575, -0.0241871140897274, 0.04805823042988777, 0.005994112230837345, 0.012692639604210854, 0.03181059658527374, -0.027386607602238655, 0.0060072788037359715, -0.008933563716709614, 0.00047276460099965334, 0.020329289138317108, -0.007761733140796423, 0.014417468570172787, 0.005905237048864365, -0.031678929924964905, 0.02047412283718586, -0.031784266233444214, 0.0017725586658343673, 0.0025345778558403254, 0.014891467988491058, -0.008400315418839455, -0.0028439939487725496, -0.00971697922796011, -0.031231265515089035, 0.0061060283333063126, 0.014667634852230549, 0.023462949320673943, 0.002631681738421321, -0.012363472953438759, -0.016168631613254547, 0.005803195759654045, 0.011560308746993542, -0.00413103261962533, 0.02168545313179493, -0.03017793409526348, 0.001912454143166542, 0.0050856140442192554, -0.019420791417360306, 0.0027172649279236794, 0.02521411143243313, 0.011856557801365852, -0.003219243139028549, -0.000153473622049205, 0.006533944047987461, 0.004447032231837511, -0.005398321896791458, 0.003584617283195257, 0.005483904853463173, 0.009203480556607246, -0.016260799020528793, -0.013706470839679241, -0.0017067254520952702, 0.01694546267390251, -0.015497133135795593, 0.004364740569144487, -0.003288367995992303, -0.016655797138810158, -0.013601137325167656, -0.02764994092285633, 0.010743976570665836, 0.013982969336211681, -0.007136317901313305, 0.0006093684933148324, 0.0031780973076820374, -0.007511567324399948, 0.005042822565883398, 0.013107388280332088, -4.86805583932437e-05, 0.003989491146057844, 0.002111599547788501, -0.027623606845736504, 0.020210789516568184, 0.001841683522798121, 0.005539862904697657, -0.005602404475212097, 0.004647823516279459, -0.040105581283569336, 0.011158726178109646, -0.013956636190414429, 0.014246302656829357, -0.00026148121105507016, 0.006540527567267418, -0.0013388824881985784, 0.01138255838304758, -0.018933625891804695, 0.00705731799826026, 0.019381292164325714, -0.00344636756926775, -0.006129070185124874, 0.018867792561650276, 0.012600473128259182, -0.010454311035573483, 0.020316122099757195, 0.04476657137274742, 0.008466148748993874, -0.007662983611226082, -0.009512895718216896, 0.0052501969039440155, 0.014259468764066696, -0.019078459590673447, 0.027965938672423363, -0.015062633901834488, 0.012422722764313221, -0.012890138663351536, -0.02930893748998642, 0.049453891813755035, 0.0003147649404127151, 0.0007920555653981864, 0.003894033143296838, -0.02296261675655842, -0.01943395845592022, -0.12239706516265869, -0.03410159423947334, -0.00571761280298233, 0.024397781118750572, -0.010743976570665836, 0.02605677768588066, -0.01465446874499321, 0.021290453150868416, -0.022014619782567024, 0.03447026014328003, -0.024832280352711678, -0.020763788372278214, -0.0030019935220479965, -0.009071813896298409, -0.004535906948149204, -0.021382620558142662, -0.010243644937872887, 0.009861811995506287, -0.014219969511032104, 0.030230602249503136, 0.009111314080655575, 0.0028176605701446533, -0.014088302850723267, -0.017985627055168152, -0.018446460366249084, 0.01915745809674263, -0.015576132573187351, -0.0036208254750818014, 0.006984901614487171, 0.003265326377004385, 0.018683459609746933, -0.022844117134809494, 0.024937612935900688, -0.022462284192442894, 0.00361095042899251, 0.01884145848453045, 0.0030546600464731455, -0.028044939041137695, 0.002419369760900736, -0.026069942861795425, -0.009993478655815125, 0.00503953080624342, 0.008380564860999584, 0.0010492164874449372, -0.003176451427862048, 0.0030266810208559036, -0.02688627503812313, 0.013930303044617176, 0.004032283090054989, -0.00978939514607191, -0.0010804872727021575, -0.01669529639184475, -0.02431878075003624, -0.009414146654307842, 0.0066721937619149685, -0.009025730192661285, 0.009348313324153423, -0.026346443220973015, -0.008380564860999584, -0.007346983999013901, -0.022119952365756035, 0.013653803616762161, -0.004552365280687809, 0.0270969420671463, 0.01735362969338894, -0.032100263983011246, -0.04634656757116318, -0.03389092534780502, -0.010000062175095081, -0.02317328378558159, 0.01801196113228798, 0.008110648952424526, -0.005697862710803747, 0.026385942474007607, -0.00722190085798502, 0.020105456933379173, -0.009763062000274658, -0.01271238923072815, 0.008242315612733364, 0.0033443260472267866, -0.021013954654335976, -0.010658393613994122, 0.018617626279592514, 0.004177115857601166, -0.006731443572789431, 0.010651810094714165, -0.01356163714081049, -0.009769645519554615, 0.008057982660830021, -0.03747225180268288, 0.017340462654829025, 0.025240445509552956, 0.03536558896303177, 0.00829498190432787, 0.0003324576246086508, -0.027386607602238655, 0.012047474272549152, -0.017761794850230217, 0.007676150184124708, 0.02310745045542717, -0.017024463042616844, 0.001930558355525136, -0.04463490471243858, 0.01826212741434574, -0.016050131991505623, 0.0015479029389098287, 0.019012626260519028, -0.000906029308680445, 0.013318054378032684, -0.012791388668119907, 0.005418071523308754, 0.011224559508264065, -0.023370781913399696, 0.019973790273070335, -0.0014458614168688655, 0.004450323525816202, -0.026859942823648453, -0.02240961790084839, 0.039131250232458115, -0.010467477142810822, 0.008025065995752811, 0.014917801134288311, 0.033653926104307175, -0.00121215358376503, 0.05179755389690399, 0.002389744855463505, -0.02899293787777424, 0.0016096215695142746, -0.017932960763573647, 0.036840252578258514, 0.0026432026643306017, -0.033732928335666656, 0.02210678532719612, -0.012422722764313221, 0.02629377692937851, 0.009499729610979557, -0.005483904853463173, -0.005799904000014067, -0.0013339450815692544, 0.004012532997876406, 0.01553663332015276, 0.06499052792787552, -0.047268230468034744, -0.03855191543698311, -0.010539893992245197, -0.008854564279317856, -0.008097482845187187, -0.015786798670887947, -0.017274629324674606, -0.025556445121765137, 0.0060369037091732025, 0.003992782905697823, 0.023713115602731705, -0.0017445795238018036, -0.025925111025571823, -0.019512956961989403, 0.012949388474225998, 0.007820983417332172, 0.015957964584231377, -0.016168631613254547, 0.003436492523178458, -0.004674156662076712, 0.027913272380828857, 0.026859942823648453, 0.023844782263040543, 0.002185662044212222, 0.0036274087615311146, -0.015826299786567688, -0.02414761483669281, 0.02920360304415226, 0.0010006645461544394, -0.0065372358076274395, -0.019236458465456963, -0.024476779624819756, 0.02410811372101307, 0.006971735041588545, 0.0254247784614563, -0.014470135793089867, -0.021527454257011414, 0.006115903612226248, -0.004048741422593594, 0.02026345580816269, 0.0267151091247797, 0.017445795238018036, 0.008150149136781693, 0.01465446874499321, 0.05282455310225487, 0.012653139419853687, -0.029545936733484268, 0.02425294741988182, 0.013416804373264313, -0.018512293696403503, 0.012830888852477074, 0.015049467794597149, 0.01233055628836155, 0.00722190085798502, 0.02348928339779377, 0.012659722939133644, -0.02618844248354435, -0.0006830193451605737, 0.0037821168079972267, 0.022528117522597313, 0.023331282660365105, -0.0017264754278585315, -0.006807152181863785, -0.011217975988984108, -0.01818312704563141, 0.010526726953685284, -0.02822927199304104, -0.011994807049632072, -0.014799301512539387, 0.030125267803668976, 0.0029378060717135668, 0.00014761036436539143, 0.0022580784279853106, 0.007333817426115274, -0.034180592745542526, 0.025200946256518364, 0.0006657381309196353, -0.009585312567651272, -0.0140488026663661, 0.01349580381065607, 0.016537297517061234, -0.015457632951438427, 0.041422244161367416, -0.005737362429499626, 0.0028209523297846317, 0.04334457218647003, 0.026912609115242958, -0.02843993902206421, 0.0026135777588933706, 0.002521411282941699, 0.009763062000274658, -0.011408892460167408, 0.0029197020921856165, 0.012758472003042698, -0.025437945500016212, -0.04776856303215027, 0.00487494794651866, -0.006886151619255543, 0.006866401992738247, 0.06330519914627075, 0.013140304945409298, 0.009585312567651272, -0.010994142852723598, -0.040790244936943054, -0.0067380270920693874, -0.007616900373250246, 0.005490487907081842, -0.02888760343194008, 0.010059311985969543, 0.01870979368686676, -0.016826963052153587, 0.016023797914385796, -0.029150936752557755, -0.009993478655815125, -0.00016694885562174022, -0.028729604557156563, 0.023410283029079437, 0.007090234663337469, -0.0027468898333609104, 0.02265978418290615, -0.04136957600712776, 0.03955258056521416, 0.029835602268576622, -0.02452944777905941, 0.00415736623108387, 0.01304155495017767, -0.010632060468196869, -0.013113971799612045, -0.027175940573215485, 0.01894679293036461, 0.010941476561129093, -0.04829522967338562, -0.014259468764066696, -0.0008393732132390141, -0.011250892654061317, 0.0006406392203643918, -0.004601740278303623, -0.012797972187399864, 0.037261586636304855, 0.0007044151425361633, 0.003956574946641922, -0.015128467231988907, -0.024200281128287315, -0.003801866667345166, 0.008617565035820007, -0.02888760343194008, -0.02996726892888546, 0.0018466210458427668]\n",
            "\n"
          ]
        }
      ]
    },
    {
      "cell_type": "code",
      "source": [
        "rec = 30 # Replace with the desired record number\n",
        "display_record(rec)"
      ],
      "metadata": {
        "colab": {
          "base_uri": "https://localhost:8080/"
        },
        "id": "BALcdYfI8CMa",
        "outputId": "b1c77a75-4a61-450d-aeb5-754c0642fc59"
      },
      "execution_count": 29,
      "outputs": [
        {
          "output_type": "stream",
          "name": "stdout",
          "text": [
            "ID:\n",
            "['5ada79e8-4258-43dd-89a3-738cbe85f3b3']\n",
            "\n",
            "Metadata:\n",
            "file_path: /content/data/Convolutional_neural_network.txt\n",
            "file_name: Convolutional_neural_network.txt\n",
            "file_type: text/plain\n",
            "file_size: 107458\n",
            "creation_date: 2025-04-10\n",
            "last_modified_date: 2025-04-10\n",
            "_node_content: {\"id_\": \"5ada79e8-4258-43dd-89a3-738cbe85f3b3\", \"embedding\": null, \"metadata\": {\"file_path\": \"/content/data/Convolutional_neural_network.txt\", \"file_name\": \"Convolutional_neural_network.txt\", \"file_type\": \"text/plain\", \"file_size\": 107458, \"creation_date\": \"2025-04-10\", \"last_modified_date\": \"2025-04-10\"}, \"excluded_embed_metadata_keys\": [\"file_name\", \"file_type\", \"file_size\", \"creation_date\", \"last_modified_date\", \"last_accessed_date\"], \"excluded_llm_metadata_keys\": [\"file_name\", \"file_type\", \"file_size\", \"creation_date\", \"last_modified_date\", \"last_accessed_date\"], \"relationships\": {\"1\": {\"node_id\": \"4b4d146a-65be-4e1f-ae1a-029346d8fc88\", \"node_type\": \"4\", \"metadata\": {\"file_path\": \"/content/data/Convolutional_neural_network.txt\", \"file_name\": \"Convolutional_neural_network.txt\", \"file_type\": \"text/plain\", \"file_size\": 107458, \"creation_date\": \"2025-04-10\", \"last_modified_date\": \"2025-04-10\"}, \"hash\": \"822db2b96cc675b5d46f6ba971b13d3b6efa1b76b6a9c519dbfe41bb6b5f6790\", \"class_name\": \"RelatedNodeInfo\"}, \"2\": {\"node_id\": \"be0c2c46-f30b-4bd5-af2e-0e19f69367e8\", \"node_type\": \"1\", \"metadata\": {\"file_path\": \"/content/data/Convolutional_neural_network.txt\", \"file_name\": \"Convolutional_neural_network.txt\", \"file_type\": \"text/plain\", \"file_size\": 107458, \"creation_date\": \"2025-04-10\", \"last_modified_date\": \"2025-04-10\"}, \"hash\": \"22616445dc032da84d7bc60abcb38518b4a52397cfb0e5f856e287a6a8e6e74e\", \"class_name\": \"RelatedNodeInfo\"}, \"3\": {\"node_id\": \"6e1340a6-411d-4ffd-94f3-d1b02008a20a\", \"node_type\": \"1\", \"metadata\": {}, \"hash\": \"d65053aead48d9e2d41482aa7f7cdb0b53966169fc71fe9af4a665ab36523b2c\", \"class_name\": \"RelatedNodeInfo\"}}, \"text\": \"Overlapping the pools so that each feature occurs in multiple pools helps retain the information. Translation alone cannot extrapolate the understanding of geometric relationships to a radically new viewpoint such as a different orientation or scale. On the other hand people are very good at extrapolating after seeing a new shape once they can recognize it from a different viewpoint.  102  An earlier common way to deal with this problem is to train the network on transformed data in different orientations scales lighting etc. so that the network can cope with these variations. This is computationally intensive for large datasets. The alternative is to use a hierarchy of coordinate frames and use a group of neurons to represent a conjunction of the shape of the feature and its pose relative to the retina . The pose relative to the retina is the relationship between the coordinate frame of the retina and the intrinsic features coordinate frame.  103  Thus one way to represent something is to embed the coordinate frame within it. This allows large features to be recognized by using the consistency of the poses of their parts e.g. nose and mouth poses make a consistent prediction of the pose of the whole face. This approach ensures that the higherlevel entity e.g. face is present when the lowerlevel e.g. nose and mouth agree on its prediction of the pose. The vectors of neuronal activity that represent pose pose vectors allow spatial transformations modeled as linear operations that make it easier for the network to learn the hierarchy of visual entities and generalize across viewpoints. This is similar to the way the human visual system imposes coordinate frames in order to represent shapes.  104  Applications  edit  Image recognition  edit  CNNs are often used in image recognition systems. In 2012 an error rate of 0.23 on the MNIST database was reported.  28  Another paper on using CNN for image classification reported that the learning process was surprisingly fast in the same paper the best published results as of 2011 were achieved in the MNIST database and the NORB database.  25  Subsequently a similar CNN called AlexNet  105  won the ImageNet Large Scale Visual Recognition Challenge 2012. When applied to facial recognition  CNNs achieved a large decrease in error rate.  106  Another paper reported a 97.6 recognition rate on 5600 still images of more than 10 subjects.  21  CNNs were used to assess video quality in an objective way after manual training the resulting system had a very low root mean square error .  107  The ImageNet Large Scale Visual Recognition Challenge is a benchmark in object classification and detection with millions of images and hundreds of object classes. In the ILSVRC 2014  108  a largescale visual recognition challenge almost every highly ranked team used CNN as their basic framework. The winner GoogLeNet  109  the foundation of DeepDream  increased the mean average precision of object detection to 0.439329 and reduced classification error to 0.06656 the best result to date. Its network applied more than 30 layers. That performance of convolutional neural networks on the ImageNet tests was close to that of humans.  110  The best algorithms still struggle with objects that are small or thin such as a small ant on a stem of a flower or a person holding a quill in their hand. They also have trouble with images that have been distorted with filters an increasingly common phenomenon with modern digital cameras. By contrast those kinds of images rarely trouble humans. Humans however tend to have trouble with other issues. For example they are not good at classifying objects into finegrained categories such as the particular breed of dog or species of bird whereas convolutional neural networks handle this.  citation needed  In 2015 a manylayered CNN demonstrated the ability to spot faces from a wide range of angles including upside down even when partially occluded with competitive performance. The network was trained on a database of 200000 images that included faces at various angles and orientations and a further 20 million images without faces. They used batches of 128 images over 50000 iterations.  111  Video analysis  edit  Compared to image data domains there is relatively little work on applying CNNs to video classification. Video is more complex than images since it has another temporal dimension. However some extensions of CNNs into the video domain have been explored. One approach is to treat space and time as equivalent dimensions of the input and perform convolutions in both time and space.  112   113  Another way is to fuse the features of two convolutional neural networks one for the spatial and one for the temporal stream.  114   115   116  Long shortterm memory LSTM recurrent units are typically incorporated after the CNN to account for interframe or interclip dependencies.\", \"mimetype\": \"text/plain\", \"start_char_idx\": 51487, \"end_char_idx\": 56389, \"text_template\": \"{metadata_str}\\n\\n{content}\", \"metadata_template\": \"{key}: {value}\", \"metadata_seperator\": \"\\n\", \"class_name\": \"TextNode\"}\n",
            "_node_type: TextNode\n",
            "document_id: 4b4d146a-65be-4e1f-ae1a-029346d8fc88\n",
            "doc_id: 4b4d146a-65be-4e1f-ae1a-029346d8fc88\n",
            "ref_doc_id: 4b4d146a-65be-4e1f-ae1a-029346d8fc88\n",
            "\n",
            "\n",
            "Text:\n",
            "['Overlapping the pools so that each feature occurs in multiple pools helps retain the information. Translation alone cannot extrapolate the understanding of geometric relationships to a radically new viewpoint such as a different orientation or scale. On the other hand people are very good at extrapolating after seeing a new shape once they can recognize it from a different viewpoint.  102  An earlier common way to deal with this problem is to train the network on transformed data in different orientations scales lighting etc. so that the network can cope with these variations. This is computationally intensive for large datasets. The alternative is to use a hierarchy of coordinate frames and use a group of neurons to represent a conjunction of the shape of the feature and its pose relative to the retina . The pose relative to the retina is the relationship between the coordinate frame of the retina and the intrinsic features coordinate frame.  103  Thus one way to represent something is to embed the coordinate frame within it. This allows large features to be recognized by using the consistency of the poses of their parts e.g. nose and mouth poses make a consistent prediction of the pose of the whole face. This approach ensures that the higherlevel entity e.g. face is present when the lowerlevel e.g. nose and mouth agree on its prediction of the pose. The vectors of neuronal activity that represent pose pose vectors allow spatial transformations modeled as linear operations that make it easier for the network to learn the hierarchy of visual entities and generalize across viewpoints. This is similar to the way the human visual system imposes coordinate frames in order to represent shapes.  104  Applications  edit  Image recognition  edit  CNNs are often used in image recognition systems. In 2012 an error rate of 0.23 on the MNIST database was reported.  28  Another paper on using CNN for image classification reported that the learning process was surprisingly fast in the same paper the best published results as of 2011 were achieved in the MNIST database and the NORB database.  25  Subsequently a similar CNN called AlexNet  105  won the ImageNet Large Scale Visual Recognition Challenge 2012. When applied to facial recognition  CNNs achieved a large decrease in error rate.  106  Another paper reported a 97.6 recognition rate on 5600 still images of more than 10 subjects.  21  CNNs were used to assess video quality in an objective way after manual training the resulting system had a very low root mean square error .  107  The ImageNet Large Scale Visual Recognition Challenge is a benchmark in object classification and detection with millions of images and hundreds of object classes. In the ILSVRC 2014  108  a largescale visual recognition challenge almost every highly ranked team used CNN as their basic framework. The winner GoogLeNet  109  the foundation of DeepDream  increased the mean average precision of object detection to 0.439329 and reduced classification error to 0.06656 the best result to date. Its network applied more than 30 layers. That performance of convolutional neural networks on the ImageNet tests was close to that of humans.  110  The best algorithms still struggle with objects that are small or thin such as a small ant on a stem of a flower or a person holding a quill in their hand. They also have trouble with images that have been distorted with filters an increasingly common phenomenon with modern digital cameras. By contrast those kinds of images rarely trouble humans. Humans however tend to have trouble with other issues. For example they are not good at classifying objects into finegrained categories such as the particular breed of dog or species of bird whereas convolutional neural networks handle this.  citation needed  In 2015 a manylayered CNN demonstrated the ability to spot faces from a wide range of angles including upside down even when partially occluded with competitive performance. The network was trained on a database of 200000 images that included faces at various angles and orientations and a further 20 million images without faces. They used batches of 128 images over 50000 iterations.  111  Video analysis  edit  Compared to image data domains there is relatively little work on applying CNNs to video classification. Video is more complex than images since it has another temporal dimension. However some extensions of CNNs into the video domain have been explored. One approach is to treat space and time as equivalent dimensions of the input and perform convolutions in both time and space.  112   113  Another way is to fuse the features of two convolutional neural networks one for the spatial and one for the temporal stream.  114   115   116  Long shortterm memory LSTM recurrent units are typically incorporated after the CNN to account for interframe or interclip dependencies.']\n",
            "\n",
            "Embedding:\n",
            "[-0.013944055885076523, 0.009925127029418945, 0.029001465067267418, -0.01679532416164875, 0.017555661499500275, 0.00865563377737999, 0.028892844915390015, -0.010773718357086182, -0.025742873549461365, -0.030223436653614044, 0.009864027611911297, 0.03489408269524574, -0.003005711128935218, 0.013109042309224606, -0.00019655501819215715, 0.009816506877541542, 0.02654394321143627, 0.030875153839588165, 0.007712000049650669, -0.033020395785570145, -0.023013802245259285, 0.011242141015827656, -0.016225069761276245, -0.024765295907855034, -0.010705830529332161, 0.011065633967518806, 0.022647211328148842, -0.02556636556982994, -0.0003852605586871505, -0.010576845146715641, 0.009531380608677864, -0.007148534990847111, -0.014297069981694221, -0.00637461943551898, -0.0047453236766159534, 0.009728253819048405, 0.017419887706637383, -0.03163549304008484, -0.0014740035403519869, 0.004752112552523613, 0.03046783059835434, -0.01614360511302948, -0.012871436774730682, -0.030332056805491447, -0.01847892999649048, 0.01838388666510582, 0.0037473803386092186, -0.029924731701612473, -0.018424618989229202, 0.03587166219949722, 0.027440056204795837, 0.03752811253070831, -0.022334929555654526, -0.02643532305955887, -0.01686321198940277, -0.008438394404947758, -0.017066873610019684, 0.004483957774937153, 0.007291098590940237, -0.031363941729068756, 0.03274884447455406, 0.012939323671162128, -0.00789529550820589, 0.00021246611140668392, -0.019008450210094452, -0.020651323720812798, 0.005098337773233652, 0.011086000129580498, 0.0025627464056015015, 0.0010191584005951881, 0.018981294706463814, 0.03014197200536728, -0.004100394435226917, -0.006503605749458075, 0.026693295687437057, -0.015356112271547318, -0.004894676152616739, -0.0013492605648934841, -0.01565481722354889, 0.0026611830107867718, 0.002752830972895026, -0.04540304094552994, 0.010990957729518414, 0.005451351869851351, 0.022158421576023102, 0.00566859170794487, -0.013462056405842304, 0.010936647653579712, 0.009538169018924236, 0.01598067581653595, 0.02020326815545559, 0.0025559577625244856, -0.0019280000124126673, -0.013475633226335049, 0.006045366171747446, -0.00366591545753181, 0.01868259161710739, 0.007854563184082508, -0.010481802746653557, 0.0028003521729260683, -0.026421746239066124, 0.026720451191067696, -0.02848552167415619, -0.020244000479578972, -0.030250590294599533, -0.009517802856862545, 0.0191306471824646, 0.0021961547899991274, 0.020705632865428925, -0.014419267885386944, 0.021411661058664322, 0.03869577497243881, -0.01714833825826645, -0.027535097673535347, -0.004803027957677841, -0.014935211278498173, 0.025512056425213814, -0.022212732583284378, -0.0017311266856268048, -0.011934591457247734, -0.0001796892611309886, 0.008811774663627148, 0.011785238981246948, -0.005454746540635824, 0.026204505935311317, -0.0026476054918020964, 0.010855183005332947, 0.004667253699153662, -0.02283729612827301, -0.01150011271238327, -0.012694929726421833, 0.01731126755475998, -0.008044647984206676, 0.013020788319408894, -0.018913408741354942, -0.0003360422560945153, 0.008180422708392143, -0.02771160565316677, -0.02773876115679741, -0.0041411267593503, 0.018533239141106606, 0.010366394184529781, -0.01695825345814228, -0.0062252674251794815, -0.00938881654292345, 0.03212428092956543, -0.0045722112990915775, 0.021723942831158638, -0.0016802112804725766, -0.0012499752920120955, 0.007202845066785812, -0.013013999909162521, -0.004870915319770575, 0.003557295771315694, 0.006724239327013493, 0.01695825345814228, 0.0020026760175824165, 0.04325780272483826, 0.0051017324440181255, -0.0015605598455294967, 0.0010123697575181723, 0.019768789410591125, -0.0060046338476240635, 0.008560591377317905, 0.021384507417678833, 0.01226045098155737, 0.012491267174482346, 0.002740950556471944, 0.009164788760244846, 0.0107872961089015, 0.0011108063627034426, 0.050263773649930954, -0.027684450149536133, 0.019958872348070145, 0.015763435512781143, -0.0009207217954099178, 0.026978421956300735, 0.0036421548575162888, -0.03272169083356857, -0.02598726749420166, 0.012267239391803741, 0.014677239581942558, 0.027331436052918434, -0.004697802942246199, -0.006320309825241566, -0.0137064503505826, 0.029110083356499672, -0.01331949234008789, -0.004456802736967802, -0.002686640713363886, -0.01448715478181839, 0.0035199576523154974, -0.01546473242342472, -0.006442506797611713, -0.6334701776504517, -0.006157380063086748, 0.019402196630835533, -0.029381632804870605, -0.00878461915999651, 0.025417013093829155, -0.020311886444687843, -0.015261069871485233, -0.0137064503505826, 0.030359210446476936, -0.0314997173845768, -0.012878225184977055, 0.0020841408986598253, -0.005675380118191242, -0.017840787768363953, -0.019728055223822594, -0.0017871337477117777, -0.013509577140212059, 0.015844902023673058, 0.015532619319856167, -0.020121803507208824, 0.010902703739702702, -0.014772281982004642, 0.039483267813920975, -0.01756923831999302, 0.011696985922753811, -0.00993870384991169, -0.0029276409186422825, 0.018003718927502632, 0.01698540896177292, -0.0415198877453804, 0.00499311275780201, 0.02143881656229496, -0.009816506877541542, 0.04524011164903641, -0.015166028402745724, -0.012138253077864647, 0.03166264668107033, 0.03598028048872948, 0.025892224162817, -0.01708045043051243, -0.03228721022605896, 0.003051535226404667, 0.006249028258025646, -0.0099726477637887, -0.012172196991741657, 0.007365774363279343, -0.011140309274196625, -0.010250985622406006, -0.038016900420188904, -0.008390872739255428, 0.005071183200925589, -0.00016685431182850152, -0.008289041928946972, -0.017256958410143852, -0.005824732128530741, 0.02416788786649704, -0.018166648223996162, -0.0020824435632675886, -0.013604619540274143, -0.003822056343778968, -0.018981294706463814, -0.006459478754550219, -0.016021408140659332, -0.034703999757766724, 0.025417013093829155, -0.014039098285138607, -0.0014366654213517904, -0.0052748448215425014, -0.014813014306128025, 0.01315656304359436, 0.026883380487561226, 0.006934690289199352, -0.029707493260502815, -0.0191306471824646, 0.025512056425213814, 0.011187830939888954, 0.004130943678319454, -0.0009741830872371793, 0.019144225865602493, 0.007902084849774837, -0.00974183063954115, -0.02209053561091423, 0.009755408391356468, 0.00826867576688528, 0.022565746679902077, -0.019999604672193527, 0.04018929600715637, 0.00051679223543033, -0.012810338288545609, 0.0024286690168082714, 0.016741013154387474, -0.014799436554312706, -0.06169600039720535, -0.005722901318222284, 0.016550930216908455, -0.010637943632900715, 0.01714833825826645, 0.018926985561847687, -0.028702760115265846, -0.003944253548979759, -0.02244354970753193, 0.004317633807659149, -0.004402493126690388, 0.010726196691393852, 0.0071417465806007385, 0.003611605614423752, 0.03940180316567421, 0.027494365349411964, -0.028757069259881973, -0.009232675656676292, 0.0002509709447622299, 0.00451450701802969, 0.0007849471876397729, -0.006184535101056099, -0.02517261914908886, 0.018017295747995377, 0.008451972156763077, -0.0038322394248098135, -0.00193309155292809, 0.015967098996043205, -0.003160154912620783, 0.0039374646730721, -0.0011031690519303083, 0.01607571728527546, 0.005912985652685165, -0.001695485902018845, 0.0036964647006243467, 0.000504063384141773, -0.013611407950520515, 0.003479225328192115, -0.007603380363434553, 0.019252844154834747, -0.021561013534665108, 0.022334929555654526, 0.0328846201300621, 0.010427492670714855, 0.022076956927776337, -0.032341521233320236, -0.021778253838419914, -0.01942935213446617, -0.003071901388466358, 0.01978236623108387, -0.005206957459449768, -0.027752337977290154, 0.00631691562011838, -0.011405070312321186, 0.010671887546777725, -0.012138253077864647, -0.01880478858947754, -0.003631971776485443, -0.02442585863173008, -0.021642478182911873, -0.000717908435035497, 0.008302619680762291, 0.0011082605924457312, -0.0008256795699708164, -0.0466521680355072, -0.02358405664563179, -0.04972067475318909, 0.0002870360913220793, 0.01740630902349949, -0.02631312608718872, 0.011052056215703487, -0.011751295998692513, -0.01466366183012724, 0.0016632394399493933, 0.013441690243780613, -0.004117365926504135, -0.029734646901488304, 0.01884552091360092, -0.023692674934864044, -0.0028750281780958176, 0.02137092873454094, -0.004741929471492767, 0.02845836617052555, -0.014337802305817604, -0.01607571728527546, -0.010705830529332161, -0.007739154621958733, 0.010359605774283409, 0.0026832465082406998, -0.016917521134018898, -0.016754591837525368, 0.019700901582837105, 0.015206760726869106, 0.027263548225164413, -0.010420704260468483, -0.03494839370250702, 0.02946309745311737, 0.03478546440601349, 0.011751295998692513, -0.02188687212765217, 0.003343450604006648, -0.010115210898220539, 0.026258816942572594, 0.013984788209199905, -0.005756845232099295, 0.015437576919794083, 0.029082929715514183, -0.007603380363434553, 0.004463591612875462, -0.0162114929407835, 4.014898877358064e-05, -0.002549168886616826, -0.013197295367717743, 0.011832760646939278, -0.02997904270887375, 0.0009215704048983753, -0.022782985121011734, 0.00786135159432888, -0.009144422598183155, -0.018234534189105034, -0.026068732142448425, -0.00040647535934112966, 0.0466521680355072, 0.003287443658336997, 0.0071756900288164616, 0.0070195491425693035, 0.0270598866045475, -0.014514309354126453, -0.009694309905171394, 0.01649661920964718, -0.0007310616201721132, 0.008900027722120285, 0.012823915109038353, -1.4691240721731447e-05, 0.024113576859235764, 0.015532619319856167, -0.040297914296388626, 0.014134140685200691, 0.028838535770773888, 0.008424816653132439, 0.024710984900593758, -0.0005010932800360024, 0.010984169319272041, 0.018791211768984795, 0.007399718277156353, 0.005987661890685558, -4.640734914573841e-05, 0.020583435893058777, 0.014555041678249836, -0.003443584544584155, -0.02533554844558239, 0.008764252997934818, 0.0033875773660838604, 0.015301802195608616, 0.007589802611619234, -0.007501549087464809, -0.006663140840828419, 0.007773098535835743, -0.009965859353542328, -0.030060507357120514, 0.011812394484877586, 0.0025321971625089645, -0.010257774963974953, -0.0040426901541650295, 0.005380070302635431, 0.04032507166266441, 0.027168506756424904, 0.02663898468017578, -0.010563267394900322, 0.00029297624132595956, 4.8422753025079146e-05, 0.02634028159081936, -0.01756923831999302, 0.018764056265354156, -0.005845098756253719, -0.002627239329740405, 0.007997126318514347, -0.027426479384303093, -0.023040957748889923, 0.01670028083026409, -0.03690354898571968, -0.002707007108256221, 0.01964659057557583, 0.021194422617554665, 0.006574887316673994, 0.009456704370677471, 0.04795560613274574, -0.021846139803528786, -0.029245859012007713, 0.004908253438770771, 0.011934591457247734, -0.0009495739359408617, -0.010189887136220932, -0.05395684391260147, 0.02650321088731289, -0.006323704030364752, -0.021846139803528786, 0.0017667675856500864, -0.009639999829232693, -0.028892844915390015, -0.007447239477187395, -0.02738574706017971, 0.009551746770739555, 0.01633368991315365, -0.007813830859959126, 0.006849830970168114, 0.001343320356681943, -0.0003334964858368039, 0.005417408421635628, -0.011221774853765965, -0.009463492780923843, 0.04515864700078964, -0.019863830879330635, 0.008940760046243668, -0.0041513098403811455, -0.025376280769705772, -0.011242141015827656, 0.01903560571372509, -0.023882759734988213, 0.0064560845494270325, 0.007521915249526501, 0.011690197512507439, 0.007012760266661644, 0.005308788735419512, 0.008065014146268368, 0.0328846201300621, 0.0012576127192005515, -0.011167464777827263, -0.03014197200536728, -0.026720451191067696, 0.007868140935897827, 0.020773520693182945, 0.04714095592498779, -0.01203642226755619, -0.004534873180091381, -0.03179842233657837, -0.01728411205112934, -0.011031690053641796, -0.02013538032770157, 0.006313520949333906, 0.01447357703000307, -0.014093408361077309, -0.028512675315141678, 0.03380788862705231, 0.0053970422595739365, 0.020678479224443436, 0.021194422617554665, -0.00040499030728824437, -0.03245013952255249, -0.013414534740149975, 0.0026051760651171207, -0.008906817063689232, -0.014785858802497387, 0.028105352073907852, 0.04499571770429611, 0.01448715478181839, -0.018017295747995377, 0.02767087332904339, 0.029544563964009285, 0.011024901643395424, -0.03788112476468086, -0.015288225375115871, 0.02848552167415619, 0.010950225405395031, 0.020800676196813583, 0.004436436574906111, 0.016944676637649536, 0.007562647573649883, 0.004317633807659149, 0.017555661499500275, 0.002040014136582613, 0.02456163428723812, 0.013862591236829758, 0.00546492962166667, -0.0017183978343382478, 0.0007200299296528101, -0.006999182980507612, 0.021914027631282806, 0.033536337316036224, -0.016360845416784286, -0.019823098555207253, 0.012314760126173496, 0.016428731381893158, -0.0236790981143713, -0.022973069921135902, -0.00029276407440193, -0.026679718866944313, -0.01546473242342472, -0.008390872739255428, -0.006904140580445528, -0.003396063344553113, -0.018180225044488907, -0.018533239141106606, 0.0008163450402207673, -0.005295210983604193, 0.013686084188520908, -0.004015535116195679, -0.024968957528471947, -0.009096900932490826, -0.03388935327529907, 0.019252844154834747, -0.01245732419192791, -0.030712224543094635, -0.03570873290300369, -0.017338423058390617, 0.022036224603652954, 0.03264022618532181, 0.024955380707979202, -0.011065633967518806, -0.02062416821718216, 0.006904140580445528, 0.0120160561054945, -0.02150670439004898, -0.015831323340535164, -0.01971447840332985, -0.009572112932801247, -0.007481182925403118, -0.005604098550975323, -0.022362085059285164, -0.008608113043010235, 0.02232135273516178, 0.03581735119223595, -0.012097520753741264, -0.009891183115541935, 0.015274647623300552, 0.017854366451501846, 0.025444168597459793, 0.0018974506529048085, 0.020773520693182945, 0.021981915459036827, -0.03456822410225868, 0.0018923591123893857, -0.003004014026373625, -0.012335126288235188, -0.025607097893953323, 0.0015486795455217361, -0.00043617605115287006, 0.019633013755083084, 0.012559155002236366, 0.00878461915999651, -0.0020926266442984343, 0.02777949348092079, -0.009816506877541542, 0.008044647984206676, 0.013591041788458824, 0.002359084552153945, 0.025457745417952538, 0.008166844956576824, 0.01640157774090767, 0.018275266513228416, -0.011214985512197018, 0.00899507012218237, -0.004819999914616346, 0.0042938729748129845, -0.02059701457619667, -0.006615619640797377, 0.022823717445135117, 0.012851070612668991, -0.003153366269543767, -0.02799673192203045, 0.003132999874651432, 0.007583014201372862, 0.029245859012007713, -0.010705830529332161, -0.031010929495096207, -0.04404529556632042, 0.003743985900655389, 0.0006415352108888328, 0.016225069761276245, -0.01728411205112934, -0.008757464587688446, 0.02004033699631691, -0.0010293414816260338, -0.00539364805445075, -0.0415198877453804, 0.02777949348092079, -0.027046309784054756, -0.009884394705295563, -0.0037270139437168837, 0.02348901331424713, 0.022497858852148056, 0.015369690023362637, -0.0026153591461479664, -0.02458878792822361, -0.010902703739702702, 0.006282971706241369, -0.02442585863173008, -0.02477887272834778, 0.005206957459449768, 0.03853284567594528, 0.015274647623300552, 0.04192721098661423, 0.015681970864534378, 0.019836675375699997, 0.03310186043381691, -0.012688140384852886, 0.0008002218091860414, 0.007073859218508005, -0.012077154591679573, -0.0363876037299633, -0.007616957649588585, 0.01799014024436474, 0.00980971846729517, 0.015179605223238468, -0.009653577581048012, 0.009585689753293991, 0.026584675535559654, 0.00573308439925313, -0.02799673192203045, -0.02134377509355545, -0.024439435452222824, -0.01922569051384926, 0.018438197672367096, -0.0020790493581444025, 0.0037541689816862345, -0.02104507014155388, -0.00011328697291901335, 0.01756923831999302, -0.002474492881447077, 0.0072503662668168545, -0.02598726749420166, 0.026041576638817787, 0.007073859218508005, -0.02927301451563835, 0.0009241161751560867, 0.002432063454762101, -0.02962602861225605, -0.009171577170491219, -0.04602760449051857, 0.011296450160443783, 0.00770521117374301, 0.008832140825688839, 0.01861470378935337, 0.017419887706637383, 0.011330394074320793, -0.01431064773350954, -0.00022360387083608657, -0.010841605253517628, 0.002235190011560917, -0.008207577280700207, -0.020420506596565247, 0.006282971706241369, -0.024873916059732437, -0.02188687212765217, 0.0038390280678868294, -0.005016873124986887, 0.014392112381756306, -0.0008418028010055423, 0.03198850527405739, -0.005169619806110859, -0.02731785923242569, 0.006184535101056099, 0.024480169638991356, 0.04868878796696663, -0.01780005544424057, 0.036007437855005264, 0.013753972016274929, 0.0072843097150325775, -0.016415154561400414, 0.002819020999595523, 0.00610646465793252, 0.0009045985643751919, 0.029218703508377075, -0.010033746249973774, -0.01665954850614071, -0.031852733343839645, -0.0020298310555517673, 0.0026594859082251787, -0.017134759575128555, -0.05908912792801857, 0.018655436113476753, 0.02228061854839325, 0.019252844154834747, -0.023475436493754387, -0.020026760175824165, -0.02540343627333641, -0.002917457604780793, -0.01809876039624214, -0.006992394104599953, -0.005868859123438597, -0.005186591297388077, -0.022362085059285164, 0.033835042268037796, -0.021561013534665108, 0.02062416821718216, -0.01936146430671215, -0.01640157774090767, -0.011554422788321972, 0.005149253644049168, 0.0015987465158104897, 0.013468844816088676, 0.01889983005821705, 0.036849237978458405, 0.00732504203915596, 0.015247493050992489, 0.024806028231978416, 0.006245633587241173, -0.0012143345084041357, -0.0012610070407390594, -0.01292574591934681, 0.0422259159386158, -0.02718208357691765, -0.02108580246567726, 0.0019500633934512734, 0.01889983005821705, 0.008363718166947365, -0.01770501397550106, -0.01644231006503105, -0.036659155040979385, 0.0071756900288164616, 0.0028750281780958176, 0.020719211548566818, -0.0070195491425693035, -0.007840985432267189, -0.001417996478267014, 0.014202027581632137, 0.0006924506742507219, -0.022973069921135902, 0.016686704009771347, -0.001724338042549789, -0.0377996601164341, -0.017813634127378464, 0.0020620774012058973, 0.012694929726421833, 0.0028156267944723368, -0.004643492866307497, -0.003502985928207636, -0.0034062464255839586, 0.027019154280424118, -0.02244354970753193, 0.007759521249681711, 0.015125295147299767, 0.008329774253070354, -0.055043041706085205, 0.023339660838246346, -0.030657915398478508, 0.0018889647908508778, 0.016116449609398842, -0.032531604170799255, -0.02943594381213188, -0.0070195491425693035, -0.0035640844143927097, 0.020230421796441078, -0.008879661560058594, -0.006330492906272411, 0.018180225044488907, -0.004392309579998255, -0.010997746139764786, -0.018275266513228416, -0.03014197200536728, -0.013312703929841518, -0.01945650763809681, -0.013502788729965687, 0.012939323671162128, -0.020216844975948334, 0.006927901413291693, -0.010536112822592258, -0.004850549157708883, 0.005526028107851744, -0.038016900420188904, 0.0010250986088067293, -0.004483957774937153, 0.021058646962046623, -0.018139492720365524, 0.006714056245982647, 0.013971211388707161, -0.015369690023362637, -0.01630653440952301, 0.0013619894161820412, 0.001116746454499662, -0.014840168878436089, 0.004633309785276651, 0.014745126478374004, 0.0061913239769637585, 0.017392732203006744, -0.01623864844441414, -0.007868140935897827, 0.005899408366531134, -0.020990760996937752, -0.04010783135890961, 0.0006623257067985833, -0.03744664788246155, 0.032694533467292786, 0.02442585863173008, -0.007121380418539047, 0.006880380213260651, -0.00518998596817255, -0.03443245217204094, -0.019252844154834747, 0.010536112822592258, 0.0071281688287854195, 0.0027222817298024893, 0.010060901753604412, 0.002895394340157509, 0.021968338638544083, -0.007840985432267189, 0.014609351754188538, 0.017922252416610718, 0.006320309825241566, -0.010936647653579712, 0.0016233556671068072, -0.002564443740993738, -0.009443126618862152, -0.04219875857234001, -0.013278760015964508, 0.013482422567903996, 0.0007675510714761913, 0.02127588726580143, 0.019728055223822594, -0.02881138026714325, -0.007134957704693079, 0.017718590795993805, 0.0207599438726902, -0.0021520282607525587, -0.0009606056264601648, 0.026068732142448425, -0.03209712728857994, -0.0017082147533074021, 0.006843042094260454, 0.009382028132677078, -0.01870974712073803, -0.0032602886203676462, 0.009626422077417374, 0.029408788308501244, -0.0030973590910434723, -0.025362703949213028, -0.015342535451054573, 0.013536732643842697, -0.02218557707965374, 0.0128307044506073, 0.026747604832053185, -0.0027782886754721403, 0.03166264668107033, 0.022402817383408546, 0.018071604892611504, -0.021723942831158638, -0.01356388721615076, -0.028431210666894913, -0.00979614071547985, 0.012986845336854458, -0.017840787768363953, 0.01637442223727703, -0.006829464808106422, 0.04352935031056404, -0.02995188720524311, -0.0028529646806418896, 0.009639999829232693, -0.0065205772407352924, -0.008458760567009449, 0.022891605272889137, 0.005957112647593021, -0.038505688309669495, 0.001008126768283546, -0.014351380057632923, 0.009429548867046833, -0.006965239532291889, -0.007481182925403118, -0.01016952097415924, -0.014161295257508755, 0.01887267641723156, 0.007365774363279343, 8.013886690605432e-05, -0.007080647628754377, -0.021411661058664322, 0.0157498586922884, -0.00753549300134182, 0.005027056206017733, 0.18269836902618408, -0.033835042268037796, 0.006744605489075184, 0.007603380363434553, -0.012029633857309818, -0.0017667675856500864, 0.02832259051501751, 0.00461973249912262, -0.008275465108454227, 0.008329774253070354, 0.001911028171889484, -0.0048675211146473885, -0.013136196881532669, -0.005403831135481596, 0.014745126478374004, -0.004850549157708883, -0.027752337977290154, -0.03722940757870674, 0.011106366291642189, 0.0017582817235961556, -0.026136619970202446, -0.018954141065478325, -0.0004429647815413773, -0.010413914918899536, 0.021384507417678833, 0.002382845152169466, -0.00823473185300827, -0.005658408161252737, 0.020746365189552307, 0.004803027957677841, -0.009626422077417374, -0.0030362606048583984, 0.0036455492954701185, -0.010298507288098335, -0.028512675315141678, 0.004646887071430683, 0.01333307009190321, -0.00291915494017303, 0.021330196410417557, -0.01374039426445961, 0.01653735153377056, -0.018492506816983223, 0.04524011164903641, -0.016741013154387474, -0.0018991478718817234, 0.013849013485014439, 0.00631012674421072, -0.01489447895437479, -0.006666535045951605, -0.0018702957313507795, -6.92662870278582e-05, -0.01312261912971735, -0.002819020999595523, 0.022362085059285164, -0.010671887546777725, 0.004015535116195679, -0.005980873014777899, -0.0011591759975999594, 0.023869182914495468, 0.020474815741181374, -0.01200247835367918, 0.01595352031290531, 0.009130844846367836, 0.016021408140659332, -0.011527267284691334, 0.012484478764235973, 0.0061607747338712215, 0.0031465773936361074, 0.0015155845321714878, -0.020162535831332207, -0.007616957649588585, -0.008648845367133617, -0.04439830780029297, -0.0047928448766469955, -0.028566986322402954, -0.014853746630251408, 0.039157409220933914, 0.00864205602556467, 0.023271774873137474, 0.031092394143342972, -0.003957830835133791, -0.0014222394675016403, -0.010054112412035465, 0.013998365961015224, -0.00658507039770484, -0.03209712728857994, 0.03258591517806053, -0.010631155222654343, 0.014840168878436089, -0.012484478764235973, -0.010644732043147087, -0.023855606094002724, -0.011832760646939278, -0.008499492891132832, -0.0039985631592571735, -0.012769605033099651, 0.014460000209510326, 0.01391690131276846, -0.016605239361524582, 0.003421521047130227, -0.02608230896294117, 0.0433935783803463, 0.03774535283446312, 0.00977577455341816, 0.020610591396689415, -0.018465351313352585, 0.008132901042699814, 0.0005337640759535134, 0.02195475995540619, -0.010488591156899929, 0.004999901168048382, -0.03261306881904602, -0.0034062464255839586, 0.006249028258025646, 0.005420802626758814, 0.02020326815545559, 0.022592900320887566, -0.02153385803103447, 0.02043408341705799, 0.009483858942985535, -0.015003098174929619, -0.022063380107283592, -0.012464112602174282, 0.01182597130537033, 0.008547013625502586, -0.017379155382514, -0.022267041727900505, 0.005777211394160986, -0.011506901122629642, -0.0319613516330719, 0.016781745478510857, -0.03410658985376358, 0.0426875501871109, 0.010413914918899536, 6.672050949418917e-05, -0.024928225204348564, -0.008974703960120678, -0.014962365850806236, -0.003798295743763447, 0.027453633025288582, -0.019184958189725876, -0.002652697265148163, 0.012369070202112198, 0.0030023169238120317, 0.01130323950201273, -0.002949704183265567, -0.02085498534142971, 0.01663239486515522, 0.016225069761276245, -0.010359605774283409, 0.01985025405883789, 0.006452689878642559, 0.0007000880432315171, 0.0008218609145842493, 0.020447662100195885, 0.0031109366100281477, -0.008302619680762291, -0.026068732142448425, -0.00021617869788315147, -0.0036523379385471344, -0.03228721022605896, -0.012491267174482346, -0.0068532251752913, -0.02348901331424713, -0.015872055664658546, -0.026000844314694405, -0.17161914706230164, 0.00993870384991169, -0.00695166178047657, -0.004392309579998255, 0.01190743688493967, 0.026625407859683037, 0.03128247708082199, 0.002045105677098036, -0.018112337216734886, -0.006350859068334103, -0.0038050843868404627, -0.006554521154612303, -0.0120703661814332, -0.028838535770773888, -0.00899507012218237, -0.00886608473956585, -0.008580957539379597, 0.021805407479405403, 0.02361121028661728, 0.02309526689350605, 0.047276731580495834, -0.038804393261671066, 0.015451154671609402, -0.010732986032962799, -0.008940760046243668, -0.0033756971824914217, -0.008092168718576431, 0.03027774579823017, 0.018926985561847687, -0.033047549426555634, 0.0023998168762773275, -0.007813830859959126, 0.02004033699631691, 0.008750676177442074, 0.007005971856415272, 0.014460000209510326, 0.01356388721615076, -0.004477168899029493, -0.032232899218797684, 0.022212732583284378, 0.009680732153356075, 0.014446422457695007, -0.004446619655936956, 0.000717908435035497, -0.02757582999765873, -0.011425436474382877, 0.013414534740149975, -0.025226930156350136, 0.014392112381756306, -0.012885013595223427, -0.0002817323838826269, -0.03497554734349251, 0.015424000099301338, 0.012240084819495678, 0.010807662270963192, 0.003314598463475704, 0.009171577170491219, -0.0024727957788854837, 0.009694309905171394, -0.021642478182911873, -0.022199153900146484, 0.0082822535187006, 0.015356112271547318, 0.012627041898667812, -0.027236394584178925, -0.029897576197981834, -0.004585788585245609, 0.0008256795699708164, -0.03092946484684944, -0.003340056398883462, -0.006228662095963955, -0.007854563184082508, -0.013550309464335442, -0.006293154787272215, 0.030250590294599533, 0.023882759734988213, -0.02306811325252056, -0.0004803028132300824, 0.005349521059542894, -0.011052056215703487, -0.0018889647908508778, 0.0468965619802475, -0.02046123892068863, -0.0031907041557133198, -0.004117365926504135, -0.028539830818772316, 0.0015843204455450177, 0.02997904270887375, -0.007189267314970493, -0.009904760867357254, 0.01604856364428997, -0.0194836612790823, 0.02351616881787777, -1.3027206478000153e-06, 0.015098140574991703, -0.0036285773385316133, 0.01910349354147911, -0.008743886835873127, 0.027602985501289368, -0.011968535371124744, 0.004819999914616346, 0.020515549927949905, -0.017786478623747826, 0.008682788349688053, 0.03527425229549408, 0.008153267204761505, -0.0036727041006088257, 0.013720028102397919, 0.03130963444709778, -0.019375041127204895, 0.00936845038086176, -0.021384507417678833, 0.00826867576688528, 0.01016952097415924, 0.0021859717089682817, 0.009375239722430706, -0.0036998591385781765, -0.0020807464607059956, 0.015206760726869106, -0.018003718927502632, 0.043800901621580124, 0.008560591377317905, 0.00011190801160410047, 0.008608113043010235, -0.03456822410225868, 0.001885570352897048, -0.12491267174482346, -0.03809836506843567, 0.0035369296092540026, 0.022620055824518204, -0.01938861981034279, 0.025865070521831512, -0.00593674648553133, 0.02361121028661728, -0.020379774272441864, 0.03092946484684944, -0.016591662541031837, -0.021058646962046623, 0.016808900982141495, -0.0028750281780958176, 0.0008536831010133028, -0.008010704070329666, 0.010040534660220146, 0.01952439360320568, -0.021778253838419914, 0.032042816281318665, 0.005427591502666473, -0.017555661499500275, 0.004779267590492964, -0.03299323841929436, -0.027765914797782898, 0.027698026970028877, -0.033672112971544266, 0.008472338318824768, -0.0027986548375338316, -0.002121478784829378, 0.023122422397136688, -0.011717352084815502, 0.02020326815545559, -0.015926366671919823, 0.013882957398891449, -0.01721622608602047, -0.007067070342600346, -0.004130943678319454, -0.014989521354436874, -0.011853126809000969, -0.007827408611774445, 0.018913408741354942, 0.010339239612221718, 0.00028767253388650715, -0.008193999528884888, -0.002630633767694235, -0.0265982523560524, 0.01663239486515522, 0.0028309014160186052, -0.018628280609846115, -0.0021571198012679815, -0.019700901582837105, -0.028702760115265846, 0.01926642283797264, 0.0027154928538948298, 0.01145259104669094, -0.008859295397996902, -0.01146616879850626, -0.013271971605718136, 0.0012932535028085113, -0.008424816653132439, 0.004874309990555048, -0.01320408470928669, 0.01482659112662077, 0.030033351853489876, -0.005576943513005972, -0.05213746428489685, -0.04010783135890961, -6.512940308311954e-05, 0.006021605338901281, -0.006737816613167524, 0.014432844705879688, -0.004932013805955648, 0.020637746900320053, -0.016428731381893158, 0.004412676207721233, -0.011506901122629642, -0.01724337972700596, 0.004365155007690191, 0.007073859218508005, -0.01258630957454443, -0.016686704009771347, -0.0022708310279995203, -0.012871436774730682, -0.006972027942538261, 0.006880380213260651, 0.00803785864263773, -0.01945650763809681, -0.012756028212606907, -0.02582433819770813, -0.0023149577900767326, 0.0194836612790823, 0.01887267641723156, -0.010026957839727402, -0.0031635493505746126, 0.011832760646939278, -0.009205521084368229, -0.00013460783520713449, 0.0046502817422151566, 0.03179842233657837, -0.038152676075696945, -0.004232774488627911, -0.03388935327529907, 0.02137092873454094, -0.01146616879850626, 0.00803785864263773, 0.0001104229741031304, -0.013652140274643898, 0.016184337437152863, 0.0007722182781435549, -0.012369070202112198, -0.001233003451488912, -0.01226045098155737, 0.013828647322952747, -0.0058960141614079475, -0.011717352084815502, -0.018926985561847687, -0.015369690023362637, 0.03261306881904602, -0.001376415486447513, 0.01238943636417389, 0.005600704345852137, -0.008295831270515919, 0.009314140304923058, 0.033699266612529755, -0.0073929294012486935, -0.010081267915666103, 0.016170760616660118, -0.009110478684306145, 0.02160174585878849, 0.01126929558813572, -0.0021299647632986307, 0.01971447840332985, -0.02381487376987934, 0.011540845036506653, 0.02323104254901409, -0.010692253708839417, 0.01945650763809681, 0.003659126814454794, -0.013889746740460396, 0.014337802305817604, 0.032422985881567, -0.03513847663998604, -0.03274884447455406, -0.0029004858806729317, 0.01150011271238327, -0.010814450681209564, -0.001963640796020627, -0.013129408471286297, -0.012396224774420261, -0.01581774652004242, 0.002732464810833335, 0.017922252416610718, 0.017338423058390617, -0.014432844705879688, -0.0233260840177536, 0.018370309844613075, 0.007216422352939844, 0.016944676637649536, 0.0010929858544841409, 0.024955380707979202, -0.00974183063954115, 0.040650930255651474, 0.0008163450402207673, 0.031092394143342972, 0.0061166477389633656, 0.0006826918688602746, -0.006072521209716797, -0.023665521293878555, -0.0008583503658883274, -0.007949605584144592, -0.009897971525788307, 0.010067690163850784, 0.013075098395347595, 0.008329774253070354, 0.005790788680315018, 0.031554028391838074, 0.006466267630457878, -0.0050576054491102695, -0.005390253383666277, -0.0035403238143771887, 0.014432844705879688, 0.017419887706637383, 0.0023964224383234978, -0.007073859218508005, 0.013971211388707161, 0.024439435452222824, 0.016455886885523796, -0.017718590795993805, 0.02962602861225605, -0.0004569665470626205, 0.013604619540274143, -0.009008647873997688, -0.0027952606324106455, -0.005441168788820505, 0.011751295998692513, 0.0029242464806884527, 0.02017611265182495, -0.015098140574991703, 0.020284732803702354, -0.002920852042734623, 0.01854681596159935, 0.010990957729518414, -0.006792126689106226, -0.01055647898465395, -0.02342112734913826, -0.014052676036953926, 0.016428731381893158, -0.02946309745311737, -0.028566986322402954, 0.0026340282056480646, 0.034703999757766724, 0.016252225264906883, 0.010902703739702702, 0.011479746550321579, 0.0026951266918331385, -0.03972766175866127, 0.03440529480576515, 0.02634028159081936, -0.013421324081718922, -0.029354479163885117, -0.006462872959673405, 0.0165645070374012, 0.005566760431975126, 0.05031808465719223, -0.003131302772089839, 0.023706253618001938, 0.028213972225785255, 0.0304406750947237, -0.02864845097064972, 0.025702141225337982, 0.013645351864397526, -0.005607492756098509, -0.01637442223727703, 0.010060901753604412, 0.002606873167678714, -0.044615548104047775, -0.019633013755083084, 0.026000844314694405, 0.01955154910683632, 0.003102450631558895, 0.07337261736392975, -0.003913704305887222, -0.018438197672367096, -0.010766929015517235, -0.02724997140467167, 0.012565943412482738, 0.02862129546701908, 0.011296450160443783, -0.022945914417505264, -0.02981611154973507, 0.011717352084815502, -0.005722901318222284, -0.01868259161710739, -0.03158118203282356, -0.0007964031537994742, -0.0039374646730721, -0.02202264778316021, 0.017528505995869637, -0.010210253298282623, 0.0010021865600720048, 0.02608230896294117, -0.016116449609398842, 0.036985013633966446, 0.016320113092660904, 0.0013891443377360702, 0.002012859098613262, 0.02965318225324154, -0.002842781599611044, -0.0006016513798385859, -0.013971211388707161, 0.011024901643395424, 0.008132901042699814, -0.03904878720641136, -0.011316816322505474, -0.0028444789350032806, 0.0012635528109967709, 0.010957013815641403, -0.002812232356518507, -0.009497436694800854, 0.00658507039770484, 0.00450771814212203, 0.017514929175376892, -0.01183954905718565, -0.021425239741802216, -0.012606675736606121, 0.012124676257371902, 9.615602903068066e-05, -0.024738140404224396, -0.03991774469614029]\n",
            "\n"
          ]
        }
      ]
    },
    {
      "cell_type": "markdown",
      "source": [
        "# Original Documents"
      ],
      "metadata": {
        "id": "0PyArLTvkkC-"
      }
    },
    {
      "cell_type": "code",
      "source": [
        "# Ensure 'text' column is of type string\n",
        "df['text'] = df['text'].astype(str)\n",
        "# Create documents with IDs\n",
        "documents = [Document(text=row['text'], doc_id=str(row['id'])) for _, row in df.iterrows()]"
      ],
      "metadata": {
        "id": "cMzL1NP2kjUZ"
      },
      "execution_count": 31,
      "outputs": []
    },
    {
      "cell_type": "markdown",
      "source": [
        "# Pipeline 3:Index-based RAG"
      ],
      "metadata": {
        "id": "_xaVhnBAiDER"
      }
    },
    {
      "cell_type": "markdown",
      "source": [
        "User input and RAG parameters"
      ],
      "metadata": {
        "id": "qceJkyAViG-J"
      }
    },
    {
      "cell_type": "code",
      "source": [
        "user_input=\"How do drones identify vehicles?\"\n",
        "\n",
        "#similarity_top_k\n",
        "k=3\n",
        "#temperature\n",
        "temp=0.1\n",
        "#num_output\n",
        "mt=1024"
      ],
      "metadata": {
        "id": "yrBEsbm_8CQW"
      },
      "execution_count": 32,
      "outputs": []
    },
    {
      "cell_type": "markdown",
      "source": [
        "# cosine similarity metric"
      ],
      "metadata": {
        "id": "bBX4BBmRinDb"
      }
    },
    {
      "cell_type": "code",
      "source": [
        "from sklearn.feature_extraction.text import TfidfVectorizer\n",
        "from sklearn.metrics.pairwise import cosine_similarity"
      ],
      "metadata": {
        "id": "lj2GxVeJ8CSc"
      },
      "execution_count": 33,
      "outputs": []
    },
    {
      "cell_type": "code",
      "source": [
        "from sentence_transformers import SentenceTransformer\n",
        "model = SentenceTransformer('sentence-transformers/all-MiniLM-L6-v2')"
      ],
      "metadata": {
        "colab": {
          "base_uri": "https://localhost:8080/",
          "height": 528,
          "referenced_widgets": [
            "ea2907695765440eaab94773dc201057",
            "0daf5197724641fd8774e329c4e6b73e",
            "e4af0c0f14fa47f19f5848495a14c007",
            "9f12477747c74b89bf55116ac39528ee",
            "edfba32d2dbc4836b70f41c34f3a5f38",
            "079f774677ea44f8ac1d14250d5c4e36",
            "cb587a6f838046d08c427a242c2abbc1",
            "55925e627ba346de891091b2a70da4a6",
            "d8178fff63be41eb958c4c43c284887c",
            "f695792f95c6482a8ab9f7c699812cd2",
            "558eaba9db8545a6a85fc439c700bab5",
            "630b82eaefd34cc9bf46eebd107b8004",
            "9c51be50a00240f99fb57f264b3689c8",
            "48652b7064754a0a8efb757a0c536d12",
            "149ce4e312c1406fbd00da5c045e5b41",
            "8184dab05a184a7880fd4094c4d599b5",
            "58f6fbca24b64abe9f8c8462ec04cb29",
            "c0e5c76a825d4c96b6f0acf31066a6a0",
            "d4860f3000834a59918147d60e0f9603",
            "1d13896cb5964bffb706bba64961e0d1",
            "4b44ea69fedb407b913a5bca033c300c",
            "9dd4f6fefde347bcbb5dd5463388a8e1",
            "e92cdccdff024b99b8c0a6c0c4aee359",
            "dbe39a8d326f44f280822a1379e59c82",
            "3235541e759b4ba5bb1e015805cb181c",
            "358fd8c7ec84470bae4436485c2070ce",
            "4fa755f1eaf4465d967d7e8b7bf6ce3d",
            "3119ed56ed8e49f7b19c9d9c23bfd4d6",
            "c8d366c5eb9c44649679efcce20cf43c",
            "047539ac295a44929e84906cc4446833",
            "2aae64c0404f49b7aea05af830cea293",
            "389b28a9c5554252a904abe7e01f3307",
            "2d23b32385d94673b6130bc0c0083820",
            "486995f2c3f94973a60ec1a9bab39e42",
            "cdd6a827a7da4a05a16034808b8fd871",
            "c7213e286f294400b6e11997c58d8eb4",
            "5ecdd62b96254170810c70fbe0563324",
            "e6fc3e2e07ae4a9e83838c9aa5755341",
            "7b0ec14da5394566be1686086a6d00f1",
            "32a88308d71248e49e731139b07d11fa",
            "073e2810da9b487c85e8a308b152718a",
            "b3de152659304a709632f1a6ce6cf119",
            "b8f1e625895b414884c2ec26a2eb9eb7",
            "df48b20460af40208da0ffa42fded5c6",
            "e13b3aec18734f9380ee392c47482187",
            "b4fc0b7857194cc1b4704b318361fa63",
            "7a3732bb9a34425b8e4619b33a4de241",
            "d2f797f430fc45729312319394b1dfa1",
            "2818ebaa36b3447aaef0b3f86ae3e6b9",
            "53470bdf86ca4df596c5418761d35539",
            "83845c43fcc249dfb13375b90cd8bde7",
            "41835be721144bea867762f0cd576ebb",
            "aaffd505cfd34e89a7951e4727e4cb70",
            "e047cd42c10f4443a60c503a6b176f3b",
            "a8e3ccbc4b2a46778efbfacfdc152af7",
            "594336d0729e494d97fefce699ca381f",
            "478a409ce8e74185b461c57f942fe7f1",
            "0470f5ef7de74ac8ace9757c34cd3039",
            "50ef3eb0776047fb91fcc63626b15f0e",
            "83a3674ea156409fb2f870a64d0a01fd",
            "d6c7c1e8ccca419bb4c31c66ef656d92",
            "109d139cf042450d87b568e4b7f6c0ae",
            "a7de74732c144325bb92194dcf0ef9cb",
            "7a15b09f149a4d14b87ed42633d39127",
            "cb5320c4505a4d4a9b3c38c2a4ff6ee7",
            "be0e6e46321e47e295567d7c52181a71",
            "dfeba47748174adcace11efca897b380",
            "1d1d7c2525f74879ab528f5e8e171ccd",
            "29562dcd4a4e46b59c06da58e5975034",
            "ba1ac1e985074d77b9c67efd49ae2821",
            "e0001f0056fa4e7596745393a60a6222",
            "d1be5efc9a1a4ea491542f7cc0c18da5",
            "7787c2a29e91456d89ceed66af22aab5",
            "a24787eb7ae34fdaaa86d2a4f1c89bdc",
            "3200d8415e2547f98deed6d628114fc6",
            "8e2c3a4f451b4f95a1531ee28e972000",
            "aa70fd24ac52438d808cd6a8a8382907",
            "0c274cb28cd94c77bba2c5470124174c",
            "72a1df1032ac42b6bd05ac3459ff5118",
            "136d16d031374f488da001b66f81f33d",
            "5b082da7fdfa4cef9a56a967a88a8e1b",
            "f077e62b8f4941c6b728d995d3ebe117",
            "6aa384d018284857a45e098f9c2edc55",
            "ee40e6782f834c92bea94a1f8f175608",
            "ecc5a834e27a454680fcbbad6d4244bd",
            "db2ddbdab5164890b3a8a86a68b19d73",
            "37c6ec1dfd3f4ba784fda4c500272005",
            "fa3483cf5d5f4c4fb945a99c447037b6",
            "319f7d6c84684c0bbb63a579b49d3512",
            "9118c69346e64074af2793f6b41983ee",
            "5fbc12e2666e4e42811c6739524c297d",
            "28c54c0a322144d593671798a4005a62",
            "01372482efa743b1a04924b460446be5",
            "23409b3050ca45ff80a729cecd4dbbed",
            "324510073e8241d484932a96cb399679",
            "1320ac551180414698e1d908b1f9a9b4",
            "5b3ddb21945244e88e7657dcde7a59eb",
            "6c2e8a38b0ce4f959686b00658d3732c",
            "272e69d31e6642f1b009d586221e501c",
            "a0b549e05a484a6a92585bd875bd2492",
            "5758a8daf5e54e0ebbbf616274e7a7c6",
            "eb2079c9d5d54b0198217a2559a4a0b3",
            "d3fa5de8abf74e80b26d3c99ef417fa4",
            "9e7dbf7b80f24329abda971cc1a4fb89",
            "3816cc5998e84bc3bf9b2a27cf008227",
            "89661ba5e5a64adda0a0609f22d10dcf",
            "fe0a73b29aeb4f4da9e91429b82de4a4",
            "6cbce3fe6df4466f9e803a727dc4b96a",
            "5c066da322864615ac0ede2cfd42ba56",
            "584ed43ff2364025982f582d99ba2212",
            "b6b7b41385b34c0cb8c1e4e6f11a05ea",
            "cd65c80d9ced4187a53ae58263d48e14",
            "43da7a49f88b4e36bc739f3618c3da13",
            "d10b84356d5e425cbbd2e4d1ca69c72f",
            "99f922c1cebe466fa9435382b375bacf",
            "e6c5909624df4c42a2ee16b78f61830f",
            "041d1a4257f644e5b060af6b020f41ea",
            "ab7975050776489e94ef06aa79dcd71f",
            "3f461c32be9247138a4cb862405f3f9a",
            "a3363b98e768409b95d2fb264bdccaef",
            "4ce0f36c56654c2d95c3cdaacbb75309"
          ]
        },
        "id": "GxM-SuIk8CUt",
        "outputId": "6b3e3f46-0926-45fd-b7a6-c3f04fe64e86"
      },
      "execution_count": 34,
      "outputs": [
        {
          "output_type": "stream",
          "name": "stderr",
          "text": [
            "/usr/local/lib/python3.11/dist-packages/huggingface_hub/utils/_auth.py:94: UserWarning: \n",
            "The secret `HF_TOKEN` does not exist in your Colab secrets.\n",
            "To authenticate with the Hugging Face Hub, create a token in your settings tab (https://huggingface.co/settings/tokens), set it as secret in your Google Colab and restart your session.\n",
            "You will be able to reuse this secret in all of your notebooks.\n",
            "Please note that authentication is recommended but still optional to access public models or datasets.\n",
            "  warnings.warn(\n"
          ]
        },
        {
          "output_type": "display_data",
          "data": {
            "text/plain": [
              "modules.json:   0%|          | 0.00/349 [00:00<?, ?B/s]"
            ],
            "application/vnd.jupyter.widget-view+json": {
              "version_major": 2,
              "version_minor": 0,
              "model_id": "ea2907695765440eaab94773dc201057"
            }
          },
          "metadata": {}
        },
        {
          "output_type": "display_data",
          "data": {
            "text/plain": [
              "config_sentence_transformers.json:   0%|          | 0.00/116 [00:00<?, ?B/s]"
            ],
            "application/vnd.jupyter.widget-view+json": {
              "version_major": 2,
              "version_minor": 0,
              "model_id": "630b82eaefd34cc9bf46eebd107b8004"
            }
          },
          "metadata": {}
        },
        {
          "output_type": "display_data",
          "data": {
            "text/plain": [
              "README.md:   0%|          | 0.00/10.5k [00:00<?, ?B/s]"
            ],
            "application/vnd.jupyter.widget-view+json": {
              "version_major": 2,
              "version_minor": 0,
              "model_id": "e92cdccdff024b99b8c0a6c0c4aee359"
            }
          },
          "metadata": {}
        },
        {
          "output_type": "display_data",
          "data": {
            "text/plain": [
              "sentence_bert_config.json:   0%|          | 0.00/53.0 [00:00<?, ?B/s]"
            ],
            "application/vnd.jupyter.widget-view+json": {
              "version_major": 2,
              "version_minor": 0,
              "model_id": "486995f2c3f94973a60ec1a9bab39e42"
            }
          },
          "metadata": {}
        },
        {
          "output_type": "display_data",
          "data": {
            "text/plain": [
              "config.json:   0%|          | 0.00/612 [00:00<?, ?B/s]"
            ],
            "application/vnd.jupyter.widget-view+json": {
              "version_major": 2,
              "version_minor": 0,
              "model_id": "e13b3aec18734f9380ee392c47482187"
            }
          },
          "metadata": {}
        },
        {
          "output_type": "stream",
          "name": "stderr",
          "text": [
            "Xet Storage is enabled for this repo, but the 'hf_xet' package is not installed. Falling back to regular HTTP download. For better performance, install the package with: `pip install huggingface_hub[hf_xet]` or `pip install hf_xet`\n",
            "WARNING:huggingface_hub.file_download:Xet Storage is enabled for this repo, but the 'hf_xet' package is not installed. Falling back to regular HTTP download. For better performance, install the package with: `pip install huggingface_hub[hf_xet]` or `pip install hf_xet`\n"
          ]
        },
        {
          "output_type": "display_data",
          "data": {
            "text/plain": [
              "model.safetensors:   0%|          | 0.00/90.9M [00:00<?, ?B/s]"
            ],
            "application/vnd.jupyter.widget-view+json": {
              "version_major": 2,
              "version_minor": 0,
              "model_id": "594336d0729e494d97fefce699ca381f"
            }
          },
          "metadata": {}
        },
        {
          "output_type": "display_data",
          "data": {
            "text/plain": [
              "tokenizer_config.json:   0%|          | 0.00/350 [00:00<?, ?B/s]"
            ],
            "application/vnd.jupyter.widget-view+json": {
              "version_major": 2,
              "version_minor": 0,
              "model_id": "dfeba47748174adcace11efca897b380"
            }
          },
          "metadata": {}
        },
        {
          "output_type": "display_data",
          "data": {
            "text/plain": [
              "vocab.txt:   0%|          | 0.00/232k [00:00<?, ?B/s]"
            ],
            "application/vnd.jupyter.widget-view+json": {
              "version_major": 2,
              "version_minor": 0,
              "model_id": "0c274cb28cd94c77bba2c5470124174c"
            }
          },
          "metadata": {}
        },
        {
          "output_type": "display_data",
          "data": {
            "text/plain": [
              "tokenizer.json:   0%|          | 0.00/466k [00:00<?, ?B/s]"
            ],
            "application/vnd.jupyter.widget-view+json": {
              "version_major": 2,
              "version_minor": 0,
              "model_id": "319f7d6c84684c0bbb63a579b49d3512"
            }
          },
          "metadata": {}
        },
        {
          "output_type": "display_data",
          "data": {
            "text/plain": [
              "special_tokens_map.json:   0%|          | 0.00/112 [00:00<?, ?B/s]"
            ],
            "application/vnd.jupyter.widget-view+json": {
              "version_major": 2,
              "version_minor": 0,
              "model_id": "a0b549e05a484a6a92585bd875bd2492"
            }
          },
          "metadata": {}
        },
        {
          "output_type": "display_data",
          "data": {
            "text/plain": [
              "config.json:   0%|          | 0.00/190 [00:00<?, ?B/s]"
            ],
            "application/vnd.jupyter.widget-view+json": {
              "version_major": 2,
              "version_minor": 0,
              "model_id": "b6b7b41385b34c0cb8c1e4e6f11a05ea"
            }
          },
          "metadata": {}
        }
      ]
    },
    {
      "cell_type": "code",
      "source": [
        "def calculate_cosine_similarity_with_embeddings(text1, text2):\n",
        "    embeddings1 = model.encode(text1)\n",
        "    embeddings2 = model.encode(text2)\n",
        "    similarity = cosine_similarity([embeddings1], [embeddings2])\n",
        "    return similarity[0][0]"
      ],
      "metadata": {
        "id": "3JOCPghF8CW0"
      },
      "execution_count": 35,
      "outputs": []
    },
    {
      "cell_type": "markdown",
      "source": [
        "# Vector store index query engine"
      ],
      "metadata": {
        "id": "JDrgj_Xkj7SU"
      }
    },
    {
      "cell_type": "code",
      "source": [
        "from llama_index.core import VectorStoreIndex\n",
        "vector_store_index = VectorStoreIndex.from_documents(documents)"
      ],
      "metadata": {
        "id": "gkWLbEtJ8CYr"
      },
      "execution_count": 37,
      "outputs": []
    },
    {
      "cell_type": "code",
      "source": [
        "print(type(vector_store_index))"
      ],
      "metadata": {
        "colab": {
          "base_uri": "https://localhost:8080/"
        },
        "id": "TZgqnaX0ljZN",
        "outputId": "05f2f5b9-0713-457f-c9e9-b069c9fb1676"
      },
      "execution_count": 38,
      "outputs": [
        {
          "output_type": "stream",
          "name": "stdout",
          "text": [
            "<class 'llama_index.core.indices.vector_store.base.VectorStoreIndex'>\n"
          ]
        }
      ]
    },
    {
      "cell_type": "code",
      "source": [
        "vector_query_engine = vector_store_index.as_query_engine(similarity_top_k=k, temperature=temp, num_output=mt)"
      ],
      "metadata": {
        "id": "HvqYssLCoXGs"
      },
      "execution_count": 39,
      "outputs": []
    },
    {
      "cell_type": "code",
      "source": [
        "print(type(vector_query_engine))"
      ],
      "metadata": {
        "colab": {
          "base_uri": "https://localhost:8080/"
        },
        "id": "PHem1RZSpRpS",
        "outputId": "35c167df-d694-4764-f13f-c8dd229c519c"
      },
      "execution_count": 40,
      "outputs": [
        {
          "output_type": "stream",
          "name": "stdout",
          "text": [
            "<class 'llama_index.core.query_engine.retriever_query_engine.RetrieverQueryEngine'>\n"
          ]
        }
      ]
    },
    {
      "cell_type": "markdown",
      "source": [
        "# Query Response"
      ],
      "metadata": {
        "id": "zxt4UsE2oR4o"
      }
    },
    {
      "cell_type": "code",
      "source": [
        "import pandas as pd\n",
        "import textwrap\n",
        "\n",
        "def index_query(input_query):\n",
        "    response = vector_query_engine.query(input_query)\n",
        "\n",
        "    # Optional: Print a formatted view of the response (remove if you don't need it in the output)\n",
        "    print(textwrap.fill(str(response), 100))\n",
        "\n",
        "    node_data = []\n",
        "    for node_with_score in response.source_nodes:\n",
        "        node = node_with_score.node\n",
        "        node_info = {\n",
        "            'Node ID': node.id_,\n",
        "            'Score': node_with_score.score,\n",
        "            'Text': node.text\n",
        "        }\n",
        "        node_data.append(node_info)\n",
        "\n",
        "    df = pd.DataFrame(node_data)\n",
        "\n",
        "    # Instead of printing, return the DataFrame and the response object\n",
        "    return df, response"
      ],
      "metadata": {
        "id": "UgbnjXm78Cav"
      },
      "execution_count": 41,
      "outputs": []
    },
    {
      "cell_type": "code",
      "source": [
        "import time\n",
        "#start the timer\n",
        "start_time = time.time()\n",
        "df, response = index_query(user_input)\n",
        "# Stop the timer\n",
        "end_time = time.time()\n",
        "# Calculate and print the execution time\n",
        "elapsed_time = end_time - start_time\n",
        "print(f\"Query execution time: {elapsed_time:.4f} seconds\")\n",
        "\n",
        "print(df.to_markdown(index=False, numalign=\"left\", stralign=\"left\"))"
      ],
      "metadata": {
        "colab": {
          "base_uri": "https://localhost:8080/"
        },
        "id": "S2XSfHfO8CdE",
        "outputId": "5c8ee867-d6b4-4024-b1ed-c9489bf8381d"
      },
      "execution_count": 42,
      "outputs": [
        {
          "output_type": "stream",
          "name": "stdout",
          "text": [
            "Drones can identify vehicles through various means such as visual sensors, radar systems, lidar\n",
            "technology, and even artificial intelligence algorithms that help in object recognition and\n",
            "classification. These technologies enable drones to detect and track vehicles accurately during\n",
            "surveillance or monitoring operations.\n",
            "Query execution time: 1.2517 seconds\n",
            "| Node ID                              | Score    | Text                                                                                                                                                                                                                                                                                                                                                                                                                                                                                                                                                                                                                                                                                                                                                                                                                                                                                                                                                                                                                                                                                                                                                                                                                                                                                                                                                                                                                                                                                                                                                                                                                                                                                                                                                                                                                                                                                                                                                                                                                                                                                                                                                                                                                                                                                                                                                                                                                                                                                                                                                                                                                                                                                                                                                                                                                                                                                                                                                                                                                                                                                                                                                                                                                                                                                                                                                                                                                                                                                                                                                                                                                                                                                                                                                                                                                                                                                                                                                                                                                                                                                                                                                                                                                                                                                                                                                                                                                                                                                                                                                                                                                                                                                                                                                                                                                                                                                                                                                                                            |\n",
            "|:-------------------------------------|:---------|:------------------------------------------------------------------------------------------------------------------------------------------------------------------------------------------------------------------------------------------------------------------------------------------------------------------------------------------------------------------------------------------------------------------------------------------------------------------------------------------------------------------------------------------------------------------------------------------------------------------------------------------------------------------------------------------------------------------------------------------------------------------------------------------------------------------------------------------------------------------------------------------------------------------------------------------------------------------------------------------------------------------------------------------------------------------------------------------------------------------------------------------------------------------------------------------------------------------------------------------------------------------------------------------------------------------------------------------------------------------------------------------------------------------------------------------------------------------------------------------------------------------------------------------------------------------------------------------------------------------------------------------------------------------------------------------------------------------------------------------------------------------------------------------------------------------------------------------------------------------------------------------------------------------------------------------------------------------------------------------------------------------------------------------------------------------------------------------------------------------------------------------------------------------------------------------------------------------------------------------------------------------------------------------------------------------------------------------------------------------------------------------------------------------------------------------------------------------------------------------------------------------------------------------------------------------------------------------------------------------------------------------------------------------------------------------------------------------------------------------------------------------------------------------------------------------------------------------------------------------------------------------------------------------------------------------------------------------------------------------------------------------------------------------------------------------------------------------------------------------------------------------------------------------------------------------------------------------------------------------------------------------------------------------------------------------------------------------------------------------------------------------------------------------------------------------------------------------------------------------------------------------------------------------------------------------------------------------------------------------------------------------------------------------------------------------------------------------------------------------------------------------------------------------------------------------------------------------------------------------------------------------------------------------------------------------------------------------------------------------------------------------------------------------------------------------------------------------------------------------------------------------------------------------------------------------------------------------------------------------------------------------------------------------------------------------------------------------------------------------------------------------------------------------------------------------------------------------------------------------------------------------------------------------------------------------------------------------------------------------------------------------------------------------------------------------------------------------------------------------------------------------------------------------------------------------------------------------------------------------------------------------------------------------------------------------------------------------------------------------------|\n",
            "| 2fae2ea7-e30e-4b2d-ba8c-eb2d52d55814 | 0.833971 | ['7.3. Sensing for Drones  Introduction to Robotics and Perception . www.roboticsbook.org .  7.5. Trajectory Optimization  Introduction to Robotics and Perception . www.roboticsbook.org .  PierreJean Bristeau François Callou David Vissière Nicolas Petit 2011. The Navigation and Control technology inside the AR.Drone micro UAV PDF . IFAC World Congress . Archived PDF from the original on 27 February 2023 . Retrieved 4 February 2016 .  Cellular enables safer drone deployments . Qualcomm . Archived from the original on 9 May 2018 . Retrieved 9 May 2018 .  Identifying Critical MannedUnmanned Teaming Skills for Unmanned Aircraft System Operators PDF . U.S. Army Research Institute for the Behavioral and Social Sciences . September 2012. Archived PDF from the original on 6 February 2016.  Minimum requirements related to technical performance for IMT2020 radio interfaces . www.itu.int . Archived from the original on 6 August 2020 . Retrieved 8 October 2020 .  Vinogradov Evgenii Kumar A. V. S. Sai Bhargav Minucci Franco Pollin Sofie Natalizio Enrico 2023. Remote ID for separation provision and multiagent navigation. 2023 IEEEAIAA 42nd Digital Avionics Systems Conference DASC . pp. 1 10. arXiv  2309.00843 . doi  10.1109DASC58513.2023.10311133 . ISBN 9798350333572 .  Automated Vehicles for Safety . United States National Highway Traffic Safety Administration . Archived from the original on 7 October 2021 . Retrieved 8 October 2021 .  Clough Bruce August 2002. Metrics Schmetrics How The Heck Do You Determine A UAVs Autonomy Anyway . US Air Force Research Laboratory . Archived from the original on 24 September 2020.  Davenport Christian 23 April 2015. Watch a step in Navy history an autonomous drone gets refueled midair . The Washington Post . ISSN 01908286 . Archived from the original on 20 January 2016 . Retrieved 3 February 2016 .  Tahir Anam Böling Jari Haghbayan MohammadHashem Toivonen Hannu T. Plosila Juha 2019. Swarms of Unmanned Aerial Vehicles  A Survey . Journal of Industrial Information Integration . 16  100106. doi  10.1016j.jii.2019.100106 .  Teaching tiny drones how to fly themselves . Ars Technica . 27 November 2012. Archived from the original on 5 February 2016 . Retrieved 4 February 2016 .  Biomimetics and Dextrous Manipulation Lab  MultiModalRobots . bdml.stanford.edu . Archived from the original on 23 March 2016 . Retrieved 21 March 2016 .  DAndrea Raffaello 11 June 2013. The astounding athletic power of quadcopters . www.ted.com . Archived from the original on 5 February 2016 . Retrieved 4 February 2016 .  Yanguo Song Huanjin Wang 1 June 2009. Design of Flight Control System for a Small Unmanned Tilt Rotor Aircraft . Chinese Journal of Aeronautics . 22 3 250 256. Bibcode  2009ChJAn..22..250Y . doi  10.1016S1000936108600953 .  The device designed for landing UAV helicopter type on a flat vertical surface . patents.google.com . Archived from the original on 7 March 2017 . Retrieved 6 November 2016 .  The Importance of Proper Cooling and Airflow for Optimal Drone Performance . Pelonis Technologies . Archived from the original on 22 June 2018 . Retrieved 22 June 2018 .  Flying on Hydrogen Georgia Tech Researchers Use Fuel Cells to Power Unmanned Aerial Vehicle  Georgia Tech Research Institute . www.gtri.gatech.edu . Archived from the original on 3 February 2016 . Retrieved 4 February 2016 .  Hydrogenpowered Hycopter quadcopter could fly for 4 hours at a time . www.gizmag.com .']                                                                                                                                                                                                                                                                                                                                                                                                                                                                                                                                                                                                                                                                                                                                                                                                                                                                                                                                                                                                                                                                                                                                                                                                                                                                                                                                                                                                            |\n",
            "| ce5432a8-8526-4c9c-a8c4-b4b7ceba199c | 0.82685  | ['225  France was among the first countries to set a national framework based on this report and larger aviation bodies such as the FAA and the EASA quickly followed suit.  226  In 2021 the FAA published a rule requiring all commercially used UAVs and all UAVs regardless of intent weighing 250 g or more to participate in Remote ID  which makes drone locations controller locations and other information public from takeoff to shutdown this rule has since been challenged in the pending federal lawsuit RaceDayQuads v. FAA .  227   228  EU Drone Certification  Class Identification Label  edit  The implementation of the Class Identification Label serves a crucial purpose in the regulation and operation of drones.  229  The label is a verification mechanism designed to confirm that drones within a specific class meet the rigorous standards set by administrations for design and manufacturing.  230  These standards are necessary to ensure the safety and reliability of drones in various industries and applications. By providing this assurance to customers the Class Identification Label helps to increase confidence in drone technology and encourages wider adoption across industries. This in turn contributes to the growth and development of the drone industry and supports the integration of drones into society. Export controls  edit  The export of UAVs or technology capable of carrying a 500\\xa0kg payload at least 300\\xa0km is restricted in many countries by the Missile Technology Control Regime . See also  edit  List of unmanned aerial vehicles Delivery drone Drone in a Box Glide bomb International Aerial Robotics Competition List of films featuring drones List of military electronics of the United States MARSS Interceptor Micromechanical Flying Insect ParcAberporth Quadcopter Radiocontrolled aircraft Autonomous aircraft Optionally piloted vehicle Sypaq Corvo Precision Payload Delivery System Satellite Sentinel Project Tactical Control System UAV ground control station Unmanned underwater vehicle Portals  Aviation Systems science Engineering Telecommunication References  edit  Citations  edit   a b De Gruyter Handbook of Drone Warfare 2024. eISBN PDF 9783110742039.  Tice Brian P. Spring 1991. Unmanned Aerial Vehicles  The Force Multiplier of the 1990s . Airpower Journal . Archived from the original on 24 July 2009 . Retrieved 6 June 2013 . When used UAVs should generally perform missions characterized by the three Ds dull dirty and dangerous.  a b Alvarado Ed 3 May 2021. 237 Ways Drone Applications Revolutionize Business . Drone Industry Insights . Archived from the original on 11 May 2021 . Retrieved 11 May 2021 .  F.  RekabiBana Hu J. T. Krajník Arvin F.  Unified Robust Path Planning and Optimal Trajectory Generation for Efficient 3D Area Coverage of Quadrotor UAVs  IEEE Transactions on Intelligent Transportation Systems 2023.  a b Hu J. Niu H. Carrasco J. Lennox B. Arvin F.  Faulttolerant cooperative navigation of networked UAV swarms for forest fire monitoring  Aerospace Science and Technology 2022.  a b Remote sensing of the environment using unmanned aerial systems UAS . S.l. ELSEVIER  HEALTH SCIENCE. 2023. ISBN 9780323852838 . OCLC 1329422815 . Archived from the original on 27 February 2023 . Retrieved 11 January 2023 .  Perks Matthew T. Dal Sasso Silvano Fortunato Hauet Alexandre Jamieson Elizabeth Le Coz Jérôme Pearce Sophie PeñaHaro Salvador Pizarro Alonso Strelnikova Dariia Tauro Flavia Bomhof James Grimaldi Salvatore Goulet Alain Hortobágyi Borbála Jodeau Magali 8 July 2020. Towards harmonisation of image velocimetry techniques for river surface velocity observations . Earth System Science Data . 12 3 1545 1559. Bibcode  2020ESSD...12.1545P . doi  10.5194essd1215452020 . hdl  11563161555 . ISSN 18663516 . Archived from the original on 12 January 2023 . Retrieved 12 January 2023 .  Koparan Cengiz Koc A. Bulent Privette Charles V. Sawyer Calvin B. March 2020. Adaptive Water Sampling Device for Aerial Robots . Drones . 4 1 5. Bibcode  2020Drone...4....5K . doi  10.3390drones4010005 . ISSN 2504446X .']                                                                                                                                                                                                                                                                                                                                                                                                                                                                                                                                                                                                                                                                                                                                                      |\n",
            "| 60c5a8a1-78de-4ff0-867e-4d38e94344a2 | 0.824049 | ['Degree of autonomy  edit  Drones can also be classified based on the degree of autonomy in their flight operations. ICAO classifies unmanned aircraft as either remotely piloted aircraft or fully autonomous.  29  Some UAVs offer intermediate degrees of autonomy. For example a vehicle may be remotely piloted in most contexts but have an autonomous returntobase operation. Some aircraft types may optionally fly manned or as UAVs which may include manned aircraft transformed into manned or Optionally Piloted UAVs OPVs. The flight of UAVs may operate under remote control by a human operator as remotely piloted aircraft  RPA  or with various degrees of autonomy  such as autopilot assistance up to fully autonomous aircraft that have no provision for human intervention.  30   31  Altitude  edit  Based on the altitude the following UAV classifications have been used at industry events such as ParcAberporth Unmanned Systems forum Handheld 2000\\xa0ft 600\\xa0m altitude about 2\\xa0km range Close 5000\\xa0ft 1500\\xa0m altitude up to 10\\xa0km range NATO type 10000\\xa0ft 3000\\xa0m altitude up to 50\\xa0km range Tactical 18000\\xa0ft 5500\\xa0m altitude about 160\\xa0km range MALE medium altitude long endurance up to 30000\\xa0ft 9000\\xa0m and range over 200\\xa0km HALE high altitude long endurance over 30000\\xa0ft 9100\\xa0m and indefinite range Hypersonic highspeed supersonic Mach 15 or hypersonic Mach 5 50000\\xa0ft 15200\\xa0m or suborbital altitude range over 200\\xa0km Orbital low Earth orbit Mach 25 CIS Lunar EarthMoon transfer Computer Assisted Carrier Guidance System CACGS for UAVs Composite criteria  edit  An example of classification based on the composite criteria is U.S. Militarys unmanned aerial systems UAS classification of UAVs based on weight maximum altitude and speed of the UAV component. Power sources  edit  UAVs can be classified based on their power or energy source which significantly impacts their flight duration range and environmental impact. The main categories include Batterypowered electric These UAVs use rechargeable batteries offering quiet operation and lower maintenance but potentially limited flight times. The reduced noise levels make them suitable for urban environments and sensitive operations.  32  Fuelpowered internal combustion Utilizing traditional fuels like gasoline or diesel these UAVs often have longer flight times but may be noisier and require more maintenance. They are typically used for applications requiring extended endurance or heavy payload capacity.  33  Hybrid Combining electric and fuel power sources hybrid UAVs aim to balance the benefits of both systems for improved performance and efficiency. This configuration could allow for versatility in mission profiles and adaptability to different operational requirements.  34  Hydrogen fuel cell hydrogen fuel cells offer the potential for longer flight times than batteries yet stealthier no heat signature operation than combustion engines.  35  The high energy density of hydrogen makes it a promising option for future UAV propulsion systems.  36  Solarpowered Equipped with solar panels these UAVs can potentially achieve extended flight times by harnessing solar energy especially at high altitudes. Solarpowered UAVs may be particularly suited for longendurance missions and environmental monitoring applications.  37  Nuclearpowered While nuclear power has been explored for larger aircraft its application in UAVs remains largely theoretical due to safety concerns and regulatory challenges. Research in this area is ongoing but faces significant hurdles before practical implementation.  38  History  edit  Main article History of unmanned aerial vehicles Winston Churchill and others waiting to watch the launch of a de Havilland Queen Bee target drone  6 June 1941 A Ryan Firebee  one of a series of target dronesunpiloted aerial vehicles that first flew in 1951. Israeli Air Force Museum  Hatzerim airbase Israel 2006 Last preparations before the first tactical UAV mission across the Suez Canal 1969. Standing Major Shabtai Brill from the Israeli Intelligence Corps the innovator of the tactical UAV. The Israeli Tadiran Mastiff  which first flew in 1975 is seen by many as the first modern battlefield UAV due to its datalink system enduranceloitering and live videostreaming.  39  Early drones  edit  The earliest recorded use of an unmanned aerial vehicle for warfighting occurred in July 1849  40  with a balloon carrier the precursor to the aircraft carrier   41  in the first offensive use of air power in naval aviation .  42   43   44  Austrian forces besieging Venice attempted to launch some 200 incendiary balloons at the besieged city. The balloons were launched mainly from land however some were also launched from the Austrian ship SMS Vulcano .'] |\n"
          ]
        }
      ]
    },
    {
      "cell_type": "code",
      "source": [
        "nodeid=response.source_nodes[0].node_id\n",
        "nodeid"
      ],
      "metadata": {
        "colab": {
          "base_uri": "https://localhost:8080/",
          "height": 36
        },
        "id": "d2XkokvWqoZ8",
        "outputId": "92020994-fdcd-468d-9ce3-58fece6d1411"
      },
      "execution_count": 43,
      "outputs": [
        {
          "output_type": "execute_result",
          "data": {
            "text/plain": [
              "'2fae2ea7-e30e-4b2d-ba8c-eb2d52d55814'"
            ],
            "application/vnd.google.colaboratory.intrinsic+json": {
              "type": "string"
            }
          },
          "metadata": {},
          "execution_count": 43
        }
      ]
    },
    {
      "cell_type": "code",
      "source": [
        "response.source_nodes[0].get_text()\n"
      ],
      "metadata": {
        "colab": {
          "base_uri": "https://localhost:8080/",
          "height": 227
        },
        "id": "0FZ_IQgMqoXL",
        "outputId": "13fdb314-c6b1-4cf2-b814-605e27d68fed"
      },
      "execution_count": 44,
      "outputs": [
        {
          "output_type": "execute_result",
          "data": {
            "text/plain": [
              "\"['7.3. Sensing for Drones  Introduction to Robotics and Perception . www.roboticsbook.org .  7.5. Trajectory Optimization  Introduction to Robotics and Perception . www.roboticsbook.org .  PierreJean Bristeau François Callou David Vissière Nicolas Petit 2011. The Navigation and Control technology inside the AR.Drone micro UAV PDF . IFAC World Congress . Archived PDF from the original on 27 February 2023 . Retrieved 4 February 2016 .  Cellular enables safer drone deployments . Qualcomm . Archived from the original on 9 May 2018 . Retrieved 9 May 2018 .  Identifying Critical MannedUnmanned Teaming Skills for Unmanned Aircraft System Operators PDF . U.S. Army Research Institute for the Behavioral and Social Sciences . September 2012. Archived PDF from the original on 6 February 2016.  Minimum requirements related to technical performance for IMT2020 radio interfaces . www.itu.int . Archived from the original on 6 August 2020 . Retrieved 8 October 2020 .  Vinogradov Evgenii Kumar A. V. S. Sai Bhargav Minucci Franco Pollin Sofie Natalizio Enrico 2023. Remote ID for separation provision and multiagent navigation. 2023 IEEEAIAA 42nd Digital Avionics Systems Conference DASC . pp. 1 10. arXiv  2309.00843 . doi  10.1109DASC58513.2023.10311133 . ISBN 9798350333572 .  Automated Vehicles for Safety . United States National Highway Traffic Safety Administration . Archived from the original on 7 October 2021 . Retrieved 8 October 2021 .  Clough Bruce August 2002. Metrics Schmetrics How The Heck Do You Determine A UAVs Autonomy Anyway . US Air Force Research Laboratory . Archived from the original on 24 September 2020.  Davenport Christian 23 April 2015. Watch a step in Navy history an autonomous drone gets refueled midair . The Washington Post . ISSN 01908286 . Archived from the original on 20 January 2016 . Retrieved 3 February 2016 .  Tahir Anam Böling Jari Haghbayan MohammadHashem Toivonen Hannu T. Plosila Juha 2019. Swarms of Unmanned Aerial Vehicles  A Survey . Journal of Industrial Information Integration . 16  100106. doi  10.1016j.jii.2019.100106 .  Teaching tiny drones how to fly themselves . Ars Technica . 27 November 2012. Archived from the original on 5 February 2016 . Retrieved 4 February 2016 .  Biomimetics and Dextrous Manipulation Lab  MultiModalRobots . bdml.stanford.edu . Archived from the original on 23 March 2016 . Retrieved 21 March 2016 .  DAndrea Raffaello 11 June 2013. The astounding athletic power of quadcopters . www.ted.com . Archived from the original on 5 February 2016 . Retrieved 4 February 2016 .  Yanguo Song Huanjin Wang 1 June 2009. Design of Flight Control System for a Small Unmanned Tilt Rotor Aircraft . Chinese Journal of Aeronautics . 22 3 250 256. Bibcode  2009ChJAn..22..250Y . doi  10.1016S1000936108600953 .  The device designed for landing UAV helicopter type on a flat vertical surface . patents.google.com . Archived from the original on 7 March 2017 . Retrieved 6 November 2016 .  The Importance of Proper Cooling and Airflow for Optimal Drone Performance . Pelonis Technologies . Archived from the original on 22 June 2018 . Retrieved 22 June 2018 .  Flying on Hydrogen Georgia Tech Researchers Use Fuel Cells to Power Unmanned Aerial Vehicle  Georgia Tech Research Institute . www.gtri.gatech.edu . Archived from the original on 3 February 2016 . Retrieved 4 February 2016 .  Hydrogenpowered Hycopter quadcopter could fly for 4 hours at a time . www.gizmag.com .']\""
            ],
            "application/vnd.google.colaboratory.intrinsic+json": {
              "type": "string"
            }
          },
          "metadata": {},
          "execution_count": 44
        }
      ]
    },
    {
      "cell_type": "markdown",
      "source": [
        "# Optimized chunking"
      ],
      "metadata": {
        "id": "RQDVhrNoqdc_"
      }
    },
    {
      "cell_type": "code",
      "source": [
        "# Assuming you have the 'response' object from query_engine.query()\n",
        "\n",
        "for node_with_score in response.source_nodes:\n",
        "    node = node_with_score.node  # Extract the Node object from NodeWithScore\n",
        "    chunk_size = len(node.text)\n",
        "    print(f\"Node ID: {node.id_}, Chunk Size: {chunk_size} characters\")"
      ],
      "metadata": {
        "colab": {
          "base_uri": "https://localhost:8080/"
        },
        "id": "2ou86ENC8CfA",
        "outputId": "b804a045-830d-4d95-b528-e4cb88d49ac1"
      },
      "execution_count": 45,
      "outputs": [
        {
          "output_type": "stream",
          "name": "stdout",
          "text": [
            "Node ID: 2fae2ea7-e30e-4b2d-ba8c-eb2d52d55814, Chunk Size: 3444 characters\n",
            "Node ID: ce5432a8-8526-4c9c-a8c4-b4b7ceba199c, Chunk Size: 4074 characters\n",
            "Node ID: 60c5a8a1-78de-4ff0-867e-4d38e94344a2, Chunk Size: 4799 characters\n"
          ]
        }
      ]
    },
    {
      "cell_type": "markdown",
      "source": [
        "# Performance metric"
      ],
      "metadata": {
        "id": "gbmJi4lNq-pi"
      }
    },
    {
      "cell_type": "code",
      "source": [
        "import numpy as np\n",
        "\n",
        "def info_metrics(response):\n",
        "  # Calculate the performance (handling None scores)\n",
        "  scores = [node.score for node in response.source_nodes if node.score is not None]\n",
        "  if scores:  # Check if there are any valid scores\n",
        "      weights = np.exp(scores) / np.sum(np.exp(scores))\n",
        "      perf = np.average(scores, weights=weights) / elapsed_time\n",
        "  else:\n",
        "      perf = 0  # Or some other default value if all scores are None\n",
        "\n",
        "  average_score=np.average(scores, weights=weights)\n",
        "  print(f\"Average score: {average_score:.4f}\")\n",
        "  print(f\"Query execution time: {elapsed_time:.4f} seconds\")\n",
        "  print(f\"Performance metric: {perf:.4f}\")"
      ],
      "metadata": {
        "id": "p47X9Idk8Cgk"
      },
      "execution_count": 46,
      "outputs": []
    },
    {
      "cell_type": "code",
      "source": [
        "info_metrics(response)"
      ],
      "metadata": {
        "colab": {
          "base_uri": "https://localhost:8080/"
        },
        "id": "PL-D0bsGqTWV",
        "outputId": "88ecc698-b2c4-46a2-b217-2d9231b3ac3d"
      },
      "execution_count": 47,
      "outputs": [
        {
          "output_type": "stream",
          "name": "stdout",
          "text": [
            "Average score: 0.8283\n",
            "Query execution time: 1.2517 seconds\n",
            "Performance metric: 0.6617\n"
          ]
        }
      ]
    },
    {
      "cell_type": "code",
      "source": [
        "similarity_score = calculate_cosine_similarity_with_embeddings(user_input, str(response))\n",
        "print(f\"Cosine Similarity Score: {similarity_score:.3f}\")\n",
        "print(f\"Query execution time: {elapsed_time:.4f} seconds\")\n",
        "performance=similarity_score/elapsed_time\n",
        "print(f\"Performance metric: {performance:.4f}\")"
      ],
      "metadata": {
        "colab": {
          "base_uri": "https://localhost:8080/"
        },
        "id": "NvFFeKvpqTUS",
        "outputId": "d18ea53f-2119-4584-ee60-6876e9b80a08"
      },
      "execution_count": 48,
      "outputs": [
        {
          "output_type": "stream",
          "name": "stdout",
          "text": [
            "Cosine Similarity Score: 0.812\n",
            "Query execution time: 1.2517 seconds\n",
            "Performance metric: 0.6487\n"
          ]
        }
      ]
    },
    {
      "cell_type": "markdown",
      "source": [
        "# Tree index query engine"
      ],
      "metadata": {
        "id": "YVGaReE-FeWK"
      }
    },
    {
      "cell_type": "code",
      "source": [
        "from llama_index.core import TreeIndex\n",
        "tree_index = TreeIndex.from_documents(documents)"
      ],
      "metadata": {
        "id": "MaqRBgy_qTR4"
      },
      "execution_count": 49,
      "outputs": []
    },
    {
      "cell_type": "code",
      "source": [
        "print(type(tree_index))"
      ],
      "metadata": {
        "id": "OS1XBarfqTPh",
        "colab": {
          "base_uri": "https://localhost:8080/"
        },
        "outputId": "3aa28426-00ff-4b8b-bc63-800c77c7cf29"
      },
      "execution_count": 50,
      "outputs": [
        {
          "output_type": "stream",
          "name": "stdout",
          "text": [
            "<class 'llama_index.core.indices.tree.base.TreeIndex'>\n"
          ]
        }
      ]
    },
    {
      "cell_type": "code",
      "source": [
        "tree_query_engine = tree_index.as_query_engine(similarity_top_k=k, temperature=temp, num_output=mt)"
      ],
      "metadata": {
        "id": "W2A90xq3qTCh"
      },
      "execution_count": 51,
      "outputs": []
    },
    {
      "cell_type": "code",
      "source": [
        "import time\n",
        "import textwrap\n",
        "# Start the timer\n",
        "start_time = time.time()\n",
        "response = tree_query_engine.query(user_input)\n",
        "# Stop the timer\n",
        "end_time = time.time()\n",
        "# Calculate and print the execution time\n",
        "elapsed_time = end_time - start_time\n",
        "print(f\"Query execution time: {elapsed_time:.4f} seconds\")\n",
        "\n",
        "print(textwrap.fill(str(response), 100))"
      ],
      "metadata": {
        "id": "6uUtff2ZqTAd",
        "colab": {
          "base_uri": "https://localhost:8080/"
        },
        "outputId": "0056c998-ae3e-4a04-cb04-89075cfa64ff"
      },
      "execution_count": 52,
      "outputs": [
        {
          "output_type": "stream",
          "name": "stdout",
          "text": [
            "Query execution time: 3.4169 seconds\n",
            "Drones identify vehicles by utilizing computer vision technology related to object detection. This\n",
            "involves detecting instances of semantic objects of a certain class, such as cars, in digital images\n",
            "and videos. The process may involve using deep neural networks and models trained on datasets like\n",
            "COCO to detect vehicles based on their visual features and characteristics.\n"
          ]
        }
      ]
    },
    {
      "cell_type": "markdown",
      "source": [
        "## Performance metric"
      ],
      "metadata": {
        "id": "Df9IZBmhGiLw"
      }
    },
    {
      "cell_type": "code",
      "source": [
        "similarity_score = calculate_cosine_similarity_with_embeddings(user_input, str(response))\n",
        "print(f\"Cosine Similarity Score: {similarity_score:.3f}\")\n",
        "print(f\"Query execution time: {elapsed_time:.4f} seconds\")\n",
        "performance=similarity_score/elapsed_time\n",
        "print(f\"Performance metric: {performance:.4f}\")"
      ],
      "metadata": {
        "id": "7PLwPzmNqS-K",
        "colab": {
          "base_uri": "https://localhost:8080/"
        },
        "outputId": "811f157c-1663-4ba1-e370-ea9495604f92"
      },
      "execution_count": 53,
      "outputs": [
        {
          "output_type": "stream",
          "name": "stdout",
          "text": [
            "Cosine Similarity Score: 0.770\n",
            "Query execution time: 3.4169 seconds\n",
            "Performance metric: 0.2252\n"
          ]
        }
      ]
    },
    {
      "cell_type": "markdown",
      "source": [
        "# List index query engine"
      ],
      "metadata": {
        "id": "Gopz8a8gGoqE"
      }
    },
    {
      "cell_type": "code",
      "source": [
        "from llama_index.core import ListIndex\n",
        "list_index = ListIndex.from_documents(documents)"
      ],
      "metadata": {
        "id": "nZYPO0ScqS56"
      },
      "execution_count": 54,
      "outputs": []
    },
    {
      "cell_type": "code",
      "source": [
        "print(type(list_index))"
      ],
      "metadata": {
        "id": "n1nSw2G4qS3U",
        "colab": {
          "base_uri": "https://localhost:8080/"
        },
        "outputId": "e6024063-08db-44cd-dd5f-ae7e206bbf71"
      },
      "execution_count": 55,
      "outputs": [
        {
          "output_type": "stream",
          "name": "stdout",
          "text": [
            "<class 'llama_index.core.indices.list.base.SummaryIndex'>\n"
          ]
        }
      ]
    },
    {
      "cell_type": "code",
      "source": [
        "list_query_engine = list_index.as_query_engine(similarity_top_k=k, temperature=temp, num_output=mt)"
      ],
      "metadata": {
        "id": "PtUal0A7Gs0j"
      },
      "execution_count": 56,
      "outputs": []
    },
    {
      "cell_type": "code",
      "source": [
        "#start the timer\n",
        "start_time = time.time()\n",
        "response = list_query_engine.query(user_input)\n",
        "# Stop the timer\n",
        "end_time = time.time()\n",
        "# Calculate and print the execution time\n",
        "elapsed_time = end_time - start_time\n",
        "print(f\"Query execution time: {elapsed_time:.4f} seconds\")\n",
        "\n",
        "print(textwrap.fill(str(response), 100))"
      ],
      "metadata": {
        "colab": {
          "base_uri": "https://localhost:8080/"
        },
        "id": "IzGKNuN_Gsyi",
        "outputId": "00253f68-51bf-4b31-aec5-0f4d697f053c"
      },
      "execution_count": 57,
      "outputs": [
        {
          "output_type": "stream",
          "name": "stdout",
          "text": [
            "Query execution time: 16.8532 seconds\n",
            "Drones can identify vehicles using computer vision techniques, specifically convolutional neural\n",
            "networks (CNNs). These networks are trained to process images captured by the drone's cameras and\n",
            "make predictions based on the features extracted from the images. By analyzing the visual data,\n",
            "drones can recognize vehicles by detecting specific patterns, shapes, and characteristics associated\n",
            "with different types of vehicles. This allows drones to perform tasks such as surveillance,\n",
            "tracking, and object detection in various applications.\n"
          ]
        }
      ]
    },
    {
      "cell_type": "markdown",
      "source": [
        "## Performance metric\n"
      ],
      "metadata": {
        "id": "9aPGyD9mG8hT"
      }
    },
    {
      "cell_type": "code",
      "source": [
        "similarity_score = calculate_cosine_similarity_with_embeddings(user_input, str(response))\n",
        "print(f\"Cosine Similarity Score: {similarity_score:.3f}\")\n",
        "print(f\"Query execution time: {elapsed_time:.4f} seconds\")\n",
        "performance=similarity_score/elapsed_time\n",
        "print(f\"Performance metric: {performance:.4f}\")"
      ],
      "metadata": {
        "colab": {
          "base_uri": "https://localhost:8080/"
        },
        "id": "NaQkm3TmGswC",
        "outputId": "ba840e26-03bb-4358-9824-b67a9166cc61"
      },
      "execution_count": 58,
      "outputs": [
        {
          "output_type": "stream",
          "name": "stdout",
          "text": [
            "Cosine Similarity Score: 0.746\n",
            "Query execution time: 16.8532 seconds\n",
            "Performance metric: 0.0442\n"
          ]
        }
      ]
    },
    {
      "cell_type": "markdown",
      "source": [
        "# Keyword index query index"
      ],
      "metadata": {
        "id": "Z-zlyEAUHbpb"
      }
    },
    {
      "cell_type": "code",
      "source": [
        "from llama_index.core import KeywordTableIndex\n",
        "keyword_index = KeywordTableIndex.from_documents(documents)"
      ],
      "metadata": {
        "id": "3SM4DdJaGsqO"
      },
      "execution_count": 59,
      "outputs": []
    },
    {
      "cell_type": "code",
      "source": [
        "# Extract data for DataFrame\n",
        "data = []\n",
        "for keyword, doc_ids in keyword_index.index_struct.table.items():\n",
        "    for doc_id in doc_ids:\n",
        "        data.append({\"Keyword\": keyword, \"Document ID\": doc_id})\n",
        "\n",
        "# Create the DataFrame\n",
        "df = pd.DataFrame(data)\n",
        "df"
      ],
      "metadata": {
        "colab": {
          "base_uri": "https://localhost:8080/",
          "height": 423
        },
        "id": "gr6-MNGTGsno",
        "outputId": "c8ff6347-e495-439f-c83f-dbac9e532947"
      },
      "execution_count": 60,
      "outputs": [
        {
          "output_type": "execute_result",
          "data": {
            "text/plain": [
              "                 Keyword                           Document ID\n",
              "0                  black  45c65fcf-bdac-4cdb-8fe6-a914bdca999d\n",
              "1                 binary  45c65fcf-bdac-4cdb-8fe6-a914bdca999d\n",
              "2      nonsupersymmetric  45c65fcf-bdac-4cdb-8fe6-a914bdca999d\n",
              "3                   hole  45c65fcf-bdac-4cdb-8fe6-a914bdca999d\n",
              "4                   high  8621264d-2784-406e-b126-c2131eb46dce\n",
              "...                  ...                                   ...\n",
              "4322  intelligent drones  329f3523-8fa4-4442-9190-b2159c5cd8ed\n",
              "4323            magazine  329f3523-8fa4-4442-9190-b2159c5cd8ed\n",
              "4324              future  329f3523-8fa4-4442-9190-b2159c5cd8ed\n",
              "4325        quantitative  329f3523-8fa4-4442-9190-b2159c5cd8ed\n",
              "4326       engine number  329f3523-8fa4-4442-9190-b2159c5cd8ed\n",
              "\n",
              "[4327 rows x 2 columns]"
            ],
            "text/html": [
              "\n",
              "  <div id=\"df-66274297-cc4d-4574-a071-932d45c67378\" class=\"colab-df-container\">\n",
              "    <div>\n",
              "<style scoped>\n",
              "    .dataframe tbody tr th:only-of-type {\n",
              "        vertical-align: middle;\n",
              "    }\n",
              "\n",
              "    .dataframe tbody tr th {\n",
              "        vertical-align: top;\n",
              "    }\n",
              "\n",
              "    .dataframe thead th {\n",
              "        text-align: right;\n",
              "    }\n",
              "</style>\n",
              "<table border=\"1\" class=\"dataframe\">\n",
              "  <thead>\n",
              "    <tr style=\"text-align: right;\">\n",
              "      <th></th>\n",
              "      <th>Keyword</th>\n",
              "      <th>Document ID</th>\n",
              "    </tr>\n",
              "  </thead>\n",
              "  <tbody>\n",
              "    <tr>\n",
              "      <th>0</th>\n",
              "      <td>black</td>\n",
              "      <td>45c65fcf-bdac-4cdb-8fe6-a914bdca999d</td>\n",
              "    </tr>\n",
              "    <tr>\n",
              "      <th>1</th>\n",
              "      <td>binary</td>\n",
              "      <td>45c65fcf-bdac-4cdb-8fe6-a914bdca999d</td>\n",
              "    </tr>\n",
              "    <tr>\n",
              "      <th>2</th>\n",
              "      <td>nonsupersymmetric</td>\n",
              "      <td>45c65fcf-bdac-4cdb-8fe6-a914bdca999d</td>\n",
              "    </tr>\n",
              "    <tr>\n",
              "      <th>3</th>\n",
              "      <td>hole</td>\n",
              "      <td>45c65fcf-bdac-4cdb-8fe6-a914bdca999d</td>\n",
              "    </tr>\n",
              "    <tr>\n",
              "      <th>4</th>\n",
              "      <td>high</td>\n",
              "      <td>8621264d-2784-406e-b126-c2131eb46dce</td>\n",
              "    </tr>\n",
              "    <tr>\n",
              "      <th>...</th>\n",
              "      <td>...</td>\n",
              "      <td>...</td>\n",
              "    </tr>\n",
              "    <tr>\n",
              "      <th>4322</th>\n",
              "      <td>intelligent drones</td>\n",
              "      <td>329f3523-8fa4-4442-9190-b2159c5cd8ed</td>\n",
              "    </tr>\n",
              "    <tr>\n",
              "      <th>4323</th>\n",
              "      <td>magazine</td>\n",
              "      <td>329f3523-8fa4-4442-9190-b2159c5cd8ed</td>\n",
              "    </tr>\n",
              "    <tr>\n",
              "      <th>4324</th>\n",
              "      <td>future</td>\n",
              "      <td>329f3523-8fa4-4442-9190-b2159c5cd8ed</td>\n",
              "    </tr>\n",
              "    <tr>\n",
              "      <th>4325</th>\n",
              "      <td>quantitative</td>\n",
              "      <td>329f3523-8fa4-4442-9190-b2159c5cd8ed</td>\n",
              "    </tr>\n",
              "    <tr>\n",
              "      <th>4326</th>\n",
              "      <td>engine number</td>\n",
              "      <td>329f3523-8fa4-4442-9190-b2159c5cd8ed</td>\n",
              "    </tr>\n",
              "  </tbody>\n",
              "</table>\n",
              "<p>4327 rows × 2 columns</p>\n",
              "</div>\n",
              "    <div class=\"colab-df-buttons\">\n",
              "\n",
              "  <div class=\"colab-df-container\">\n",
              "    <button class=\"colab-df-convert\" onclick=\"convertToInteractive('df-66274297-cc4d-4574-a071-932d45c67378')\"\n",
              "            title=\"Convert this dataframe to an interactive table.\"\n",
              "            style=\"display:none;\">\n",
              "\n",
              "  <svg xmlns=\"http://www.w3.org/2000/svg\" height=\"24px\" viewBox=\"0 -960 960 960\">\n",
              "    <path d=\"M120-120v-720h720v720H120Zm60-500h600v-160H180v160Zm220 220h160v-160H400v160Zm0 220h160v-160H400v160ZM180-400h160v-160H180v160Zm440 0h160v-160H620v160ZM180-180h160v-160H180v160Zm440 0h160v-160H620v160Z\"/>\n",
              "  </svg>\n",
              "    </button>\n",
              "\n",
              "  <style>\n",
              "    .colab-df-container {\n",
              "      display:flex;\n",
              "      gap: 12px;\n",
              "    }\n",
              "\n",
              "    .colab-df-convert {\n",
              "      background-color: #E8F0FE;\n",
              "      border: none;\n",
              "      border-radius: 50%;\n",
              "      cursor: pointer;\n",
              "      display: none;\n",
              "      fill: #1967D2;\n",
              "      height: 32px;\n",
              "      padding: 0 0 0 0;\n",
              "      width: 32px;\n",
              "    }\n",
              "\n",
              "    .colab-df-convert:hover {\n",
              "      background-color: #E2EBFA;\n",
              "      box-shadow: 0px 1px 2px rgba(60, 64, 67, 0.3), 0px 1px 3px 1px rgba(60, 64, 67, 0.15);\n",
              "      fill: #174EA6;\n",
              "    }\n",
              "\n",
              "    .colab-df-buttons div {\n",
              "      margin-bottom: 4px;\n",
              "    }\n",
              "\n",
              "    [theme=dark] .colab-df-convert {\n",
              "      background-color: #3B4455;\n",
              "      fill: #D2E3FC;\n",
              "    }\n",
              "\n",
              "    [theme=dark] .colab-df-convert:hover {\n",
              "      background-color: #434B5C;\n",
              "      box-shadow: 0px 1px 3px 1px rgba(0, 0, 0, 0.15);\n",
              "      filter: drop-shadow(0px 1px 2px rgba(0, 0, 0, 0.3));\n",
              "      fill: #FFFFFF;\n",
              "    }\n",
              "  </style>\n",
              "\n",
              "    <script>\n",
              "      const buttonEl =\n",
              "        document.querySelector('#df-66274297-cc4d-4574-a071-932d45c67378 button.colab-df-convert');\n",
              "      buttonEl.style.display =\n",
              "        google.colab.kernel.accessAllowed ? 'block' : 'none';\n",
              "\n",
              "      async function convertToInteractive(key) {\n",
              "        const element = document.querySelector('#df-66274297-cc4d-4574-a071-932d45c67378');\n",
              "        const dataTable =\n",
              "          await google.colab.kernel.invokeFunction('convertToInteractive',\n",
              "                                                    [key], {});\n",
              "        if (!dataTable) return;\n",
              "\n",
              "        const docLinkHtml = 'Like what you see? Visit the ' +\n",
              "          '<a target=\"_blank\" href=https://colab.research.google.com/notebooks/data_table.ipynb>data table notebook</a>'\n",
              "          + ' to learn more about interactive tables.';\n",
              "        element.innerHTML = '';\n",
              "        dataTable['output_type'] = 'display_data';\n",
              "        await google.colab.output.renderOutput(dataTable, element);\n",
              "        const docLink = document.createElement('div');\n",
              "        docLink.innerHTML = docLinkHtml;\n",
              "        element.appendChild(docLink);\n",
              "      }\n",
              "    </script>\n",
              "  </div>\n",
              "\n",
              "\n",
              "<div id=\"df-ca9d6ef1-f9aa-4012-9469-66fa02cafd4d\">\n",
              "  <button class=\"colab-df-quickchart\" onclick=\"quickchart('df-ca9d6ef1-f9aa-4012-9469-66fa02cafd4d')\"\n",
              "            title=\"Suggest charts\"\n",
              "            style=\"display:none;\">\n",
              "\n",
              "<svg xmlns=\"http://www.w3.org/2000/svg\" height=\"24px\"viewBox=\"0 0 24 24\"\n",
              "     width=\"24px\">\n",
              "    <g>\n",
              "        <path d=\"M19 3H5c-1.1 0-2 .9-2 2v14c0 1.1.9 2 2 2h14c1.1 0 2-.9 2-2V5c0-1.1-.9-2-2-2zM9 17H7v-7h2v7zm4 0h-2V7h2v10zm4 0h-2v-4h2v4z\"/>\n",
              "    </g>\n",
              "</svg>\n",
              "  </button>\n",
              "\n",
              "<style>\n",
              "  .colab-df-quickchart {\n",
              "      --bg-color: #E8F0FE;\n",
              "      --fill-color: #1967D2;\n",
              "      --hover-bg-color: #E2EBFA;\n",
              "      --hover-fill-color: #174EA6;\n",
              "      --disabled-fill-color: #AAA;\n",
              "      --disabled-bg-color: #DDD;\n",
              "  }\n",
              "\n",
              "  [theme=dark] .colab-df-quickchart {\n",
              "      --bg-color: #3B4455;\n",
              "      --fill-color: #D2E3FC;\n",
              "      --hover-bg-color: #434B5C;\n",
              "      --hover-fill-color: #FFFFFF;\n",
              "      --disabled-bg-color: #3B4455;\n",
              "      --disabled-fill-color: #666;\n",
              "  }\n",
              "\n",
              "  .colab-df-quickchart {\n",
              "    background-color: var(--bg-color);\n",
              "    border: none;\n",
              "    border-radius: 50%;\n",
              "    cursor: pointer;\n",
              "    display: none;\n",
              "    fill: var(--fill-color);\n",
              "    height: 32px;\n",
              "    padding: 0;\n",
              "    width: 32px;\n",
              "  }\n",
              "\n",
              "  .colab-df-quickchart:hover {\n",
              "    background-color: var(--hover-bg-color);\n",
              "    box-shadow: 0 1px 2px rgba(60, 64, 67, 0.3), 0 1px 3px 1px rgba(60, 64, 67, 0.15);\n",
              "    fill: var(--button-hover-fill-color);\n",
              "  }\n",
              "\n",
              "  .colab-df-quickchart-complete:disabled,\n",
              "  .colab-df-quickchart-complete:disabled:hover {\n",
              "    background-color: var(--disabled-bg-color);\n",
              "    fill: var(--disabled-fill-color);\n",
              "    box-shadow: none;\n",
              "  }\n",
              "\n",
              "  .colab-df-spinner {\n",
              "    border: 2px solid var(--fill-color);\n",
              "    border-color: transparent;\n",
              "    border-bottom-color: var(--fill-color);\n",
              "    animation:\n",
              "      spin 1s steps(1) infinite;\n",
              "  }\n",
              "\n",
              "  @keyframes spin {\n",
              "    0% {\n",
              "      border-color: transparent;\n",
              "      border-bottom-color: var(--fill-color);\n",
              "      border-left-color: var(--fill-color);\n",
              "    }\n",
              "    20% {\n",
              "      border-color: transparent;\n",
              "      border-left-color: var(--fill-color);\n",
              "      border-top-color: var(--fill-color);\n",
              "    }\n",
              "    30% {\n",
              "      border-color: transparent;\n",
              "      border-left-color: var(--fill-color);\n",
              "      border-top-color: var(--fill-color);\n",
              "      border-right-color: var(--fill-color);\n",
              "    }\n",
              "    40% {\n",
              "      border-color: transparent;\n",
              "      border-right-color: var(--fill-color);\n",
              "      border-top-color: var(--fill-color);\n",
              "    }\n",
              "    60% {\n",
              "      border-color: transparent;\n",
              "      border-right-color: var(--fill-color);\n",
              "    }\n",
              "    80% {\n",
              "      border-color: transparent;\n",
              "      border-right-color: var(--fill-color);\n",
              "      border-bottom-color: var(--fill-color);\n",
              "    }\n",
              "    90% {\n",
              "      border-color: transparent;\n",
              "      border-bottom-color: var(--fill-color);\n",
              "    }\n",
              "  }\n",
              "</style>\n",
              "\n",
              "  <script>\n",
              "    async function quickchart(key) {\n",
              "      const quickchartButtonEl =\n",
              "        document.querySelector('#' + key + ' button');\n",
              "      quickchartButtonEl.disabled = true;  // To prevent multiple clicks.\n",
              "      quickchartButtonEl.classList.add('colab-df-spinner');\n",
              "      try {\n",
              "        const charts = await google.colab.kernel.invokeFunction(\n",
              "            'suggestCharts', [key], {});\n",
              "      } catch (error) {\n",
              "        console.error('Error during call to suggestCharts:', error);\n",
              "      }\n",
              "      quickchartButtonEl.classList.remove('colab-df-spinner');\n",
              "      quickchartButtonEl.classList.add('colab-df-quickchart-complete');\n",
              "    }\n",
              "    (() => {\n",
              "      let quickchartButtonEl =\n",
              "        document.querySelector('#df-ca9d6ef1-f9aa-4012-9469-66fa02cafd4d button');\n",
              "      quickchartButtonEl.style.display =\n",
              "        google.colab.kernel.accessAllowed ? 'block' : 'none';\n",
              "    })();\n",
              "  </script>\n",
              "</div>\n",
              "\n",
              "  <div id=\"id_74d4aaaf-8b9d-4ef8-9403-aa32b8f90116\">\n",
              "    <style>\n",
              "      .colab-df-generate {\n",
              "        background-color: #E8F0FE;\n",
              "        border: none;\n",
              "        border-radius: 50%;\n",
              "        cursor: pointer;\n",
              "        display: none;\n",
              "        fill: #1967D2;\n",
              "        height: 32px;\n",
              "        padding: 0 0 0 0;\n",
              "        width: 32px;\n",
              "      }\n",
              "\n",
              "      .colab-df-generate:hover {\n",
              "        background-color: #E2EBFA;\n",
              "        box-shadow: 0px 1px 2px rgba(60, 64, 67, 0.3), 0px 1px 3px 1px rgba(60, 64, 67, 0.15);\n",
              "        fill: #174EA6;\n",
              "      }\n",
              "\n",
              "      [theme=dark] .colab-df-generate {\n",
              "        background-color: #3B4455;\n",
              "        fill: #D2E3FC;\n",
              "      }\n",
              "\n",
              "      [theme=dark] .colab-df-generate:hover {\n",
              "        background-color: #434B5C;\n",
              "        box-shadow: 0px 1px 3px 1px rgba(0, 0, 0, 0.15);\n",
              "        filter: drop-shadow(0px 1px 2px rgba(0, 0, 0, 0.3));\n",
              "        fill: #FFFFFF;\n",
              "      }\n",
              "    </style>\n",
              "    <button class=\"colab-df-generate\" onclick=\"generateWithVariable('df')\"\n",
              "            title=\"Generate code using this dataframe.\"\n",
              "            style=\"display:none;\">\n",
              "\n",
              "  <svg xmlns=\"http://www.w3.org/2000/svg\" height=\"24px\"viewBox=\"0 0 24 24\"\n",
              "       width=\"24px\">\n",
              "    <path d=\"M7,19H8.4L18.45,9,17,7.55,7,17.6ZM5,21V16.75L18.45,3.32a2,2,0,0,1,2.83,0l1.4,1.43a1.91,1.91,0,0,1,.58,1.4,1.91,1.91,0,0,1-.58,1.4L9.25,21ZM18.45,9,17,7.55Zm-12,3A5.31,5.31,0,0,0,4.9,8.1,5.31,5.31,0,0,0,1,6.5,5.31,5.31,0,0,0,4.9,4.9,5.31,5.31,0,0,0,6.5,1,5.31,5.31,0,0,0,8.1,4.9,5.31,5.31,0,0,0,12,6.5,5.46,5.46,0,0,0,6.5,12Z\"/>\n",
              "  </svg>\n",
              "    </button>\n",
              "    <script>\n",
              "      (() => {\n",
              "      const buttonEl =\n",
              "        document.querySelector('#id_74d4aaaf-8b9d-4ef8-9403-aa32b8f90116 button.colab-df-generate');\n",
              "      buttonEl.style.display =\n",
              "        google.colab.kernel.accessAllowed ? 'block' : 'none';\n",
              "\n",
              "      buttonEl.onclick = () => {\n",
              "        google.colab.notebook.generateWithVariable('df');\n",
              "      }\n",
              "      })();\n",
              "    </script>\n",
              "  </div>\n",
              "\n",
              "    </div>\n",
              "  </div>\n"
            ],
            "application/vnd.google.colaboratory.intrinsic+json": {
              "type": "dataframe",
              "variable_name": "df",
              "summary": "{\n  \"name\": \"df\",\n  \"rows\": 4327,\n  \"fields\": [\n    {\n      \"column\": \"Keyword\",\n      \"properties\": {\n        \"dtype\": \"string\",\n        \"num_unique_values\": 2426,\n        \"samples\": [\n          \"infrastructure\",\n          \"lidar sensors\",\n          \"independent subspace analysis\"\n        ],\n        \"semantic_type\": \"\",\n        \"description\": \"\"\n      }\n    },\n    {\n      \"column\": \"Document ID\",\n      \"properties\": {\n        \"dtype\": \"category\",\n        \"num_unique_values\": 87,\n        \"samples\": [\n          \"6db459f7-e4c2-48e9-b386-02574bf46ab4\",\n          \"45c65fcf-bdac-4cdb-8fe6-a914bdca999d\",\n          \"d3fff2d7-e200-4d0d-ba83-6a294124ab53\"\n        ],\n        \"semantic_type\": \"\",\n        \"description\": \"\"\n      }\n    }\n  ]\n}"
            }
          },
          "metadata": {},
          "execution_count": 60
        }
      ]
    },
    {
      "cell_type": "code",
      "source": [
        "keyword_query_engine = keyword_index.as_query_engine(similarity_top_k=k, temperature=temp, num_output=mt)"
      ],
      "metadata": {
        "id": "A_UZUkkUGslL"
      },
      "execution_count": 61,
      "outputs": []
    },
    {
      "cell_type": "code",
      "source": [
        "import time\n",
        "\n",
        "# Start the timer\n",
        "start_time = time.time()\n",
        "\n",
        "# Execute the query (using .query() method)\n",
        "response = keyword_query_engine.query(user_input)\n",
        "\n",
        "# Stop the timer\n",
        "end_time = time.time()\n",
        "\n",
        "# Calculate and print the execution time\n",
        "elapsed_time = end_time - start_time\n",
        "print(f\"Query execution time: {elapsed_time:.4f} seconds\")\n",
        "\n",
        "print(textwrap.fill(str(response), 100))"
      ],
      "metadata": {
        "id": "dCM_WC28GsdX"
      },
      "execution_count": null,
      "outputs": []
    },
    {
      "cell_type": "markdown",
      "source": [
        "## Performance metric"
      ],
      "metadata": {
        "id": "E6hM2VGhH8gZ"
      }
    },
    {
      "cell_type": "code",
      "source": [
        "similarity_score = calculate_cosine_similarity_with_embeddings(user_input, str(response))\n",
        "print(f\"Cosine Similarity Score: {similarity_score:.3f}\")\n",
        "print(f\"Query execution time: {elapsed_time:.4f} seconds\")\n",
        "performance=similarity_score/elapsed_time\n",
        "print(f\"Performance metric: {performance:.4f}\")"
      ],
      "metadata": {
        "colab": {
          "base_uri": "https://localhost:8080/"
        },
        "id": "xAyZHeLzH3YK",
        "outputId": "997069ee-cf0b-4c1c-8f75-6e9a3be87b77"
      },
      "execution_count": 63,
      "outputs": [
        {
          "output_type": "stream",
          "name": "stdout",
          "text": [
            "Cosine Similarity Score: 0.746\n",
            "Query execution time: 16.8532 seconds\n",
            "Performance metric: 0.0442\n"
          ]
        }
      ]
    }
  ]
}